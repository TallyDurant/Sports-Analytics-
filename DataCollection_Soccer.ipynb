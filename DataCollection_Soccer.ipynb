{
 "metadata": {
  "language_info": {
   "codemirror_mode": {
    "name": "ipython",
    "version": 3
   },
   "file_extension": ".py",
   "mimetype": "text/x-python",
   "name": "python",
   "nbconvert_exporter": "python",
   "pygments_lexer": "ipython3",
   "version": 3
  },
  "orig_nbformat": 2,
  "kernelspec": {
   "name": "python_defaultSpec_1595955036129",
   "display_name": "Python 3.7.4 32-bit"
  }
 },
 "nbformat": 4,
 "nbformat_minor": 2,
 "cells": [
  {
   "cell_type": "code",
   "execution_count": 1,
   "metadata": {},
   "outputs": [],
   "source": [
    "import requests\n",
    "import pandas as pd\n",
    "from tqdm import tqdm\n",
    "import matplotlib.pyplot as plt"
   ]
  },
  {
   "cell_type": "code",
   "execution_count": 2,
   "metadata": {},
   "outputs": [],
   "source": [
    "base_url = \"https://raw.githubusercontent.com/statsbomb/open-data/master/data/\"\n",
    "comp_url = base_url + \"matches/{}/{}.json\"\n",
    "match_url = base_url + \"events/{}.json\""
   ]
  },
  {
   "cell_type": "code",
   "execution_count": 3,
   "metadata": {},
   "outputs": [],
   "source": [
    "def parse_data(competition_id, season_id):\n",
    "    matches = requests.get(url=comp_url.format(competition_id, season_id)).json()\n",
    "    match_ids = [m['match_id'] for m in matches]\n",
    "\n",
    "    all_events = []\n",
    "    for match_id in tqdm(match_ids):\n",
    "\n",
    "        events = requests.get(url=match_url.format(match_id)).json()\n",
    "        passes = [x for x in events if x['type']['name'] == \"Pass\"]\n",
    "        \n",
    "        for a in passes:\n",
    "            attributes = {\n",
    "                \"player_id\": a['player']['id'],\n",
    "                \"outcome\": 0 if 'outcome' in a['pass'].keys() else 1,\n",
    "            }\n",
    "            all_events.append(attributes)\n",
    "            \n",
    "    return pd.DataFrame(all_events)"
   ]
  },
  {
   "cell_type": "code",
   "execution_count": null,
   "metadata": {},
   "outputs": [],
   "source": []
  }
 ]
}