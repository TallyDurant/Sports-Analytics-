{
 "cells": [
  {
   "cell_type": "code",
   "execution_count": 1,
   "metadata": {},
   "outputs": [],
   "source": [
    "import requests\n",
    "import pandas as pd\n",
    "import json\n",
    "import numpy as np\n",
    "import matplotlib.pyplot as plt\n",
    "import seaborn as sns\n"
   ]
  },
  {
   "cell_type": "code",
   "execution_count": 2,
   "metadata": {},
   "outputs": [],
   "source": [
    "import plotly\n",
    "import plotly.express as px\n",
    "import plotly.graph_objs as go\n",
    "from plotly.offline import init_notebook_mode, plot, iplot\n",
    "from plotly import tools\n",
    "from warnings import filterwarnings\n",
    "import ipywidgets as widgets\n",
    "from ipywidgets import interact, interactive, fixed, interact_manual"
   ]
  },
  {
   "cell_type": "code",
   "execution_count": 3,
   "metadata": {},
   "outputs": [],
   "source": [
    "df_complete = pd.read_csv('C:/Users/tally/Desktop/Sports Analytics/IPL.csv')"
   ]
  },
  {
   "cell_type": "code",
   "execution_count": 4,
   "metadata": {},
   "outputs": [
    {
     "data": {
      "text/html": [
       "<div>\n",
       "<style scoped>\n",
       "    .dataframe tbody tr th:only-of-type {\n",
       "        vertical-align: middle;\n",
       "    }\n",
       "\n",
       "    .dataframe tbody tr th {\n",
       "        vertical-align: top;\n",
       "    }\n",
       "\n",
       "    .dataframe thead th {\n",
       "        text-align: right;\n",
       "    }\n",
       "</style>\n",
       "<table border=\"1\" class=\"dataframe\">\n",
       "  <thead>\n",
       "    <tr style=\"text-align: right;\">\n",
       "      <th></th>\n",
       "      <th>id</th>\n",
       "      <th>inning</th>\n",
       "      <th>over</th>\n",
       "      <th>ball</th>\n",
       "      <th>batsman</th>\n",
       "      <th>non_striker</th>\n",
       "      <th>bowler</th>\n",
       "      <th>batsman_runs</th>\n",
       "      <th>extra_runs</th>\n",
       "      <th>total_runs</th>\n",
       "      <th>non_boundary</th>\n",
       "      <th>is_wicket</th>\n",
       "      <th>dismissal_kind</th>\n",
       "      <th>player_dismissed</th>\n",
       "      <th>fielder</th>\n",
       "      <th>extras_type</th>\n",
       "      <th>batting_team</th>\n",
       "      <th>bowling_team</th>\n",
       "    </tr>\n",
       "  </thead>\n",
       "  <tbody>\n",
       "    <tr>\n",
       "      <th>0</th>\n",
       "      <td>335982</td>\n",
       "      <td>1</td>\n",
       "      <td>6</td>\n",
       "      <td>5</td>\n",
       "      <td>RT Ponting</td>\n",
       "      <td>BB McCullum</td>\n",
       "      <td>AA Noffke</td>\n",
       "      <td>1</td>\n",
       "      <td>0</td>\n",
       "      <td>1</td>\n",
       "      <td>0</td>\n",
       "      <td>0</td>\n",
       "      <td>NaN</td>\n",
       "      <td>NaN</td>\n",
       "      <td>NaN</td>\n",
       "      <td>NaN</td>\n",
       "      <td>Kolkata Knight Riders</td>\n",
       "      <td>Royal Challengers Bangalore</td>\n",
       "    </tr>\n",
       "    <tr>\n",
       "      <th>1</th>\n",
       "      <td>335982</td>\n",
       "      <td>1</td>\n",
       "      <td>6</td>\n",
       "      <td>6</td>\n",
       "      <td>BB McCullum</td>\n",
       "      <td>RT Ponting</td>\n",
       "      <td>AA Noffke</td>\n",
       "      <td>1</td>\n",
       "      <td>0</td>\n",
       "      <td>1</td>\n",
       "      <td>0</td>\n",
       "      <td>0</td>\n",
       "      <td>NaN</td>\n",
       "      <td>NaN</td>\n",
       "      <td>NaN</td>\n",
       "      <td>NaN</td>\n",
       "      <td>Kolkata Knight Riders</td>\n",
       "      <td>Royal Challengers Bangalore</td>\n",
       "    </tr>\n",
       "    <tr>\n",
       "      <th>2</th>\n",
       "      <td>335982</td>\n",
       "      <td>1</td>\n",
       "      <td>7</td>\n",
       "      <td>1</td>\n",
       "      <td>BB McCullum</td>\n",
       "      <td>RT Ponting</td>\n",
       "      <td>Z Khan</td>\n",
       "      <td>0</td>\n",
       "      <td>0</td>\n",
       "      <td>0</td>\n",
       "      <td>0</td>\n",
       "      <td>0</td>\n",
       "      <td>NaN</td>\n",
       "      <td>NaN</td>\n",
       "      <td>NaN</td>\n",
       "      <td>NaN</td>\n",
       "      <td>Kolkata Knight Riders</td>\n",
       "      <td>Royal Challengers Bangalore</td>\n",
       "    </tr>\n",
       "    <tr>\n",
       "      <th>3</th>\n",
       "      <td>335982</td>\n",
       "      <td>1</td>\n",
       "      <td>7</td>\n",
       "      <td>2</td>\n",
       "      <td>BB McCullum</td>\n",
       "      <td>RT Ponting</td>\n",
       "      <td>Z Khan</td>\n",
       "      <td>1</td>\n",
       "      <td>0</td>\n",
       "      <td>1</td>\n",
       "      <td>0</td>\n",
       "      <td>0</td>\n",
       "      <td>NaN</td>\n",
       "      <td>NaN</td>\n",
       "      <td>NaN</td>\n",
       "      <td>NaN</td>\n",
       "      <td>Kolkata Knight Riders</td>\n",
       "      <td>Royal Challengers Bangalore</td>\n",
       "    </tr>\n",
       "    <tr>\n",
       "      <th>4</th>\n",
       "      <td>335982</td>\n",
       "      <td>1</td>\n",
       "      <td>7</td>\n",
       "      <td>3</td>\n",
       "      <td>RT Ponting</td>\n",
       "      <td>BB McCullum</td>\n",
       "      <td>Z Khan</td>\n",
       "      <td>1</td>\n",
       "      <td>0</td>\n",
       "      <td>1</td>\n",
       "      <td>0</td>\n",
       "      <td>0</td>\n",
       "      <td>NaN</td>\n",
       "      <td>NaN</td>\n",
       "      <td>NaN</td>\n",
       "      <td>NaN</td>\n",
       "      <td>Kolkata Knight Riders</td>\n",
       "      <td>Royal Challengers Bangalore</td>\n",
       "    </tr>\n",
       "  </tbody>\n",
       "</table>\n",
       "</div>"
      ],
      "text/plain": [
       "       id  inning  over  ball      batsman  non_striker     bowler  \\\n",
       "0  335982       1     6     5   RT Ponting  BB McCullum  AA Noffke   \n",
       "1  335982       1     6     6  BB McCullum   RT Ponting  AA Noffke   \n",
       "2  335982       1     7     1  BB McCullum   RT Ponting     Z Khan   \n",
       "3  335982       1     7     2  BB McCullum   RT Ponting     Z Khan   \n",
       "4  335982       1     7     3   RT Ponting  BB McCullum     Z Khan   \n",
       "\n",
       "   batsman_runs  extra_runs  total_runs  non_boundary  is_wicket  \\\n",
       "0             1           0           1             0          0   \n",
       "1             1           0           1             0          0   \n",
       "2             0           0           0             0          0   \n",
       "3             1           0           1             0          0   \n",
       "4             1           0           1             0          0   \n",
       "\n",
       "  dismissal_kind player_dismissed fielder extras_type           batting_team  \\\n",
       "0            NaN              NaN     NaN         NaN  Kolkata Knight Riders   \n",
       "1            NaN              NaN     NaN         NaN  Kolkata Knight Riders   \n",
       "2            NaN              NaN     NaN         NaN  Kolkata Knight Riders   \n",
       "3            NaN              NaN     NaN         NaN  Kolkata Knight Riders   \n",
       "4            NaN              NaN     NaN         NaN  Kolkata Knight Riders   \n",
       "\n",
       "                  bowling_team  \n",
       "0  Royal Challengers Bangalore  \n",
       "1  Royal Challengers Bangalore  \n",
       "2  Royal Challengers Bangalore  \n",
       "3  Royal Challengers Bangalore  \n",
       "4  Royal Challengers Bangalore  "
      ]
     },
     "execution_count": 4,
     "metadata": {},
     "output_type": "execute_result"
    }
   ],
   "source": [
    "df_complete.head()"
   ]
  },
  {
   "cell_type": "code",
   "execution_count": 5,
   "metadata": {},
   "outputs": [
    {
     "name": "stdout",
     "output_type": "stream",
     "text": [
      "['id', 'inning', 'over', 'ball', 'batsman', 'non_striker', 'bowler', 'batsman_runs', 'extra_runs', 'total_runs', 'non_boundary', 'is_wicket', 'dismissal_kind', 'player_dismissed', 'fielder', 'extras_type', 'batting_team', 'bowling_team']\n"
     ]
    }
   ],
   "source": [
    "# print the column names of the dataframe in a list\n",
    "print(df_complete.columns.tolist())"
   ]
  },
  {
   "cell_type": "code",
   "execution_count": 6,
   "metadata": {},
   "outputs": [
    {
     "data": {
      "text/html": [
       "<div>\n",
       "<style scoped>\n",
       "    .dataframe tbody tr th:only-of-type {\n",
       "        vertical-align: middle;\n",
       "    }\n",
       "\n",
       "    .dataframe tbody tr th {\n",
       "        vertical-align: top;\n",
       "    }\n",
       "\n",
       "    .dataframe thead th {\n",
       "        text-align: right;\n",
       "    }\n",
       "</style>\n",
       "<table border=\"1\" class=\"dataframe\">\n",
       "  <thead>\n",
       "    <tr style=\"text-align: right;\">\n",
       "      <th></th>\n",
       "      <th>id</th>\n",
       "      <th>inning</th>\n",
       "      <th>over</th>\n",
       "      <th>ball</th>\n",
       "      <th>batsman</th>\n",
       "      <th>non_striker</th>\n",
       "      <th>bowler</th>\n",
       "      <th>batsman_runs</th>\n",
       "      <th>extra_runs</th>\n",
       "      <th>total_runs</th>\n",
       "      <th>non_boundary</th>\n",
       "      <th>is_wicket</th>\n",
       "      <th>dismissal_kind</th>\n",
       "      <th>player_dismissed</th>\n",
       "      <th>fielder</th>\n",
       "      <th>extras_type</th>\n",
       "      <th>batting_team</th>\n",
       "      <th>bowling_team</th>\n",
       "    </tr>\n",
       "  </thead>\n",
       "  <tbody>\n",
       "    <tr>\n",
       "      <th>136530</th>\n",
       "      <td>1082591</td>\n",
       "      <td>1</td>\n",
       "      <td>7</td>\n",
       "      <td>2</td>\n",
       "      <td>MC Henriques</td>\n",
       "      <td>S Dhawan</td>\n",
       "      <td>TM Head</td>\n",
       "      <td>1</td>\n",
       "      <td>0</td>\n",
       "      <td>1</td>\n",
       "      <td>0</td>\n",
       "      <td>0</td>\n",
       "      <td>NaN</td>\n",
       "      <td>NaN</td>\n",
       "      <td>NaN</td>\n",
       "      <td>NaN</td>\n",
       "      <td>Sunrisers Hyderabad</td>\n",
       "      <td>Royal Challengers Bangalore</td>\n",
       "    </tr>\n",
       "    <tr>\n",
       "      <th>136531</th>\n",
       "      <td>1082591</td>\n",
       "      <td>1</td>\n",
       "      <td>7</td>\n",
       "      <td>3</td>\n",
       "      <td>S Dhawan</td>\n",
       "      <td>MC Henriques</td>\n",
       "      <td>TM Head</td>\n",
       "      <td>1</td>\n",
       "      <td>0</td>\n",
       "      <td>1</td>\n",
       "      <td>0</td>\n",
       "      <td>0</td>\n",
       "      <td>NaN</td>\n",
       "      <td>NaN</td>\n",
       "      <td>NaN</td>\n",
       "      <td>NaN</td>\n",
       "      <td>Sunrisers Hyderabad</td>\n",
       "      <td>Royal Challengers Bangalore</td>\n",
       "    </tr>\n",
       "    <tr>\n",
       "      <th>136532</th>\n",
       "      <td>1082591</td>\n",
       "      <td>1</td>\n",
       "      <td>7</td>\n",
       "      <td>4</td>\n",
       "      <td>MC Henriques</td>\n",
       "      <td>S Dhawan</td>\n",
       "      <td>TM Head</td>\n",
       "      <td>6</td>\n",
       "      <td>0</td>\n",
       "      <td>6</td>\n",
       "      <td>0</td>\n",
       "      <td>0</td>\n",
       "      <td>NaN</td>\n",
       "      <td>NaN</td>\n",
       "      <td>NaN</td>\n",
       "      <td>NaN</td>\n",
       "      <td>Sunrisers Hyderabad</td>\n",
       "      <td>Royal Challengers Bangalore</td>\n",
       "    </tr>\n",
       "    <tr>\n",
       "      <th>136533</th>\n",
       "      <td>1082591</td>\n",
       "      <td>1</td>\n",
       "      <td>7</td>\n",
       "      <td>5</td>\n",
       "      <td>MC Henriques</td>\n",
       "      <td>S Dhawan</td>\n",
       "      <td>TM Head</td>\n",
       "      <td>1</td>\n",
       "      <td>0</td>\n",
       "      <td>1</td>\n",
       "      <td>0</td>\n",
       "      <td>0</td>\n",
       "      <td>NaN</td>\n",
       "      <td>NaN</td>\n",
       "      <td>NaN</td>\n",
       "      <td>NaN</td>\n",
       "      <td>Sunrisers Hyderabad</td>\n",
       "      <td>Royal Challengers Bangalore</td>\n",
       "    </tr>\n",
       "    <tr>\n",
       "      <th>136534</th>\n",
       "      <td>1082591</td>\n",
       "      <td>1</td>\n",
       "      <td>7</td>\n",
       "      <td>6</td>\n",
       "      <td>S Dhawan</td>\n",
       "      <td>MC Henriques</td>\n",
       "      <td>TM Head</td>\n",
       "      <td>1</td>\n",
       "      <td>0</td>\n",
       "      <td>1</td>\n",
       "      <td>0</td>\n",
       "      <td>0</td>\n",
       "      <td>NaN</td>\n",
       "      <td>NaN</td>\n",
       "      <td>NaN</td>\n",
       "      <td>NaN</td>\n",
       "      <td>Sunrisers Hyderabad</td>\n",
       "      <td>Royal Challengers Bangalore</td>\n",
       "    </tr>\n",
       "  </tbody>\n",
       "</table>\n",
       "</div>"
      ],
      "text/plain": [
       "             id  inning  over  ball       batsman   non_striker   bowler  \\\n",
       "136530  1082591       1     7     2  MC Henriques      S Dhawan  TM Head   \n",
       "136531  1082591       1     7     3      S Dhawan  MC Henriques  TM Head   \n",
       "136532  1082591       1     7     4  MC Henriques      S Dhawan  TM Head   \n",
       "136533  1082591       1     7     5  MC Henriques      S Dhawan  TM Head   \n",
       "136534  1082591       1     7     6      S Dhawan  MC Henriques  TM Head   \n",
       "\n",
       "        batsman_runs  extra_runs  total_runs  non_boundary  is_wicket  \\\n",
       "136530             1           0           1             0          0   \n",
       "136531             1           0           1             0          0   \n",
       "136532             6           0           6             0          0   \n",
       "136533             1           0           1             0          0   \n",
       "136534             1           0           1             0          0   \n",
       "\n",
       "       dismissal_kind player_dismissed fielder extras_type  \\\n",
       "136530            NaN              NaN     NaN         NaN   \n",
       "136531            NaN              NaN     NaN         NaN   \n",
       "136532            NaN              NaN     NaN         NaN   \n",
       "136533            NaN              NaN     NaN         NaN   \n",
       "136534            NaN              NaN     NaN         NaN   \n",
       "\n",
       "               batting_team                 bowling_team  \n",
       "136530  Sunrisers Hyderabad  Royal Challengers Bangalore  \n",
       "136531  Sunrisers Hyderabad  Royal Challengers Bangalore  \n",
       "136532  Sunrisers Hyderabad  Royal Challengers Bangalore  \n",
       "136533  Sunrisers Hyderabad  Royal Challengers Bangalore  \n",
       "136534  Sunrisers Hyderabad  Royal Challengers Bangalore  "
      ]
     },
     "execution_count": 6,
     "metadata": {},
     "output_type": "execute_result"
    }
   ],
   "source": [
    "df_18 = df_complete[df_complete['id'] >981019]\n",
    "df_18.head()"
   ]
  },
  {
   "cell_type": "code",
   "execution_count": 7,
   "metadata": {},
   "outputs": [],
   "source": [
    "BallBowled_counts = df_18['bowler'].value_counts()\n",
    "BallFaced_counts = df_18['batsman'].value_counts()\n",
    "\n",
    "BallBowled_counts = pd.DataFrame(BallBowled_counts)\n",
    "\n",
    "BallBowled_counts.reset_index( inplace=True)\n",
    "\n",
    "\n",
    "BallFaced_counts = pd.DataFrame(BallFaced_counts)\n",
    "\n",
    "BallFaced_counts.reset_index( inplace=True)"
   ]
  },
  {
   "cell_type": "code",
   "execution_count": 8,
   "metadata": {},
   "outputs": [
    {
     "data": {
      "text/html": [
       "<div>\n",
       "<style scoped>\n",
       "    .dataframe tbody tr th:only-of-type {\n",
       "        vertical-align: middle;\n",
       "    }\n",
       "\n",
       "    .dataframe tbody tr th {\n",
       "        vertical-align: top;\n",
       "    }\n",
       "\n",
       "    .dataframe thead th {\n",
       "        text-align: right;\n",
       "    }\n",
       "</style>\n",
       "<table border=\"1\" class=\"dataframe\">\n",
       "  <thead>\n",
       "    <tr style=\"text-align: right;\">\n",
       "      <th></th>\n",
       "      <th>index</th>\n",
       "      <th>batsman</th>\n",
       "    </tr>\n",
       "  </thead>\n",
       "  <tbody>\n",
       "    <tr>\n",
       "      <th>0</th>\n",
       "      <td>S Dhawan</td>\n",
       "      <td>1586</td>\n",
       "    </tr>\n",
       "    <tr>\n",
       "      <th>1</th>\n",
       "      <td>KL Rahul</td>\n",
       "      <td>1398</td>\n",
       "    </tr>\n",
       "    <tr>\n",
       "      <th>2</th>\n",
       "      <td>SS Iyer</td>\n",
       "      <td>1396</td>\n",
       "    </tr>\n",
       "    <tr>\n",
       "      <th>3</th>\n",
       "      <td>DA Warner</td>\n",
       "      <td>1380</td>\n",
       "    </tr>\n",
       "    <tr>\n",
       "      <th>4</th>\n",
       "      <td>V Kohli</td>\n",
       "      <td>1374</td>\n",
       "    </tr>\n",
       "    <tr>\n",
       "      <th>...</th>\n",
       "      <td>...</td>\n",
       "      <td>...</td>\n",
       "    </tr>\n",
       "    <tr>\n",
       "      <th>239</th>\n",
       "      <td>MM Patel</td>\n",
       "      <td>1</td>\n",
       "    </tr>\n",
       "    <tr>\n",
       "      <th>240</th>\n",
       "      <td>MR Marsh</td>\n",
       "      <td>1</td>\n",
       "    </tr>\n",
       "    <tr>\n",
       "      <th>241</th>\n",
       "      <td>Y Prithvi Raj</td>\n",
       "      <td>1</td>\n",
       "    </tr>\n",
       "    <tr>\n",
       "      <th>242</th>\n",
       "      <td>JL Denly</td>\n",
       "      <td>1</td>\n",
       "    </tr>\n",
       "    <tr>\n",
       "      <th>243</th>\n",
       "      <td>S Lamichhane</td>\n",
       "      <td>1</td>\n",
       "    </tr>\n",
       "  </tbody>\n",
       "</table>\n",
       "<p>244 rows × 2 columns</p>\n",
       "</div>"
      ],
      "text/plain": [
       "             index  batsman\n",
       "0         S Dhawan     1586\n",
       "1         KL Rahul     1398\n",
       "2          SS Iyer     1396\n",
       "3        DA Warner     1380\n",
       "4          V Kohli     1374\n",
       "..             ...      ...\n",
       "239       MM Patel        1\n",
       "240       MR Marsh        1\n",
       "241  Y Prithvi Raj        1\n",
       "242       JL Denly        1\n",
       "243   S Lamichhane        1\n",
       "\n",
       "[244 rows x 2 columns]"
      ]
     },
     "execution_count": 8,
     "metadata": {},
     "output_type": "execute_result"
    }
   ],
   "source": [
    "BallFaced_counts"
   ]
  },
  {
   "cell_type": "code",
   "execution_count": 9,
   "metadata": {},
   "outputs": [
    {
     "data": {
      "image/png": "[encoded data removed]",
      "text/plain": [
       "<Figure size 640x480 with 1 Axes>"
      ]
     },
     "metadata": {},
     "output_type": "display_data"
    },
    {
     "data": {
      "image/png": "[encoded data removed]",
      "text/plain": [
       "<Figure size 640x480 with 1 Axes>"
      ]
     },
     "metadata": {},
     "output_type": "display_data"
    }
   ],
   "source": [
    "fig,ax =plt.subplots()\n",
    "\n",
    "ax.boxplot(BallBowled_counts['bowler'])\n",
    "\n",
    "plt.show()\n",
    "\n",
    "fig,ax =plt.subplots()\n",
    "\n",
    "ax.boxplot(BallFaced_counts['batsman'])\n",
    "\n",
    "plt.show()"
   ]
  },
  {
   "cell_type": "code",
   "execution_count": 10,
   "metadata": {},
   "outputs": [],
   "source": [
    "MedianBowl = BallBowled_counts['bowler'].median()\n",
    "\n",
    "MedianBats = BallFaced_counts['batsman'].median()\n"
   ]
  },
  {
   "cell_type": "code",
   "execution_count": 11,
   "metadata": {},
   "outputs": [
    {
     "data": {
      "text/plain": [
       "169.0"
      ]
     },
     "execution_count": 11,
     "metadata": {},
     "output_type": "execute_result"
    }
   ],
   "source": [
    "MedianBowl"
   ]
  },
  {
   "cell_type": "code",
   "execution_count": 12,
   "metadata": {},
   "outputs": [],
   "source": [
    "# Only select the bowlers and batsmen who have bowled and faced more than the median number of balls\n",
    "# All rounders are players in both categories\n",
    "\n",
    "\n",
    "Bowling_Targets = BallBowled_counts[BallBowled_counts['bowler']>MedianBowl]\n",
    "\n",
    "Batting_Targets = BallFaced_counts[BallFaced_counts['batsman']>MedianBats]\n",
    "\n",
    "# make the column name index in Bowling_Targets as the index \n",
    "\n",
    "Bowling_Targets.set_index('index', inplace=True)\n",
    "\n",
    "# make the column name index in Batting_Targets as the index\n",
    "\n",
    "Batting_Targets.set_index('index', inplace=True)\n"
   ]
  },
  {
   "cell_type": "code",
   "execution_count": 13,
   "metadata": {},
   "outputs": [
    {
     "data": {
      "text/html": [
       "<div>\n",
       "<style scoped>\n",
       "    .dataframe tbody tr th:only-of-type {\n",
       "        vertical-align: middle;\n",
       "    }\n",
       "\n",
       "    .dataframe tbody tr th {\n",
       "        vertical-align: top;\n",
       "    }\n",
       "\n",
       "    .dataframe thead th {\n",
       "        text-align: right;\n",
       "    }\n",
       "</style>\n",
       "<table border=\"1\" class=\"dataframe\">\n",
       "  <thead>\n",
       "    <tr style=\"text-align: right;\">\n",
       "      <th></th>\n",
       "      <th>id</th>\n",
       "      <th>inning</th>\n",
       "      <th>over</th>\n",
       "      <th>ball</th>\n",
       "      <th>batsman</th>\n",
       "      <th>non_striker</th>\n",
       "      <th>bowler_x</th>\n",
       "      <th>batsman_runs</th>\n",
       "      <th>extra_runs</th>\n",
       "      <th>total_runs</th>\n",
       "      <th>non_boundary</th>\n",
       "      <th>is_wicket</th>\n",
       "      <th>dismissal_kind</th>\n",
       "      <th>player_dismissed</th>\n",
       "      <th>fielder</th>\n",
       "      <th>extras_type</th>\n",
       "      <th>batting_team</th>\n",
       "      <th>bowling_team</th>\n",
       "      <th>bowler_y</th>\n",
       "    </tr>\n",
       "  </thead>\n",
       "  <tbody>\n",
       "    <tr>\n",
       "      <th>0</th>\n",
       "      <td>1082591</td>\n",
       "      <td>1</td>\n",
       "      <td>8</td>\n",
       "      <td>1</td>\n",
       "      <td>S Dhawan</td>\n",
       "      <td>MC Henriques</td>\n",
       "      <td>YS Chahal</td>\n",
       "      <td>2</td>\n",
       "      <td>0</td>\n",
       "      <td>2</td>\n",
       "      <td>0</td>\n",
       "      <td>0</td>\n",
       "      <td>NaN</td>\n",
       "      <td>NaN</td>\n",
       "      <td>NaN</td>\n",
       "      <td>NaN</td>\n",
       "      <td>Sunrisers Hyderabad</td>\n",
       "      <td>Royal Challengers Bangalore</td>\n",
       "      <td>1240</td>\n",
       "    </tr>\n",
       "    <tr>\n",
       "      <th>1</th>\n",
       "      <td>1082591</td>\n",
       "      <td>1</td>\n",
       "      <td>8</td>\n",
       "      <td>6</td>\n",
       "      <td>MC Henriques</td>\n",
       "      <td>S Dhawan</td>\n",
       "      <td>YS Chahal</td>\n",
       "      <td>2</td>\n",
       "      <td>0</td>\n",
       "      <td>2</td>\n",
       "      <td>0</td>\n",
       "      <td>0</td>\n",
       "      <td>NaN</td>\n",
       "      <td>NaN</td>\n",
       "      <td>NaN</td>\n",
       "      <td>NaN</td>\n",
       "      <td>Sunrisers Hyderabad</td>\n",
       "      <td>Royal Challengers Bangalore</td>\n",
       "      <td>1240</td>\n",
       "    </tr>\n",
       "    <tr>\n",
       "      <th>2</th>\n",
       "      <td>1082591</td>\n",
       "      <td>1</td>\n",
       "      <td>8</td>\n",
       "      <td>2</td>\n",
       "      <td>S Dhawan</td>\n",
       "      <td>MC Henriques</td>\n",
       "      <td>YS Chahal</td>\n",
       "      <td>1</td>\n",
       "      <td>0</td>\n",
       "      <td>1</td>\n",
       "      <td>0</td>\n",
       "      <td>0</td>\n",
       "      <td>NaN</td>\n",
       "      <td>NaN</td>\n",
       "      <td>NaN</td>\n",
       "      <td>NaN</td>\n",
       "      <td>Sunrisers Hyderabad</td>\n",
       "      <td>Royal Challengers Bangalore</td>\n",
       "      <td>1240</td>\n",
       "    </tr>\n",
       "    <tr>\n",
       "      <th>3</th>\n",
       "      <td>1082591</td>\n",
       "      <td>1</td>\n",
       "      <td>8</td>\n",
       "      <td>3</td>\n",
       "      <td>MC Henriques</td>\n",
       "      <td>S Dhawan</td>\n",
       "      <td>YS Chahal</td>\n",
       "      <td>1</td>\n",
       "      <td>0</td>\n",
       "      <td>1</td>\n",
       "      <td>0</td>\n",
       "      <td>0</td>\n",
       "      <td>NaN</td>\n",
       "      <td>NaN</td>\n",
       "      <td>NaN</td>\n",
       "      <td>NaN</td>\n",
       "      <td>Sunrisers Hyderabad</td>\n",
       "      <td>Royal Challengers Bangalore</td>\n",
       "      <td>1240</td>\n",
       "    </tr>\n",
       "    <tr>\n",
       "      <th>4</th>\n",
       "      <td>1082591</td>\n",
       "      <td>1</td>\n",
       "      <td>8</td>\n",
       "      <td>4</td>\n",
       "      <td>S Dhawan</td>\n",
       "      <td>MC Henriques</td>\n",
       "      <td>YS Chahal</td>\n",
       "      <td>1</td>\n",
       "      <td>0</td>\n",
       "      <td>1</td>\n",
       "      <td>0</td>\n",
       "      <td>0</td>\n",
       "      <td>NaN</td>\n",
       "      <td>NaN</td>\n",
       "      <td>NaN</td>\n",
       "      <td>NaN</td>\n",
       "      <td>Sunrisers Hyderabad</td>\n",
       "      <td>Royal Challengers Bangalore</td>\n",
       "      <td>1240</td>\n",
       "    </tr>\n",
       "    <tr>\n",
       "      <th>...</th>\n",
       "      <td>...</td>\n",
       "      <td>...</td>\n",
       "      <td>...</td>\n",
       "      <td>...</td>\n",
       "      <td>...</td>\n",
       "      <td>...</td>\n",
       "      <td>...</td>\n",
       "      <td>...</td>\n",
       "      <td>...</td>\n",
       "      <td>...</td>\n",
       "      <td>...</td>\n",
       "      <td>...</td>\n",
       "      <td>...</td>\n",
       "      <td>...</td>\n",
       "      <td>...</td>\n",
       "      <td>...</td>\n",
       "      <td>...</td>\n",
       "      <td>...</td>\n",
       "      <td>...</td>\n",
       "    </tr>\n",
       "    <tr>\n",
       "      <th>50879</th>\n",
       "      <td>1216543</td>\n",
       "      <td>1</td>\n",
       "      <td>17</td>\n",
       "      <td>2</td>\n",
       "      <td>AT Carey</td>\n",
       "      <td>MP Stoinis</td>\n",
       "      <td>Kartik Tyagi</td>\n",
       "      <td>1</td>\n",
       "      <td>0</td>\n",
       "      <td>1</td>\n",
       "      <td>0</td>\n",
       "      <td>0</td>\n",
       "      <td>NaN</td>\n",
       "      <td>NaN</td>\n",
       "      <td>NaN</td>\n",
       "      <td>NaN</td>\n",
       "      <td>Delhi Capitals</td>\n",
       "      <td>Rajasthan Royals</td>\n",
       "      <td>241</td>\n",
       "    </tr>\n",
       "    <tr>\n",
       "      <th>50880</th>\n",
       "      <td>1216543</td>\n",
       "      <td>1</td>\n",
       "      <td>17</td>\n",
       "      <td>3</td>\n",
       "      <td>MP Stoinis</td>\n",
       "      <td>AT Carey</td>\n",
       "      <td>Kartik Tyagi</td>\n",
       "      <td>0</td>\n",
       "      <td>0</td>\n",
       "      <td>0</td>\n",
       "      <td>0</td>\n",
       "      <td>0</td>\n",
       "      <td>NaN</td>\n",
       "      <td>NaN</td>\n",
       "      <td>NaN</td>\n",
       "      <td>NaN</td>\n",
       "      <td>Delhi Capitals</td>\n",
       "      <td>Rajasthan Royals</td>\n",
       "      <td>241</td>\n",
       "    </tr>\n",
       "    <tr>\n",
       "      <th>50881</th>\n",
       "      <td>1216543</td>\n",
       "      <td>1</td>\n",
       "      <td>17</td>\n",
       "      <td>4</td>\n",
       "      <td>MP Stoinis</td>\n",
       "      <td>AT Carey</td>\n",
       "      <td>Kartik Tyagi</td>\n",
       "      <td>2</td>\n",
       "      <td>0</td>\n",
       "      <td>2</td>\n",
       "      <td>0</td>\n",
       "      <td>0</td>\n",
       "      <td>NaN</td>\n",
       "      <td>NaN</td>\n",
       "      <td>NaN</td>\n",
       "      <td>NaN</td>\n",
       "      <td>Delhi Capitals</td>\n",
       "      <td>Rajasthan Royals</td>\n",
       "      <td>241</td>\n",
       "    </tr>\n",
       "    <tr>\n",
       "      <th>50882</th>\n",
       "      <td>1216543</td>\n",
       "      <td>1</td>\n",
       "      <td>17</td>\n",
       "      <td>5</td>\n",
       "      <td>MP Stoinis</td>\n",
       "      <td>AT Carey</td>\n",
       "      <td>Kartik Tyagi</td>\n",
       "      <td>1</td>\n",
       "      <td>0</td>\n",
       "      <td>1</td>\n",
       "      <td>0</td>\n",
       "      <td>0</td>\n",
       "      <td>NaN</td>\n",
       "      <td>NaN</td>\n",
       "      <td>NaN</td>\n",
       "      <td>NaN</td>\n",
       "      <td>Delhi Capitals</td>\n",
       "      <td>Rajasthan Royals</td>\n",
       "      <td>241</td>\n",
       "    </tr>\n",
       "    <tr>\n",
       "      <th>50883</th>\n",
       "      <td>1216543</td>\n",
       "      <td>1</td>\n",
       "      <td>17</td>\n",
       "      <td>6</td>\n",
       "      <td>AT Carey</td>\n",
       "      <td>MP Stoinis</td>\n",
       "      <td>Kartik Tyagi</td>\n",
       "      <td>1</td>\n",
       "      <td>0</td>\n",
       "      <td>1</td>\n",
       "      <td>0</td>\n",
       "      <td>0</td>\n",
       "      <td>NaN</td>\n",
       "      <td>NaN</td>\n",
       "      <td>NaN</td>\n",
       "      <td>NaN</td>\n",
       "      <td>Delhi Capitals</td>\n",
       "      <td>Rajasthan Royals</td>\n",
       "      <td>241</td>\n",
       "    </tr>\n",
       "  </tbody>\n",
       "</table>\n",
       "<p>50884 rows × 19 columns</p>\n",
       "</div>"
      ],
      "text/plain": [
       "            id  inning  over  ball       batsman   non_striker      bowler_x  \\\n",
       "0      1082591       1     8     1      S Dhawan  MC Henriques     YS Chahal   \n",
       "1      1082591       1     8     6  MC Henriques      S Dhawan     YS Chahal   \n",
       "2      1082591       1     8     2      S Dhawan  MC Henriques     YS Chahal   \n",
       "3      1082591       1     8     3  MC Henriques      S Dhawan     YS Chahal   \n",
       "4      1082591       1     8     4      S Dhawan  MC Henriques     YS Chahal   \n",
       "...        ...     ...   ...   ...           ...           ...           ...   \n",
       "50879  1216543       1    17     2      AT Carey    MP Stoinis  Kartik Tyagi   \n",
       "50880  1216543       1    17     3    MP Stoinis      AT Carey  Kartik Tyagi   \n",
       "50881  1216543       1    17     4    MP Stoinis      AT Carey  Kartik Tyagi   \n",
       "50882  1216543       1    17     5    MP Stoinis      AT Carey  Kartik Tyagi   \n",
       "50883  1216543       1    17     6      AT Carey    MP Stoinis  Kartik Tyagi   \n",
       "\n",
       "       batsman_runs  extra_runs  total_runs  non_boundary  is_wicket  \\\n",
       "0                 2           0           2             0          0   \n",
       "1                 2           0           2             0          0   \n",
       "2                 1           0           1             0          0   \n",
       "3                 1           0           1             0          0   \n",
       "4                 1           0           1             0          0   \n",
       "...             ...         ...         ...           ...        ...   \n",
       "50879             1           0           1             0          0   \n",
       "50880             0           0           0             0          0   \n",
       "50881             2           0           2             0          0   \n",
       "50882             1           0           1             0          0   \n",
       "50883             1           0           1             0          0   \n",
       "\n",
       "      dismissal_kind player_dismissed fielder extras_type  \\\n",
       "0                NaN              NaN     NaN         NaN   \n",
       "1                NaN              NaN     NaN         NaN   \n",
       "2                NaN              NaN     NaN         NaN   \n",
       "3                NaN              NaN     NaN         NaN   \n",
       "4                NaN              NaN     NaN         NaN   \n",
       "...              ...              ...     ...         ...   \n",
       "50879            NaN              NaN     NaN         NaN   \n",
       "50880            NaN              NaN     NaN         NaN   \n",
       "50881            NaN              NaN     NaN         NaN   \n",
       "50882            NaN              NaN     NaN         NaN   \n",
       "50883            NaN              NaN     NaN         NaN   \n",
       "\n",
       "              batting_team                 bowling_team  bowler_y  \n",
       "0      Sunrisers Hyderabad  Royal Challengers Bangalore      1240  \n",
       "1      Sunrisers Hyderabad  Royal Challengers Bangalore      1240  \n",
       "2      Sunrisers Hyderabad  Royal Challengers Bangalore      1240  \n",
       "3      Sunrisers Hyderabad  Royal Challengers Bangalore      1240  \n",
       "4      Sunrisers Hyderabad  Royal Challengers Bangalore      1240  \n",
       "...                    ...                          ...       ...  \n",
       "50879       Delhi Capitals             Rajasthan Royals       241  \n",
       "50880       Delhi Capitals             Rajasthan Royals       241  \n",
       "50881       Delhi Capitals             Rajasthan Royals       241  \n",
       "50882       Delhi Capitals             Rajasthan Royals       241  \n",
       "50883       Delhi Capitals             Rajasthan Royals       241  \n",
       "\n",
       "[50884 rows x 19 columns]"
      ]
     },
     "execution_count": 13,
     "metadata": {},
     "output_type": "execute_result"
    }
   ],
   "source": [
    "# output dataframe using inner join merging df_18 and Bowling_Targets\n",
    "\n",
    "pd.merge(df_18, Bowling_Targets, left_on='bowler', right_on='index', how='inner')\n"
   ]
  },
  {
   "cell_type": "code",
   "execution_count": 14,
   "metadata": {},
   "outputs": [
    {
     "data": {
      "text/html": [
       "<div>\n",
       "<style scoped>\n",
       "    .dataframe tbody tr th:only-of-type {\n",
       "        vertical-align: middle;\n",
       "    }\n",
       "\n",
       "    .dataframe tbody tr th {\n",
       "        vertical-align: top;\n",
       "    }\n",
       "\n",
       "    .dataframe thead th {\n",
       "        text-align: right;\n",
       "    }\n",
       "</style>\n",
       "<table border=\"1\" class=\"dataframe\">\n",
       "  <thead>\n",
       "    <tr style=\"text-align: right;\">\n",
       "      <th></th>\n",
       "      <th>dot_count</th>\n",
       "    </tr>\n",
       "  </thead>\n",
       "  <tbody>\n",
       "    <tr>\n",
       "      <th>Rashid Khan</th>\n",
       "      <td>605</td>\n",
       "    </tr>\n",
       "    <tr>\n",
       "      <th>JJ Bumrah</th>\n",
       "      <td>571</td>\n",
       "    </tr>\n",
       "    <tr>\n",
       "      <th>B Kumar</th>\n",
       "      <td>440</td>\n",
       "    </tr>\n",
       "    <tr>\n",
       "      <th>YS Chahal</th>\n",
       "      <td>437</td>\n",
       "    </tr>\n",
       "    <tr>\n",
       "      <th>Sandeep Sharma</th>\n",
       "      <td>428</td>\n",
       "    </tr>\n",
       "    <tr>\n",
       "      <th>...</th>\n",
       "      <td>...</td>\n",
       "    </tr>\n",
       "    <tr>\n",
       "      <th>Yuvraj Singh</th>\n",
       "      <td>2</td>\n",
       "    </tr>\n",
       "    <tr>\n",
       "      <th>MK Lomror</th>\n",
       "      <td>2</td>\n",
       "    </tr>\n",
       "    <tr>\n",
       "      <th>P Ray Barman</th>\n",
       "      <td>2</td>\n",
       "    </tr>\n",
       "    <tr>\n",
       "      <th>Mandeep Singh</th>\n",
       "      <td>1</td>\n",
       "    </tr>\n",
       "    <tr>\n",
       "      <th>MR Marsh</th>\n",
       "      <td>1</td>\n",
       "    </tr>\n",
       "  </tbody>\n",
       "</table>\n",
       "<p>182 rows × 1 columns</p>\n",
       "</div>"
      ],
      "text/plain": [
       "                dot_count\n",
       "Rashid Khan           605\n",
       "JJ Bumrah             571\n",
       "B Kumar               440\n",
       "YS Chahal             437\n",
       "Sandeep Sharma        428\n",
       "...                   ...\n",
       "Yuvraj Singh            2\n",
       "MK Lomror               2\n",
       "P Ray Barman            2\n",
       "Mandeep Singh           1\n",
       "MR Marsh                1\n",
       "\n",
       "[182 rows x 1 columns]"
      ]
     },
     "execution_count": 14,
     "metadata": {},
     "output_type": "execute_result"
    }
   ],
   "source": [
    "# for all unique bowlers in df_18 count the instances where total runs is 0\n",
    "# add column names dot_count to the Bowling_Targets dataframe\n",
    "\n",
    "DotRatio = df_18[df_18['total_runs']==0]['bowler'].value_counts()\n",
    "\n",
    "# convert DotRatio to dataframe\n",
    "DotRatio = pd.DataFrame(DotRatio)\n",
    "\n",
    "# rename the column name bowler to dot_count\n",
    "DotRatio.rename(columns={'bowler':'dot_count'}, inplace=True)\n",
    "\n",
    "# repeat the process for 1s, 2s, 3s, 4s, 6s\n",
    "# rename the column name bowler to 1_count, 2_count, 3_count, 4_count, 6_count\n",
    "\n",
    "\n",
    "\n",
    "DotRatio1 = df_18[df_18['total_runs']==1]['bowler'].value_counts()\n",
    "DotRatio1 = pd.DataFrame(DotRatio1)\n",
    "DotRatio1.rename(columns={'bowler':'1_count'}, inplace=True)\n",
    "\n",
    "DotRatio2 = df_18[df_18['total_runs']==2]['bowler'].value_counts()\n",
    "DotRatio2 = pd.DataFrame(DotRatio2)\n",
    "DotRatio2.rename(columns={'bowler':'2_count'}, inplace=True)\n",
    "\n",
    "DotRatio3 = df_18[df_18['total_runs']==3]['bowler'].value_counts()\n",
    "DotRatio3 = pd.DataFrame(DotRatio3)\n",
    "DotRatio3.rename(columns={'bowler':'3_count'}, inplace=True)\n",
    "\n",
    "DotRatio4 = df_18[df_18['total_runs']==4]['bowler'].value_counts()\n",
    "DotRatio4 = pd.DataFrame(DotRatio4)\n",
    "DotRatio4.rename(columns={'bowler':'4_count'}, inplace=True)\n",
    "\n",
    "DotRatio5 = df_18[df_18['total_runs']==5]['bowler'].value_counts()\n",
    "DotRatio5 = pd.DataFrame(DotRatio5)\n",
    "DotRatio5.rename(columns={'bowler':'5_count'}, inplace=True)\n",
    "\n",
    "DotRatio6 = df_18[df_18['total_runs']==6]['bowler'].value_counts()\n",
    "DotRatio6 = pd.DataFrame(DotRatio6)\n",
    "DotRatio6.rename(columns={'bowler':'6_count'}, inplace=True)\n",
    "# make another dataframe for wickets using is wicket column\n",
    "\n",
    "DotRatioWicket = df_18[df_18['is_wicket']==1]['bowler'].value_counts()\n",
    "DotRatioWicket = pd.DataFrame(DotRatioWicket)\n",
    "DotRatioWicket.rename(columns={'bowler':'wicket_count'}, inplace=True)\n",
    "\n",
    "\n",
    "DotRatio"
   ]
  },
  {
   "cell_type": "code",
   "execution_count": 15,
   "metadata": {},
   "outputs": [
    {
     "name": "stderr",
     "output_type": "stream",
     "text": [
      "C:\\Users\\tally\\AppData\\Local\\Temp\\ipykernel_35360\\272734320.py:2: SettingWithCopyWarning:\n",
      "\n",
      "\n",
      "A value is trying to be set on a copy of a slice from a DataFrame\n",
      "\n",
      "See the caveats in the documentation: https://pandas.pydata.org/pandas-docs/stable/user_guide/indexing.html#returning-a-view-versus-a-copy\n",
      "\n"
     ]
    }
   ],
   "source": [
    "# rename bowler column in Bowling_Targets to total balls bowled\n",
    "Bowling_Targets.rename(columns={'bowler':'total_balls_bowled'}, inplace=True)\n",
    "\n",
    "# rename bowler column in DotRatio to dot_count\n",
    "DotRatio.rename(columns={'bowler':'dot_count'}, inplace=True)\n",
    "\n",
    "# merge Bowling_Targets and DotRatio,DotRatio1, DotRatio2, DotRatio3, DotRatio4, DotRatio5, DotRatio6, DotRatioWicket on index\n",
    "\n",
    "Bowling_Targets = pd.merge(Bowling_Targets, DotRatio, left_index=True, right_index=True, how='inner')\n",
    "Bowling_Targets = pd.merge(Bowling_Targets, DotRatio1, left_index=True, right_index=True, how='inner')\n",
    "Bowling_Targets = pd.merge(Bowling_Targets, DotRatio2, left_index=True, right_index=True, how='inner')\n",
    "Bowling_Targets = pd.merge(Bowling_Targets, DotRatio3, left_index=True, right_index=True, how='inner')\n",
    "Bowling_Targets = pd.merge(Bowling_Targets, DotRatio4, left_index=True, right_index=True, how='inner')\n",
    "Bowling_Targets = pd.merge(Bowling_Targets, DotRatio5, left_index=True, right_index=True, how='inner')\n",
    "Bowling_Targets = pd.merge(Bowling_Targets, DotRatio6, left_index=True, right_index=True, how='inner')\n",
    "Bowling_Targets = pd.merge(Bowling_Targets, DotRatioWicket, left_index=True, right_index=True, how='inner')\n",
    "\n"
   ]
  },
  {
   "cell_type": "code",
   "execution_count": 16,
   "metadata": {},
   "outputs": [
    {
     "name": "stderr",
     "output_type": "stream",
     "text": [
      "C:\\Users\\tally\\AppData\\Local\\Temp\\ipykernel_35360\\1629071322.py:3: SettingWithCopyWarning:\n",
      "\n",
      "\n",
      "A value is trying to be set on a copy of a slice from a DataFrame\n",
      "\n",
      "See the caveats in the documentation: https://pandas.pydata.org/pandas-docs/stable/user_guide/indexing.html#returning-a-view-versus-a-copy\n",
      "\n"
     ]
    }
   ],
   "source": [
    "# repeat the process for batting targets\n",
    "\n",
    "Batting_Targets.rename(columns={'batsman':'total_balls_faced'}, inplace=True)\n",
    "\n",
    "DotRatioBats = df_18[df_18['total_runs']==0]['batsman'].value_counts()\n",
    "DotRatioBats = pd.DataFrame(DotRatioBats)\n",
    "DotRatioBats.rename(columns={'batsman':'dot_count'}, inplace=True)\n",
    "\n",
    "DotRatioBats1 = df_18[df_18['total_runs']==1]['batsman'].value_counts()\n",
    "DotRatioBats1 = pd.DataFrame(DotRatioBats1)\n",
    "DotRatioBats1.rename(columns={'batsman':'1_count'}, inplace=True)\n",
    "\n",
    "DotRatioBats2 = df_18[df_18['total_runs']==2]['batsman'].value_counts()\n",
    "DotRatioBats2 = pd.DataFrame(DotRatioBats2)\n",
    "DotRatioBats2.rename(columns={'batsman':'2_count'}, inplace=True)\n",
    "\n",
    "DotRatioBats3 = df_18[df_18['total_runs']==3]['batsman'].value_counts()\n",
    "DotRatioBats3 = pd.DataFrame(DotRatioBats3)\n",
    "DotRatioBats3.rename(columns={'batsman':'3_count'}, inplace=True)\n",
    "\n",
    "DotRatioBats4 = df_18[df_18['total_runs']==4]['batsman'].value_counts()\n",
    "DotRatioBats4 = pd.DataFrame(DotRatioBats4)\n",
    "DotRatioBats4.rename(columns={'batsman':'4_count'}, inplace=True)\n",
    "\n",
    "DotRatioBats5 = df_18[df_18['total_runs']==5]['batsman'].value_counts()\n",
    "DotRatioBats5 = pd.DataFrame(DotRatioBats5)\n",
    "DotRatioBats5.rename(columns={'batsman':'5_count'}, inplace=True)\n",
    "\n",
    "DotRatioBats6 = df_18[df_18['total_runs']==6]['batsman'].value_counts()\n",
    "DotRatioBats6 = pd.DataFrame(DotRatioBats6)\n",
    "DotRatioBats6.rename(columns={'batsman':'6_count'}, inplace=True)\n",
    "\n",
    "DotRatioBatsWicket = df_18[df_18['is_wicket']==1]['batsman'].value_counts()\n",
    "DotRatioBatsWicket = pd.DataFrame(DotRatioBatsWicket)\n",
    "DotRatioBatsWicket.rename(columns={'batsman':'wicket_count'}, inplace=True)\n",
    "\n",
    "Batting_Targets = pd.merge(Batting_Targets, DotRatioBats, left_index=True, right_index=True, how='inner')\n",
    "Batting_Targets = pd.merge(Batting_Targets, DotRatioBats1, left_index=True, right_index=True, how='inner')\n",
    "Batting_Targets = pd.merge(Batting_Targets, DotRatioBats2, left_index=True, right_index=True, how='inner')\n",
    "Batting_Targets = pd.merge(Batting_Targets, DotRatioBats3, left_index=True, right_index=True, how='inner')\n",
    "Batting_Targets = pd.merge(Batting_Targets, DotRatioBats4, left_index=True, right_index=True, how='inner')\n",
    "Batting_Targets = pd.merge(Batting_Targets, DotRatioBats5, left_index=True, right_index=True, how='inner')\n",
    "Batting_Targets = pd.merge(Batting_Targets, DotRatioBats6, left_index=True, right_index=True, how='inner')\n",
    "Batting_Targets = pd.merge(Batting_Targets, DotRatioBatsWicket, left_index=True, right_index=True, how='inner')\n",
    "\n",
    "\n"
   ]
  },
  {
   "cell_type": "code",
   "execution_count": 17,
   "metadata": {},
   "outputs": [],
   "source": [
    "# add column to both batting and bowling targets called boundary_count which is the sum of 4s and 6s\n",
    "\n",
    "Bowling_Targets['boundary_count'] = Bowling_Targets['4_count'] + Bowling_Targets['6_count']\n",
    "Batting_Targets['boundary_count'] = Batting_Targets['4_count'] + Batting_Targets['6_count']"
   ]
  },
  {
   "cell_type": "code",
   "execution_count": 18,
   "metadata": {},
   "outputs": [
    {
     "data": {
      "text/html": [
       "<div>\n",
       "<style scoped>\n",
       "    .dataframe tbody tr th:only-of-type {\n",
       "        vertical-align: middle;\n",
       "    }\n",
       "\n",
       "    .dataframe tbody tr th {\n",
       "        vertical-align: top;\n",
       "    }\n",
       "\n",
       "    .dataframe thead th {\n",
       "        text-align: right;\n",
       "    }\n",
       "</style>\n",
       "<table border=\"1\" class=\"dataframe\">\n",
       "  <thead>\n",
       "    <tr style=\"text-align: right;\">\n",
       "      <th></th>\n",
       "      <th>total_balls_bowled</th>\n",
       "      <th>dot_count</th>\n",
       "      <th>1_count</th>\n",
       "      <th>2_count</th>\n",
       "      <th>3_count</th>\n",
       "      <th>4_count</th>\n",
       "      <th>5_count</th>\n",
       "      <th>6_count</th>\n",
       "      <th>wicket_count</th>\n",
       "      <th>boundary_count</th>\n",
       "    </tr>\n",
       "  </thead>\n",
       "  <tbody>\n",
       "    <tr>\n",
       "      <th>Rashid Khan</th>\n",
       "      <td>1490</td>\n",
       "      <td>605</td>\n",
       "      <td>646</td>\n",
       "      <td>69</td>\n",
       "      <td>4</td>\n",
       "      <td>109</td>\n",
       "      <td>1</td>\n",
       "      <td>56</td>\n",
       "      <td>80</td>\n",
       "      <td>165</td>\n",
       "    </tr>\n",
       "    <tr>\n",
       "      <th>JJ Bumrah</th>\n",
       "      <td>1448</td>\n",
       "      <td>571</td>\n",
       "      <td>563</td>\n",
       "      <td>111</td>\n",
       "      <td>10</td>\n",
       "      <td>146</td>\n",
       "      <td>4</td>\n",
       "      <td>43</td>\n",
       "      <td>89</td>\n",
       "      <td>189</td>\n",
       "    </tr>\n",
       "    <tr>\n",
       "      <th>YS Chahal</th>\n",
       "      <td>1240</td>\n",
       "      <td>437</td>\n",
       "      <td>553</td>\n",
       "      <td>82</td>\n",
       "      <td>3</td>\n",
       "      <td>90</td>\n",
       "      <td>3</td>\n",
       "      <td>72</td>\n",
       "      <td>66</td>\n",
       "      <td>162</td>\n",
       "    </tr>\n",
       "    <tr>\n",
       "      <th>SP Narine</th>\n",
       "      <td>1236</td>\n",
       "      <td>416</td>\n",
       "      <td>559</td>\n",
       "      <td>82</td>\n",
       "      <td>4</td>\n",
       "      <td>118</td>\n",
       "      <td>3</td>\n",
       "      <td>54</td>\n",
       "      <td>46</td>\n",
       "      <td>172</td>\n",
       "    </tr>\n",
       "    <tr>\n",
       "      <th>KH Pandya</th>\n",
       "      <td>1089</td>\n",
       "      <td>342</td>\n",
       "      <td>540</td>\n",
       "      <td>76</td>\n",
       "      <td>1</td>\n",
       "      <td>91</td>\n",
       "      <td>1</td>\n",
       "      <td>38</td>\n",
       "      <td>42</td>\n",
       "      <td>129</td>\n",
       "    </tr>\n",
       "    <tr>\n",
       "      <th>B Kumar</th>\n",
       "      <td>1065</td>\n",
       "      <td>440</td>\n",
       "      <td>372</td>\n",
       "      <td>79</td>\n",
       "      <td>4</td>\n",
       "      <td>127</td>\n",
       "      <td>1</td>\n",
       "      <td>42</td>\n",
       "      <td>57</td>\n",
       "      <td>169</td>\n",
       "    </tr>\n",
       "    <tr>\n",
       "      <th>RA Jadeja</th>\n",
       "      <td>1026</td>\n",
       "      <td>315</td>\n",
       "      <td>488</td>\n",
       "      <td>79</td>\n",
       "      <td>4</td>\n",
       "      <td>85</td>\n",
       "      <td>1</td>\n",
       "      <td>54</td>\n",
       "      <td>38</td>\n",
       "      <td>139</td>\n",
       "    </tr>\n",
       "    <tr>\n",
       "      <th>DL Chahar</th>\n",
       "      <td>1013</td>\n",
       "      <td>425</td>\n",
       "      <td>350</td>\n",
       "      <td>57</td>\n",
       "      <td>5</td>\n",
       "      <td>144</td>\n",
       "      <td>3</td>\n",
       "      <td>29</td>\n",
       "      <td>45</td>\n",
       "      <td>173</td>\n",
       "    </tr>\n",
       "    <tr>\n",
       "      <th>JD Unadkat</th>\n",
       "      <td>969</td>\n",
       "      <td>305</td>\n",
       "      <td>400</td>\n",
       "      <td>72</td>\n",
       "      <td>6</td>\n",
       "      <td>114</td>\n",
       "      <td>1</td>\n",
       "      <td>71</td>\n",
       "      <td>55</td>\n",
       "      <td>185</td>\n",
       "    </tr>\n",
       "    <tr>\n",
       "      <th>TA Boult</th>\n",
       "      <td>945</td>\n",
       "      <td>364</td>\n",
       "      <td>326</td>\n",
       "      <td>55</td>\n",
       "      <td>2</td>\n",
       "      <td>155</td>\n",
       "      <td>1</td>\n",
       "      <td>42</td>\n",
       "      <td>56</td>\n",
       "      <td>197</td>\n",
       "    </tr>\n",
       "    <tr>\n",
       "      <th>SN Thakur</th>\n",
       "      <td>927</td>\n",
       "      <td>322</td>\n",
       "      <td>351</td>\n",
       "      <td>70</td>\n",
       "      <td>8</td>\n",
       "      <td>127</td>\n",
       "      <td>1</td>\n",
       "      <td>48</td>\n",
       "      <td>49</td>\n",
       "      <td>175</td>\n",
       "    </tr>\n",
       "    <tr>\n",
       "      <th>UT Yadav</th>\n",
       "      <td>919</td>\n",
       "      <td>359</td>\n",
       "      <td>315</td>\n",
       "      <td>44</td>\n",
       "      <td>5</td>\n",
       "      <td>138</td>\n",
       "      <td>1</td>\n",
       "      <td>57</td>\n",
       "      <td>48</td>\n",
       "      <td>195</td>\n",
       "    </tr>\n",
       "    <tr>\n",
       "      <th>Mohammed Shami</th>\n",
       "      <td>914</td>\n",
       "      <td>326</td>\n",
       "      <td>332</td>\n",
       "      <td>59</td>\n",
       "      <td>2</td>\n",
       "      <td>139</td>\n",
       "      <td>5</td>\n",
       "      <td>51</td>\n",
       "      <td>55</td>\n",
       "      <td>190</td>\n",
       "    </tr>\n",
       "    <tr>\n",
       "      <th>JC Archer</th>\n",
       "      <td>858</td>\n",
       "      <td>377</td>\n",
       "      <td>302</td>\n",
       "      <td>48</td>\n",
       "      <td>3</td>\n",
       "      <td>83</td>\n",
       "      <td>1</td>\n",
       "      <td>44</td>\n",
       "      <td>47</td>\n",
       "      <td>127</td>\n",
       "    </tr>\n",
       "    <tr>\n",
       "      <th>K Rabada</th>\n",
       "      <td>840</td>\n",
       "      <td>304</td>\n",
       "      <td>316</td>\n",
       "      <td>65</td>\n",
       "      <td>4</td>\n",
       "      <td>113</td>\n",
       "      <td>2</td>\n",
       "      <td>36</td>\n",
       "      <td>66</td>\n",
       "      <td>149</td>\n",
       "    </tr>\n",
       "    <tr>\n",
       "      <th>Kuldeep Yadav</th>\n",
       "      <td>839</td>\n",
       "      <td>234</td>\n",
       "      <td>422</td>\n",
       "      <td>62</td>\n",
       "      <td>2</td>\n",
       "      <td>58</td>\n",
       "      <td>1</td>\n",
       "      <td>60</td>\n",
       "      <td>36</td>\n",
       "      <td>118</td>\n",
       "    </tr>\n",
       "    <tr>\n",
       "      <th>S Gopal</th>\n",
       "      <td>782</td>\n",
       "      <td>253</td>\n",
       "      <td>369</td>\n",
       "      <td>46</td>\n",
       "      <td>2</td>\n",
       "      <td>60</td>\n",
       "      <td>1</td>\n",
       "      <td>51</td>\n",
       "      <td>42</td>\n",
       "      <td>111</td>\n",
       "    </tr>\n",
       "    <tr>\n",
       "      <th>Mohammed Siraj</th>\n",
       "      <td>756</td>\n",
       "      <td>272</td>\n",
       "      <td>290</td>\n",
       "      <td>38</td>\n",
       "      <td>2</td>\n",
       "      <td>98</td>\n",
       "      <td>2</td>\n",
       "      <td>51</td>\n",
       "      <td>41</td>\n",
       "      <td>149</td>\n",
       "    </tr>\n",
       "    <tr>\n",
       "      <th>DJ Bravo</th>\n",
       "      <td>736</td>\n",
       "      <td>191</td>\n",
       "      <td>353</td>\n",
       "      <td>72</td>\n",
       "      <td>1</td>\n",
       "      <td>80</td>\n",
       "      <td>1</td>\n",
       "      <td>37</td>\n",
       "      <td>38</td>\n",
       "      <td>117</td>\n",
       "    </tr>\n",
       "    <tr>\n",
       "      <th>HH Pandya</th>\n",
       "      <td>701</td>\n",
       "      <td>229</td>\n",
       "      <td>300</td>\n",
       "      <td>38</td>\n",
       "      <td>1</td>\n",
       "      <td>85</td>\n",
       "      <td>1</td>\n",
       "      <td>46</td>\n",
       "      <td>41</td>\n",
       "      <td>131</td>\n",
       "    </tr>\n",
       "    <tr>\n",
       "      <th>Washington Sundar</th>\n",
       "      <td>660</td>\n",
       "      <td>240</td>\n",
       "      <td>306</td>\n",
       "      <td>34</td>\n",
       "      <td>1</td>\n",
       "      <td>46</td>\n",
       "      <td>1</td>\n",
       "      <td>32</td>\n",
       "      <td>26</td>\n",
       "      <td>78</td>\n",
       "    </tr>\n",
       "    <tr>\n",
       "      <th>AJ Tye</th>\n",
       "      <td>645</td>\n",
       "      <td>187</td>\n",
       "      <td>303</td>\n",
       "      <td>45</td>\n",
       "      <td>1</td>\n",
       "      <td>78</td>\n",
       "      <td>2</td>\n",
       "      <td>29</td>\n",
       "      <td>45</td>\n",
       "      <td>107</td>\n",
       "    </tr>\n",
       "    <tr>\n",
       "      <th>NA Saini</th>\n",
       "      <td>587</td>\n",
       "      <td>248</td>\n",
       "      <td>189</td>\n",
       "      <td>28</td>\n",
       "      <td>3</td>\n",
       "      <td>86</td>\n",
       "      <td>2</td>\n",
       "      <td>30</td>\n",
       "      <td>19</td>\n",
       "      <td>116</td>\n",
       "    </tr>\n",
       "    <tr>\n",
       "      <th>M Prasidh Krishna</th>\n",
       "      <td>540</td>\n",
       "      <td>182</td>\n",
       "      <td>201</td>\n",
       "      <td>33</td>\n",
       "      <td>2</td>\n",
       "      <td>97</td>\n",
       "      <td>1</td>\n",
       "      <td>24</td>\n",
       "      <td>20</td>\n",
       "      <td>121</td>\n",
       "    </tr>\n",
       "    <tr>\n",
       "      <th>Mujeeb Ur Rahman</th>\n",
       "      <td>426</td>\n",
       "      <td>138</td>\n",
       "      <td>184</td>\n",
       "      <td>37</td>\n",
       "      <td>5</td>\n",
       "      <td>38</td>\n",
       "      <td>1</td>\n",
       "      <td>23</td>\n",
       "      <td>18</td>\n",
       "      <td>61</td>\n",
       "    </tr>\n",
       "    <tr>\n",
       "      <th>I Sharma</th>\n",
       "      <td>419</td>\n",
       "      <td>149</td>\n",
       "      <td>158</td>\n",
       "      <td>25</td>\n",
       "      <td>5</td>\n",
       "      <td>67</td>\n",
       "      <td>1</td>\n",
       "      <td>14</td>\n",
       "      <td>14</td>\n",
       "      <td>81</td>\n",
       "    </tr>\n",
       "    <tr>\n",
       "      <th>S Nadeem</th>\n",
       "      <td>393</td>\n",
       "      <td>106</td>\n",
       "      <td>201</td>\n",
       "      <td>21</td>\n",
       "      <td>1</td>\n",
       "      <td>39</td>\n",
       "      <td>1</td>\n",
       "      <td>24</td>\n",
       "      <td>20</td>\n",
       "      <td>63</td>\n",
       "    </tr>\n",
       "    <tr>\n",
       "      <th>HV Patel</th>\n",
       "      <td>284</td>\n",
       "      <td>79</td>\n",
       "      <td>130</td>\n",
       "      <td>19</td>\n",
       "      <td>1</td>\n",
       "      <td>38</td>\n",
       "      <td>1</td>\n",
       "      <td>16</td>\n",
       "      <td>16</td>\n",
       "      <td>54</td>\n",
       "    </tr>\n",
       "    <tr>\n",
       "      <th>VR Aaron</th>\n",
       "      <td>257</td>\n",
       "      <td>95</td>\n",
       "      <td>79</td>\n",
       "      <td>23</td>\n",
       "      <td>1</td>\n",
       "      <td>43</td>\n",
       "      <td>2</td>\n",
       "      <td>14</td>\n",
       "      <td>11</td>\n",
       "      <td>57</td>\n",
       "    </tr>\n",
       "    <tr>\n",
       "      <th>Kartik Tyagi</th>\n",
       "      <td>241</td>\n",
       "      <td>78</td>\n",
       "      <td>97</td>\n",
       "      <td>15</td>\n",
       "      <td>2</td>\n",
       "      <td>27</td>\n",
       "      <td>1</td>\n",
       "      <td>21</td>\n",
       "      <td>10</td>\n",
       "      <td>48</td>\n",
       "    </tr>\n",
       "    <tr>\n",
       "      <th>BB Sran</th>\n",
       "      <td>184</td>\n",
       "      <td>56</td>\n",
       "      <td>67</td>\n",
       "      <td>13</td>\n",
       "      <td>3</td>\n",
       "      <td>30</td>\n",
       "      <td>1</td>\n",
       "      <td>14</td>\n",
       "      <td>6</td>\n",
       "      <td>44</td>\n",
       "    </tr>\n",
       "    <tr>\n",
       "      <th>KMA Paul</th>\n",
       "      <td>180</td>\n",
       "      <td>52</td>\n",
       "      <td>91</td>\n",
       "      <td>9</td>\n",
       "      <td>1</td>\n",
       "      <td>18</td>\n",
       "      <td>1</td>\n",
       "      <td>6</td>\n",
       "      <td>10</td>\n",
       "      <td>24</td>\n",
       "    </tr>\n",
       "  </tbody>\n",
       "</table>\n",
       "</div>"
      ],
      "text/plain": [
       "                   total_balls_bowled  dot_count  1_count  2_count  3_count  \\\n",
       "Rashid Khan                      1490        605      646       69        4   \n",
       "JJ Bumrah                        1448        571      563      111       10   \n",
       "YS Chahal                        1240        437      553       82        3   \n",
       "SP Narine                        1236        416      559       82        4   \n",
       "KH Pandya                        1089        342      540       76        1   \n",
       "B Kumar                          1065        440      372       79        4   \n",
       "RA Jadeja                        1026        315      488       79        4   \n",
       "DL Chahar                        1013        425      350       57        5   \n",
       "JD Unadkat                        969        305      400       72        6   \n",
       "TA Boult                          945        364      326       55        2   \n",
       "SN Thakur                         927        322      351       70        8   \n",
       "UT Yadav                          919        359      315       44        5   \n",
       "Mohammed Shami                    914        326      332       59        2   \n",
       "JC Archer                         858        377      302       48        3   \n",
       "K Rabada                          840        304      316       65        4   \n",
       "Kuldeep Yadav                     839        234      422       62        2   \n",
       "S Gopal                           782        253      369       46        2   \n",
       "Mohammed Siraj                    756        272      290       38        2   \n",
       "DJ Bravo                          736        191      353       72        1   \n",
       "HH Pandya                         701        229      300       38        1   \n",
       "Washington Sundar                 660        240      306       34        1   \n",
       "AJ Tye                            645        187      303       45        1   \n",
       "NA Saini                          587        248      189       28        3   \n",
       "M Prasidh Krishna                 540        182      201       33        2   \n",
       "Mujeeb Ur Rahman                  426        138      184       37        5   \n",
       "I Sharma                          419        149      158       25        5   \n",
       "S Nadeem                          393        106      201       21        1   \n",
       "HV Patel                          284         79      130       19        1   \n",
       "VR Aaron                          257         95       79       23        1   \n",
       "Kartik Tyagi                      241         78       97       15        2   \n",
       "BB Sran                           184         56       67       13        3   \n",
       "KMA Paul                          180         52       91        9        1   \n",
       "\n",
       "                   4_count  5_count  6_count  wicket_count  boundary_count  \n",
       "Rashid Khan            109        1       56            80             165  \n",
       "JJ Bumrah              146        4       43            89             189  \n",
       "YS Chahal               90        3       72            66             162  \n",
       "SP Narine              118        3       54            46             172  \n",
       "KH Pandya               91        1       38            42             129  \n",
       "B Kumar                127        1       42            57             169  \n",
       "RA Jadeja               85        1       54            38             139  \n",
       "DL Chahar              144        3       29            45             173  \n",
       "JD Unadkat             114        1       71            55             185  \n",
       "TA Boult               155        1       42            56             197  \n",
       "SN Thakur              127        1       48            49             175  \n",
       "UT Yadav               138        1       57            48             195  \n",
       "Mohammed Shami         139        5       51            55             190  \n",
       "JC Archer               83        1       44            47             127  \n",
       "K Rabada               113        2       36            66             149  \n",
       "Kuldeep Yadav           58        1       60            36             118  \n",
       "S Gopal                 60        1       51            42             111  \n",
       "Mohammed Siraj          98        2       51            41             149  \n",
       "DJ Bravo                80        1       37            38             117  \n",
       "HH Pandya               85        1       46            41             131  \n",
       "Washington Sundar       46        1       32            26              78  \n",
       "AJ Tye                  78        2       29            45             107  \n",
       "NA Saini                86        2       30            19             116  \n",
       "M Prasidh Krishna       97        1       24            20             121  \n",
       "Mujeeb Ur Rahman        38        1       23            18              61  \n",
       "I Sharma                67        1       14            14              81  \n",
       "S Nadeem                39        1       24            20              63  \n",
       "HV Patel                38        1       16            16              54  \n",
       "VR Aaron                43        2       14            11              57  \n",
       "Kartik Tyagi            27        1       21            10              48  \n",
       "BB Sran                 30        1       14             6              44  \n",
       "KMA Paul                18        1        6            10              24  "
      ]
     },
     "execution_count": 18,
     "metadata": {},
     "output_type": "execute_result"
    }
   ],
   "source": [
    "Bowling_Targets"
   ]
  },
  {
   "cell_type": "code",
   "execution_count": 19,
   "metadata": {},
   "outputs": [
    {
     "data": {
      "text/html": [
       "<div>\n",
       "<style scoped>\n",
       "    .dataframe tbody tr th:only-of-type {\n",
       "        vertical-align: middle;\n",
       "    }\n",
       "\n",
       "    .dataframe tbody tr th {\n",
       "        vertical-align: top;\n",
       "    }\n",
       "\n",
       "    .dataframe thead th {\n",
       "        text-align: right;\n",
       "    }\n",
       "</style>\n",
       "<table border=\"1\" class=\"dataframe\">\n",
       "  <thead>\n",
       "    <tr style=\"text-align: right;\">\n",
       "      <th></th>\n",
       "      <th>total_balls_faced</th>\n",
       "      <th>dot_count</th>\n",
       "      <th>1_count</th>\n",
       "      <th>2_count</th>\n",
       "      <th>3_count</th>\n",
       "      <th>4_count</th>\n",
       "      <th>5_count</th>\n",
       "      <th>6_count</th>\n",
       "      <th>wicket_count</th>\n",
       "      <th>boundary_count</th>\n",
       "    </tr>\n",
       "  </thead>\n",
       "  <tbody>\n",
       "    <tr>\n",
       "      <th>S Dhawan</th>\n",
       "      <td>1586</td>\n",
       "      <td>476</td>\n",
       "      <td>715</td>\n",
       "      <td>96</td>\n",
       "      <td>6</td>\n",
       "      <td>244</td>\n",
       "      <td>2</td>\n",
       "      <td>47</td>\n",
       "      <td>57</td>\n",
       "      <td>291</td>\n",
       "    </tr>\n",
       "    <tr>\n",
       "      <th>SS Iyer</th>\n",
       "      <td>1396</td>\n",
       "      <td>444</td>\n",
       "      <td>655</td>\n",
       "      <td>85</td>\n",
       "      <td>4</td>\n",
       "      <td>145</td>\n",
       "      <td>2</td>\n",
       "      <td>61</td>\n",
       "      <td>54</td>\n",
       "      <td>206</td>\n",
       "    </tr>\n",
       "    <tr>\n",
       "      <th>DA Warner</th>\n",
       "      <td>1380</td>\n",
       "      <td>410</td>\n",
       "      <td>575</td>\n",
       "      <td>147</td>\n",
       "      <td>9</td>\n",
       "      <td>174</td>\n",
       "      <td>4</td>\n",
       "      <td>60</td>\n",
       "      <td>36</td>\n",
       "      <td>234</td>\n",
       "    </tr>\n",
       "    <tr>\n",
       "      <th>RR Pant</th>\n",
       "      <td>1261</td>\n",
       "      <td>367</td>\n",
       "      <td>554</td>\n",
       "      <td>72</td>\n",
       "      <td>1</td>\n",
       "      <td>168</td>\n",
       "      <td>2</td>\n",
       "      <td>96</td>\n",
       "      <td>52</td>\n",
       "      <td>264</td>\n",
       "    </tr>\n",
       "    <tr>\n",
       "      <th>MK Pandey</th>\n",
       "      <td>1189</td>\n",
       "      <td>357</td>\n",
       "      <td>571</td>\n",
       "      <td>96</td>\n",
       "      <td>4</td>\n",
       "      <td>118</td>\n",
       "      <td>2</td>\n",
       "      <td>41</td>\n",
       "      <td>40</td>\n",
       "      <td>159</td>\n",
       "    </tr>\n",
       "    <tr>\n",
       "      <th>MS Dhoni</th>\n",
       "      <td>1074</td>\n",
       "      <td>352</td>\n",
       "      <td>478</td>\n",
       "      <td>85</td>\n",
       "      <td>5</td>\n",
       "      <td>77</td>\n",
       "      <td>1</td>\n",
       "      <td>74</td>\n",
       "      <td>34</td>\n",
       "      <td>151</td>\n",
       "    </tr>\n",
       "    <tr>\n",
       "      <th>KS Williamson</th>\n",
       "      <td>1067</td>\n",
       "      <td>304</td>\n",
       "      <td>494</td>\n",
       "      <td>85</td>\n",
       "      <td>6</td>\n",
       "      <td>124</td>\n",
       "      <td>1</td>\n",
       "      <td>53</td>\n",
       "      <td>34</td>\n",
       "      <td>177</td>\n",
       "    </tr>\n",
       "    <tr>\n",
       "      <th>AM Rahane</th>\n",
       "      <td>1051</td>\n",
       "      <td>353</td>\n",
       "      <td>465</td>\n",
       "      <td>72</td>\n",
       "      <td>3</td>\n",
       "      <td>132</td>\n",
       "      <td>1</td>\n",
       "      <td>25</td>\n",
       "      <td>49</td>\n",
       "      <td>157</td>\n",
       "    </tr>\n",
       "    <tr>\n",
       "      <th>AB de Villiers</th>\n",
       "      <td>1037</td>\n",
       "      <td>299</td>\n",
       "      <td>453</td>\n",
       "      <td>69</td>\n",
       "      <td>5</td>\n",
       "      <td>115</td>\n",
       "      <td>1</td>\n",
       "      <td>95</td>\n",
       "      <td>36</td>\n",
       "      <td>210</td>\n",
       "    </tr>\n",
       "    <tr>\n",
       "      <th>SR Watson</th>\n",
       "      <td>1023</td>\n",
       "      <td>422</td>\n",
       "      <td>365</td>\n",
       "      <td>38</td>\n",
       "      <td>1</td>\n",
       "      <td>125</td>\n",
       "      <td>3</td>\n",
       "      <td>69</td>\n",
       "      <td>47</td>\n",
       "      <td>194</td>\n",
       "    </tr>\n",
       "    <tr>\n",
       "      <th>N Rana</th>\n",
       "      <td>1015</td>\n",
       "      <td>373</td>\n",
       "      <td>409</td>\n",
       "      <td>43</td>\n",
       "      <td>4</td>\n",
       "      <td>121</td>\n",
       "      <td>1</td>\n",
       "      <td>64</td>\n",
       "      <td>50</td>\n",
       "      <td>185</td>\n",
       "    </tr>\n",
       "    <tr>\n",
       "      <th>JC Buttler</th>\n",
       "      <td>995</td>\n",
       "      <td>327</td>\n",
       "      <td>372</td>\n",
       "      <td>78</td>\n",
       "      <td>3</td>\n",
       "      <td>147</td>\n",
       "      <td>2</td>\n",
       "      <td>66</td>\n",
       "      <td>37</td>\n",
       "      <td>213</td>\n",
       "    </tr>\n",
       "    <tr>\n",
       "      <th>SK Raina</th>\n",
       "      <td>985</td>\n",
       "      <td>290</td>\n",
       "      <td>477</td>\n",
       "      <td>48</td>\n",
       "      <td>1</td>\n",
       "      <td>134</td>\n",
       "      <td>1</td>\n",
       "      <td>34</td>\n",
       "      <td>39</td>\n",
       "      <td>168</td>\n",
       "    </tr>\n",
       "    <tr>\n",
       "      <th>RV Uthappa</th>\n",
       "      <td>937</td>\n",
       "      <td>345</td>\n",
       "      <td>377</td>\n",
       "      <td>34</td>\n",
       "      <td>2</td>\n",
       "      <td>117</td>\n",
       "      <td>3</td>\n",
       "      <td>59</td>\n",
       "      <td>50</td>\n",
       "      <td>176</td>\n",
       "    </tr>\n",
       "    <tr>\n",
       "      <th>Q de Kock</th>\n",
       "      <td>933</td>\n",
       "      <td>338</td>\n",
       "      <td>361</td>\n",
       "      <td>62</td>\n",
       "      <td>3</td>\n",
       "      <td>113</td>\n",
       "      <td>1</td>\n",
       "      <td>55</td>\n",
       "      <td>35</td>\n",
       "      <td>168</td>\n",
       "    </tr>\n",
       "    <tr>\n",
       "      <th>KD Karthik</th>\n",
       "      <td>931</td>\n",
       "      <td>265</td>\n",
       "      <td>424</td>\n",
       "      <td>72</td>\n",
       "      <td>1</td>\n",
       "      <td>121</td>\n",
       "      <td>3</td>\n",
       "      <td>45</td>\n",
       "      <td>40</td>\n",
       "      <td>166</td>\n",
       "    </tr>\n",
       "    <tr>\n",
       "      <th>SPD Smith</th>\n",
       "      <td>930</td>\n",
       "      <td>284</td>\n",
       "      <td>448</td>\n",
       "      <td>68</td>\n",
       "      <td>4</td>\n",
       "      <td>99</td>\n",
       "      <td>2</td>\n",
       "      <td>25</td>\n",
       "      <td>34</td>\n",
       "      <td>124</td>\n",
       "    </tr>\n",
       "    <tr>\n",
       "      <th>F du Plessis</th>\n",
       "      <td>792</td>\n",
       "      <td>272</td>\n",
       "      <td>335</td>\n",
       "      <td>46</td>\n",
       "      <td>4</td>\n",
       "      <td>97</td>\n",
       "      <td>3</td>\n",
       "      <td>35</td>\n",
       "      <td>29</td>\n",
       "      <td>132</td>\n",
       "    </tr>\n",
       "    <tr>\n",
       "      <th>HH Pandya</th>\n",
       "      <td>763</td>\n",
       "      <td>213</td>\n",
       "      <td>338</td>\n",
       "      <td>44</td>\n",
       "      <td>5</td>\n",
       "      <td>74</td>\n",
       "      <td>4</td>\n",
       "      <td>85</td>\n",
       "      <td>35</td>\n",
       "      <td>159</td>\n",
       "    </tr>\n",
       "    <tr>\n",
       "      <th>RA Tripathi</th>\n",
       "      <td>756</td>\n",
       "      <td>261</td>\n",
       "      <td>304</td>\n",
       "      <td>55</td>\n",
       "      <td>2</td>\n",
       "      <td>96</td>\n",
       "      <td>1</td>\n",
       "      <td>37</td>\n",
       "      <td>37</td>\n",
       "      <td>133</td>\n",
       "    </tr>\n",
       "    <tr>\n",
       "      <th>KA Pollard</th>\n",
       "      <td>727</td>\n",
       "      <td>224</td>\n",
       "      <td>321</td>\n",
       "      <td>40</td>\n",
       "      <td>3</td>\n",
       "      <td>65</td>\n",
       "      <td>1</td>\n",
       "      <td>71</td>\n",
       "      <td>35</td>\n",
       "      <td>136</td>\n",
       "    </tr>\n",
       "    <tr>\n",
       "      <th>BA Stokes</th>\n",
       "      <td>700</td>\n",
       "      <td>214</td>\n",
       "      <td>312</td>\n",
       "      <td>60</td>\n",
       "      <td>2</td>\n",
       "      <td>79</td>\n",
       "      <td>1</td>\n",
       "      <td>32</td>\n",
       "      <td>38</td>\n",
       "      <td>111</td>\n",
       "    </tr>\n",
       "    <tr>\n",
       "      <th>MA Agarwal</th>\n",
       "      <td>647</td>\n",
       "      <td>188</td>\n",
       "      <td>288</td>\n",
       "      <td>49</td>\n",
       "      <td>3</td>\n",
       "      <td>84</td>\n",
       "      <td>1</td>\n",
       "      <td>34</td>\n",
       "      <td>34</td>\n",
       "      <td>118</td>\n",
       "    </tr>\n",
       "    <tr>\n",
       "      <th>WP Saha</th>\n",
       "      <td>516</td>\n",
       "      <td>160</td>\n",
       "      <td>232</td>\n",
       "      <td>31</td>\n",
       "      <td>2</td>\n",
       "      <td>75</td>\n",
       "      <td>1</td>\n",
       "      <td>15</td>\n",
       "      <td>25</td>\n",
       "      <td>90</td>\n",
       "    </tr>\n",
       "    <tr>\n",
       "      <th>SP Narine</th>\n",
       "      <td>515</td>\n",
       "      <td>205</td>\n",
       "      <td>132</td>\n",
       "      <td>19</td>\n",
       "      <td>4</td>\n",
       "      <td>103</td>\n",
       "      <td>2</td>\n",
       "      <td>50</td>\n",
       "      <td>44</td>\n",
       "      <td>153</td>\n",
       "    </tr>\n",
       "    <tr>\n",
       "      <th>KK Nair</th>\n",
       "      <td>474</td>\n",
       "      <td>172</td>\n",
       "      <td>190</td>\n",
       "      <td>25</td>\n",
       "      <td>2</td>\n",
       "      <td>65</td>\n",
       "      <td>1</td>\n",
       "      <td>19</td>\n",
       "      <td>29</td>\n",
       "      <td>84</td>\n",
       "    </tr>\n",
       "    <tr>\n",
       "      <th>AR Patel</th>\n",
       "      <td>422</td>\n",
       "      <td>115</td>\n",
       "      <td>217</td>\n",
       "      <td>32</td>\n",
       "      <td>1</td>\n",
       "      <td>30</td>\n",
       "      <td>1</td>\n",
       "      <td>26</td>\n",
       "      <td>30</td>\n",
       "      <td>56</td>\n",
       "    </tr>\n",
       "    <tr>\n",
       "      <th>GJ Maxwell</th>\n",
       "      <td>420</td>\n",
       "      <td>137</td>\n",
       "      <td>174</td>\n",
       "      <td>27</td>\n",
       "      <td>2</td>\n",
       "      <td>43</td>\n",
       "      <td>2</td>\n",
       "      <td>35</td>\n",
       "      <td>29</td>\n",
       "      <td>78</td>\n",
       "    </tr>\n",
       "    <tr>\n",
       "      <th>E Lewis</th>\n",
       "      <td>343</td>\n",
       "      <td>147</td>\n",
       "      <td>116</td>\n",
       "      <td>12</td>\n",
       "      <td>2</td>\n",
       "      <td>38</td>\n",
       "      <td>2</td>\n",
       "      <td>26</td>\n",
       "      <td>16</td>\n",
       "      <td>64</td>\n",
       "    </tr>\n",
       "    <tr>\n",
       "      <th>MK Tiwary</th>\n",
       "      <td>287</td>\n",
       "      <td>84</td>\n",
       "      <td>141</td>\n",
       "      <td>13</td>\n",
       "      <td>1</td>\n",
       "      <td>35</td>\n",
       "      <td>1</td>\n",
       "      <td>12</td>\n",
       "      <td>12</td>\n",
       "      <td>47</td>\n",
       "    </tr>\n",
       "    <tr>\n",
       "      <th>M Vohra</th>\n",
       "      <td>220</td>\n",
       "      <td>77</td>\n",
       "      <td>85</td>\n",
       "      <td>16</td>\n",
       "      <td>3</td>\n",
       "      <td>25</td>\n",
       "      <td>1</td>\n",
       "      <td>13</td>\n",
       "      <td>13</td>\n",
       "      <td>38</td>\n",
       "    </tr>\n",
       "    <tr>\n",
       "      <th>SN Khan</th>\n",
       "      <td>218</td>\n",
       "      <td>73</td>\n",
       "      <td>100</td>\n",
       "      <td>8</td>\n",
       "      <td>1</td>\n",
       "      <td>30</td>\n",
       "      <td>1</td>\n",
       "      <td>5</td>\n",
       "      <td>12</td>\n",
       "      <td>35</td>\n",
       "    </tr>\n",
       "    <tr>\n",
       "      <th>Shakib Al Hasan</th>\n",
       "      <td>215</td>\n",
       "      <td>74</td>\n",
       "      <td>96</td>\n",
       "      <td>13</td>\n",
       "      <td>1</td>\n",
       "      <td>25</td>\n",
       "      <td>1</td>\n",
       "      <td>5</td>\n",
       "      <td>10</td>\n",
       "      <td>30</td>\n",
       "    </tr>\n",
       "    <tr>\n",
       "      <th>RD Gaikwad</th>\n",
       "      <td>173</td>\n",
       "      <td>56</td>\n",
       "      <td>79</td>\n",
       "      <td>12</td>\n",
       "      <td>1</td>\n",
       "      <td>17</td>\n",
       "      <td>2</td>\n",
       "      <td>6</td>\n",
       "      <td>3</td>\n",
       "      <td>23</td>\n",
       "    </tr>\n",
       "    <tr>\n",
       "      <th>PK Garg</th>\n",
       "      <td>116</td>\n",
       "      <td>38</td>\n",
       "      <td>50</td>\n",
       "      <td>14</td>\n",
       "      <td>1</td>\n",
       "      <td>8</td>\n",
       "      <td>1</td>\n",
       "      <td>4</td>\n",
       "      <td>9</td>\n",
       "      <td>12</td>\n",
       "    </tr>\n",
       "  </tbody>\n",
       "</table>\n",
       "</div>"
      ],
      "text/plain": [
       "                 total_balls_faced  dot_count  1_count  2_count  3_count  \\\n",
       "S Dhawan                      1586        476      715       96        6   \n",
       "SS Iyer                       1396        444      655       85        4   \n",
       "DA Warner                     1380        410      575      147        9   \n",
       "RR Pant                       1261        367      554       72        1   \n",
       "MK Pandey                     1189        357      571       96        4   \n",
       "MS Dhoni                      1074        352      478       85        5   \n",
       "KS Williamson                 1067        304      494       85        6   \n",
       "AM Rahane                     1051        353      465       72        3   \n",
       "AB de Villiers                1037        299      453       69        5   \n",
       "SR Watson                     1023        422      365       38        1   \n",
       "N Rana                        1015        373      409       43        4   \n",
       "JC Buttler                     995        327      372       78        3   \n",
       "SK Raina                       985        290      477       48        1   \n",
       "RV Uthappa                     937        345      377       34        2   \n",
       "Q de Kock                      933        338      361       62        3   \n",
       "KD Karthik                     931        265      424       72        1   \n",
       "SPD Smith                      930        284      448       68        4   \n",
       "F du Plessis                   792        272      335       46        4   \n",
       "HH Pandya                      763        213      338       44        5   \n",
       "RA Tripathi                    756        261      304       55        2   \n",
       "KA Pollard                     727        224      321       40        3   \n",
       "BA Stokes                      700        214      312       60        2   \n",
       "MA Agarwal                     647        188      288       49        3   \n",
       "WP Saha                        516        160      232       31        2   \n",
       "SP Narine                      515        205      132       19        4   \n",
       "KK Nair                        474        172      190       25        2   \n",
       "AR Patel                       422        115      217       32        1   \n",
       "GJ Maxwell                     420        137      174       27        2   \n",
       "E Lewis                        343        147      116       12        2   \n",
       "MK Tiwary                      287         84      141       13        1   \n",
       "M Vohra                        220         77       85       16        3   \n",
       "SN Khan                        218         73      100        8        1   \n",
       "Shakib Al Hasan                215         74       96       13        1   \n",
       "RD Gaikwad                     173         56       79       12        1   \n",
       "PK Garg                        116         38       50       14        1   \n",
       "\n",
       "                 4_count  5_count  6_count  wicket_count  boundary_count  \n",
       "S Dhawan             244        2       47            57             291  \n",
       "SS Iyer              145        2       61            54             206  \n",
       "DA Warner            174        4       60            36             234  \n",
       "RR Pant              168        2       96            52             264  \n",
       "MK Pandey            118        2       41            40             159  \n",
       "MS Dhoni              77        1       74            34             151  \n",
       "KS Williamson        124        1       53            34             177  \n",
       "AM Rahane            132        1       25            49             157  \n",
       "AB de Villiers       115        1       95            36             210  \n",
       "SR Watson            125        3       69            47             194  \n",
       "N Rana               121        1       64            50             185  \n",
       "JC Buttler           147        2       66            37             213  \n",
       "SK Raina             134        1       34            39             168  \n",
       "RV Uthappa           117        3       59            50             176  \n",
       "Q de Kock            113        1       55            35             168  \n",
       "KD Karthik           121        3       45            40             166  \n",
       "SPD Smith             99        2       25            34             124  \n",
       "F du Plessis          97        3       35            29             132  \n",
       "HH Pandya             74        4       85            35             159  \n",
       "RA Tripathi           96        1       37            37             133  \n",
       "KA Pollard            65        1       71            35             136  \n",
       "BA Stokes             79        1       32            38             111  \n",
       "MA Agarwal            84        1       34            34             118  \n",
       "WP Saha               75        1       15            25              90  \n",
       "SP Narine            103        2       50            44             153  \n",
       "KK Nair               65        1       19            29              84  \n",
       "AR Patel              30        1       26            30              56  \n",
       "GJ Maxwell            43        2       35            29              78  \n",
       "E Lewis               38        2       26            16              64  \n",
       "MK Tiwary             35        1       12            12              47  \n",
       "M Vohra               25        1       13            13              38  \n",
       "SN Khan               30        1        5            12              35  \n",
       "Shakib Al Hasan       25        1        5            10              30  \n",
       "RD Gaikwad            17        2        6             3              23  \n",
       "PK Garg                8        1        4             9              12  "
      ]
     },
     "execution_count": 19,
     "metadata": {},
     "output_type": "execute_result"
    }
   ],
   "source": [
    "Batting_Targets"
   ]
  },
  {
   "cell_type": "code",
   "execution_count": 20,
   "metadata": {},
   "outputs": [
    {
     "data": {
      "image/png": "[encoded data removed]",
      "text/plain": [
       "<Figure size 2000x1000 with 1 Axes>"
      ]
     },
     "metadata": {},
     "output_type": "display_data"
    }
   ],
   "source": [
    "# build a plot which plots the ratio of dot_count to 1_count on the x axis and the ratio of boundary_count to wicket_count on the y axis\n",
    "# add the name of the bowler as the label for each point\n",
    "\n",
    "plt.figure(figsize=(20,10))\n",
    "plt.scatter(Bowling_Targets['dot_count']/Bowling_Targets['1_count'], Bowling_Targets['boundary_count']/Bowling_Targets['wicket_count'])\n",
    "plt.xlabel('Dot to Single Ratio')\n",
    "plt.ylabel('Boundary to Wicket Ratio')\n",
    "plt.title('Bowling Targets')\n",
    "plt.show()\n",
    "\n",
    "\n"
   ]
  },
  {
   "cell_type": "code",
   "execution_count": 21,
   "metadata": {},
   "outputs": [
    {
     "data": {
      "image/png": "[encoded data removed]",
      "text/plain": [
       "<Figure size 2000x1000 with 1 Axes>"
      ]
     },
     "metadata": {},
     "output_type": "display_data"
    }
   ],
   "source": [
    "# build a plot which plots the ratio of dot_count to 1_count on the x axis and the ratio of boundary_count to wicket_count on the y axis for the Batting_Targets\n",
    "\n",
    "plt.figure(figsize=(20,10))\n",
    "plt.scatter(Batting_Targets['dot_count']/Batting_Targets['1_count'], Batting_Targets['boundary_count']/Batting_Targets['wicket_count'])\n",
    "plt.xlabel('Dot to Single Ratio')\n",
    "plt.ylabel('Boundary to Wicket Ratio')\n",
    "plt.title('Batting Targets')\n",
    "plt.show()\n"
   ]
  },
  {
   "cell_type": "code",
   "execution_count": 22,
   "metadata": {},
   "outputs": [],
   "source": [
    "def run_by_overs(df):\n",
    "  \n",
    "  df1 = df[df['batsman_runs']==1]\n",
    "  df2 = df[df['batsman_runs']==2]\n",
    "  df3 = df[df['batsman_runs']==3]\n",
    "  df4 = df[df['batsman_runs']==4]\n",
    "  df5 = df[df['batsman_runs']==5]\n",
    "  df6 = df[df['batsman_runs']==6]\n",
    "\n",
    "  answer = []\n",
    "\n",
    "  r1 = over_count(df1,1)\n",
    "  answer.append([1,r1])\n",
    "  r2 = over_count(df2,2)\n",
    "  answer.append([2,r2])\n",
    "  r3 = over_count(df3,3)\n",
    "  answer.append([3,r3])\n",
    "  r4 = over_count(df4,4)\n",
    "  answer.append([4,r4])\n",
    "  r5 = over_count(df5,5)\n",
    "  answer.append([5,r5])\n",
    "  r6 = over_count(df6,6)\n",
    "  answer.append([6,r6])\n",
    "\n",
    "  \n",
    "\n",
    "\n",
    "  return answer\n",
    "\n",
    "def over_count(df,run):\n",
    "\n",
    "  counters = []\n",
    "  pp    = len(df[df['over']<=6])*run\n",
    "  mid = len(df[(df['over']>6) & (df['over']<=11)])*run\n",
    "  drink = len(df[(df['over']>11) & (df['over']<=16)])*run\n",
    "  end   = len(df[df['over']>=16])*run\n",
    "\n",
    "  counters.append(pp)\n",
    "  counters.append(mid)\n",
    "  counters.append(drink)\n",
    "  counters.append(end)\n",
    "\n",
    "\n",
    "  return counters\n",
    "\n",
    "\n",
    "def runs_by_segment(df):\n",
    "    # initialize a dictionary to store the counts\n",
    "    counts = {1: [0, 0, 0, 0], 2: [0, 0, 0, 0], 3: [0, 0, 0, 0], 4: [0, 0, 0, 0], 5: [0, 0, 0, 0], 6: [0, 0, 0, 0]}\n",
    "\n",
    "    # loop through all the runs from 1 to 6\n",
    "    for run in range(1, 7):\n",
    "        # filter the DataFrame for the current run\n",
    "        df_run = df[df['batsman_runs'] == run]\n",
    "        \n",
    "        # count the instances of the current run in the pp segment\n",
    "        counts[run][0] = len(df_run[df_run['over'] <= 6])\n",
    "        \n",
    "        # count the instances of the current run in the mid segment\n",
    "        counts[run][1] = len(df_run[(df_run['over'] > 6) & (df_run['over'] <= 11)])\n",
    "        \n",
    "        # count the instances of the current run in the drink segment\n",
    "        counts[run][2] = len(df_run[(df_run['over'] > 11) & (df_run['over'] <= 16)])\n",
    "        \n",
    "        # count the instances of the current run in the end segment\n",
    "        counts[run][3] = len(df_run[df_run['over'] >= 16])\n",
    "    \n",
    "    return counts\n",
    "\n",
    "def runs_by_segment2(df):\n",
    "    # initialize a dictionary to store the counts\n",
    "    counts = {'pp': [0, 0, 0, 0, 0, 0], 'mid': [0, 0, 0, 0, 0, 0], 'drink': [0, 0, 0, 0, 0,0], 'end': [0, 0, 0, 0,0,0]}\n",
    "\n",
    "    # loop through all the runs from 1 to 6\n",
    "    for run in range(1, 7):\n",
    "        # filter the DataFrame for the current run\n",
    "        df_run = df[df['batsman_runs'] == run]\n",
    "        \n",
    "        # count the instances of the current run in the pp segment\n",
    "        counts['pp'][run-1] = len(df_run[df_run['over'] <= 6])\n",
    "        \n",
    "        # count the instances of the current run in the mid segment\n",
    "        counts['mid'][run-1] = len(df_run[(df_run['over'] > 6) & (df_run['over'] <= 11)])\n",
    "        \n",
    "        # count the instances of the current run in the drink segment\n",
    "        counts['drink'][run-1] = len(df_run[(df_run['over'] > 11) & (df_run['over'] <= 16)])\n",
    "        \n",
    "        # count the instances of the current run in the end segment\n",
    "        counts['end'][run-1] = len(df_run[df_run['over'] >= 16])\n",
    "    \n",
    "    return counts\n",
    "\n",
    "def striker_segment_count(df):\n",
    "    # create an empty dictionary to store the counts\n",
    "    counts = {}\n",
    "\n",
    "    # get a list of unique players\n",
    "    players = df['batsman'].unique()\n",
    "    \n",
    "    # loop through the list of players\n",
    "    for player in players:\n",
    "        # filter the DataFrame for the current player\n",
    "        df_player = df[df['batsman'] == player]\n",
    "        \n",
    "        # initialize an empty dictionary to store the counts for each segment\n",
    "        segment_counts = {'pp': 0, 'mid': 0, 'drink': 0, 'end': 0}\n",
    "        \n",
    "        # count the instances of the player playing as striker in the Powerplay segment\n",
    "        segment_counts['pp'] = len(df_player[(df_player['over'] <= 6)])\n",
    "        \n",
    "        # count the instances of the player playing as striker in the Mid segment\n",
    "        segment_counts['mid'] = len(df_player[(df_player['over'] > 6) & (df_player['over'] <= 11)])\n",
    "        \n",
    "        # count the instances of the player playing as striker in the Drink segment\n",
    "        segment_counts['drink'] = len(df_player[(df_player['over'] > 11) & (df_player['over'] <= 16)])\n",
    "        \n",
    "        # count the instances of the player playing as striker in the End segment\n",
    "        segment_counts['end'] = len(df_player[df_player['over'] > 16])\n",
    "        \n",
    "        # add the player and their counts to the dictionary\n",
    "        counts[player] = segment_counts\n",
    "    \n",
    "    return counts\n",
    "\n",
    "def bowler_segment_count(df):\n",
    "    # create an empty dictionary to store the counts\n",
    "    counts = {}\n",
    "\n",
    "    # get a list of unique players\n",
    "    players = df['bowler'].unique()\n",
    "    \n",
    "    # loop through the list of players\n",
    "    for player in players:\n",
    "        # filter the DataFrame for the current player\n",
    "        df_player = df[df['bowler'] == player]\n",
    "        \n",
    "        # initialize an empty dictionary to store the counts for each segment\n",
    "        segment_counts = {'pp': 0, 'mid': 0, 'drink': 0, 'end': 0}\n",
    "        \n",
    "        # count the instances of the player playing as striker in the Powerplay segment\n",
    "        segment_counts['pp'] = len(df_player[(df_player['over'] <= 6)])\n",
    "        \n",
    "        # count the instances of the player playing as striker in the Mid segment\n",
    "        segment_counts['mid'] = len(df_player[(df_player['over'] > 6) & (df_player['over'] <= 11)])\n",
    "        \n",
    "        # count the instances of the player playing as striker in the Drink segment\n",
    "        segment_counts['drink'] = len(df_player[(df_player['over'] > 11) & (df_player['over'] <= 16)])\n",
    "        \n",
    "        # count the instances of the player playing as striker in the End segment\n",
    "        segment_counts['end'] = len(df_player[df_player['over'] > 16])\n",
    "        \n",
    "        # add the player and their counts to the dictionary\n",
    "        counts[player] = segment_counts\n",
    "    \n",
    "    return counts\n",
    "\n",
    "\n",
    "\n",
    "def NONstriker_segment_count(df):\n",
    "    # create an empty dictionary to store the counts\n",
    "    counts = {}\n",
    "\n",
    "    # get a list of unique players\n",
    "    players = df['non_striker'].unique()\n",
    "    \n",
    "    # loop through the list of players\n",
    "    for player in players:\n",
    "        # filter the DataFrame for the current player\n",
    "        df_player = df[df['non_striker'] == player]\n",
    "        \n",
    "        # initialize an empty dictionary to store the counts for each segment\n",
    "        segment_counts = {'pp': 0, 'mid': 0, 'drink': 0, 'end': 0}\n",
    "        \n",
    "        # count the instances of the player playing as striker in the Powerplay segment\n",
    "        segment_counts['pp'] = len(df_player[(df_player['over'] <= 6)])\n",
    "        \n",
    "        # count the instances of the player playing as striker in the Mid segment\n",
    "        segment_counts['mid'] = len(df_player[(df_player['over'] > 6) & (df_player['over'] <= 11)])\n",
    "        \n",
    "        # count the instances of the player playing as striker in the Drink segment\n",
    "        segment_counts['drink'] = len(df_player[(df_player['over'] > 11) & (df_player['over'] <= 16)])\n",
    "        \n",
    "        # count the instances of the player playing as striker in the End segment\n",
    "        segment_counts['end'] = len(df_player[df_player['over'] > 16])\n",
    "        \n",
    "        # add the player and their counts to the dictionary\n",
    "        counts[player] = segment_counts\n",
    "    \n",
    "    return counts\n"
   ]
  },
  {
   "cell_type": "code",
   "execution_count": 23,
   "metadata": {},
   "outputs": [],
   "source": [
    "def plot_runs_by_segment(df):\n",
    "    counts = runs_by_segment2(df)\n",
    "    labels = list(counts.keys())\n",
    "    run1 = []\n",
    "    run2 = []\n",
    "    run3 = []\n",
    "    run4 = []\n",
    "    run5 = []\n",
    "    run6 = []\n",
    "\n",
    "\n",
    "\n",
    "\n",
    "\n",
    "\n",
    "    for segments in counts:\n",
    "        run1.append(counts[segments][0])\n",
    "        run2.append(counts[segments][1])\n",
    "        run3.append(counts[segments][2])\n",
    "        run4.append(counts[segments][3])\n",
    "        run5.append(counts[segments][4])\n",
    "        run6.append(counts[segments][5])\n",
    "    \n",
    "    run1Values = []\n",
    "    run2Values = []\n",
    "    run3Values = []\n",
    "    run4Values = []\n",
    "    run5Values = []\n",
    "    run6Values = []\n",
    "\n",
    "\n",
    "    for segments in counts:\n",
    "        run1Values.append((counts[segments][0])*1)\n",
    "        run2Values.append((counts[segments][1])*2)\n",
    "        run3Values.append((counts[segments][2])*3)\n",
    "        run4Values.append((counts[segments][3])*4)\n",
    "        run5Values.append((counts[segments][4])*5)\n",
    "        run6Values.append((counts[segments][5])*6)\n",
    "\n",
    "\n",
    "    \n",
    "\n",
    "\n",
    "        \n",
    "\n",
    "    width = 0.35\n",
    "    fig, ax = plt.subplots(1,2,figsize=(10,5))\n",
    "    ax[0].bar(labels, run1, width,bottom= 1,  label='1')\n",
    "    ax[0].bar(labels, run2, width,bottom = 2, label='2')\n",
    "    ax[0].bar(labels, run3, width,bottom = 3,  label='3')\n",
    "    ax[0].bar(labels, run4, width, bottom = 4,label='4')\n",
    "    ax[0].bar(labels, run5, width, bottom = 5,label='5')\n",
    "    ax[0].bar(labels, run6, width, bottom = 6,label='6')\n",
    "\n",
    "    # show the size of the bar on the graph itself\n",
    "    '''\n",
    "\n",
    "    for i in range(len(run1)):\n",
    "        ax[0].text(x = i-0.1 , y = run1[i]+0.5, s = run1[i], size = 10)\n",
    "        ax[0].text(x = i-0.1 , y = run2[i]+1.5, s = run2[i], size = 10)\n",
    "        ax[0].text(x = i-0.1 , y = run3[i]+2.5, s = run3[i], size = 10)\n",
    "        ax[0].text(x = i-0.1 , y = run4[i]+3.5, s = run4[i], size = 10)\n",
    "        ax[0].text(x = i-0.1 , y = run5[i]+4.5, s = run5[i], size = 10)\n",
    "        ax[0].text(x = i-0.1 , y = run6[i]+5.5, s = run6[i], size = 10)\n",
    "    \n",
    "    '''\n",
    "\n",
    "    \n",
    "\n",
    "\n",
    "\n",
    "\n",
    "\n",
    "    ax[0].set_ylabel('Runs')\n",
    "    ax[0].set_xlabel('Runs')\n",
    "    ax[0].set_title('Runs(Instance/Count) by Over')\n",
    "    ax[0].legend()\n",
    "\n",
    "    ax[1].bar(labels, run1Values, width,bottom = run1Values,   label='1')\n",
    "    ax[1].bar(labels, run2Values, width,bottom = run2Values, label='2')\n",
    "    ax[1].bar(labels, run3Values, width,bottom = run3Values,  label='3')\n",
    "    ax[1].bar(labels, run4Values, width, bottom = run4Values,label='4')\n",
    "    ax[1].bar(labels, run5Values, width, bottom = run5Values,label='5')\n",
    "    ax[1].bar(labels, run6Values, width, bottom = run6Values,label='6')\n",
    "\n",
    "    # show the size of the bar on the graph itself\n",
    "    '''\n",
    "    for i in range(len(run1)):\n",
    "        ax[1].text(x = i-0.1 , y = run1Values[i]+0.5, s = run1Values[i], size = 10)\n",
    "        ax[1].text(x = i-0.1 , y = run2Values[i]+1.5, s = run2Values[i], size = 10)\n",
    "        ax[1].text(x = i-0.1 , y = run3Values[i]+2.5, s = run3Values[i], size = 10)\n",
    "        ax[1].text(x = i-0.1 , y = run4Values[i]+3.5, s = run4Values[i], size = 10)\n",
    "        ax[1].text(x = i-0.1 , y = run5Values[i]+4.5, s = run5Values[i], size = 10)\n",
    "        ax[1].text(x = i-0.1 , y = run6Values[i]+5.5, s = run6Values[i], size = 10)\n",
    "    '''\n",
    "\n",
    "    ax[1].set_ylabel('Runs')\n",
    "    ax[1].set_xlabel('Runs')\n",
    "    ax[1].set_title('Runs Value by Over')\n",
    "    ax[1].legend()\n",
    "\n",
    "\n",
    "\n",
    "\n",
    "    \n",
    "\n",
    "\n",
    "\n",
    "    \n",
    "\n",
    "    plt.show()\n",
    "\n",
    "\n"
   ]
  },
  {
   "cell_type": "code",
   "execution_count": 24,
   "metadata": {},
   "outputs": [],
   "source": [
    "colors = ['turquoise', 'crimson']\n",
    "def count_bowl(df,runs):\n",
    "    return len(df[df['batsman_runs']==runs])*runs\n",
    "\n",
    "# make a function which calcultes the runs based on the over number \n",
    "\n",
    "def runs_over(over):\n",
    "    filt=(df_18['over']==over)\n",
    "    df_over=df_18[filt]\n",
    "    return df_over['total_runs'].sum()\n",
    "\n",
    "\n",
    "\n",
    "def Bowler_Analysis(Bowler):\n",
    "  filt=(df_18['bowler']==Bowler)\n",
    "  df_bowl=df_18[filt]\n",
    "\n",
    "  print(\"Dot Balls :\",len(df_bowl[df_bowl['total_runs']==0]))\n",
    "  print(\"Runs given from 1's :\",count_bowl(df_bowl,1))\n",
    "  print(\"Runs given from 2's :\",count_bowl(df_bowl,2))\n",
    "  print(\"Runs given from 3's :\",count_bowl(df_bowl,3))\n",
    "  print(\"Runs given from 4's :\",count_bowl(df_bowl,4))\n",
    "  print(\"Runs given from 6's :\",count_bowl(df_bowl,6))\n",
    "  print(\"Extras :\",len(df_bowl[df_bowl['extra_runs']==1]))\n",
    "  print(\"Wickets :\",len(df_bowl[df_bowl['is_wicket']==1]))\n",
    "\n",
    "  runs_total = df_bowl['total_runs'].sum()\n",
    "  balls_total = len(df_bowl['batsman_runs'])\n",
    "  \n",
    "  print(\" Runs Given per Ball :\", round((runs_total/balls_total),2))\n",
    "\n",
    "  # make plot neater and beautiful\n",
    "\n",
    "\n",
    "  values = df_bowl['dismissal_kind'].value_counts()\n",
    "  labels=df_bowl['dismissal_kind'].value_counts().index\n",
    "  fig = go.Figure(data=[go.Pie(labels=labels,values=values,hole=.3)])\n",
    "  fig.update_traces(hoverinfo='label+percent', textinfo='label', textfont_size=20,\n",
    "                  marker=dict(colors=colors, line=dict(color='#000000', width=3)))\n",
    "  fig.update_layout(title=\"Wicket Type\",\n",
    "                  titlefont={'size': 30},\n",
    "                  )\n",
    "  fig.show()\n",
    "\n",
    "  plot_runs_by_segment(df_bowl)\n",
    "\n",
    "  play_count = bowler_segment_count(df_bowl)\n",
    "  label2 = list(play_count.keys())\n",
    "  pp = []\n",
    "  mid = []\n",
    "  drink = []\n",
    "  end = []\n",
    "  for player in play_count:\n",
    "       pp.append(play_count[player]['pp'])\n",
    "       mid.append(play_count[player]['mid'])\n",
    "       drink.append(play_count[player]['drink'])\n",
    "       end.append(play_count[player]['end'])\n",
    "  \n",
    "  width = 0.35\n",
    "  fig, ax = plt.subplots(figsize=(10,5))\n",
    "  ax.bar(label2, pp, width, label='Powerplay')\n",
    "  ax.bar(label2, mid, width, label='Middle')\n",
    "  ax.bar(label2, drink, width, label='Drinks')\n",
    "  ax.bar(label2, end, width, label='End')\n",
    "  \n",
    "  ax.set_ylabel('Bowling Segment')\n",
    "  ax.set_xlabel('Bowler')\n",
    "  ax.set_title('Over Bowled in Segment by Bowler')\n",
    "  ax.legend()\n",
    "\n",
    "  #calculate the extra runs given by the bowler in each segment\n",
    "\n",
    "  \n",
    "  "
   ]
  },
  {
   "cell_type": "code",
   "execution_count": 25,
   "metadata": {},
   "outputs": [
    {
     "data": {
      "application/vnd.plotly.v1+json": {
       "config": {
        "plotlyServerURL": "https://plot.ly"
       },
       "data": [
        {
         "hole": 0.3,
         "hoverinfo": "label+percent",
         "labels": [
          "caught",
          "bowled",
          "lbw",
          "run out",
          "stumped",
          "caught and bowled"
         ],
         "marker": {
          "colors": [
           "turquoise",
           "crimson"
          ],
          "line": {
           "color": "#000000",
           "width": 3
          }
         },
         "textfont": {
          "size": 20
         },
         "textinfo": "label",
         "type": "pie",
         "values": [
          31,
          22,
          18,
          5,
          3,
          1
         ]
        }
       ],
       "layout": {
        "template": {
         "data": {
          "bar": [
           {
            "error_x": {
             "color": "#2a3f5f"
            },
            "error_y": {
             "color": "#2a3f5f"
            },
            "marker": {
             "line": {
              "color": "#E5ECF6",
              "width": 0.5
             },
             "pattern": {
              "fillmode": "overlay",
              "size": 10,
              "solidity": 0.2
             }
            },
            "type": "bar"
           }
          ],
          "barpolar": [
           {
            "marker": {
             "line": {
              "color": "#E5ECF6",
              "width": 0.5
             },
             "pattern": {
              "fillmode": "overlay",
              "size": 10,
              "solidity": 0.2
             }
            },
            "type": "barpolar"
           }
          ],
          "carpet": [
           {
            "aaxis": {
             "endlinecolor": "#2a3f5f",
             "gridcolor": "white",
             "linecolor": "white",
             "minorgridcolor": "white",
             "startlinecolor": "#2a3f5f"
            },
            "baxis": {
             "endlinecolor": "#2a3f5f",
             "gridcolor": "white",
             "linecolor": "white",
             "minorgridcolor": "white",
             "startlinecolor": "#2a3f5f"
            },
            "type": "carpet"
           }
          ],
          "choropleth": [
           {
            "colorbar": {
             "outlinewidth": 0,
             "ticks": ""
            },
            "type": "choropleth"
           }
          ],
          "contour": [
           {
            "colorbar": {
             "outlinewidth": 0,
             "ticks": ""
            },
            "colorscale": [
             [
              0,
              "#0d0887"
             ],
             [
              0.1111111111111111,
              "#46039f"
             ],
             [
              0.2222222222222222,
              "#7201a8"
             ],
             [
              0.3333333333333333,
              "#9c179e"
             ],
             [
              0.4444444444444444,
              "#bd3786"
             ],
             [
              0.5555555555555556,
              "#d8576b"
             ],
             [
              0.6666666666666666,
              "#ed7953"
             ],
             [
              0.7777777777777778,
              "#fb9f3a"
             ],
             [
              0.8888888888888888,
              "#fdca26"
             ],
             [
              1,
              "#f0f921"
             ]
            ],
            "type": "contour"
           }
          ],
          "contourcarpet": [
           {
            "colorbar": {
             "outlinewidth": 0,
             "ticks": ""
            },
            "type": "contourcarpet"
           }
          ],
          "heatmap": [
           {
            "colorbar": {
             "outlinewidth": 0,
             "ticks": ""
            },
            "colorscale": [
             [
              0,
              "#0d0887"
             ],
             [
              0.1111111111111111,
              "#46039f"
             ],
             [
              0.2222222222222222,
              "#7201a8"
             ],
             [
              0.3333333333333333,
              "#9c179e"
             ],
             [
              0.4444444444444444,
              "#bd3786"
             ],
             [
              0.5555555555555556,
              "#d8576b"
             ],
             [
              0.6666666666666666,
              "#ed7953"
             ],
             [
              0.7777777777777778,
              "#fb9f3a"
             ],
             [
              0.8888888888888888,
              "#fdca26"
             ],
             [
              1,
              "#f0f921"
             ]
            ],
            "type": "heatmap"
           }
          ],
          "heatmapgl": [
           {
            "colorbar": {
             "outlinewidth": 0,
             "ticks": ""
            },
            "colorscale": [
             [
              0,
              "#0d0887"
             ],
             [
              0.1111111111111111,
              "#46039f"
             ],
             [
              0.2222222222222222,
              "#7201a8"
             ],
             [
              0.3333333333333333,
              "#9c179e"
             ],
             [
              0.4444444444444444,
              "#bd3786"
             ],
             [
              0.5555555555555556,
              "#d8576b"
             ],
             [
              0.6666666666666666,
              "#ed7953"
             ],
             [
              0.7777777777777778,
              "#fb9f3a"
             ],
             [
              0.8888888888888888,
              "#fdca26"
             ],
             [
              1,
              "#f0f921"
             ]
            ],
            "type": "heatmapgl"
           }
          ],
          "histogram": [
           {
            "marker": {
             "pattern": {
              "fillmode": "overlay",
              "size": 10,
              "solidity": 0.2
             }
            },
            "type": "histogram"
           }
          ],
          "histogram2d": [
           {
            "colorbar": {
             "outlinewidth": 0,
             "ticks": ""
            },
            "colorscale": [
             [
              0,
              "#0d0887"
             ],
             [
              0.1111111111111111,
              "#46039f"
             ],
             [
              0.2222222222222222,
              "#7201a8"
             ],
             [
              0.3333333333333333,
              "#9c179e"
             ],
             [
              0.4444444444444444,
              "#bd3786"
             ],
             [
              0.5555555555555556,
              "#d8576b"
             ],
             [
              0.6666666666666666,
              "#ed7953"
             ],
             [
              0.7777777777777778,
              "#fb9f3a"
             ],
             [
              0.8888888888888888,
              "#fdca26"
             ],
             [
              1,
              "#f0f921"
             ]
            ],
            "type": "histogram2d"
           }
          ],
          "histogram2dcontour": [
           {
            "colorbar": {
             "outlinewidth": 0,
             "ticks": ""
            },
            "colorscale": [
             [
              0,
              "#0d0887"
             ],
             [
              0.1111111111111111,
              "#46039f"
             ],
             [
              0.2222222222222222,
              "#7201a8"
             ],
             [
              0.3333333333333333,
              "#9c179e"
             ],
             [
              0.4444444444444444,
              "#bd3786"
             ],
             [
              0.5555555555555556,
              "#d8576b"
             ],
             [
              0.6666666666666666,
              "#ed7953"
             ],
             [
              0.7777777777777778,
              "#fb9f3a"
             ],
             [
              0.8888888888888888,
              "#fdca26"
             ],
             [
              1,
              "#f0f921"
             ]
            ],
            "type": "histogram2dcontour"
           }
          ],
          "mesh3d": [
           {
            "colorbar": {
             "outlinewidth": 0,
             "ticks": ""
            },
            "type": "mesh3d"
           }
          ],
          "parcoords": [
           {
            "line": {
             "colorbar": {
              "outlinewidth": 0,
              "ticks": ""
             }
            },
            "type": "parcoords"
           }
          ],
          "pie": [
           {
            "automargin": true,
            "type": "pie"
           }
          ],
          "scatter": [
           {
            "fillpattern": {
             "fillmode": "overlay",
             "size": 10,
             "solidity": 0.2
            },
            "type": "scatter"
           }
          ],
          "scatter3d": [
           {
            "line": {
             "colorbar": {
              "outlinewidth": 0,
              "ticks": ""
             }
            },
            "marker": {
             "colorbar": {
              "outlinewidth": 0,
              "ticks": ""
             }
            },
            "type": "scatter3d"
           }
          ],
          "scattercarpet": [
           {
            "marker": {
             "colorbar": {
              "outlinewidth": 0,
              "ticks": ""
             }
            },
            "type": "scattercarpet"
           }
          ],
          "scattergeo": [
           {
            "marker": {
             "colorbar": {
              "outlinewidth": 0,
              "ticks": ""
             }
            },
            "type": "scattergeo"
           }
          ],
          "scattergl": [
           {
            "marker": {
             "colorbar": {
              "outlinewidth": 0,
              "ticks": ""
             }
            },
            "type": "scattergl"
           }
          ],
          "scattermapbox": [
           {
            "marker": {
             "colorbar": {
              "outlinewidth": 0,
              "ticks": ""
             }
            },
            "type": "scattermapbox"
           }
          ],
          "scatterpolar": [
           {
            "marker": {
             "colorbar": {
              "outlinewidth": 0,
              "ticks": ""
             }
            },
            "type": "scatterpolar"
           }
          ],
          "scatterpolargl": [
           {
            "marker": {
             "colorbar": {
              "outlinewidth": 0,
              "ticks": ""
             }
            },
            "type": "scatterpolargl"
           }
          ],
          "scatterternary": [
           {
            "marker": {
             "colorbar": {
              "outlinewidth": 0,
              "ticks": ""
             }
            },
            "type": "scatterternary"
           }
          ],
          "surface": [
           {
            "colorbar": {
             "outlinewidth": 0,
             "ticks": ""
            },
            "colorscale": [
             [
              0,
              "#0d0887"
             ],
             [
              0.1111111111111111,
              "#46039f"
             ],
             [
              0.2222222222222222,
              "#7201a8"
             ],
             [
              0.3333333333333333,
              "#9c179e"
             ],
             [
              0.4444444444444444,
              "#bd3786"
             ],
             [
              0.5555555555555556,
              "#d8576b"
             ],
             [
              0.6666666666666666,
              "#ed7953"
             ],
             [
              0.7777777777777778,
              "#fb9f3a"
             ],
             [
              0.8888888888888888,
              "#fdca26"
             ],
             [
              1,
              "#f0f921"
             ]
            ],
            "type": "surface"
           }
          ],
          "table": [
           {
            "cells": {
             "fill": {
              "color": "#EBF0F8"
             },
             "line": {
              "color": "white"
             }
            },
            "header": {
             "fill": {
              "color": "#C8D4E3"
             },
             "line": {
              "color": "white"
             }
            },
            "type": "table"
           }
          ]
         },
         "layout": {
          "annotationdefaults": {
           "arrowcolor": "#2a3f5f",
           "arrowhead": 0,
           "arrowwidth": 1
          },
          "autotypenumbers": "strict",
          "coloraxis": {
           "colorbar": {
            "outlinewidth": 0,
            "ticks": ""
           }
          },
          "colorscale": {
           "diverging": [
            [
             0,
             "#8e0152"
            ],
            [
             0.1,
             "#c51b7d"
            ],
            [
             0.2,
             "#de77ae"
            ],
            [
             0.3,
             "#f1b6da"
            ],
            [
             0.4,
             "#fde0ef"
            ],
            [
             0.5,
             "#f7f7f7"
            ],
            [
             0.6,
             "#e6f5d0"
            ],
            [
             0.7,
             "#b8e186"
            ],
            [
             0.8,
             "#7fbc41"
            ],
            [
             0.9,
             "#4d9221"
            ],
            [
             1,
             "#276419"
            ]
           ],
           "sequential": [
            [
             0,
             "#0d0887"
            ],
            [
             0.1111111111111111,
             "#46039f"
            ],
            [
             0.2222222222222222,
             "#7201a8"
            ],
            [
             0.3333333333333333,
             "#9c179e"
            ],
            [
             0.4444444444444444,
             "#bd3786"
            ],
            [
             0.5555555555555556,
             "#d8576b"
            ],
            [
             0.6666666666666666,
             "#ed7953"
            ],
            [
             0.7777777777777778,
             "#fb9f3a"
            ],
            [
             0.8888888888888888,
             "#fdca26"
            ],
            [
             1,
             "#f0f921"
            ]
           ],
           "sequentialminus": [
            [
             0,
             "#0d0887"
            ],
            [
             0.1111111111111111,
             "#46039f"
            ],
            [
             0.2222222222222222,
             "#7201a8"
            ],
            [
             0.3333333333333333,
             "#9c179e"
            ],
            [
             0.4444444444444444,
             "#bd3786"
            ],
            [
             0.5555555555555556,
             "#d8576b"
            ],
            [
             0.6666666666666666,
             "#ed7953"
            ],
            [
             0.7777777777777778,
             "#fb9f3a"
            ],
            [
             0.8888888888888888,
             "#fdca26"
            ],
            [
             1,
             "#f0f921"
            ]
           ]
          },
          "colorway": [
           "#636efa",
           "#EF553B",
           "#00cc96",
           "#ab63fa",
           "#FFA15A",
           "#19d3f3",
           "#FF6692",
           "#B6E880",
           "#FF97FF",
           "#FECB52"
          ],
          "font": {
           "color": "#2a3f5f"
          },
          "geo": {
           "bgcolor": "white",
           "lakecolor": "white",
           "landcolor": "#E5ECF6",
           "showlakes": true,
           "showland": true,
           "subunitcolor": "white"
          },
          "hoverlabel": {
           "align": "left"
          },
          "hovermode": "closest",
          "mapbox": {
           "style": "light"
          },
          "paper_bgcolor": "white",
          "plot_bgcolor": "#E5ECF6",
          "polar": {
           "angularaxis": {
            "gridcolor": "white",
            "linecolor": "white",
            "ticks": ""
           },
           "bgcolor": "#E5ECF6",
           "radialaxis": {
            "gridcolor": "white",
            "linecolor": "white",
            "ticks": ""
           }
          },
          "scene": {
           "xaxis": {
            "backgroundcolor": "#E5ECF6",
            "gridcolor": "white",
            "gridwidth": 2,
            "linecolor": "white",
            "showbackground": true,
            "ticks": "",
            "zerolinecolor": "white"
           },
           "yaxis": {
            "backgroundcolor": "#E5ECF6",
            "gridcolor": "white",
            "gridwidth": 2,
            "linecolor": "white",
            "showbackground": true,
            "ticks": "",
            "zerolinecolor": "white"
           },
           "zaxis": {
            "backgroundcolor": "#E5ECF6",
            "gridcolor": "white",
            "gridwidth": 2,
            "linecolor": "white",
            "showbackground": true,
            "ticks": "",
            "zerolinecolor": "white"
           }
          },
          "shapedefaults": {
           "line": {
            "color": "#2a3f5f"
           }
          },
          "ternary": {
           "aaxis": {
            "gridcolor": "white",
            "linecolor": "white",
            "ticks": ""
           },
           "baxis": {
            "gridcolor": "white",
            "linecolor": "white",
            "ticks": ""
           },
           "bgcolor": "#E5ECF6",
           "caxis": {
            "gridcolor": "white",
            "linecolor": "white",
            "ticks": ""
           }
          },
          "title": {
           "x": 0.05
          },
          "xaxis": {
           "automargin": true,
           "gridcolor": "white",
           "linecolor": "white",
           "ticks": "",
           "title": {
            "standoff": 15
           },
           "zerolinecolor": "white",
           "zerolinewidth": 2
          },
          "yaxis": {
           "automargin": true,
           "gridcolor": "white",
           "linecolor": "white",
           "ticks": "",
           "title": {
            "standoff": 15
           },
           "zerolinecolor": "white",
           "zerolinewidth": 2
          }
         }
        },
        "title": {
         "font": {
          "size": 30
         },
         "text": "Wicket Type"
        }
       }
      }
     },
     "metadata": {},
     "output_type": "display_data"
    },
    {
     "data": {
      "application/vnd.jupyter.widget-view+json": {
       "model_id": "edfe5c1accdd4e89b7c19e88055fff60",
       "version_major": 2,
       "version_minor": 0
      },
      "text/plain": [
       "interactive(children=(Dropdown(description='Bowler', options=('Rashid Khan', 'JJ Bumrah', 'YS Chahal', 'SP Nar…"
      ]
     },
     "metadata": {},
     "output_type": "display_data"
    },
    {
     "data": {
      "text/plain": [
       "<function __main__.Bowler_Analysis(Bowler)>"
      ]
     },
     "execution_count": 25,
     "metadata": {},
     "output_type": "execute_result"
    }
   ],
   "source": [
    "# copy index to a new column called name in Bowling_Targets\n",
    "Bowling_Targets['name'] = Bowling_Targets.index\n",
    "widgets.interact(Bowler_Analysis, Bowler = Bowling_Targets['name'])\n",
    "\n"
   ]
  },
  {
   "cell_type": "code",
   "execution_count": 26,
   "metadata": {},
   "outputs": [],
   "source": [
    "def count_run(df,runs):\n",
    "    return len(df[df['batsman_runs']==runs])*runs\n",
    "\n",
    "def Batsman_Analysis(Batter):\n",
    "  filt=(df_18['batsman']==Batter)\n",
    "  df_bat=df_18[filt]\n",
    "\n",
    "  print(\"Dot Ball's :\",len(df_bat[df_bat['batsman_runs']==0]))\n",
    "  print(\"Runs scored from 1's :\",count_run(df_bat,1))\n",
    "  print(\"Runs scored from 2's :\",count_run(df_bat,2))\n",
    "  print(\"Runs scored from 3's :\",count_run(df_bat,3))\n",
    "  print(\"Runs scored from 4's :\",count_run(df_bat,4))\n",
    "  print(\"Runs scored from 6's :\",count_run(df_bat,6))\n",
    "\n",
    "  runs_total = df_bat['total_runs'].sum()\n",
    "  balls_total = len(df_bat['batsman_runs'])\n",
    "  \n",
    "  print(\" Runs per Ball :\", round((runs_total/balls_total),2))\n",
    "\n",
    "\n",
    "\n",
    "\n",
    "\n",
    "  values = df_bat['dismissal_kind'].value_counts()\n",
    "  labels=df_bat['dismissal_kind'].value_counts().index\n",
    "  fig = go.Figure(data=[go.Pie(labels=labels,values=values,hole=.3)])\n",
    "  fig.update_traces(hoverinfo='label+percent', textinfo='label', textfont_size=20,\n",
    "                  marker=dict(colors=colors, line=dict(color='#000000', width=3)))\n",
    "  fig.update_layout(title=\"Dismissal Type\",\n",
    "                  titlefont={'size': 30},\n",
    "                  )\n",
    "  fig.show()\n",
    "\n",
    "  plot_runs_by_segment(df_bat)\n",
    "\n",
    "  play_count = striker_segment_count(df_bat)\n",
    "  label2 = list(play_count.keys())\n",
    "  pp = []\n",
    "  mid = []\n",
    "  drink = []\n",
    "  end = []\n",
    "  for player in play_count:\n",
    "       pp.append(play_count[player]['pp'])\n",
    "       mid.append(play_count[player]['mid'])\n",
    "       drink.append(play_count[player]['drink'])\n",
    "       end.append(play_count[player]['end'])\n",
    "  \n",
    "  width = 0.35\n",
    "  fig, ax = plt.subplots(figsize=(10,5))\n",
    "  ax.bar(label2, pp, width, label='Powerplay')\n",
    "  ax.bar(label2, mid, width, label='Middle')\n",
    "  ax.bar(label2, drink, width, label='Drinks')\n",
    "  ax.bar(label2, end, width, label='End')\n",
    "\n",
    "  ax.set_ylabel('Batting Segment')\n",
    "  ax.set_xlabel('Batsman')\n",
    "  ax.set_title('Batting Segment by Batsman')\n",
    "  ax.legend()\n",
    "  "
   ]
  },
  {
   "cell_type": "code",
   "execution_count": 27,
   "metadata": {},
   "outputs": [
    {
     "data": {
      "application/vnd.plotly.v1+json": {
       "config": {
        "plotlyServerURL": "https://plot.ly"
       },
       "data": [
        {
         "hole": 0.3,
         "hoverinfo": "label+percent",
         "labels": [
          "caught",
          "bowled",
          "lbw",
          "run out",
          "stumped",
          "retired hurt",
          "caught and bowled"
         ],
         "marker": {
          "colors": [
           "turquoise",
           "crimson"
          ],
          "line": {
           "color": "#000000",
           "width": 3
          }
         },
         "textfont": {
          "size": 20
         },
         "textinfo": "label",
         "type": "pie",
         "values": [
          32,
          13,
          5,
          3,
          2,
          1,
          1
         ]
        }
       ],
       "layout": {
        "template": {
         "data": {
          "bar": [
           {
            "error_x": {
             "color": "#2a3f5f"
            },
            "error_y": {
             "color": "#2a3f5f"
            },
            "marker": {
             "line": {
              "color": "#E5ECF6",
              "width": 0.5
             },
             "pattern": {
              "fillmode": "overlay",
              "size": 10,
              "solidity": 0.2
             }
            },
            "type": "bar"
           }
          ],
          "barpolar": [
           {
            "marker": {
             "line": {
              "color": "#E5ECF6",
              "width": 0.5
             },
             "pattern": {
              "fillmode": "overlay",
              "size": 10,
              "solidity": 0.2
             }
            },
            "type": "barpolar"
           }
          ],
          "carpet": [
           {
            "aaxis": {
             "endlinecolor": "#2a3f5f",
             "gridcolor": "white",
             "linecolor": "white",
             "minorgridcolor": "white",
             "startlinecolor": "#2a3f5f"
            },
            "baxis": {
             "endlinecolor": "#2a3f5f",
             "gridcolor": "white",
             "linecolor": "white",
             "minorgridcolor": "white",
             "startlinecolor": "#2a3f5f"
            },
            "type": "carpet"
           }
          ],
          "choropleth": [
           {
            "colorbar": {
             "outlinewidth": 0,
             "ticks": ""
            },
            "type": "choropleth"
           }
          ],
          "contour": [
           {
            "colorbar": {
             "outlinewidth": 0,
             "ticks": ""
            },
            "colorscale": [
             [
              0,
              "#0d0887"
             ],
             [
              0.1111111111111111,
              "#46039f"
             ],
             [
              0.2222222222222222,
              "#7201a8"
             ],
             [
              0.3333333333333333,
              "#9c179e"
             ],
             [
              0.4444444444444444,
              "#bd3786"
             ],
             [
              0.5555555555555556,
              "#d8576b"
             ],
             [
              0.6666666666666666,
              "#ed7953"
             ],
             [
              0.7777777777777778,
              "#fb9f3a"
             ],
             [
              0.8888888888888888,
              "#fdca26"
             ],
             [
              1,
              "#f0f921"
             ]
            ],
            "type": "contour"
           }
          ],
          "contourcarpet": [
           {
            "colorbar": {
             "outlinewidth": 0,
             "ticks": ""
            },
            "type": "contourcarpet"
           }
          ],
          "heatmap": [
           {
            "colorbar": {
             "outlinewidth": 0,
             "ticks": ""
            },
            "colorscale": [
             [
              0,
              "#0d0887"
             ],
             [
              0.1111111111111111,
              "#46039f"
             ],
             [
              0.2222222222222222,
              "#7201a8"
             ],
             [
              0.3333333333333333,
              "#9c179e"
             ],
             [
              0.4444444444444444,
              "#bd3786"
             ],
             [
              0.5555555555555556,
              "#d8576b"
             ],
             [
              0.6666666666666666,
              "#ed7953"
             ],
             [
              0.7777777777777778,
              "#fb9f3a"
             ],
             [
              0.8888888888888888,
              "#fdca26"
             ],
             [
              1,
              "#f0f921"
             ]
            ],
            "type": "heatmap"
           }
          ],
          "heatmapgl": [
           {
            "colorbar": {
             "outlinewidth": 0,
             "ticks": ""
            },
            "colorscale": [
             [
              0,
              "#0d0887"
             ],
             [
              0.1111111111111111,
              "#46039f"
             ],
             [
              0.2222222222222222,
              "#7201a8"
             ],
             [
              0.3333333333333333,
              "#9c179e"
             ],
             [
              0.4444444444444444,
              "#bd3786"
             ],
             [
              0.5555555555555556,
              "#d8576b"
             ],
             [
              0.6666666666666666,
              "#ed7953"
             ],
             [
              0.7777777777777778,
              "#fb9f3a"
             ],
             [
              0.8888888888888888,
              "#fdca26"
             ],
             [
              1,
              "#f0f921"
             ]
            ],
            "type": "heatmapgl"
           }
          ],
          "histogram": [
           {
            "marker": {
             "pattern": {
              "fillmode": "overlay",
              "size": 10,
              "solidity": 0.2
             }
            },
            "type": "histogram"
           }
          ],
          "histogram2d": [
           {
            "colorbar": {
             "outlinewidth": 0,
             "ticks": ""
            },
            "colorscale": [
             [
              0,
              "#0d0887"
             ],
             [
              0.1111111111111111,
              "#46039f"
             ],
             [
              0.2222222222222222,
              "#7201a8"
             ],
             [
              0.3333333333333333,
              "#9c179e"
             ],
             [
              0.4444444444444444,
              "#bd3786"
             ],
             [
              0.5555555555555556,
              "#d8576b"
             ],
             [
              0.6666666666666666,
              "#ed7953"
             ],
             [
              0.7777777777777778,
              "#fb9f3a"
             ],
             [
              0.8888888888888888,
              "#fdca26"
             ],
             [
              1,
              "#f0f921"
             ]
            ],
            "type": "histogram2d"
           }
          ],
          "histogram2dcontour": [
           {
            "colorbar": {
             "outlinewidth": 0,
             "ticks": ""
            },
            "colorscale": [
             [
              0,
              "#0d0887"
             ],
             [
              0.1111111111111111,
              "#46039f"
             ],
             [
              0.2222222222222222,
              "#7201a8"
             ],
             [
              0.3333333333333333,
              "#9c179e"
             ],
             [
              0.4444444444444444,
              "#bd3786"
             ],
             [
              0.5555555555555556,
              "#d8576b"
             ],
             [
              0.6666666666666666,
              "#ed7953"
             ],
             [
              0.7777777777777778,
              "#fb9f3a"
             ],
             [
              0.8888888888888888,
              "#fdca26"
             ],
             [
              1,
              "#f0f921"
             ]
            ],
            "type": "histogram2dcontour"
           }
          ],
          "mesh3d": [
           {
            "colorbar": {
             "outlinewidth": 0,
             "ticks": ""
            },
            "type": "mesh3d"
           }
          ],
          "parcoords": [
           {
            "line": {
             "colorbar": {
              "outlinewidth": 0,
              "ticks": ""
             }
            },
            "type": "parcoords"
           }
          ],
          "pie": [
           {
            "automargin": true,
            "type": "pie"
           }
          ],
          "scatter": [
           {
            "fillpattern": {
             "fillmode": "overlay",
             "size": 10,
             "solidity": 0.2
            },
            "type": "scatter"
           }
          ],
          "scatter3d": [
           {
            "line": {
             "colorbar": {
              "outlinewidth": 0,
              "ticks": ""
             }
            },
            "marker": {
             "colorbar": {
              "outlinewidth": 0,
              "ticks": ""
             }
            },
            "type": "scatter3d"
           }
          ],
          "scattercarpet": [
           {
            "marker": {
             "colorbar": {
              "outlinewidth": 0,
              "ticks": ""
             }
            },
            "type": "scattercarpet"
           }
          ],
          "scattergeo": [
           {
            "marker": {
             "colorbar": {
              "outlinewidth": 0,
              "ticks": ""
             }
            },
            "type": "scattergeo"
           }
          ],
          "scattergl": [
           {
            "marker": {
             "colorbar": {
              "outlinewidth": 0,
              "ticks": ""
             }
            },
            "type": "scattergl"
           }
          ],
          "scattermapbox": [
           {
            "marker": {
             "colorbar": {
              "outlinewidth": 0,
              "ticks": ""
             }
            },
            "type": "scattermapbox"
           }
          ],
          "scatterpolar": [
           {
            "marker": {
             "colorbar": {
              "outlinewidth": 0,
              "ticks": ""
             }
            },
            "type": "scatterpolar"
           }
          ],
          "scatterpolargl": [
           {
            "marker": {
             "colorbar": {
              "outlinewidth": 0,
              "ticks": ""
             }
            },
            "type": "scatterpolargl"
           }
          ],
          "scatterternary": [
           {
            "marker": {
             "colorbar": {
              "outlinewidth": 0,
              "ticks": ""
             }
            },
            "type": "scatterternary"
           }
          ],
          "surface": [
           {
            "colorbar": {
             "outlinewidth": 0,
             "ticks": ""
            },
            "colorscale": [
             [
              0,
              "#0d0887"
             ],
             [
              0.1111111111111111,
              "#46039f"
             ],
             [
              0.2222222222222222,
              "#7201a8"
             ],
             [
              0.3333333333333333,
              "#9c179e"
             ],
             [
              0.4444444444444444,
              "#bd3786"
             ],
             [
              0.5555555555555556,
              "#d8576b"
             ],
             [
              0.6666666666666666,
              "#ed7953"
             ],
             [
              0.7777777777777778,
              "#fb9f3a"
             ],
             [
              0.8888888888888888,
              "#fdca26"
             ],
             [
              1,
              "#f0f921"
             ]
            ],
            "type": "surface"
           }
          ],
          "table": [
           {
            "cells": {
             "fill": {
              "color": "#EBF0F8"
             },
             "line": {
              "color": "white"
             }
            },
            "header": {
             "fill": {
              "color": "#C8D4E3"
             },
             "line": {
              "color": "white"
             }
            },
            "type": "table"
           }
          ]
         },
         "layout": {
          "annotationdefaults": {
           "arrowcolor": "#2a3f5f",
           "arrowhead": 0,
           "arrowwidth": 1
          },
          "autotypenumbers": "strict",
          "coloraxis": {
           "colorbar": {
            "outlinewidth": 0,
            "ticks": ""
           }
          },
          "colorscale": {
           "diverging": [
            [
             0,
             "#8e0152"
            ],
            [
             0.1,
             "#c51b7d"
            ],
            [
             0.2,
             "#de77ae"
            ],
            [
             0.3,
             "#f1b6da"
            ],
            [
             0.4,
             "#fde0ef"
            ],
            [
             0.5,
             "#f7f7f7"
            ],
            [
             0.6,
             "#e6f5d0"
            ],
            [
             0.7,
             "#b8e186"
            ],
            [
             0.8,
             "#7fbc41"
            ],
            [
             0.9,
             "#4d9221"
            ],
            [
             1,
             "#276419"
            ]
           ],
           "sequential": [
            [
             0,
             "#0d0887"
            ],
            [
             0.1111111111111111,
             "#46039f"
            ],
            [
             0.2222222222222222,
             "#7201a8"
            ],
            [
             0.3333333333333333,
             "#9c179e"
            ],
            [
             0.4444444444444444,
             "#bd3786"
            ],
            [
             0.5555555555555556,
             "#d8576b"
            ],
            [
             0.6666666666666666,
             "#ed7953"
            ],
            [
             0.7777777777777778,
             "#fb9f3a"
            ],
            [
             0.8888888888888888,
             "#fdca26"
            ],
            [
             1,
             "#f0f921"
            ]
           ],
           "sequentialminus": [
            [
             0,
             "#0d0887"
            ],
            [
             0.1111111111111111,
             "#46039f"
            ],
            [
             0.2222222222222222,
             "#7201a8"
            ],
            [
             0.3333333333333333,
             "#9c179e"
            ],
            [
             0.4444444444444444,
             "#bd3786"
            ],
            [
             0.5555555555555556,
             "#d8576b"
            ],
            [
             0.6666666666666666,
             "#ed7953"
            ],
            [
             0.7777777777777778,
             "#fb9f3a"
            ],
            [
             0.8888888888888888,
             "#fdca26"
            ],
            [
             1,
             "#f0f921"
            ]
           ]
          },
          "colorway": [
           "#636efa",
           "#EF553B",
           "#00cc96",
           "#ab63fa",
           "#FFA15A",
           "#19d3f3",
           "#FF6692",
           "#B6E880",
           "#FF97FF",
           "#FECB52"
          ],
          "font": {
           "color": "#2a3f5f"
          },
          "geo": {
           "bgcolor": "white",
           "lakecolor": "white",
           "landcolor": "#E5ECF6",
           "showlakes": true,
           "showland": true,
           "subunitcolor": "white"
          },
          "hoverlabel": {
           "align": "left"
          },
          "hovermode": "closest",
          "mapbox": {
           "style": "light"
          },
          "paper_bgcolor": "white",
          "plot_bgcolor": "#E5ECF6",
          "polar": {
           "angularaxis": {
            "gridcolor": "white",
            "linecolor": "white",
            "ticks": ""
           },
           "bgcolor": "#E5ECF6",
           "radialaxis": {
            "gridcolor": "white",
            "linecolor": "white",
            "ticks": ""
           }
          },
          "scene": {
           "xaxis": {
            "backgroundcolor": "#E5ECF6",
            "gridcolor": "white",
            "gridwidth": 2,
            "linecolor": "white",
            "showbackground": true,
            "ticks": "",
            "zerolinecolor": "white"
           },
           "yaxis": {
            "backgroundcolor": "#E5ECF6",
            "gridcolor": "white",
            "gridwidth": 2,
            "linecolor": "white",
            "showbackground": true,
            "ticks": "",
            "zerolinecolor": "white"
           },
           "zaxis": {
            "backgroundcolor": "#E5ECF6",
            "gridcolor": "white",
            "gridwidth": 2,
            "linecolor": "white",
            "showbackground": true,
            "ticks": "",
            "zerolinecolor": "white"
           }
          },
          "shapedefaults": {
           "line": {
            "color": "#2a3f5f"
           }
          },
          "ternary": {
           "aaxis": {
            "gridcolor": "white",
            "linecolor": "white",
            "ticks": ""
           },
           "baxis": {
            "gridcolor": "white",
            "linecolor": "white",
            "ticks": ""
           },
           "bgcolor": "#E5ECF6",
           "caxis": {
            "gridcolor": "white",
            "linecolor": "white",
            "ticks": ""
           }
          },
          "title": {
           "x": 0.05
          },
          "xaxis": {
           "automargin": true,
           "gridcolor": "white",
           "linecolor": "white",
           "ticks": "",
           "title": {
            "standoff": 15
           },
           "zerolinecolor": "white",
           "zerolinewidth": 2
          },
          "yaxis": {
           "automargin": true,
           "gridcolor": "white",
           "linecolor": "white",
           "ticks": "",
           "title": {
            "standoff": 15
           },
           "zerolinecolor": "white",
           "zerolinewidth": 2
          }
         }
        },
        "title": {
         "font": {
          "size": 30
         },
         "text": "Dismissal Type"
        }
       }
      }
     },
     "metadata": {},
     "output_type": "display_data"
    },
    {
     "data": {
      "application/vnd.jupyter.widget-view+json": {
       "model_id": "7433aa16b6674aeab161ac547ec25e10",
       "version_major": 2,
       "version_minor": 0
      },
      "text/plain": [
       "interactive(children=(Dropdown(description='Batter', options=('S Dhawan', 'SS Iyer', 'DA Warner', 'RR Pant', '…"
      ]
     },
     "metadata": {},
     "output_type": "display_data"
    },
    {
     "data": {
      "text/plain": [
       "<function __main__.Batsman_Analysis(Batter)>"
      ]
     },
     "execution_count": 27,
     "metadata": {},
     "output_type": "execute_result"
    }
   ],
   "source": [
    "Batting_Targets['name'] = Batting_Targets.index\n",
    "widgets.interact(Batsman_Analysis, Batter = Batting_Targets['name'])"
   ]
  },
  {
   "cell_type": "code",
   "execution_count": 28,
   "metadata": {},
   "outputs": [],
   "source": [
    "def count_run(df,runs):\n",
    "    return len(df[df['batsman_runs']==runs])*runs\n",
    "\n",
    "def Non_Striker_Analysis(Batter):\n",
    "  filt=(df_18['non_striker']==Batter)\n",
    "  df_bat=df_18[filt]\n",
    "\n",
    "  print(\"Dot Ball's :\",len(df_bat[df_bat['batsman_runs']==0]))\n",
    "  print(\"Runs scored from 1's :\",count_run(df_bat,1))\n",
    "  print(\"Runs scored from 2's :\",count_run(df_bat,2))\n",
    "  print(\"Runs scored from 3's :\",count_run(df_bat,3))\n",
    "  print(\"Runs scored from 4's :\",count_run(df_bat,4))\n",
    "  print(\"Runs scored from 6's :\",count_run(df_bat,6))\n",
    "\n",
    "  runs_total = df_bat['total_runs'].sum()\n",
    "  balls_total = len(df_bat['batsman_runs'])\n",
    "  \n",
    "  print(\" Runs per Ball :\", round((runs_total/balls_total),2))\n",
    "\n",
    "\n",
    "\n",
    "\n",
    "\n",
    "  values = df_bat['dismissal_kind'].value_counts()\n",
    "  labels=df_bat['dismissal_kind'].value_counts().index\n",
    "  fig = go.Figure(data=[go.Pie(labels=labels,values=values,hole=.3)])\n",
    "  fig.update_traces(hoverinfo='label+percent', textinfo='label', textfont_size=20,\n",
    "                  marker=dict(colors=colors, line=dict(color='#000000', width=3)))\n",
    "  fig.update_layout(title=\"Dismissal Type\",\n",
    "                  titlefont={'size': 30},\n",
    "                  )\n",
    "  fig.show()\n",
    "\n",
    "  # use the plot_runs_by_segment function to plot the runs scored by the batsman in each over\n",
    "  plot_runs_by_segment(df_bat)\n",
    "\n",
    "  # use the striker_segment_count function to plot the runs scored by the batsman in each segment\n",
    "  play_count = NONstriker_segment_count(df_bat)\n",
    "  label2 = list(play_count.keys())\n",
    "  pp = []\n",
    "  mid = []\n",
    "  drink = []\n",
    "  end = []\n",
    "  for player in play_count:\n",
    "    pp.append(play_count[player]['pp'])\n",
    "    mid.append(play_count[player]['mid'])\n",
    "    drink.append(play_count[player]['drink'])\n",
    "    end.append(play_count[player]['end'])\n",
    "\n",
    "  width = 0.35\n",
    "  fig, ax = plt.subplots(figsize=(10,5))\n",
    "  ax.bar(label2, pp, width, label='Powerplay')\n",
    "  ax.bar(label2, mid, width, label='Middle')\n",
    "  ax.bar(label2, drink, width, label='Drinks')\n",
    "  ax.bar(label2, end, width, label='End')\n",
    "\n",
    "  ax.set_ylabel('Batting Segment')\n",
    "  ax.set_xlabel('Non Striker')\n",
    "  ax.set_title('Batting Segment by Non Striker')\n",
    "  ax.legend()\n",
    "\n",
    "\n",
    "\n",
    "  \n",
    "  "
   ]
  },
  {
   "cell_type": "code",
   "execution_count": 29,
   "metadata": {},
   "outputs": [
    {
     "data": {
      "application/vnd.plotly.v1+json": {
       "config": {
        "plotlyServerURL": "https://plot.ly"
       },
       "data": [
        {
         "hole": 0.3,
         "hoverinfo": "label+percent",
         "labels": [
          "caught",
          "bowled",
          "lbw",
          "run out",
          "caught and bowled"
         ],
         "marker": {
          "colors": [
           "turquoise",
           "crimson"
          ],
          "line": {
           "color": "#000000",
           "width": 3
          }
         },
         "textfont": {
          "size": 20
         },
         "textinfo": "label",
         "type": "pie",
         "values": [
          45,
          11,
          8,
          2,
          1
         ]
        }
       ],
       "layout": {
        "template": {
         "data": {
          "bar": [
           {
            "error_x": {
             "color": "#2a3f5f"
            },
            "error_y": {
             "color": "#2a3f5f"
            },
            "marker": {
             "line": {
              "color": "#E5ECF6",
              "width": 0.5
             },
             "pattern": {
              "fillmode": "overlay",
              "size": 10,
              "solidity": 0.2
             }
            },
            "type": "bar"
           }
          ],
          "barpolar": [
           {
            "marker": {
             "line": {
              "color": "#E5ECF6",
              "width": 0.5
             },
             "pattern": {
              "fillmode": "overlay",
              "size": 10,
              "solidity": 0.2
             }
            },
            "type": "barpolar"
           }
          ],
          "carpet": [
           {
            "aaxis": {
             "endlinecolor": "#2a3f5f",
             "gridcolor": "white",
             "linecolor": "white",
             "minorgridcolor": "white",
             "startlinecolor": "#2a3f5f"
            },
            "baxis": {
             "endlinecolor": "#2a3f5f",
             "gridcolor": "white",
             "linecolor": "white",
             "minorgridcolor": "white",
             "startlinecolor": "#2a3f5f"
            },
            "type": "carpet"
           }
          ],
          "choropleth": [
           {
            "colorbar": {
             "outlinewidth": 0,
             "ticks": ""
            },
            "type": "choropleth"
           }
          ],
          "contour": [
           {
            "colorbar": {
             "outlinewidth": 0,
             "ticks": ""
            },
            "colorscale": [
             [
              0,
              "#0d0887"
             ],
             [
              0.1111111111111111,
              "#46039f"
             ],
             [
              0.2222222222222222,
              "#7201a8"
             ],
             [
              0.3333333333333333,
              "#9c179e"
             ],
             [
              0.4444444444444444,
              "#bd3786"
             ],
             [
              0.5555555555555556,
              "#d8576b"
             ],
             [
              0.6666666666666666,
              "#ed7953"
             ],
             [
              0.7777777777777778,
              "#fb9f3a"
             ],
             [
              0.8888888888888888,
              "#fdca26"
             ],
             [
              1,
              "#f0f921"
             ]
            ],
            "type": "contour"
           }
          ],
          "contourcarpet": [
           {
            "colorbar": {
             "outlinewidth": 0,
             "ticks": ""
            },
            "type": "contourcarpet"
           }
          ],
          "heatmap": [
           {
            "colorbar": {
             "outlinewidth": 0,
             "ticks": ""
            },
            "colorscale": [
             [
              0,
              "#0d0887"
             ],
             [
              0.1111111111111111,
              "#46039f"
             ],
             [
              0.2222222222222222,
              "#7201a8"
             ],
             [
              0.3333333333333333,
              "#9c179e"
             ],
             [
              0.4444444444444444,
              "#bd3786"
             ],
             [
              0.5555555555555556,
              "#d8576b"
             ],
             [
              0.6666666666666666,
              "#ed7953"
             ],
             [
              0.7777777777777778,
              "#fb9f3a"
             ],
             [
              0.8888888888888888,
              "#fdca26"
             ],
             [
              1,
              "#f0f921"
             ]
            ],
            "type": "heatmap"
           }
          ],
          "heatmapgl": [
           {
            "colorbar": {
             "outlinewidth": 0,
             "ticks": ""
            },
            "colorscale": [
             [
              0,
              "#0d0887"
             ],
             [
              0.1111111111111111,
              "#46039f"
             ],
             [
              0.2222222222222222,
              "#7201a8"
             ],
             [
              0.3333333333333333,
              "#9c179e"
             ],
             [
              0.4444444444444444,
              "#bd3786"
             ],
             [
              0.5555555555555556,
              "#d8576b"
             ],
             [
              0.6666666666666666,
              "#ed7953"
             ],
             [
              0.7777777777777778,
              "#fb9f3a"
             ],
             [
              0.8888888888888888,
              "#fdca26"
             ],
             [
              1,
              "#f0f921"
             ]
            ],
            "type": "heatmapgl"
           }
          ],
          "histogram": [
           {
            "marker": {
             "pattern": {
              "fillmode": "overlay",
              "size": 10,
              "solidity": 0.2
             }
            },
            "type": "histogram"
           }
          ],
          "histogram2d": [
           {
            "colorbar": {
             "outlinewidth": 0,
             "ticks": ""
            },
            "colorscale": [
             [
              0,
              "#0d0887"
             ],
             [
              0.1111111111111111,
              "#46039f"
             ],
             [
              0.2222222222222222,
              "#7201a8"
             ],
             [
              0.3333333333333333,
              "#9c179e"
             ],
             [
              0.4444444444444444,
              "#bd3786"
             ],
             [
              0.5555555555555556,
              "#d8576b"
             ],
             [
              0.6666666666666666,
              "#ed7953"
             ],
             [
              0.7777777777777778,
              "#fb9f3a"
             ],
             [
              0.8888888888888888,
              "#fdca26"
             ],
             [
              1,
              "#f0f921"
             ]
            ],
            "type": "histogram2d"
           }
          ],
          "histogram2dcontour": [
           {
            "colorbar": {
             "outlinewidth": 0,
             "ticks": ""
            },
            "colorscale": [
             [
              0,
              "#0d0887"
             ],
             [
              0.1111111111111111,
              "#46039f"
             ],
             [
              0.2222222222222222,
              "#7201a8"
             ],
             [
              0.3333333333333333,
              "#9c179e"
             ],
             [
              0.4444444444444444,
              "#bd3786"
             ],
             [
              0.5555555555555556,
              "#d8576b"
             ],
             [
              0.6666666666666666,
              "#ed7953"
             ],
             [
              0.7777777777777778,
              "#fb9f3a"
             ],
             [
              0.8888888888888888,
              "#fdca26"
             ],
             [
              1,
              "#f0f921"
             ]
            ],
            "type": "histogram2dcontour"
           }
          ],
          "mesh3d": [
           {
            "colorbar": {
             "outlinewidth": 0,
             "ticks": ""
            },
            "type": "mesh3d"
           }
          ],
          "parcoords": [
           {
            "line": {
             "colorbar": {
              "outlinewidth": 0,
              "ticks": ""
             }
            },
            "type": "parcoords"
           }
          ],
          "pie": [
           {
            "automargin": true,
            "type": "pie"
           }
          ],
          "scatter": [
           {
            "fillpattern": {
             "fillmode": "overlay",
             "size": 10,
             "solidity": 0.2
            },
            "type": "scatter"
           }
          ],
          "scatter3d": [
           {
            "line": {
             "colorbar": {
              "outlinewidth": 0,
              "ticks": ""
             }
            },
            "marker": {
             "colorbar": {
              "outlinewidth": 0,
              "ticks": ""
             }
            },
            "type": "scatter3d"
           }
          ],
          "scattercarpet": [
           {
            "marker": {
             "colorbar": {
              "outlinewidth": 0,
              "ticks": ""
             }
            },
            "type": "scattercarpet"
           }
          ],
          "scattergeo": [
           {
            "marker": {
             "colorbar": {
              "outlinewidth": 0,
              "ticks": ""
             }
            },
            "type": "scattergeo"
           }
          ],
          "scattergl": [
           {
            "marker": {
             "colorbar": {
              "outlinewidth": 0,
              "ticks": ""
             }
            },
            "type": "scattergl"
           }
          ],
          "scattermapbox": [
           {
            "marker": {
             "colorbar": {
              "outlinewidth": 0,
              "ticks": ""
             }
            },
            "type": "scattermapbox"
           }
          ],
          "scatterpolar": [
           {
            "marker": {
             "colorbar": {
              "outlinewidth": 0,
              "ticks": ""
             }
            },
            "type": "scatterpolar"
           }
          ],
          "scatterpolargl": [
           {
            "marker": {
             "colorbar": {
              "outlinewidth": 0,
              "ticks": ""
             }
            },
            "type": "scatterpolargl"
           }
          ],
          "scatterternary": [
           {
            "marker": {
             "colorbar": {
              "outlinewidth": 0,
              "ticks": ""
             }
            },
            "type": "scatterternary"
           }
          ],
          "surface": [
           {
            "colorbar": {
             "outlinewidth": 0,
             "ticks": ""
            },
            "colorscale": [
             [
              0,
              "#0d0887"
             ],
             [
              0.1111111111111111,
              "#46039f"
             ],
             [
              0.2222222222222222,
              "#7201a8"
             ],
             [
              0.3333333333333333,
              "#9c179e"
             ],
             [
              0.4444444444444444,
              "#bd3786"
             ],
             [
              0.5555555555555556,
              "#d8576b"
             ],
             [
              0.6666666666666666,
              "#ed7953"
             ],
             [
              0.7777777777777778,
              "#fb9f3a"
             ],
             [
              0.8888888888888888,
              "#fdca26"
             ],
             [
              1,
              "#f0f921"
             ]
            ],
            "type": "surface"
           }
          ],
          "table": [
           {
            "cells": {
             "fill": {
              "color": "#EBF0F8"
             },
             "line": {
              "color": "white"
             }
            },
            "header": {
             "fill": {
              "color": "#C8D4E3"
             },
             "line": {
              "color": "white"
             }
            },
            "type": "table"
           }
          ]
         },
         "layout": {
          "annotationdefaults": {
           "arrowcolor": "#2a3f5f",
           "arrowhead": 0,
           "arrowwidth": 1
          },
          "autotypenumbers": "strict",
          "coloraxis": {
           "colorbar": {
            "outlinewidth": 0,
            "ticks": ""
           }
          },
          "colorscale": {
           "diverging": [
            [
             0,
             "#8e0152"
            ],
            [
             0.1,
             "#c51b7d"
            ],
            [
             0.2,
             "#de77ae"
            ],
            [
             0.3,
             "#f1b6da"
            ],
            [
             0.4,
             "#fde0ef"
            ],
            [
             0.5,
             "#f7f7f7"
            ],
            [
             0.6,
             "#e6f5d0"
            ],
            [
             0.7,
             "#b8e186"
            ],
            [
             0.8,
             "#7fbc41"
            ],
            [
             0.9,
             "#4d9221"
            ],
            [
             1,
             "#276419"
            ]
           ],
           "sequential": [
            [
             0,
             "#0d0887"
            ],
            [
             0.1111111111111111,
             "#46039f"
            ],
            [
             0.2222222222222222,
             "#7201a8"
            ],
            [
             0.3333333333333333,
             "#9c179e"
            ],
            [
             0.4444444444444444,
             "#bd3786"
            ],
            [
             0.5555555555555556,
             "#d8576b"
            ],
            [
             0.6666666666666666,
             "#ed7953"
            ],
            [
             0.7777777777777778,
             "#fb9f3a"
            ],
            [
             0.8888888888888888,
             "#fdca26"
            ],
            [
             1,
             "#f0f921"
            ]
           ],
           "sequentialminus": [
            [
             0,
             "#0d0887"
            ],
            [
             0.1111111111111111,
             "#46039f"
            ],
            [
             0.2222222222222222,
             "#7201a8"
            ],
            [
             0.3333333333333333,
             "#9c179e"
            ],
            [
             0.4444444444444444,
             "#bd3786"
            ],
            [
             0.5555555555555556,
             "#d8576b"
            ],
            [
             0.6666666666666666,
             "#ed7953"
            ],
            [
             0.7777777777777778,
             "#fb9f3a"
            ],
            [
             0.8888888888888888,
             "#fdca26"
            ],
            [
             1,
             "#f0f921"
            ]
           ]
          },
          "colorway": [
           "#636efa",
           "#EF553B",
           "#00cc96",
           "#ab63fa",
           "#FFA15A",
           "#19d3f3",
           "#FF6692",
           "#B6E880",
           "#FF97FF",
           "#FECB52"
          ],
          "font": {
           "color": "#2a3f5f"
          },
          "geo": {
           "bgcolor": "white",
           "lakecolor": "white",
           "landcolor": "#E5ECF6",
           "showlakes": true,
           "showland": true,
           "subunitcolor": "white"
          },
          "hoverlabel": {
           "align": "left"
          },
          "hovermode": "closest",
          "mapbox": {
           "style": "light"
          },
          "paper_bgcolor": "white",
          "plot_bgcolor": "#E5ECF6",
          "polar": {
           "angularaxis": {
            "gridcolor": "white",
            "linecolor": "white",
            "ticks": ""
           },
           "bgcolor": "#E5ECF6",
           "radialaxis": {
            "gridcolor": "white",
            "linecolor": "white",
            "ticks": ""
           }
          },
          "scene": {
           "xaxis": {
            "backgroundcolor": "#E5ECF6",
            "gridcolor": "white",
            "gridwidth": 2,
            "linecolor": "white",
            "showbackground": true,
            "ticks": "",
            "zerolinecolor": "white"
           },
           "yaxis": {
            "backgroundcolor": "#E5ECF6",
            "gridcolor": "white",
            "gridwidth": 2,
            "linecolor": "white",
            "showbackground": true,
            "ticks": "",
            "zerolinecolor": "white"
           },
           "zaxis": {
            "backgroundcolor": "#E5ECF6",
            "gridcolor": "white",
            "gridwidth": 2,
            "linecolor": "white",
            "showbackground": true,
            "ticks": "",
            "zerolinecolor": "white"
           }
          },
          "shapedefaults": {
           "line": {
            "color": "#2a3f5f"
           }
          },
          "ternary": {
           "aaxis": {
            "gridcolor": "white",
            "linecolor": "white",
            "ticks": ""
           },
           "baxis": {
            "gridcolor": "white",
            "linecolor": "white",
            "ticks": ""
           },
           "bgcolor": "#E5ECF6",
           "caxis": {
            "gridcolor": "white",
            "linecolor": "white",
            "ticks": ""
           }
          },
          "title": {
           "x": 0.05
          },
          "xaxis": {
           "automargin": true,
           "gridcolor": "white",
           "linecolor": "white",
           "ticks": "",
           "title": {
            "standoff": 15
           },
           "zerolinecolor": "white",
           "zerolinewidth": 2
          },
          "yaxis": {
           "automargin": true,
           "gridcolor": "white",
           "linecolor": "white",
           "ticks": "",
           "title": {
            "standoff": 15
           },
           "zerolinecolor": "white",
           "zerolinewidth": 2
          }
         }
        },
        "title": {
         "font": {
          "size": 30
         },
         "text": "Dismissal Type"
        }
       }
      }
     },
     "metadata": {},
     "output_type": "display_data"
    },
    {
     "data": {
      "application/vnd.jupyter.widget-view+json": {
       "model_id": "cd8bf509e81f45e7b658db057a7450ad",
       "version_major": 2,
       "version_minor": 0
      },
      "text/plain": [
       "interactive(children=(Dropdown(description='Batter', options=('S Dhawan', 'SS Iyer', 'DA Warner', 'RR Pant', '…"
      ]
     },
     "metadata": {},
     "output_type": "display_data"
    },
    {
     "data": {
      "text/plain": [
       "<function __main__.Non_Striker_Analysis(Batter)>"
      ]
     },
     "execution_count": 29,
     "metadata": {},
     "output_type": "execute_result"
    }
   ],
   "source": [
    "Batting_Targets['name'] = Batting_Targets.index\n",
    "widgets.interact(Non_Striker_Analysis, Batter = Batting_Targets['name'])"
   ]
  },
  {
   "cell_type": "code",
   "execution_count": 30,
   "metadata": {},
   "outputs": [
    {
     "data": {
      "image/png": "[encoded data removed]",
      "text/plain": [
       "<Figure size 1500x1500 with 1 Axes>"
      ]
     },
     "metadata": {},
     "output_type": "display_data"
    }
   ],
   "source": [
    "triall3 = []\n",
    "for name in Batting_Targets['name']:\n",
    "  x = df_18[df_18['batsman']==name]\n",
    "  runs_total = x['total_runs'].sum()\n",
    "  balls_total = len(x['batsman_runs'])\n",
    "  runs_per_ball = round((runs_total/balls_total),2)\n",
    "  wickets = len(x[x['is_wicket']==1])\n",
    "  # get ratio of dot balls to singles\n",
    "  dot_count = len(x[x['batsman_runs']==0])\n",
    "  one_count = len(x[x['batsman_runs']==1])\n",
    "  Dot_Single_Ratio = dot_count/one_count\n",
    "\n",
    "  # get ratio of boundaries to wickets\n",
    "  four_count = len(x[x['batsman_runs']==4])\n",
    "  six_count = len(x[x['batsman_runs']==6])\n",
    "  wicket_count = len(x[x['is_wicket']==1])\n",
    "  Boundaries_Wickets_Ratio = (four_count+six_count)/wicket_count\n",
    "\n",
    "\n",
    "\n",
    "  if runs_per_ball>=1.2:\n",
    "    triall3.append([name,runs_per_ball,wickets, Dot_Single_Ratio, Boundaries_Wickets_Ratio])\n",
    "triall4 = pd.DataFrame(triall3,columns= ['Name','Runs/Ball','Wickets','Dot_Single_Ratio','Boundaries_Wickets_Ratio'])\n",
    "\n",
    "fig, ax = plt.subplots(figsize = (15,15))\n",
    "triall4.plot('Runs/Ball', 'Dot_Single_Ratio', kind='scatter', ax=ax)\n",
    "\n",
    "for i, txt in enumerate(triall4.Name):\n",
    "    ax.annotate(txt, (triall4['Runs/Ball'].iat[i],triall4['Dot_Single_Ratio'].iat[i]))\n",
    "\n",
    "ax.axhline(y=triall4['Dot_Single_Ratio'].median(), color='k', linestyle='--', linewidth=1)           \n",
    "ax.axvline(x=1.5, color='k',linestyle='--', linewidth=1) \n",
    " \n",
    "plt.show()"
   ]
  },
  {
   "cell_type": "code",
   "execution_count": 31,
   "metadata": {},
   "outputs": [
    {
     "data": {
      "image/png": "[encoded data removed]",
      "text/plain": [
       "<Figure size 1500x1500 with 1 Axes>"
      ]
     },
     "metadata": {},
     "output_type": "display_data"
    }
   ],
   "source": [
    "triall1 = []\n",
    "for name in Bowling_Targets['name']:\n",
    "  x = df_18[df_18['bowler']==name]\n",
    "  runs_total = x['total_runs'].sum()\n",
    "  balls_total = len(x['total_runs'])\n",
    "  runs_per_ball = round((runs_total/balls_total),2)\n",
    "  wickets = len(x[x['is_wicket']==1])\n",
    "  triall1.append([name,runs_per_ball,wickets])\n",
    "  # get ratio of dot balls to singles\n",
    "  dot_count = len(x[x['total_runs']==0])\n",
    "  one_count = len(x[x['total_runs']==1])\n",
    "  Dot_Single_Ratio = dot_count/one_count\n",
    "\n",
    "  # get ratio of boundaries to wickets\n",
    "  four_count = len(x[x['total_runs']==4])\n",
    "  six_count = len(x[x['total_runs']==6])\n",
    "  wicket_count = len(x[x['is_wicket']==1])\n",
    "  Boundaries_Wickets_Ratio = (four_count+six_count)/wicket_count\n",
    "\n",
    "\n",
    "\n",
    "\n",
    "\n",
    "  if runs_per_ball>=0.5:\n",
    "    triall1.append([name,runs_per_ball,wickets, Dot_Single_Ratio, Boundaries_Wickets_Ratio])\n",
    "triall2 = pd.DataFrame(triall1,columns= ['Name','Runs/Ball','Wickets','Dot_Single_Ratio','Boundaries_Wickets_Ratio'])\n",
    "\n",
    "fig, ax = plt.subplots(figsize = (15,15))\n",
    "triall2.plot('Runs/Ball', 'Dot_Single_Ratio', kind='scatter', ax=ax)\n",
    "\n",
    "for i, txt in enumerate(triall2.Name):\n",
    "    ax.annotate(txt, (triall2['Runs/Ball'].iat[i],triall2['Dot_Single_Ratio'].iat[i]))\n",
    "\n",
    "ax.axhline(y=triall2['Dot_Single_Ratio'].median(), color='k', linestyle='--', linewidth=1)           \n",
    "ax.axvline(x=1.38, color='k',linestyle='--', linewidth=1) \n",
    " \n",
    "plt.show()"
   ]
  },
  {
   "cell_type": "code",
   "execution_count": 32,
   "metadata": {},
   "outputs": [
    {
     "data": {
      "application/vnd.jupyter.widget-view+json": {
       "model_id": "cd8280973c2d4d97b65129f16ffbb7b0",
       "version_major": 2,
       "version_minor": 0
      },
      "text/plain": [
       "interactive(children=(Dropdown(description='X-axis:', options=('Name', 'Runs/Ball', 'Wickets', 'Dot_Single_Rat…"
      ]
     },
     "metadata": {},
     "output_type": "display_data"
    },
    {
     "data": {
      "text/plain": [
       "<function __main__.scatter_plot(x_col, y_col)>"
      ]
     },
     "execution_count": 32,
     "metadata": {},
     "output_type": "execute_result"
    }
   ],
   "source": [
    "from ipywidgets import interact, Dropdown\n",
    "\n",
    "def scatter_plot(x_col, y_col):\n",
    "    fig, ax = plt.subplots(figsize = (15,15))\n",
    "    # remove the name column from the dropdowns\n",
    "\n",
    "\n",
    "    triall2.plot(x_col, y_col, kind='scatter', ax=ax)\n",
    "\n",
    "    for i, txt in enumerate(triall2.Name):\n",
    "        ax.annotate(txt, (triall2[x_col].iat[i],triall2[y_col].iat[i]))\n",
    "    \n",
    "    while x_col != 'Name' and y_col != 'Name':\n",
    "        ax.axhline(y=triall2[y_col].median(), color='k', linestyle='--', linewidth=1)           \n",
    "        ax.axvline(x=triall2[x_col].median(), color='k',linestyle='--', linewidth=1) \n",
    "    plt.show()\n",
    "\n",
    "x_col_dropdown = Dropdown(options=triall2.columns, description='X-axis:')\n",
    "y_col_dropdown = Dropdown(options=triall2.columns, description='Y-axis:')\n",
    "\n",
    "interact(scatter_plot, x_col=x_col_dropdown, y_col=y_col_dropdown)\n"
   ]
  },
  {
   "cell_type": "code",
   "execution_count": 33,
   "metadata": {},
   "outputs": [
    {
     "data": {
      "text/plain": [
       "\"\\n    filt=(df['batsman']==batsman)\\n    df_bat=df[filt]\\n\\n    filt2=(df['bowler']==bowler)\\n    df_bowl=df[filt2]\\n    # also call runs_by_segment2 to get the runs scored in each segment for both batsman and bowler\\n    runs_by_segment_batsman = runs_by_segment2(df_bat)\\n    runs_by_segment_bowler = runs_by_segment2(df_bowl)\\n    batsman_runs_segment = []\\n    bowler_runs_segment = []\\n    for key, value in runs_by_segment_batsman.items():\\n        batsman_runs_segment.append([key,value])\\n    for key, value in runs_by_segment_bowler.items():\\n        bowler_runs_segment.append([key,value])\\n\\n    extra1 = []\\n    extra2 = []\\n    for i in range(len(batsman_runs_segment)):\\n        extra1.append(batsman_runs_segment[i][1][0]*1 + batsman_runs_segment[i][1][1]*2 + batsman_runs_segment[i][1][2]*3 + batsman_runs_segment[i][1][3]*4 + batsman_runs_segment[i][1][4]*5 + batsman_runs_segment[i][1][5]*6)\\n    for i in range(len(bowler_runs_segment)):\\n        extra2.append(bowler_runs_segment[i][1][0]*1 + bowler_runs_segment[i][1][1]*2 + bowler_runs_segment[i][1][2]*3 + bowler_runs_segment[i][1][3]*4 + bowler_runs_segment[i][1][4]*5 + bowler_runs_segment[i][1][5]*6)\\n\\n    # if any batsman_counts or bowler_counts are 0, replace with 1\\n    for i in range(len(batsman_counts)):\\n        if batsman_counts[i] == 0:\\n            batsman_counts[i] = 1\\n    for i in range(len(bowler_counts)):\\n        if bowler_counts[i] == 0:\\n            bowler_counts[i] = 1\\n            \\n\""
      ]
     },
     "execution_count": 33,
     "metadata": {},
     "output_type": "execute_result"
    }
   ],
   "source": [
    "'''\n",
    "    filt=(df['batsman']==batsman)\n",
    "    df_bat=df[filt]\n",
    "\n",
    "    filt2=(df['bowler']==bowler)\n",
    "    df_bowl=df[filt2]\n",
    "    # also call runs_by_segment2 to get the runs scored in each segment for both batsman and bowler\n",
    "    runs_by_segment_batsman = runs_by_segment2(df_bat)\n",
    "    runs_by_segment_bowler = runs_by_segment2(df_bowl)\n",
    "    batsman_runs_segment = []\n",
    "    bowler_runs_segment = []\n",
    "    for key, value in runs_by_segment_batsman.items():\n",
    "        batsman_runs_segment.append([key,value])\n",
    "    for key, value in runs_by_segment_bowler.items():\n",
    "        bowler_runs_segment.append([key,value])\n",
    "\n",
    "    extra1 = []\n",
    "    extra2 = []\n",
    "    for i in range(len(batsman_runs_segment)):\n",
    "        extra1.append(batsman_runs_segment[i][1][0]*1 + batsman_runs_segment[i][1][1]*2 + batsman_runs_segment[i][1][2]*3 + batsman_runs_segment[i][1][3]*4 + batsman_runs_segment[i][1][4]*5 + batsman_runs_segment[i][1][5]*6)\n",
    "    for i in range(len(bowler_runs_segment)):\n",
    "        extra2.append(bowler_runs_segment[i][1][0]*1 + bowler_runs_segment[i][1][1]*2 + bowler_runs_segment[i][1][2]*3 + bowler_runs_segment[i][1][3]*4 + bowler_runs_segment[i][1][4]*5 + bowler_runs_segment[i][1][5]*6)\n",
    "\n",
    "    # if any batsman_counts or bowler_counts are 0, replace with 1\n",
    "    for i in range(len(batsman_counts)):\n",
    "        if batsman_counts[i] == 0:\n",
    "            batsman_counts[i] = 1\n",
    "    for i in range(len(bowler_counts)):\n",
    "        if bowler_counts[i] == 0:\n",
    "            bowler_counts[i] = 1\n",
    "            \n",
    "'''\n",
    "\n"
   ]
  },
  {
   "cell_type": "code",
   "execution_count": 34,
   "metadata": {},
   "outputs": [],
   "source": [
    "\n",
    "\n",
    "def radar_matchup(df, batsman, bowler):\n",
    "    # get the counts for the batsman and bowler in different segments\n",
    "    batsman_counts = striker_segment_count(df)[batsman]\n",
    "    bowler_counts = bowler_segment_count(df)[bowler]\n",
    "    \n",
    "    # create a radar chart\n",
    "    fig = plt.figure(figsize=(6, 6))\n",
    "    ax = fig.add_subplot(111, polar=True)\n",
    "    ax.set_theta_zero_location(\"N\")\n",
    "    ax.set_theta_direction(-1)\n",
    "    ax.set_xticks(np.pi/180.0*np.linspace(0, 360, 4, endpoint=False))\n",
    "    ax.set_xticklabels(['pp', 'mid', 'drink', 'end'])\n",
    "    ax.plot(np.linspace(0, 2*np.pi, 4, endpoint=False), [batsman_counts[segment] for segment in ['pp', 'mid', 'drink', 'end']], 'o-', label=batsman)\n",
    "    ax.plot(np.linspace(0, 2*np.pi, 4, endpoint=False), [bowler_counts[segment] for segment in ['pp', 'mid', 'drink', 'end']], 'o-', label=bowler)\n",
    "    ax.legend()\n",
    "    plt.show()\n"
   ]
  },
  {
   "cell_type": "code",
   "execution_count": 35,
   "metadata": {},
   "outputs": [],
   "source": [
    "def select_players_radar(df):\n",
    "    batsman_dropdown = widgets.Dropdown(options=list(Batting_Targets['name']), description='Batsman:')\n",
    "    bowler_dropdown = widgets.Dropdown(options=list(Bowling_Targets['name']), description='Bowler:')\n",
    "    output = widgets.Output()\n",
    "    \n",
    "    def on_batsman_change(change):\n",
    "        if change['type'] == 'change' and change['name'] == 'value':\n",
    "            with output:\n",
    "                clear_output()\n",
    "                radar_matchup(df, change['new'], bowler_dropdown.value)\n",
    "                \n",
    "    def on_bowler_change(change):\n",
    "        if change['type'] == 'change' and change['name'] == 'value':\n",
    "            with output:\n",
    "                clear_output()\n",
    "                radar_matchup(df, batsman_dropdown.value, change['new'])\n",
    "                \n",
    "    batsman_dropdown.observe(on_batsman_change)\n",
    "    bowler_dropdown.observe(on_bowler_change)\n",
    "    display(batsman_dropdown)\n",
    "    display(bowler_dropdown)\n",
    "    display(output)\n",
    "\n",
    "\n"
   ]
  },
  {
   "cell_type": "code",
   "execution_count": 36,
   "metadata": {},
   "outputs": [
    {
     "data": {
      "application/vnd.jupyter.widget-view+json": {
       "model_id": "4b0c2bf168a446a2adaff834ae8a80de",
       "version_major": 2,
       "version_minor": 0
      },
      "text/plain": [
       "Output()"
      ]
     },
     "metadata": {},
     "output_type": "display_data"
    },
    {
     "data": {
      "application/vnd.jupyter.widget-view+json": {
       "model_id": "dcc9c5614b8a42588b48d96fc42016ac",
       "version_major": 2,
       "version_minor": 0
      },
      "text/plain": [
       "interactive(children=(Output(),), _dom_classes=('widget-interact',))"
      ]
     },
     "metadata": {},
     "output_type": "display_data"
    },
    {
     "data": {
      "text/plain": [
       "<function __main__.select_players_radar(df)>"
      ]
     },
     "execution_count": 36,
     "metadata": {},
     "output_type": "execute_result"
    }
   ],
   "source": [
    "from IPython.display import clear_output\n",
    "\n",
    "widgets.interact(select_players_radar, df=widgets.fixed(df_18))"
   ]
  },
  {
   "cell_type": "code",
   "execution_count": 37,
   "metadata": {},
   "outputs": [
    {
     "data": {
      "text/html": [
       "<div>\n",
       "<style scoped>\n",
       "    .dataframe tbody tr th:only-of-type {\n",
       "        vertical-align: middle;\n",
       "    }\n",
       "\n",
       "    .dataframe tbody tr th {\n",
       "        vertical-align: top;\n",
       "    }\n",
       "\n",
       "    .dataframe thead th {\n",
       "        text-align: right;\n",
       "    }\n",
       "</style>\n",
       "<table border=\"1\" class=\"dataframe\">\n",
       "  <thead>\n",
       "    <tr style=\"text-align: right;\">\n",
       "      <th></th>\n",
       "      <th>name</th>\n",
       "      <th>total_balls_per_30</th>\n",
       "      <th>dot_count_per_30</th>\n",
       "      <th>1_count_per_30</th>\n",
       "      <th>2_count_per_30</th>\n",
       "      <th>3_count_per_30</th>\n",
       "      <th>4_count_per_30</th>\n",
       "      <th>5_count_per_30</th>\n",
       "      <th>6_count_per_30</th>\n",
       "      <th>wicket_count_per_30</th>\n",
       "      <th>boundary_count_per_30</th>\n",
       "    </tr>\n",
       "  </thead>\n",
       "  <tbody>\n",
       "    <tr>\n",
       "      <th>S Dhawan</th>\n",
       "      <td>S Dhawan</td>\n",
       "      <td>52.866667</td>\n",
       "      <td>15.866667</td>\n",
       "      <td>23.833333</td>\n",
       "      <td>3.200000</td>\n",
       "      <td>0.200000</td>\n",
       "      <td>8.133333</td>\n",
       "      <td>0.066667</td>\n",
       "      <td>1.566667</td>\n",
       "      <td>1.900000</td>\n",
       "      <td>9.700000</td>\n",
       "    </tr>\n",
       "    <tr>\n",
       "      <th>SS Iyer</th>\n",
       "      <td>SS Iyer</td>\n",
       "      <td>46.533333</td>\n",
       "      <td>14.800000</td>\n",
       "      <td>21.833333</td>\n",
       "      <td>2.833333</td>\n",
       "      <td>0.133333</td>\n",
       "      <td>4.833333</td>\n",
       "      <td>0.066667</td>\n",
       "      <td>2.033333</td>\n",
       "      <td>1.800000</td>\n",
       "      <td>6.866667</td>\n",
       "    </tr>\n",
       "    <tr>\n",
       "      <th>DA Warner</th>\n",
       "      <td>DA Warner</td>\n",
       "      <td>46.000000</td>\n",
       "      <td>13.666667</td>\n",
       "      <td>19.166667</td>\n",
       "      <td>4.900000</td>\n",
       "      <td>0.300000</td>\n",
       "      <td>5.800000</td>\n",
       "      <td>0.133333</td>\n",
       "      <td>2.000000</td>\n",
       "      <td>1.200000</td>\n",
       "      <td>7.800000</td>\n",
       "    </tr>\n",
       "    <tr>\n",
       "      <th>RR Pant</th>\n",
       "      <td>RR Pant</td>\n",
       "      <td>42.033333</td>\n",
       "      <td>12.233333</td>\n",
       "      <td>18.466667</td>\n",
       "      <td>2.400000</td>\n",
       "      <td>0.033333</td>\n",
       "      <td>5.600000</td>\n",
       "      <td>0.066667</td>\n",
       "      <td>3.200000</td>\n",
       "      <td>1.733333</td>\n",
       "      <td>8.800000</td>\n",
       "    </tr>\n",
       "    <tr>\n",
       "      <th>MK Pandey</th>\n",
       "      <td>MK Pandey</td>\n",
       "      <td>39.633333</td>\n",
       "      <td>11.900000</td>\n",
       "      <td>19.033333</td>\n",
       "      <td>3.200000</td>\n",
       "      <td>0.133333</td>\n",
       "      <td>3.933333</td>\n",
       "      <td>0.066667</td>\n",
       "      <td>1.366667</td>\n",
       "      <td>1.333333</td>\n",
       "      <td>5.300000</td>\n",
       "    </tr>\n",
       "  </tbody>\n",
       "</table>\n",
       "</div>"
      ],
      "text/plain": [
       "                name  total_balls_per_30  dot_count_per_30  1_count_per_30  \\\n",
       "S Dhawan    S Dhawan           52.866667         15.866667       23.833333   \n",
       "SS Iyer      SS Iyer           46.533333         14.800000       21.833333   \n",
       "DA Warner  DA Warner           46.000000         13.666667       19.166667   \n",
       "RR Pant      RR Pant           42.033333         12.233333       18.466667   \n",
       "MK Pandey  MK Pandey           39.633333         11.900000       19.033333   \n",
       "\n",
       "           2_count_per_30  3_count_per_30  4_count_per_30  5_count_per_30  \\\n",
       "S Dhawan         3.200000        0.200000        8.133333        0.066667   \n",
       "SS Iyer          2.833333        0.133333        4.833333        0.066667   \n",
       "DA Warner        4.900000        0.300000        5.800000        0.133333   \n",
       "RR Pant          2.400000        0.033333        5.600000        0.066667   \n",
       "MK Pandey        3.200000        0.133333        3.933333        0.066667   \n",
       "\n",
       "           6_count_per_30  wicket_count_per_30  boundary_count_per_30  \n",
       "S Dhawan         1.566667             1.900000               9.700000  \n",
       "SS Iyer          2.033333             1.800000               6.866667  \n",
       "DA Warner        2.000000             1.200000               7.800000  \n",
       "RR Pant          3.200000             1.733333               8.800000  \n",
       "MK Pandey        1.366667             1.333333               5.300000  "
      ]
     },
     "execution_count": 37,
     "metadata": {},
     "output_type": "execute_result"
    }
   ],
   "source": [
    "\n",
    "# create a copy of Batting_Targets where the numeric columns are to be divided by 30 \n",
    "# the new column names will be the old column names with '_per_30' appended\n",
    "\n",
    "Batting_Targets2 = Batting_Targets.copy()\n",
    "Batting_Targets2['total_balls_per_30'] = Batting_Targets2['total_balls_faced']/30\n",
    "Batting_Targets2['dot_count_per_30'] = Batting_Targets2['dot_count']/30\n",
    "Batting_Targets2['1_count_per_30'] = Batting_Targets2['1_count']/30\n",
    "Batting_Targets2['2_count_per_30'] = Batting_Targets2['2_count']/30\n",
    "Batting_Targets2['3_count_per_30'] = Batting_Targets2['3_count']/30\n",
    "Batting_Targets2['4_count_per_30'] = Batting_Targets2['4_count']/30\n",
    "Batting_Targets2['5_count_per_30'] = Batting_Targets2['5_count']/30\n",
    "Batting_Targets2['6_count_per_30'] = Batting_Targets2['6_count']/30\n",
    "Batting_Targets2['wicket_count_per_30'] = Batting_Targets2['wicket_count']/30\n",
    "Batting_Targets2['boundary_count_per_30'] = Batting_Targets2['boundary_count']/30\n",
    "\n",
    "#delete the old columns\n",
    "Batting_Targets2.drop(['total_balls_faced', 'dot_count', '1_count', '2_count', '3_count', '4_count', '5_count', '6_count', 'wicket_count', 'boundary_count'], axis=1, inplace=True)\n",
    "\n",
    "Batting_Targets2.head()\n",
    "\n",
    "\n",
    "\n",
    "\n"
   ]
  },
  {
   "cell_type": "code",
   "execution_count": 38,
   "metadata": {},
   "outputs": [
    {
     "data": {
      "text/html": [
       "<div>\n",
       "<style scoped>\n",
       "    .dataframe tbody tr th:only-of-type {\n",
       "        vertical-align: middle;\n",
       "    }\n",
       "\n",
       "    .dataframe tbody tr th {\n",
       "        vertical-align: top;\n",
       "    }\n",
       "\n",
       "    .dataframe thead th {\n",
       "        text-align: right;\n",
       "    }\n",
       "</style>\n",
       "<table border=\"1\" class=\"dataframe\">\n",
       "  <thead>\n",
       "    <tr style=\"text-align: right;\">\n",
       "      <th></th>\n",
       "      <th>name</th>\n",
       "      <th>total_balls_per_30</th>\n",
       "      <th>dot_count_per_30</th>\n",
       "      <th>1_count_per_30</th>\n",
       "      <th>2_count_per_30</th>\n",
       "      <th>3_count_per_30</th>\n",
       "      <th>4_count_per_30</th>\n",
       "      <th>5_count_per_30</th>\n",
       "      <th>6_count_per_30</th>\n",
       "      <th>wicket_count_per_30</th>\n",
       "      <th>...</th>\n",
       "      <th>rank4_count_per_30</th>\n",
       "      <th>percentile4_count_per_30</th>\n",
       "      <th>rank5_count_per_30</th>\n",
       "      <th>percentile5_count_per_30</th>\n",
       "      <th>rank6_count_per_30</th>\n",
       "      <th>percentile6_count_per_30</th>\n",
       "      <th>rankwicket_count_per_30</th>\n",
       "      <th>percentilewicket_count_per_30</th>\n",
       "      <th>rankboundary_count_per_30</th>\n",
       "      <th>percentileboundary_count_per_30</th>\n",
       "    </tr>\n",
       "  </thead>\n",
       "  <tbody>\n",
       "    <tr>\n",
       "      <th>S Dhawan</th>\n",
       "      <td>S Dhawan</td>\n",
       "      <td>52.866667</td>\n",
       "      <td>15.866667</td>\n",
       "      <td>23.833333</td>\n",
       "      <td>3.200000</td>\n",
       "      <td>0.200000</td>\n",
       "      <td>8.133333</td>\n",
       "      <td>0.066667</td>\n",
       "      <td>1.566667</td>\n",
       "      <td>1.900000</td>\n",
       "      <td>...</td>\n",
       "      <td>1.0</td>\n",
       "      <td>3.0</td>\n",
       "      <td>11.5</td>\n",
       "      <td>33.0</td>\n",
       "      <td>15.0</td>\n",
       "      <td>43.0</td>\n",
       "      <td>1.0</td>\n",
       "      <td>3.0</td>\n",
       "      <td>1.0</td>\n",
       "      <td>3.0</td>\n",
       "    </tr>\n",
       "    <tr>\n",
       "      <th>SS Iyer</th>\n",
       "      <td>SS Iyer</td>\n",
       "      <td>46.533333</td>\n",
       "      <td>14.800000</td>\n",
       "      <td>21.833333</td>\n",
       "      <td>2.833333</td>\n",
       "      <td>0.133333</td>\n",
       "      <td>4.833333</td>\n",
       "      <td>0.066667</td>\n",
       "      <td>2.033333</td>\n",
       "      <td>1.800000</td>\n",
       "      <td>...</td>\n",
       "      <td>5.0</td>\n",
       "      <td>14.0</td>\n",
       "      <td>11.5</td>\n",
       "      <td>33.0</td>\n",
       "      <td>9.0</td>\n",
       "      <td>26.0</td>\n",
       "      <td>2.0</td>\n",
       "      <td>6.0</td>\n",
       "      <td>6.0</td>\n",
       "      <td>17.0</td>\n",
       "    </tr>\n",
       "    <tr>\n",
       "      <th>DA Warner</th>\n",
       "      <td>DA Warner</td>\n",
       "      <td>46.000000</td>\n",
       "      <td>13.666667</td>\n",
       "      <td>19.166667</td>\n",
       "      <td>4.900000</td>\n",
       "      <td>0.300000</td>\n",
       "      <td>5.800000</td>\n",
       "      <td>0.133333</td>\n",
       "      <td>2.000000</td>\n",
       "      <td>1.200000</td>\n",
       "      <td>...</td>\n",
       "      <td>2.0</td>\n",
       "      <td>6.0</td>\n",
       "      <td>1.5</td>\n",
       "      <td>4.0</td>\n",
       "      <td>10.0</td>\n",
       "      <td>29.0</td>\n",
       "      <td>15.5</td>\n",
       "      <td>44.0</td>\n",
       "      <td>3.0</td>\n",
       "      <td>9.0</td>\n",
       "    </tr>\n",
       "    <tr>\n",
       "      <th>RR Pant</th>\n",
       "      <td>RR Pant</td>\n",
       "      <td>42.033333</td>\n",
       "      <td>12.233333</td>\n",
       "      <td>18.466667</td>\n",
       "      <td>2.400000</td>\n",
       "      <td>0.033333</td>\n",
       "      <td>5.600000</td>\n",
       "      <td>0.066667</td>\n",
       "      <td>3.200000</td>\n",
       "      <td>1.733333</td>\n",
       "      <td>...</td>\n",
       "      <td>3.0</td>\n",
       "      <td>9.0</td>\n",
       "      <td>11.5</td>\n",
       "      <td>33.0</td>\n",
       "      <td>1.0</td>\n",
       "      <td>3.0</td>\n",
       "      <td>3.0</td>\n",
       "      <td>9.0</td>\n",
       "      <td>2.0</td>\n",
       "      <td>6.0</td>\n",
       "    </tr>\n",
       "    <tr>\n",
       "      <th>MK Pandey</th>\n",
       "      <td>MK Pandey</td>\n",
       "      <td>39.633333</td>\n",
       "      <td>11.900000</td>\n",
       "      <td>19.033333</td>\n",
       "      <td>3.200000</td>\n",
       "      <td>0.133333</td>\n",
       "      <td>3.933333</td>\n",
       "      <td>0.066667</td>\n",
       "      <td>1.366667</td>\n",
       "      <td>1.333333</td>\n",
       "      <td>...</td>\n",
       "      <td>12.0</td>\n",
       "      <td>34.0</td>\n",
       "      <td>11.5</td>\n",
       "      <td>33.0</td>\n",
       "      <td>17.0</td>\n",
       "      <td>49.0</td>\n",
       "      <td>9.5</td>\n",
       "      <td>27.0</td>\n",
       "      <td>14.5</td>\n",
       "      <td>41.0</td>\n",
       "    </tr>\n",
       "  </tbody>\n",
       "</table>\n",
       "<p>5 rows × 31 columns</p>\n",
       "</div>"
      ],
      "text/plain": [
       "                name  total_balls_per_30  dot_count_per_30  1_count_per_30  \\\n",
       "S Dhawan    S Dhawan           52.866667         15.866667       23.833333   \n",
       "SS Iyer      SS Iyer           46.533333         14.800000       21.833333   \n",
       "DA Warner  DA Warner           46.000000         13.666667       19.166667   \n",
       "RR Pant      RR Pant           42.033333         12.233333       18.466667   \n",
       "MK Pandey  MK Pandey           39.633333         11.900000       19.033333   \n",
       "\n",
       "           2_count_per_30  3_count_per_30  4_count_per_30  5_count_per_30  \\\n",
       "S Dhawan         3.200000        0.200000        8.133333        0.066667   \n",
       "SS Iyer          2.833333        0.133333        4.833333        0.066667   \n",
       "DA Warner        4.900000        0.300000        5.800000        0.133333   \n",
       "RR Pant          2.400000        0.033333        5.600000        0.066667   \n",
       "MK Pandey        3.200000        0.133333        3.933333        0.066667   \n",
       "\n",
       "           6_count_per_30  wicket_count_per_30  ...  rank4_count_per_30  \\\n",
       "S Dhawan         1.566667             1.900000  ...                 1.0   \n",
       "SS Iyer          2.033333             1.800000  ...                 5.0   \n",
       "DA Warner        2.000000             1.200000  ...                 2.0   \n",
       "RR Pant          3.200000             1.733333  ...                 3.0   \n",
       "MK Pandey        1.366667             1.333333  ...                12.0   \n",
       "\n",
       "           percentile4_count_per_30  rank5_count_per_30  \\\n",
       "S Dhawan                        3.0                11.5   \n",
       "SS Iyer                        14.0                11.5   \n",
       "DA Warner                       6.0                 1.5   \n",
       "RR Pant                         9.0                11.5   \n",
       "MK Pandey                      34.0                11.5   \n",
       "\n",
       "           percentile5_count_per_30  rank6_count_per_30  \\\n",
       "S Dhawan                       33.0                15.0   \n",
       "SS Iyer                        33.0                 9.0   \n",
       "DA Warner                       4.0                10.0   \n",
       "RR Pant                        33.0                 1.0   \n",
       "MK Pandey                      33.0                17.0   \n",
       "\n",
       "           percentile6_count_per_30  rankwicket_count_per_30  \\\n",
       "S Dhawan                       43.0                      1.0   \n",
       "SS Iyer                        26.0                      2.0   \n",
       "DA Warner                      29.0                     15.5   \n",
       "RR Pant                         3.0                      3.0   \n",
       "MK Pandey                      49.0                      9.5   \n",
       "\n",
       "           percentilewicket_count_per_30  rankboundary_count_per_30  \\\n",
       "S Dhawan                             3.0                        1.0   \n",
       "SS Iyer                              6.0                        6.0   \n",
       "DA Warner                           44.0                        3.0   \n",
       "RR Pant                              9.0                        2.0   \n",
       "MK Pandey                           27.0                       14.5   \n",
       "\n",
       "           percentileboundary_count_per_30  \n",
       "S Dhawan                               3.0  \n",
       "SS Iyer                               17.0  \n",
       "DA Warner                              9.0  \n",
       "RR Pant                                6.0  \n",
       "MK Pandey                             41.0  \n",
       "\n",
       "[5 rows x 31 columns]"
      ]
     },
     "execution_count": 38,
     "metadata": {},
     "output_type": "execute_result"
    }
   ],
   "source": [
    "# create a ranker function that will rank the players based on the selected column and give percentile scores\n",
    "\n",
    "def ranker(df, column):\n",
    "    df['rank'+column] = df[column].rank(ascending=False)\n",
    "    df['percentile'+column] = round(df['rank'+column]/len(df),2)*100\n",
    "    return df\n",
    "\n",
    "# run the ranker function on the Batter_Targets2 dataframe for each numeric column\n",
    "# the new column names will be the old column names with '_rank' appended\n",
    "\n",
    "Batting_Targets3 = Batting_Targets2.copy()\n",
    "Batting_Targets3 = ranker(Batting_Targets3, 'total_balls_per_30')\n",
    "Batting_Targets3 = ranker(Batting_Targets3, 'dot_count_per_30')\n",
    "Batting_Targets3 = ranker(Batting_Targets3, '1_count_per_30')\n",
    "Batting_Targets3 = ranker(Batting_Targets3, '2_count_per_30')\n",
    "Batting_Targets3 = ranker(Batting_Targets3, '3_count_per_30')\n",
    "Batting_Targets3 = ranker(Batting_Targets3, '4_count_per_30')\n",
    "Batting_Targets3 = ranker(Batting_Targets3, '5_count_per_30')\n",
    "Batting_Targets3 = ranker(Batting_Targets3, '6_count_per_30')\n",
    "Batting_Targets3 = ranker(Batting_Targets3, 'wicket_count_per_30')\n",
    "Batting_Targets3 = ranker(Batting_Targets3, 'boundary_count_per_30')\n",
    "\n",
    "Batting_Targets3.head()\n"
   ]
  },
  {
   "cell_type": "code",
   "execution_count": 39,
   "metadata": {},
   "outputs": [
    {
     "data": {
      "application/vnd.jupyter.widget-view+json": {
       "model_id": "53d8f946bb3d43e592043025d0cb4b5a",
       "version_major": 2,
       "version_minor": 0
      },
      "text/plain": [
       "Output()"
      ]
     },
     "metadata": {},
     "output_type": "display_data"
    },
    {
     "data": {
      "application/vnd.jupyter.widget-view+json": {
       "model_id": "11e805b0a3cd4b0c8e5d447ad72afe53",
       "version_major": 2,
       "version_minor": 0
      },
      "text/plain": [
       "interactive(children=(Output(),), _dom_classes=('widget-interact',))"
      ]
     },
     "metadata": {},
     "output_type": "display_data"
    },
    {
     "data": {
      "text/plain": [
       "<function __main__.select_players_bar(df)>"
      ]
     },
     "execution_count": 39,
     "metadata": {},
     "output_type": "execute_result"
    }
   ],
   "source": [
    "# make a funciton for horizontal bar charts\n",
    "# y-axis is the column name\n",
    "# x-axis is the value, of the numeric column, the percentile score, the bar chart will be colored based on the percentile score\n",
    "# this chart will be for each player\n",
    "\n",
    "import matplotlib.cm as cm\n",
    "\n",
    "def bar_chart(df, column):\n",
    "    fig, ax = plt.subplots(figsize=(10, 10))\n",
    "    ax.barh(df['name'], df[column], color=cm.viridis(df['percentile'+column]/100))\n",
    "    ax.set_xlabel(column)\n",
    "    ax.set_ylabel('Player')\n",
    "    ax.set_title('Player Performance')\n",
    "    plt.show()\n",
    "\n",
    "# make a function that will create a dropdown menu for the names of the players\n",
    "# the output will be the horizontal bar chart for the selected column\n",
    "\n",
    "def select_players_bar(df):\n",
    "    player_dropdown = widgets.Dropdown(options=list(Batting_Targets['name']), description='Player:')\n",
    "    column_dropdown = widgets.Dropdown(options=list(Batting_Targets3.columns[2:]), description='Column:')\n",
    "    output = widgets.Output()\n",
    "    \n",
    "    def on_player_change(change):\n",
    "        if change['type'] == 'change' and change['name'] == 'value':\n",
    "            with output:\n",
    "                clear_output()\n",
    "                bar_chart(df, column_dropdown.value)\n",
    "                \n",
    "    def on_column_change(change):\n",
    "        if change['type'] == 'change' and change['name'] == 'value':\n",
    "            with output:\n",
    "                clear_output()\n",
    "                bar_chart(df, change['new'])\n",
    "                \n",
    "    player_dropdown.observe(on_player_change)\n",
    "    column_dropdown.observe(on_column_change)\n",
    "    display(player_dropdown)\n",
    "    display(column_dropdown)\n",
    "    display(output)\n",
    "\n",
    "widgets.interact(select_players_bar, df=widgets.fixed(Batting_Targets3))\n",
    "\n"
   ]
  },
  {
   "cell_type": "code",
   "execution_count": 41,
   "metadata": {},
   "outputs": [
    {
     "data": {
      "application/vnd.jupyter.widget-view+json": {
       "model_id": "4d355d3f7f1249baa23c0adce6c9ce83",
       "version_major": 2,
       "version_minor": 0
      },
      "text/plain": [
       "HBox(children=(Dropdown(description='Player:', options=('S Dhawan', 'SS Iyer', 'DA Warner', 'RR Pant', 'MK Pan…"
      ]
     },
     "metadata": {},
     "output_type": "display_data"
    },
    {
     "data": {
      "application/vnd.jupyter.widget-view+json": {
       "model_id": "d57c3c936de242d98180dd5a1e0f920d",
       "version_major": 2,
       "version_minor": 0
      },
      "text/plain": [
       "Output()"
      ]
     },
     "metadata": {},
     "output_type": "display_data"
    }
   ],
   "source": [
    "import matplotlib.pyplot as plt\n",
    "import matplotlib.cm as cm\n",
    "import ipywidgets as widgets\n",
    "from IPython.display import display\n",
    "\n",
    "def bar_chart(df, player, column):\n",
    "    player_data = df[df['name'] == player]\n",
    "    value = player_data[column].values[0]\n",
    "    percentile = player_data[column].values[0]\n",
    "    fig, ax = plt.subplots(figsize=(10, 10))\n",
    "    ax.barh(player, value, color=cm.viridis(percentile/100))\n",
    "    ax.set_xlabel(column)\n",
    "    ax.set_ylabel('Player')\n",
    "    ax.set_title('Player Performance')\n",
    "    plt.show()\n",
    "\n",
    "def select_players_bar(df):\n",
    "    player_dropdown = widgets.Dropdown(options=list(df['name']), description='Player:')\n",
    "    column_dropdown = widgets.Dropdown(options=list(df.columns[2:]), description='Column:')\n",
    "    output = widgets.Output()\n",
    "    \n",
    "    def on_change(change):\n",
    "        if change['type'] == 'change' and change['name'] == 'value':\n",
    "            with output:\n",
    "                clear_output()\n",
    "                bar_chart(df, player_dropdown.value, column_dropdown.value)\n",
    "    \n",
    "    player_dropdown.observe(on_change)\n",
    "    column_dropdown.observe(on_change)\n",
    "    \n",
    "    display(widgets.HBox([player_dropdown, column_dropdown]))\n",
    "    display(output)\n",
    "    \n",
    "select_players_bar(Batting_Targets3)\n"
   ]
  }
 ],
 "metadata": {
  "kernelspec": {
   "display_name": "Python 3.9.6 64-bit",
   "language": "python",
   "name": "python3"
  },
  "language_info": {
   "codemirror_mode": {
    "name": "ipython",
    "version": 3
   },
   "file_extension": ".py",
   "mimetype": "text/x-python",
   "name": "python",
   "nbconvert_exporter": "python",
   "pygments_lexer": "ipython3",
   "version": "3.10.10"
  },
  "orig_nbformat": 4,
  "vscode": {
   "interpreter": {
    "hash": "16702e87c1b51f03692cd103c380ee43cfff3b0c652b5fae2e9ae1dbb889bebc"
   }
  }
 },
 "nbformat": 4,
 "nbformat_minor": 2
}
