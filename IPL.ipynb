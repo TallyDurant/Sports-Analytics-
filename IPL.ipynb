{
 "cells": [
  {
   "cell_type": "code",
   "execution_count": 33,
   "metadata": {},
   "outputs": [],
   "source": [
    "import requests\n",
    "import pandas as pd\n",
    "import json\n",
    "import numpy as np\n",
    "import matplotlib.pyplot as plt\n",
    "import seaborn as sns\n"
   ]
  },
  {
   "cell_type": "code",
   "execution_count": 34,
   "metadata": {},
   "outputs": [],
   "source": [
    "import plotly\n",
    "import plotly.express as px\n",
    "import plotly.graph_objs as go\n",
    "from plotly.offline import init_notebook_mode, plot, iplot\n",
    "from plotly import tools\n",
    "from warnings import filterwarnings\n",
    "import ipywidgets as widgets\n",
    "from ipywidgets import interact, interactive, fixed, interact_manual"
   ]
  },
  {
   "cell_type": "code",
   "execution_count": 35,
   "metadata": {},
   "outputs": [],
   "source": [
    "#df_complete = pd.read_csv('C:/Users/tally/Desktop/Sports Analytics/IPL.csv')"
   ]
  },
  {
   "attachments": {},
   "cell_type": "markdown",
   "metadata": {},
   "source": [
    "# 1. Data Ingestion and Preparation"
   ]
  },
  {
   "cell_type": "code",
   "execution_count": 36,
   "metadata": {},
   "outputs": [],
   "source": [
    "df2022 = pd.read_csv('C:/Users/tally/Desktop/Sports Analytics/IPL_Ball_by_Ball_2008_2022.csv')\n",
    "# Create a dictionary to map the column names from df2 to df1\n",
    "column_mapping = {\n",
    "    'ID': 'id',\n",
    "    'innings': 'inning',\n",
    "    'overs': 'over',\n",
    "    'ballnumber': 'ball',\n",
    "    'batter': 'batsman',\n",
    "    'bowler': 'bowler',\n",
    "    'non-striker': 'non_striker',\n",
    "    'extra_type': 'extras_type',\n",
    "    'batsman_run': 'batsman_runs',\n",
    "    'extras_run': 'extra_runs',\n",
    "    'total_run': 'total_runs',\n",
    "    'non_boundary': 'non_boundary',\n",
    "    'isWicketDelivery': 'is_wicket',\n",
    "    'player_out': 'player_dismissed',\n",
    "    'kind': 'dismissal_kind',\n",
    "    'fielders_involved': 'fielder',\n",
    "    'BattingTeam': 'batting_team',\n",
    "    'bowling_team': 'bowling_team'\n",
    "}\n",
    "\n",
    "# Use the rename method to rename the columns in df2 based on the mapping dictionary\n",
    "df2022 = df2022.rename(columns=column_mapping)\n"
   ]
  },
  {
   "cell_type": "code",
   "execution_count": 37,
   "metadata": {},
   "outputs": [
    {
     "data": {
      "text/html": [
       "<div>\n",
       "<style scoped>\n",
       "    .dataframe tbody tr th:only-of-type {\n",
       "        vertical-align: middle;\n",
       "    }\n",
       "\n",
       "    .dataframe tbody tr th {\n",
       "        vertical-align: top;\n",
       "    }\n",
       "\n",
       "    .dataframe thead th {\n",
       "        text-align: right;\n",
       "    }\n",
       "</style>\n",
       "<table border=\"1\" class=\"dataframe\">\n",
       "  <thead>\n",
       "    <tr style=\"text-align: right;\">\n",
       "      <th></th>\n",
       "      <th>id</th>\n",
       "      <th>inning</th>\n",
       "      <th>over</th>\n",
       "      <th>ball</th>\n",
       "      <th>batsman</th>\n",
       "      <th>bowler</th>\n",
       "      <th>non_striker</th>\n",
       "      <th>extras_type</th>\n",
       "      <th>batsman_runs</th>\n",
       "      <th>extra_runs</th>\n",
       "      <th>total_runs</th>\n",
       "      <th>non_boundary</th>\n",
       "      <th>is_wicket</th>\n",
       "      <th>player_dismissed</th>\n",
       "      <th>dismissal_kind</th>\n",
       "      <th>fielder</th>\n",
       "      <th>batting_team</th>\n",
       "    </tr>\n",
       "  </thead>\n",
       "  <tbody>\n",
       "    <tr>\n",
       "      <th>0</th>\n",
       "      <td>1312200</td>\n",
       "      <td>1</td>\n",
       "      <td>0</td>\n",
       "      <td>1</td>\n",
       "      <td>YBK Jaiswal</td>\n",
       "      <td>Mohammed Shami</td>\n",
       "      <td>JC Buttler</td>\n",
       "      <td>NaN</td>\n",
       "      <td>0</td>\n",
       "      <td>0</td>\n",
       "      <td>0</td>\n",
       "      <td>0</td>\n",
       "      <td>0</td>\n",
       "      <td>NaN</td>\n",
       "      <td>NaN</td>\n",
       "      <td>NaN</td>\n",
       "      <td>Rajasthan Royals</td>\n",
       "    </tr>\n",
       "    <tr>\n",
       "      <th>1</th>\n",
       "      <td>1312200</td>\n",
       "      <td>1</td>\n",
       "      <td>0</td>\n",
       "      <td>2</td>\n",
       "      <td>YBK Jaiswal</td>\n",
       "      <td>Mohammed Shami</td>\n",
       "      <td>JC Buttler</td>\n",
       "      <td>legbyes</td>\n",
       "      <td>0</td>\n",
       "      <td>1</td>\n",
       "      <td>1</td>\n",
       "      <td>0</td>\n",
       "      <td>0</td>\n",
       "      <td>NaN</td>\n",
       "      <td>NaN</td>\n",
       "      <td>NaN</td>\n",
       "      <td>Rajasthan Royals</td>\n",
       "    </tr>\n",
       "    <tr>\n",
       "      <th>2</th>\n",
       "      <td>1312200</td>\n",
       "      <td>1</td>\n",
       "      <td>0</td>\n",
       "      <td>3</td>\n",
       "      <td>JC Buttler</td>\n",
       "      <td>Mohammed Shami</td>\n",
       "      <td>YBK Jaiswal</td>\n",
       "      <td>NaN</td>\n",
       "      <td>1</td>\n",
       "      <td>0</td>\n",
       "      <td>1</td>\n",
       "      <td>0</td>\n",
       "      <td>0</td>\n",
       "      <td>NaN</td>\n",
       "      <td>NaN</td>\n",
       "      <td>NaN</td>\n",
       "      <td>Rajasthan Royals</td>\n",
       "    </tr>\n",
       "    <tr>\n",
       "      <th>3</th>\n",
       "      <td>1312200</td>\n",
       "      <td>1</td>\n",
       "      <td>0</td>\n",
       "      <td>4</td>\n",
       "      <td>YBK Jaiswal</td>\n",
       "      <td>Mohammed Shami</td>\n",
       "      <td>JC Buttler</td>\n",
       "      <td>NaN</td>\n",
       "      <td>0</td>\n",
       "      <td>0</td>\n",
       "      <td>0</td>\n",
       "      <td>0</td>\n",
       "      <td>0</td>\n",
       "      <td>NaN</td>\n",
       "      <td>NaN</td>\n",
       "      <td>NaN</td>\n",
       "      <td>Rajasthan Royals</td>\n",
       "    </tr>\n",
       "    <tr>\n",
       "      <th>4</th>\n",
       "      <td>1312200</td>\n",
       "      <td>1</td>\n",
       "      <td>0</td>\n",
       "      <td>5</td>\n",
       "      <td>YBK Jaiswal</td>\n",
       "      <td>Mohammed Shami</td>\n",
       "      <td>JC Buttler</td>\n",
       "      <td>NaN</td>\n",
       "      <td>0</td>\n",
       "      <td>0</td>\n",
       "      <td>0</td>\n",
       "      <td>0</td>\n",
       "      <td>0</td>\n",
       "      <td>NaN</td>\n",
       "      <td>NaN</td>\n",
       "      <td>NaN</td>\n",
       "      <td>Rajasthan Royals</td>\n",
       "    </tr>\n",
       "  </tbody>\n",
       "</table>\n",
       "</div>"
      ],
      "text/plain": [
       "        id  inning  over  ball      batsman          bowler  non_striker  \\\n",
       "0  1312200       1     0     1  YBK Jaiswal  Mohammed Shami   JC Buttler   \n",
       "1  1312200       1     0     2  YBK Jaiswal  Mohammed Shami   JC Buttler   \n",
       "2  1312200       1     0     3   JC Buttler  Mohammed Shami  YBK Jaiswal   \n",
       "3  1312200       1     0     4  YBK Jaiswal  Mohammed Shami   JC Buttler   \n",
       "4  1312200       1     0     5  YBK Jaiswal  Mohammed Shami   JC Buttler   \n",
       "\n",
       "  extras_type  batsman_runs  extra_runs  total_runs  non_boundary  is_wicket  \\\n",
       "0         NaN             0           0           0             0          0   \n",
       "1     legbyes             0           1           1             0          0   \n",
       "2         NaN             1           0           1             0          0   \n",
       "3         NaN             0           0           0             0          0   \n",
       "4         NaN             0           0           0             0          0   \n",
       "\n",
       "  player_dismissed dismissal_kind fielder      batting_team  \n",
       "0              NaN            NaN     NaN  Rajasthan Royals  \n",
       "1              NaN            NaN     NaN  Rajasthan Royals  \n",
       "2              NaN            NaN     NaN  Rajasthan Royals  \n",
       "3              NaN            NaN     NaN  Rajasthan Royals  \n",
       "4              NaN            NaN     NaN  Rajasthan Royals  "
      ]
     },
     "execution_count": 37,
     "metadata": {},
     "output_type": "execute_result"
    }
   ],
   "source": [
    "df2022.head()"
   ]
  },
  {
   "attachments": {},
   "cell_type": "markdown",
   "metadata": {},
   "source": [
    "## 1.1 Extract df18 from whole dataset - df18 is match data after 2018 IPL Big Auction."
   ]
  },
  {
   "cell_type": "code",
   "execution_count": 38,
   "metadata": {},
   "outputs": [
    {
     "data": {
      "text/html": [
       "<div>\n",
       "<style scoped>\n",
       "    .dataframe tbody tr th:only-of-type {\n",
       "        vertical-align: middle;\n",
       "    }\n",
       "\n",
       "    .dataframe tbody tr th {\n",
       "        vertical-align: top;\n",
       "    }\n",
       "\n",
       "    .dataframe thead th {\n",
       "        text-align: right;\n",
       "    }\n",
       "</style>\n",
       "<table border=\"1\" class=\"dataframe\">\n",
       "  <thead>\n",
       "    <tr style=\"text-align: right;\">\n",
       "      <th></th>\n",
       "      <th>id</th>\n",
       "      <th>inning</th>\n",
       "      <th>over</th>\n",
       "      <th>ball</th>\n",
       "      <th>batsman</th>\n",
       "      <th>bowler</th>\n",
       "      <th>non_striker</th>\n",
       "      <th>extras_type</th>\n",
       "      <th>batsman_runs</th>\n",
       "      <th>extra_runs</th>\n",
       "      <th>total_runs</th>\n",
       "      <th>non_boundary</th>\n",
       "      <th>is_wicket</th>\n",
       "      <th>player_dismissed</th>\n",
       "      <th>dismissal_kind</th>\n",
       "      <th>fielder</th>\n",
       "      <th>batting_team</th>\n",
       "    </tr>\n",
       "  </thead>\n",
       "  <tbody>\n",
       "    <tr>\n",
       "      <th>0</th>\n",
       "      <td>1312200</td>\n",
       "      <td>1</td>\n",
       "      <td>0</td>\n",
       "      <td>1</td>\n",
       "      <td>YBK Jaiswal</td>\n",
       "      <td>Mohammed Shami</td>\n",
       "      <td>JC Buttler</td>\n",
       "      <td>NaN</td>\n",
       "      <td>0</td>\n",
       "      <td>0</td>\n",
       "      <td>0</td>\n",
       "      <td>0</td>\n",
       "      <td>0</td>\n",
       "      <td>NaN</td>\n",
       "      <td>NaN</td>\n",
       "      <td>NaN</td>\n",
       "      <td>Rajasthan Royals</td>\n",
       "    </tr>\n",
       "    <tr>\n",
       "      <th>1</th>\n",
       "      <td>1312200</td>\n",
       "      <td>1</td>\n",
       "      <td>0</td>\n",
       "      <td>2</td>\n",
       "      <td>YBK Jaiswal</td>\n",
       "      <td>Mohammed Shami</td>\n",
       "      <td>JC Buttler</td>\n",
       "      <td>legbyes</td>\n",
       "      <td>0</td>\n",
       "      <td>1</td>\n",
       "      <td>1</td>\n",
       "      <td>0</td>\n",
       "      <td>0</td>\n",
       "      <td>NaN</td>\n",
       "      <td>NaN</td>\n",
       "      <td>NaN</td>\n",
       "      <td>Rajasthan Royals</td>\n",
       "    </tr>\n",
       "    <tr>\n",
       "      <th>2</th>\n",
       "      <td>1312200</td>\n",
       "      <td>1</td>\n",
       "      <td>0</td>\n",
       "      <td>3</td>\n",
       "      <td>JC Buttler</td>\n",
       "      <td>Mohammed Shami</td>\n",
       "      <td>YBK Jaiswal</td>\n",
       "      <td>NaN</td>\n",
       "      <td>1</td>\n",
       "      <td>0</td>\n",
       "      <td>1</td>\n",
       "      <td>0</td>\n",
       "      <td>0</td>\n",
       "      <td>NaN</td>\n",
       "      <td>NaN</td>\n",
       "      <td>NaN</td>\n",
       "      <td>Rajasthan Royals</td>\n",
       "    </tr>\n",
       "    <tr>\n",
       "      <th>3</th>\n",
       "      <td>1312200</td>\n",
       "      <td>1</td>\n",
       "      <td>0</td>\n",
       "      <td>4</td>\n",
       "      <td>YBK Jaiswal</td>\n",
       "      <td>Mohammed Shami</td>\n",
       "      <td>JC Buttler</td>\n",
       "      <td>NaN</td>\n",
       "      <td>0</td>\n",
       "      <td>0</td>\n",
       "      <td>0</td>\n",
       "      <td>0</td>\n",
       "      <td>0</td>\n",
       "      <td>NaN</td>\n",
       "      <td>NaN</td>\n",
       "      <td>NaN</td>\n",
       "      <td>Rajasthan Royals</td>\n",
       "    </tr>\n",
       "    <tr>\n",
       "      <th>4</th>\n",
       "      <td>1312200</td>\n",
       "      <td>1</td>\n",
       "      <td>0</td>\n",
       "      <td>5</td>\n",
       "      <td>YBK Jaiswal</td>\n",
       "      <td>Mohammed Shami</td>\n",
       "      <td>JC Buttler</td>\n",
       "      <td>NaN</td>\n",
       "      <td>0</td>\n",
       "      <td>0</td>\n",
       "      <td>0</td>\n",
       "      <td>0</td>\n",
       "      <td>0</td>\n",
       "      <td>NaN</td>\n",
       "      <td>NaN</td>\n",
       "      <td>NaN</td>\n",
       "      <td>Rajasthan Royals</td>\n",
       "    </tr>\n",
       "  </tbody>\n",
       "</table>\n",
       "</div>"
      ],
      "text/plain": [
       "        id  inning  over  ball      batsman          bowler  non_striker  \\\n",
       "0  1312200       1     0     1  YBK Jaiswal  Mohammed Shami   JC Buttler   \n",
       "1  1312200       1     0     2  YBK Jaiswal  Mohammed Shami   JC Buttler   \n",
       "2  1312200       1     0     3   JC Buttler  Mohammed Shami  YBK Jaiswal   \n",
       "3  1312200       1     0     4  YBK Jaiswal  Mohammed Shami   JC Buttler   \n",
       "4  1312200       1     0     5  YBK Jaiswal  Mohammed Shami   JC Buttler   \n",
       "\n",
       "  extras_type  batsman_runs  extra_runs  total_runs  non_boundary  is_wicket  \\\n",
       "0         NaN             0           0           0             0          0   \n",
       "1     legbyes             0           1           1             0          0   \n",
       "2         NaN             1           0           1             0          0   \n",
       "3         NaN             0           0           0             0          0   \n",
       "4         NaN             0           0           0             0          0   \n",
       "\n",
       "  player_dismissed dismissal_kind fielder      batting_team  \n",
       "0              NaN            NaN     NaN  Rajasthan Royals  \n",
       "1              NaN            NaN     NaN  Rajasthan Royals  \n",
       "2              NaN            NaN     NaN  Rajasthan Royals  \n",
       "3              NaN            NaN     NaN  Rajasthan Royals  \n",
       "4              NaN            NaN     NaN  Rajasthan Royals  "
      ]
     },
     "execution_count": 38,
     "metadata": {},
     "output_type": "execute_result"
    }
   ],
   "source": [
    "df_18 = df2022[df2022['id'] >981019]\n",
    "df_18.head()"
   ]
  },
  {
   "cell_type": "code",
   "execution_count": 39,
   "metadata": {},
   "outputs": [],
   "source": [
    "# creata a dictionary whose key is the year and value is the id of the first match of that year and the last match of that year start with the whole df 2008\n",
    "\n",
    "year_dict = {2008: [335982, 336041], 2009: [392181, 392240], 2010: [419106, 419165], 2011: [501198, 501257],\n",
    "                2012: [548306, 548364], 2013: [598000, 598058], 2014: [729279, 734049], 2015: [829705, 829823],\n",
    "                2016: [980901, 981019], 2017: [1082591, 1082650], 2018: [1136561, 1136620], 2019: [1175356, 1181768],\n",
    "                2020: [1216492, 1237181], 2021: [1254058, 1254117], 2022: [1304047, 1312200]}"
   ]
  },
  {
   "cell_type": "code",
   "execution_count": 40,
   "metadata": {},
   "outputs": [],
   "source": [
    "def add_current_wickets_column(df):\n",
    "    \"\"\"\n",
    "    Adds a new column 'current_wickets' to the input DataFrame,\n",
    "    which represents the current number of wickets lost for each\n",
    "    innings (grouped by the 'id' column).\n",
    "    \"\"\"\n",
    "    # Initialize the current wickets to 0 for the first row of each innings\n",
    "    df['current_wickets'] = 0\n",
    "    \n",
    "    # Group the DataFrame by the 'id' column and iterate over each group\n",
    "    for _, group_df in df.groupby('id'):\n",
    "        # Get the index of the first row for this group\n",
    "        first_row_index = group_df.index[0]\n",
    "        \n",
    "        # Set the current wickets to 0 for the first row of each innings\n",
    "        df.at[first_row_index, 'current_wickets'] = 0\n",
    "        \n",
    "        # Iterate over the rows for this group, starting from the second row\n",
    "        for i in range(first_row_index+1, first_row_index+len(group_df)):\n",
    "            # If the current row has a wicket, increment the current wickets\n",
    "            if group_df.at[i, 'is_wicket'] == 1:\n",
    "                df.at[i, 'current_wickets'] = df.at[i-1, 'current_wickets'] + 1\n",
    "            # Otherwise, copy the current wickets from the previous row\n",
    "            else:\n",
    "                df.at[i, 'current_wickets'] = df.at[i-1, 'current_wickets']\n",
    "    \n",
    "    return df"
   ]
  },
  {
   "cell_type": "code",
   "execution_count": 41,
   "metadata": {},
   "outputs": [],
   "source": [
    "def get_weighted_bowlers(df):\n",
    "    # Create a dictionary to store the weighted values for each bowler\n",
    "    bowlers = {}\n",
    "\n",
    "    # Iterate over each row in the dataframe\n",
    "    for index, row in df.iterrows():\n",
    "        # Get the current wicket count for this match\n",
    "        current_wickets = row['current_wickets']\n",
    "\n",
    "        # Get the bowler name\n",
    "        bowler = row['bowler']\n",
    "\n",
    "        # If the bowler is not already in the dictionary, add them with initial values of 0\n",
    "        if bowler not in bowlers:\n",
    "            bowlers[bowler] = {'0-2': 0, '2-5': 0, '5-8': 0, '8-10': 0}\n",
    "\n",
    "        # Increment the appropriate column based on the current wicket count\n",
    "        if current_wickets <= 2:\n",
    "            bowlers[bowler]['0-2'] += row['is_wicket']\n",
    "        elif current_wickets <= 5:\n",
    "            bowlers[bowler]['2-5'] += row['is_wicket']\n",
    "        elif current_wickets <= 8:\n",
    "            bowlers[bowler]['5-8'] += row['is_wicket']\n",
    "        else:\n",
    "            bowlers[bowler]['8-10'] += row['is_wicket']\n",
    "\n",
    "    # Convert the dictionary to a dataframe and return it\n",
    "    weighted_bowlers = pd.DataFrame.from_dict(bowlers, orient='index')\n",
    "    weighted_bowlers.index.name = 'bowler'\n",
    "\n",
    "    weighted_bowlers['weighted_wickets'] = (weighted_bowlers['0-2']*1 + \n",
    "                                             weighted_bowlers['2-5']*0.8 + \n",
    "                                             weighted_bowlers['5-8']*0.5 + \n",
    "                                             weighted_bowlers['8-10']*0.3)\n",
    "    \n",
    "    # add a column for the total number of wickets\n",
    "    weighted_bowlers['total_wickets'] = (weighted_bowlers['0-2'] + weighted_bowlers['2-5'] + weighted_bowlers['5-8'] + weighted_bowlers['8-10'])\n",
    "\n",
    "\n",
    "    \n",
    "    # remove all bowlers who have 0 wickets in all categories\n",
    "    weighted_bowlers = weighted_bowlers[weighted_bowlers['weighted_wickets'] > 0]\n",
    "\n",
    "    # add a column of percentage of weighted wickets to total wickets\n",
    "\n",
    "    weighted_bowlers['weighted_wickets_pct'] = (weighted_bowlers['weighted_wickets'] / weighted_bowlers['total_wickets'])*100\n",
    "\n",
    "\n",
    "    # order the dataframe by the weighted wickets column\n",
    "    weighted_bowlers = weighted_bowlers.sort_values('weighted_wickets', ascending=False)\n",
    "\n",
    "\n",
    "    \n",
    "\n",
    "\n",
    "    return weighted_bowlers"
   ]
  },
  {
   "attachments": {},
   "cell_type": "markdown",
   "metadata": {},
   "source": [
    "### 2.1 Weighted Wickets Calculation\n",
    "\n",
    "    Assigning weights to wickets based on the batting position. The higher the batting position, the higher the weight."
   ]
  },
  {
   "cell_type": "code",
   "execution_count": 42,
   "metadata": {},
   "outputs": [
    {
     "name": "stderr",
     "output_type": "stream",
     "text": [
      "C:\\Users\\tally\\AppData\\Local\\Temp\\ipykernel_19172\\2318255558.py:8: SettingWithCopyWarning:\n",
      "\n",
      "\n",
      "A value is trying to be set on a copy of a slice from a DataFrame.\n",
      "Try using .loc[row_indexer,col_indexer] = value instead\n",
      "\n",
      "See the caveats in the documentation: https://pandas.pydata.org/pandas-docs/stable/user_guide/indexing.html#returning-a-view-versus-a-copy\n",
      "\n"
     ]
    }
   ],
   "source": [
    "\n",
    "\n",
    "\n",
    "df_wick = add_current_wickets_column(df_18)\n",
    "\n",
    "df_18 = df_wick.copy()\n",
    "df_wick = get_weighted_bowlers(df_wick)\n"
   ]
  },
  {
   "cell_type": "code",
   "execution_count": 43,
   "metadata": {},
   "outputs": [
    {
     "data": {
      "text/html": [
       "<div>\n",
       "<style scoped>\n",
       "    .dataframe tbody tr th:only-of-type {\n",
       "        vertical-align: middle;\n",
       "    }\n",
       "\n",
       "    .dataframe tbody tr th {\n",
       "        vertical-align: top;\n",
       "    }\n",
       "\n",
       "    .dataframe thead th {\n",
       "        text-align: right;\n",
       "    }\n",
       "</style>\n",
       "<table border=\"1\" class=\"dataframe\">\n",
       "  <thead>\n",
       "    <tr style=\"text-align: right;\">\n",
       "      <th></th>\n",
       "      <th>0-2</th>\n",
       "      <th>2-5</th>\n",
       "      <th>5-8</th>\n",
       "      <th>8-10</th>\n",
       "      <th>weighted_wickets</th>\n",
       "      <th>total_wickets</th>\n",
       "      <th>weighted_wickets_pct</th>\n",
       "    </tr>\n",
       "    <tr>\n",
       "      <th>bowler</th>\n",
       "      <th></th>\n",
       "      <th></th>\n",
       "      <th></th>\n",
       "      <th></th>\n",
       "      <th></th>\n",
       "      <th></th>\n",
       "      <th></th>\n",
       "    </tr>\n",
       "  </thead>\n",
       "  <tbody>\n",
       "    <tr>\n",
       "      <th>JJ Bumrah</th>\n",
       "      <td>12</td>\n",
       "      <td>28</td>\n",
       "      <td>30</td>\n",
       "      <td>61</td>\n",
       "      <td>67.7</td>\n",
       "      <td>131</td>\n",
       "      <td>51.679389</td>\n",
       "    </tr>\n",
       "    <tr>\n",
       "      <th>Rashid Khan</th>\n",
       "      <td>15</td>\n",
       "      <td>39</td>\n",
       "      <td>27</td>\n",
       "      <td>38</td>\n",
       "      <td>71.1</td>\n",
       "      <td>119</td>\n",
       "      <td>59.747899</td>\n",
       "    </tr>\n",
       "    <tr>\n",
       "      <th>YS Chahal</th>\n",
       "      <td>15</td>\n",
       "      <td>30</td>\n",
       "      <td>28</td>\n",
       "      <td>41</td>\n",
       "      <td>65.3</td>\n",
       "      <td>114</td>\n",
       "      <td>57.280702</td>\n",
       "    </tr>\n",
       "    <tr>\n",
       "      <th>K Rabada</th>\n",
       "      <td>15</td>\n",
       "      <td>20</td>\n",
       "      <td>24</td>\n",
       "      <td>49</td>\n",
       "      <td>57.7</td>\n",
       "      <td>108</td>\n",
       "      <td>53.425926</td>\n",
       "    </tr>\n",
       "    <tr>\n",
       "      <th>Mohammed Shami</th>\n",
       "      <td>15</td>\n",
       "      <td>33</td>\n",
       "      <td>19</td>\n",
       "      <td>30</td>\n",
       "      <td>59.9</td>\n",
       "      <td>97</td>\n",
       "      <td>61.752577</td>\n",
       "    </tr>\n",
       "    <tr>\n",
       "      <th>TA Boult</th>\n",
       "      <td>14</td>\n",
       "      <td>15</td>\n",
       "      <td>29</td>\n",
       "      <td>30</td>\n",
       "      <td>49.5</td>\n",
       "      <td>88</td>\n",
       "      <td>56.250000</td>\n",
       "    </tr>\n",
       "    <tr>\n",
       "      <th>SN Thakur</th>\n",
       "      <td>13</td>\n",
       "      <td>24</td>\n",
       "      <td>21</td>\n",
       "      <td>29</td>\n",
       "      <td>51.4</td>\n",
       "      <td>87</td>\n",
       "      <td>59.080460</td>\n",
       "    </tr>\n",
       "    <tr>\n",
       "      <th>B Kumar</th>\n",
       "      <td>12</td>\n",
       "      <td>15</td>\n",
       "      <td>29</td>\n",
       "      <td>20</td>\n",
       "      <td>44.5</td>\n",
       "      <td>76</td>\n",
       "      <td>58.552632</td>\n",
       "    </tr>\n",
       "    <tr>\n",
       "      <th>SP Narine</th>\n",
       "      <td>18</td>\n",
       "      <td>26</td>\n",
       "      <td>4</td>\n",
       "      <td>26</td>\n",
       "      <td>48.6</td>\n",
       "      <td>74</td>\n",
       "      <td>65.675676</td>\n",
       "    </tr>\n",
       "    <tr>\n",
       "      <th>HV Patel</th>\n",
       "      <td>6</td>\n",
       "      <td>10</td>\n",
       "      <td>22</td>\n",
       "      <td>34</td>\n",
       "      <td>35.2</td>\n",
       "      <td>72</td>\n",
       "      <td>48.888889</td>\n",
       "    </tr>\n",
       "    <tr>\n",
       "      <th>DJ Bravo</th>\n",
       "      <td>5</td>\n",
       "      <td>16</td>\n",
       "      <td>20</td>\n",
       "      <td>29</td>\n",
       "      <td>36.5</td>\n",
       "      <td>70</td>\n",
       "      <td>52.142857</td>\n",
       "    </tr>\n",
       "    <tr>\n",
       "      <th>JD Unadkat</th>\n",
       "      <td>10</td>\n",
       "      <td>22</td>\n",
       "      <td>13</td>\n",
       "      <td>21</td>\n",
       "      <td>40.4</td>\n",
       "      <td>66</td>\n",
       "      <td>61.212121</td>\n",
       "    </tr>\n",
       "    <tr>\n",
       "      <th>UT Yadav</th>\n",
       "      <td>23</td>\n",
       "      <td>12</td>\n",
       "      <td>7</td>\n",
       "      <td>22</td>\n",
       "      <td>42.7</td>\n",
       "      <td>64</td>\n",
       "      <td>66.718750</td>\n",
       "    </tr>\n",
       "    <tr>\n",
       "      <th>Sandeep Sharma</th>\n",
       "      <td>18</td>\n",
       "      <td>11</td>\n",
       "      <td>21</td>\n",
       "      <td>14</td>\n",
       "      <td>41.5</td>\n",
       "      <td>64</td>\n",
       "      <td>64.843750</td>\n",
       "    </tr>\n",
       "    <tr>\n",
       "      <th>R Ashwin</th>\n",
       "      <td>12</td>\n",
       "      <td>14</td>\n",
       "      <td>15</td>\n",
       "      <td>23</td>\n",
       "      <td>37.6</td>\n",
       "      <td>64</td>\n",
       "      <td>58.750000</td>\n",
       "    </tr>\n",
       "    <tr>\n",
       "      <th>AR Patel</th>\n",
       "      <td>11</td>\n",
       "      <td>20</td>\n",
       "      <td>12</td>\n",
       "      <td>20</td>\n",
       "      <td>39.0</td>\n",
       "      <td>63</td>\n",
       "      <td>61.904762</td>\n",
       "    </tr>\n",
       "    <tr>\n",
       "      <th>AD Russell</th>\n",
       "      <td>8</td>\n",
       "      <td>18</td>\n",
       "      <td>15</td>\n",
       "      <td>22</td>\n",
       "      <td>36.5</td>\n",
       "      <td>63</td>\n",
       "      <td>57.936508</td>\n",
       "    </tr>\n",
       "    <tr>\n",
       "      <th>Mohammed Siraj</th>\n",
       "      <td>10</td>\n",
       "      <td>15</td>\n",
       "      <td>19</td>\n",
       "      <td>17</td>\n",
       "      <td>36.6</td>\n",
       "      <td>61</td>\n",
       "      <td>60.000000</td>\n",
       "    </tr>\n",
       "    <tr>\n",
       "      <th>DL Chahar</th>\n",
       "      <td>20</td>\n",
       "      <td>17</td>\n",
       "      <td>21</td>\n",
       "      <td>3</td>\n",
       "      <td>45.0</td>\n",
       "      <td>61</td>\n",
       "      <td>73.770492</td>\n",
       "    </tr>\n",
       "    <tr>\n",
       "      <th>CH Morris</th>\n",
       "      <td>9</td>\n",
       "      <td>14</td>\n",
       "      <td>19</td>\n",
       "      <td>17</td>\n",
       "      <td>34.8</td>\n",
       "      <td>59</td>\n",
       "      <td>58.983051</td>\n",
       "    </tr>\n",
       "    <tr>\n",
       "      <th>RD Chahar</th>\n",
       "      <td>8</td>\n",
       "      <td>6</td>\n",
       "      <td>17</td>\n",
       "      <td>27</td>\n",
       "      <td>29.4</td>\n",
       "      <td>58</td>\n",
       "      <td>50.689655</td>\n",
       "    </tr>\n",
       "    <tr>\n",
       "      <th>KH Pandya</th>\n",
       "      <td>7</td>\n",
       "      <td>11</td>\n",
       "      <td>14</td>\n",
       "      <td>26</td>\n",
       "      <td>30.6</td>\n",
       "      <td>58</td>\n",
       "      <td>52.758621</td>\n",
       "    </tr>\n",
       "    <tr>\n",
       "      <th>RA Jadeja</th>\n",
       "      <td>7</td>\n",
       "      <td>21</td>\n",
       "      <td>13</td>\n",
       "      <td>16</td>\n",
       "      <td>35.1</td>\n",
       "      <td>57</td>\n",
       "      <td>61.578947</td>\n",
       "    </tr>\n",
       "    <tr>\n",
       "      <th>Kuldeep Yadav</th>\n",
       "      <td>10</td>\n",
       "      <td>18</td>\n",
       "      <td>8</td>\n",
       "      <td>21</td>\n",
       "      <td>34.7</td>\n",
       "      <td>57</td>\n",
       "      <td>60.877193</td>\n",
       "    </tr>\n",
       "    <tr>\n",
       "      <th>S Kaul</th>\n",
       "      <td>5</td>\n",
       "      <td>19</td>\n",
       "      <td>12</td>\n",
       "      <td>20</td>\n",
       "      <td>32.2</td>\n",
       "      <td>56</td>\n",
       "      <td>57.500000</td>\n",
       "    </tr>\n",
       "    <tr>\n",
       "      <th>Imran Tahir</th>\n",
       "      <td>8</td>\n",
       "      <td>21</td>\n",
       "      <td>9</td>\n",
       "      <td>17</td>\n",
       "      <td>34.4</td>\n",
       "      <td>55</td>\n",
       "      <td>62.545455</td>\n",
       "    </tr>\n",
       "    <tr>\n",
       "      <th>M Prasidh Krishna</th>\n",
       "      <td>6</td>\n",
       "      <td>8</td>\n",
       "      <td>18</td>\n",
       "      <td>22</td>\n",
       "      <td>28.0</td>\n",
       "      <td>54</td>\n",
       "      <td>51.851852</td>\n",
       "    </tr>\n",
       "    <tr>\n",
       "      <th>KK Ahmed</th>\n",
       "      <td>10</td>\n",
       "      <td>14</td>\n",
       "      <td>13</td>\n",
       "      <td>14</td>\n",
       "      <td>31.9</td>\n",
       "      <td>51</td>\n",
       "      <td>62.549020</td>\n",
       "    </tr>\n",
       "    <tr>\n",
       "      <th>Avesh Khan</th>\n",
       "      <td>9</td>\n",
       "      <td>11</td>\n",
       "      <td>12</td>\n",
       "      <td>19</td>\n",
       "      <td>29.5</td>\n",
       "      <td>51</td>\n",
       "      <td>57.843137</td>\n",
       "    </tr>\n",
       "    <tr>\n",
       "      <th>HH Pandya</th>\n",
       "      <td>8</td>\n",
       "      <td>12</td>\n",
       "      <td>8</td>\n",
       "      <td>21</td>\n",
       "      <td>27.9</td>\n",
       "      <td>49</td>\n",
       "      <td>56.938776</td>\n",
       "    </tr>\n",
       "  </tbody>\n",
       "</table>\n",
       "</div>"
      ],
      "text/plain": [
       "                   0-2  2-5  5-8  8-10  weighted_wickets  total_wickets  \\\n",
       "bowler                                                                    \n",
       "JJ Bumrah           12   28   30    61              67.7            131   \n",
       "Rashid Khan         15   39   27    38              71.1            119   \n",
       "YS Chahal           15   30   28    41              65.3            114   \n",
       "K Rabada            15   20   24    49              57.7            108   \n",
       "Mohammed Shami      15   33   19    30              59.9             97   \n",
       "TA Boult            14   15   29    30              49.5             88   \n",
       "SN Thakur           13   24   21    29              51.4             87   \n",
       "B Kumar             12   15   29    20              44.5             76   \n",
       "SP Narine           18   26    4    26              48.6             74   \n",
       "HV Patel             6   10   22    34              35.2             72   \n",
       "DJ Bravo             5   16   20    29              36.5             70   \n",
       "JD Unadkat          10   22   13    21              40.4             66   \n",
       "UT Yadav            23   12    7    22              42.7             64   \n",
       "Sandeep Sharma      18   11   21    14              41.5             64   \n",
       "R Ashwin            12   14   15    23              37.6             64   \n",
       "AR Patel            11   20   12    20              39.0             63   \n",
       "AD Russell           8   18   15    22              36.5             63   \n",
       "Mohammed Siraj      10   15   19    17              36.6             61   \n",
       "DL Chahar           20   17   21     3              45.0             61   \n",
       "CH Morris            9   14   19    17              34.8             59   \n",
       "RD Chahar            8    6   17    27              29.4             58   \n",
       "KH Pandya            7   11   14    26              30.6             58   \n",
       "RA Jadeja            7   21   13    16              35.1             57   \n",
       "Kuldeep Yadav       10   18    8    21              34.7             57   \n",
       "S Kaul               5   19   12    20              32.2             56   \n",
       "Imran Tahir          8   21    9    17              34.4             55   \n",
       "M Prasidh Krishna    6    8   18    22              28.0             54   \n",
       "KK Ahmed            10   14   13    14              31.9             51   \n",
       "Avesh Khan           9   11   12    19              29.5             51   \n",
       "HH Pandya            8   12    8    21              27.9             49   \n",
       "\n",
       "                   weighted_wickets_pct  \n",
       "bowler                                   \n",
       "JJ Bumrah                     51.679389  \n",
       "Rashid Khan                   59.747899  \n",
       "YS Chahal                     57.280702  \n",
       "K Rabada                      53.425926  \n",
       "Mohammed Shami                61.752577  \n",
       "TA Boult                      56.250000  \n",
       "SN Thakur                     59.080460  \n",
       "B Kumar                       58.552632  \n",
       "SP Narine                     65.675676  \n",
       "HV Patel                      48.888889  \n",
       "DJ Bravo                      52.142857  \n",
       "JD Unadkat                    61.212121  \n",
       "UT Yadav                      66.718750  \n",
       "Sandeep Sharma                64.843750  \n",
       "R Ashwin                      58.750000  \n",
       "AR Patel                      61.904762  \n",
       "AD Russell                    57.936508  \n",
       "Mohammed Siraj                60.000000  \n",
       "DL Chahar                     73.770492  \n",
       "CH Morris                     58.983051  \n",
       "RD Chahar                     50.689655  \n",
       "KH Pandya                     52.758621  \n",
       "RA Jadeja                     61.578947  \n",
       "Kuldeep Yadav                 60.877193  \n",
       "S Kaul                        57.500000  \n",
       "Imran Tahir                   62.545455  \n",
       "M Prasidh Krishna             51.851852  \n",
       "KK Ahmed                      62.549020  \n",
       "Avesh Khan                    57.843137  \n",
       "HH Pandya                     56.938776  "
      ]
     },
     "execution_count": 43,
     "metadata": {},
     "output_type": "execute_result"
    }
   ],
   "source": [
    "# order the dataframe by the total wickets column\n",
    "weighted_bowler_extra = df_wick.sort_values('total_wickets', ascending=False)\n",
    "\n",
    "weighted_bowler_extra.head(30)"
   ]
  },
  {
   "attachments": {},
   "cell_type": "markdown",
   "metadata": {},
   "source": [
    "### 2.2 Selecting targets\n",
    "\n",
    "    Segmenting Batting and Bowling Targets based on total balls bowled/faced."
   ]
  },
  {
   "cell_type": "code",
   "execution_count": 44,
   "metadata": {},
   "outputs": [],
   "source": [
    "BallBowled_counts = df_18['bowler'].value_counts()\n",
    "BallFaced_counts = df_18['batsman'].value_counts()\n",
    "\n",
    "BallBowled_counts = pd.DataFrame(BallBowled_counts)\n",
    "\n",
    "BallBowled_counts.reset_index( inplace=True)\n",
    "\n",
    "\n",
    "BallFaced_counts = pd.DataFrame(BallFaced_counts)\n",
    "\n",
    "BallFaced_counts.reset_index( inplace=True)"
   ]
  },
  {
   "cell_type": "code",
   "execution_count": 45,
   "metadata": {},
   "outputs": [
    {
     "data": {
      "image/png": "[encoded data removed]",
      "text/plain": [
       "<Figure size 640x480 with 1 Axes>"
      ]
     },
     "metadata": {},
     "output_type": "display_data"
    },
    {
     "data": {
      "image/png": "[encoded data removed]",
      "text/plain": [
       "<Figure size 640x480 with 1 Axes>"
      ]
     },
     "metadata": {},
     "output_type": "display_data"
    }
   ],
   "source": [
    "fig,ax =plt.subplots()\n",
    "\n",
    "ax.boxplot(BallBowled_counts['bowler'])\n",
    "\n",
    "plt.show()\n",
    "\n",
    "fig,ax =plt.subplots()\n",
    "\n",
    "ax.boxplot(BallFaced_counts['batsman'])\n",
    "\n",
    "plt.show()"
   ]
  },
  {
   "cell_type": "code",
   "execution_count": 46,
   "metadata": {},
   "outputs": [],
   "source": [
    "MedianBowl = BallBowled_counts['bowler'].median()\n",
    "\n",
    "MedianBats = BallFaced_counts['batsman'].median()\n",
    "\n",
    "# Only select the bowlers and batsmen who have bowled and faced more than the median number of balls\n",
    "# All rounders are players in both categories\n",
    "\n",
    "\n",
    "Bowling_Targets = BallBowled_counts[BallBowled_counts['bowler']>MedianBowl]\n",
    "\n",
    "Batting_Targets = BallFaced_counts[BallFaced_counts['batsman']>MedianBats]\n",
    "\n",
    "# make the column name index in Bowling_Targets as the index \n",
    "\n",
    "Bowling_Targets.set_index('index', inplace=True)\n",
    "\n",
    "# make the column name index in Batting_Targets as the index\n",
    "\n",
    "Batting_Targets.set_index('index', inplace=True)\n",
    "\n"
   ]
  },
  {
   "cell_type": "code",
   "execution_count": 47,
   "metadata": {},
   "outputs": [],
   "source": [
    "# for all unique bowlers in df_18 count the instances where total runs is 0\n",
    "# add column names dot_count to the Bowling_Targets dataframe\n",
    "\n",
    "DotRatio = df_18[df_18['total_runs']==0]['bowler'].value_counts()\n",
    "\n",
    "# convert DotRatio to dataframe\n",
    "DotRatio = pd.DataFrame(DotRatio)\n",
    "\n",
    "# rename the column name bowler to dot_count\n",
    "DotRatio.rename(columns={'bowler':'dot_count'}, inplace=True)\n",
    "\n",
    "# repeat the process for 1s, 2s, 3s, 4s, 6s\n",
    "# rename the column name bowler to 1_count, 2_count, 3_count, 4_count, 6_count\n",
    "\n",
    "\n",
    "\n",
    "DotRatio1 = df_18[df_18['total_runs']==1]['bowler'].value_counts()\n",
    "DotRatio1 = pd.DataFrame(DotRatio1)\n",
    "DotRatio1.rename(columns={'bowler':'1_count'}, inplace=True)\n",
    "\n",
    "DotRatio2 = df_18[df_18['total_runs']==2]['bowler'].value_counts()\n",
    "DotRatio2 = pd.DataFrame(DotRatio2)\n",
    "DotRatio2.rename(columns={'bowler':'2_count'}, inplace=True)\n",
    "\n",
    "DotRatio3 = df_18[df_18['total_runs']==3]['bowler'].value_counts()\n",
    "DotRatio3 = pd.DataFrame(DotRatio3)\n",
    "DotRatio3.rename(columns={'bowler':'3_count'}, inplace=True)\n",
    "\n",
    "DotRatio4 = df_18[df_18['total_runs']==4]['bowler'].value_counts()\n",
    "DotRatio4 = pd.DataFrame(DotRatio4)\n",
    "DotRatio4.rename(columns={'bowler':'4_count'}, inplace=True)\n",
    "\n",
    "DotRatio5 = df_18[df_18['total_runs']==5]['bowler'].value_counts()\n",
    "DotRatio5 = pd.DataFrame(DotRatio5)\n",
    "DotRatio5.rename(columns={'bowler':'5_count'}, inplace=True)\n",
    "\n",
    "DotRatio6 = df_18[df_18['total_runs']==6]['bowler'].value_counts()\n",
    "DotRatio6 = pd.DataFrame(DotRatio6)\n",
    "DotRatio6.rename(columns={'bowler':'6_count'}, inplace=True)\n",
    "# make another dataframe for wickets using is wicket column\n",
    "\n",
    "DotRatioWicket = df_18[df_18['is_wicket']==1]['bowler'].value_counts()\n",
    "DotRatioWicket = pd.DataFrame(DotRatioWicket)\n",
    "DotRatioWicket.rename(columns={'bowler':'wicket_count'}, inplace=True)\n",
    "\n"
   ]
  },
  {
   "cell_type": "code",
   "execution_count": 48,
   "metadata": {},
   "outputs": [
    {
     "name": "stderr",
     "output_type": "stream",
     "text": [
      "C:\\Users\\tally\\AppData\\Local\\Temp\\ipykernel_19172\\3241481779.py:2: SettingWithCopyWarning:\n",
      "\n",
      "\n",
      "A value is trying to be set on a copy of a slice from a DataFrame\n",
      "\n",
      "See the caveats in the documentation: https://pandas.pydata.org/pandas-docs/stable/user_guide/indexing.html#returning-a-view-versus-a-copy\n",
      "\n"
     ]
    }
   ],
   "source": [
    "# rename bowler column in Bowling_Targets to total balls bowled\n",
    "Bowling_Targets.rename(columns={'bowler':'total_balls_bowled'}, inplace=True)\n",
    "\n",
    "# rename bowler column in DotRatio to dot_count\n",
    "DotRatio.rename(columns={'bowler':'dot_count'}, inplace=True)\n",
    "\n",
    "# merge Bowling_Targets and DotRatio,DotRatio1, DotRatio2, DotRatio3, DotRatio4, DotRatio5, DotRatio6, DotRatioWicket on index\n",
    "\n",
    "Bowling_Targets = pd.merge(Bowling_Targets, DotRatio, left_index=True, right_index=True, how='inner')\n",
    "Bowling_Targets = pd.merge(Bowling_Targets, DotRatio1, left_index=True, right_index=True, how='inner')\n",
    "Bowling_Targets = pd.merge(Bowling_Targets, DotRatio2, left_index=True, right_index=True, how='inner')\n",
    "Bowling_Targets = pd.merge(Bowling_Targets, DotRatio3, left_index=True, right_index=True, how='inner')\n",
    "Bowling_Targets = pd.merge(Bowling_Targets, DotRatio4, left_index=True, right_index=True, how='inner')\n",
    "Bowling_Targets = pd.merge(Bowling_Targets, DotRatio5, left_index=True, right_index=True, how='inner')\n",
    "Bowling_Targets = pd.merge(Bowling_Targets, DotRatio6, left_index=True, right_index=True, how='inner')\n",
    "Bowling_Targets = pd.merge(Bowling_Targets, DotRatioWicket, left_index=True, right_index=True, how='inner')\n",
    "\n",
    "# add column to both batting and bowling targets called boundary_count which is the sum of 4s and 6s\n",
    "\n",
    "Bowling_Targets['boundary_count'] = Bowling_Targets['4_count'] + Bowling_Targets['6_count']\n",
    "\n"
   ]
  },
  {
   "cell_type": "code",
   "execution_count": 49,
   "metadata": {},
   "outputs": [
    {
     "name": "stderr",
     "output_type": "stream",
     "text": [
      "C:\\Users\\tally\\AppData\\Local\\Temp\\ipykernel_19172\\3271105977.py:3: SettingWithCopyWarning:\n",
      "\n",
      "\n",
      "A value is trying to be set on a copy of a slice from a DataFrame\n",
      "\n",
      "See the caveats in the documentation: https://pandas.pydata.org/pandas-docs/stable/user_guide/indexing.html#returning-a-view-versus-a-copy\n",
      "\n"
     ]
    }
   ],
   "source": [
    "# repeat the process for batting targets\n",
    "\n",
    "Batting_Targets.rename(columns={'batsman':'total_balls_faced'}, inplace=True)\n",
    "\n",
    "DotRatioBats = df_18[df_18['total_runs']==0]['batsman'].value_counts()\n",
    "DotRatioBats = pd.DataFrame(DotRatioBats)\n",
    "DotRatioBats.rename(columns={'batsman':'dot_count'}, inplace=True)\n",
    "\n",
    "DotRatioBats1 = df_18[df_18['total_runs']==1]['batsman'].value_counts()\n",
    "DotRatioBats1 = pd.DataFrame(DotRatioBats1)\n",
    "DotRatioBats1.rename(columns={'batsman':'1_count'}, inplace=True)\n",
    "\n",
    "DotRatioBats2 = df_18[df_18['total_runs']==2]['batsman'].value_counts()\n",
    "DotRatioBats2 = pd.DataFrame(DotRatioBats2)\n",
    "DotRatioBats2.rename(columns={'batsman':'2_count'}, inplace=True)\n",
    "\n",
    "DotRatioBats3 = df_18[df_18['total_runs']==3]['batsman'].value_counts()\n",
    "DotRatioBats3 = pd.DataFrame(DotRatioBats3)\n",
    "DotRatioBats3.rename(columns={'batsman':'3_count'}, inplace=True)\n",
    "\n",
    "DotRatioBats4 = df_18[df_18['total_runs']==4]['batsman'].value_counts()\n",
    "DotRatioBats4 = pd.DataFrame(DotRatioBats4)\n",
    "DotRatioBats4.rename(columns={'batsman':'4_count'}, inplace=True)\n",
    "\n",
    "DotRatioBats5 = df_18[df_18['total_runs']==5]['batsman'].value_counts()\n",
    "DotRatioBats5 = pd.DataFrame(DotRatioBats5)\n",
    "DotRatioBats5.rename(columns={'batsman':'5_count'}, inplace=True)\n",
    "\n",
    "DotRatioBats6 = df_18[df_18['total_runs']==6]['batsman'].value_counts()\n",
    "DotRatioBats6 = pd.DataFrame(DotRatioBats6)\n",
    "DotRatioBats6.rename(columns={'batsman':'6_count'}, inplace=True)\n",
    "\n",
    "DotRatioBatsWicket = df_18[df_18['is_wicket']==1]['batsman'].value_counts()\n",
    "DotRatioBatsWicket = pd.DataFrame(DotRatioBatsWicket)\n",
    "DotRatioBatsWicket.rename(columns={'batsman':'wicket_count'}, inplace=True)\n",
    "\n",
    "Batting_Targets = pd.merge(Batting_Targets, DotRatioBats, left_index=True, right_index=True, how='inner')\n",
    "Batting_Targets = pd.merge(Batting_Targets, DotRatioBats1, left_index=True, right_index=True, how='inner')\n",
    "Batting_Targets = pd.merge(Batting_Targets, DotRatioBats2, left_index=True, right_index=True, how='inner')\n",
    "Batting_Targets = pd.merge(Batting_Targets, DotRatioBats3, left_index=True, right_index=True, how='inner')\n",
    "Batting_Targets = pd.merge(Batting_Targets, DotRatioBats4, left_index=True, right_index=True, how='inner')\n",
    "Batting_Targets = pd.merge(Batting_Targets, DotRatioBats5, left_index=True, right_index=True, how='inner')\n",
    "Batting_Targets = pd.merge(Batting_Targets, DotRatioBats6, left_index=True, right_index=True, how='inner')\n",
    "Batting_Targets = pd.merge(Batting_Targets, DotRatioBatsWicket, left_index=True, right_index=True, how='inner')\n",
    "\n",
    "# add column to both batting and bowling targets called boundary_count which is the sum of 4s and 6s\n",
    "\n",
    "Batting_Targets['boundary_count'] = Batting_Targets['4_count'] + Batting_Targets['6_count']\n",
    "\n",
    "\n"
   ]
  },
  {
   "cell_type": "code",
   "execution_count": 50,
   "metadata": {},
   "outputs": [
    {
     "data": {
      "text/html": [
       "<div>\n",
       "<style scoped>\n",
       "    .dataframe tbody tr th:only-of-type {\n",
       "        vertical-align: middle;\n",
       "    }\n",
       "\n",
       "    .dataframe tbody tr th {\n",
       "        vertical-align: top;\n",
       "    }\n",
       "\n",
       "    .dataframe thead th {\n",
       "        text-align: right;\n",
       "    }\n",
       "</style>\n",
       "<table border=\"1\" class=\"dataframe\">\n",
       "  <thead>\n",
       "    <tr style=\"text-align: right;\">\n",
       "      <th></th>\n",
       "      <th>total_balls_bowled</th>\n",
       "      <th>dot_count</th>\n",
       "      <th>1_count</th>\n",
       "      <th>2_count</th>\n",
       "      <th>3_count</th>\n",
       "      <th>4_count</th>\n",
       "      <th>5_count</th>\n",
       "      <th>6_count</th>\n",
       "      <th>wicket_count</th>\n",
       "      <th>boundary_count</th>\n",
       "    </tr>\n",
       "  </thead>\n",
       "  <tbody>\n",
       "    <tr>\n",
       "      <th>Rashid Khan</th>\n",
       "      <td>2232</td>\n",
       "      <td>852</td>\n",
       "      <td>1014</td>\n",
       "      <td>114</td>\n",
       "      <td>6</td>\n",
       "      <td>161</td>\n",
       "      <td>3</td>\n",
       "      <td>82</td>\n",
       "      <td>119</td>\n",
       "      <td>243</td>\n",
       "    </tr>\n",
       "    <tr>\n",
       "      <th>JJ Bumrah</th>\n",
       "      <td>2146</td>\n",
       "      <td>844</td>\n",
       "      <td>827</td>\n",
       "      <td>165</td>\n",
       "      <td>15</td>\n",
       "      <td>223</td>\n",
       "      <td>6</td>\n",
       "      <td>65</td>\n",
       "      <td>131</td>\n",
       "      <td>288</td>\n",
       "    </tr>\n",
       "    <tr>\n",
       "      <th>YS Chahal</th>\n",
       "      <td>1992</td>\n",
       "      <td>688</td>\n",
       "      <td>922</td>\n",
       "      <td>114</td>\n",
       "      <td>7</td>\n",
       "      <td>142</td>\n",
       "      <td>3</td>\n",
       "      <td>116</td>\n",
       "      <td>114</td>\n",
       "      <td>258</td>\n",
       "    </tr>\n",
       "    <tr>\n",
       "      <th>SP Narine</th>\n",
       "      <td>1922</td>\n",
       "      <td>679</td>\n",
       "      <td>887</td>\n",
       "      <td>118</td>\n",
       "      <td>6</td>\n",
       "      <td>148</td>\n",
       "      <td>3</td>\n",
       "      <td>81</td>\n",
       "      <td>74</td>\n",
       "      <td>229</td>\n",
       "    </tr>\n",
       "    <tr>\n",
       "      <th>R Ashwin</th>\n",
       "      <td>1665</td>\n",
       "      <td>486</td>\n",
       "      <td>875</td>\n",
       "      <td>102</td>\n",
       "      <td>4</td>\n",
       "      <td>117</td>\n",
       "      <td>1</td>\n",
       "      <td>80</td>\n",
       "      <td>64</td>\n",
       "      <td>197</td>\n",
       "    </tr>\n",
       "    <tr>\n",
       "      <th>B Kumar</th>\n",
       "      <td>1654</td>\n",
       "      <td>670</td>\n",
       "      <td>592</td>\n",
       "      <td>125</td>\n",
       "      <td>7</td>\n",
       "      <td>191</td>\n",
       "      <td>3</td>\n",
       "      <td>66</td>\n",
       "      <td>76</td>\n",
       "      <td>257</td>\n",
       "    </tr>\n",
       "    <tr>\n",
       "      <th>TA Boult</th>\n",
       "      <td>1653</td>\n",
       "      <td>669</td>\n",
       "      <td>554</td>\n",
       "      <td>91</td>\n",
       "      <td>4</td>\n",
       "      <td>255</td>\n",
       "      <td>4</td>\n",
       "      <td>76</td>\n",
       "      <td>88</td>\n",
       "      <td>331</td>\n",
       "    </tr>\n",
       "    <tr>\n",
       "      <th>SN Thakur</th>\n",
       "      <td>1630</td>\n",
       "      <td>557</td>\n",
       "      <td>624</td>\n",
       "      <td>130</td>\n",
       "      <td>8</td>\n",
       "      <td>219</td>\n",
       "      <td>4</td>\n",
       "      <td>88</td>\n",
       "      <td>87</td>\n",
       "      <td>307</td>\n",
       "    </tr>\n",
       "    <tr>\n",
       "      <th>Mohammed Shami</th>\n",
       "      <td>1624</td>\n",
       "      <td>638</td>\n",
       "      <td>559</td>\n",
       "      <td>96</td>\n",
       "      <td>6</td>\n",
       "      <td>234</td>\n",
       "      <td>9</td>\n",
       "      <td>82</td>\n",
       "      <td>97</td>\n",
       "      <td>316</td>\n",
       "    </tr>\n",
       "    <tr>\n",
       "      <th>KH Pandya</th>\n",
       "      <td>1531</td>\n",
       "      <td>476</td>\n",
       "      <td>769</td>\n",
       "      <td>101</td>\n",
       "      <td>1</td>\n",
       "      <td>125</td>\n",
       "      <td>1</td>\n",
       "      <td>57</td>\n",
       "      <td>58</td>\n",
       "      <td>182</td>\n",
       "    </tr>\n",
       "    <tr>\n",
       "      <th>RA Jadeja</th>\n",
       "      <td>1529</td>\n",
       "      <td>482</td>\n",
       "      <td>733</td>\n",
       "      <td>109</td>\n",
       "      <td>5</td>\n",
       "      <td>120</td>\n",
       "      <td>1</td>\n",
       "      <td>78</td>\n",
       "      <td>57</td>\n",
       "      <td>198</td>\n",
       "    </tr>\n",
       "    <tr>\n",
       "      <th>K Rabada</th>\n",
       "      <td>1498</td>\n",
       "      <td>566</td>\n",
       "      <td>541</td>\n",
       "      <td>114</td>\n",
       "      <td>7</td>\n",
       "      <td>192</td>\n",
       "      <td>3</td>\n",
       "      <td>75</td>\n",
       "      <td>108</td>\n",
       "      <td>267</td>\n",
       "    </tr>\n",
       "    <tr>\n",
       "      <th>Mohammed Siraj</th>\n",
       "      <td>1402</td>\n",
       "      <td>534</td>\n",
       "      <td>505</td>\n",
       "      <td>75</td>\n",
       "      <td>4</td>\n",
       "      <td>189</td>\n",
       "      <td>4</td>\n",
       "      <td>88</td>\n",
       "      <td>61</td>\n",
       "      <td>277</td>\n",
       "    </tr>\n",
       "    <tr>\n",
       "      <th>DL Chahar</th>\n",
       "      <td>1352</td>\n",
       "      <td>555</td>\n",
       "      <td>479</td>\n",
       "      <td>68</td>\n",
       "      <td>5</td>\n",
       "      <td>200</td>\n",
       "      <td>3</td>\n",
       "      <td>42</td>\n",
       "      <td>61</td>\n",
       "      <td>242</td>\n",
       "    </tr>\n",
       "    <tr>\n",
       "      <th>M Prasidh Krishna</th>\n",
       "      <td>1231</td>\n",
       "      <td>475</td>\n",
       "      <td>416</td>\n",
       "      <td>73</td>\n",
       "      <td>6</td>\n",
       "      <td>200</td>\n",
       "      <td>5</td>\n",
       "      <td>56</td>\n",
       "      <td>54</td>\n",
       "      <td>256</td>\n",
       "    </tr>\n",
       "    <tr>\n",
       "      <th>JD Unadkat</th>\n",
       "      <td>1226</td>\n",
       "      <td>392</td>\n",
       "      <td>511</td>\n",
       "      <td>83</td>\n",
       "      <td>6</td>\n",
       "      <td>145</td>\n",
       "      <td>1</td>\n",
       "      <td>88</td>\n",
       "      <td>66</td>\n",
       "      <td>233</td>\n",
       "    </tr>\n",
       "    <tr>\n",
       "      <th>UT Yadav</th>\n",
       "      <td>1216</td>\n",
       "      <td>494</td>\n",
       "      <td>413</td>\n",
       "      <td>56</td>\n",
       "      <td>7</td>\n",
       "      <td>175</td>\n",
       "      <td>1</td>\n",
       "      <td>70</td>\n",
       "      <td>64</td>\n",
       "      <td>245</td>\n",
       "    </tr>\n",
       "    <tr>\n",
       "      <th>RD Chahar</th>\n",
       "      <td>1207</td>\n",
       "      <td>426</td>\n",
       "      <td>528</td>\n",
       "      <td>87</td>\n",
       "      <td>4</td>\n",
       "      <td>94</td>\n",
       "      <td>1</td>\n",
       "      <td>67</td>\n",
       "      <td>58</td>\n",
       "      <td>161</td>\n",
       "    </tr>\n",
       "    <tr>\n",
       "      <th>DJ Bravo</th>\n",
       "      <td>1186</td>\n",
       "      <td>329</td>\n",
       "      <td>567</td>\n",
       "      <td>108</td>\n",
       "      <td>2</td>\n",
       "      <td>124</td>\n",
       "      <td>1</td>\n",
       "      <td>54</td>\n",
       "      <td>70</td>\n",
       "      <td>178</td>\n",
       "    </tr>\n",
       "    <tr>\n",
       "      <th>Kuldeep Yadav</th>\n",
       "      <td>1145</td>\n",
       "      <td>330</td>\n",
       "      <td>568</td>\n",
       "      <td>75</td>\n",
       "      <td>2</td>\n",
       "      <td>87</td>\n",
       "      <td>1</td>\n",
       "      <td>82</td>\n",
       "      <td>57</td>\n",
       "      <td>169</td>\n",
       "    </tr>\n",
       "    <tr>\n",
       "      <th>CV Varun</th>\n",
       "      <td>992</td>\n",
       "      <td>346</td>\n",
       "      <td>450</td>\n",
       "      <td>69</td>\n",
       "      <td>3</td>\n",
       "      <td>77</td>\n",
       "      <td>1</td>\n",
       "      <td>46</td>\n",
       "      <td>44</td>\n",
       "      <td>123</td>\n",
       "    </tr>\n",
       "    <tr>\n",
       "      <th>HV Patel</th>\n",
       "      <td>983</td>\n",
       "      <td>322</td>\n",
       "      <td>440</td>\n",
       "      <td>63</td>\n",
       "      <td>1</td>\n",
       "      <td>101</td>\n",
       "      <td>4</td>\n",
       "      <td>51</td>\n",
       "      <td>72</td>\n",
       "      <td>152</td>\n",
       "    </tr>\n",
       "    <tr>\n",
       "      <th>Washington Sundar</th>\n",
       "      <td>928</td>\n",
       "      <td>318</td>\n",
       "      <td>442</td>\n",
       "      <td>48</td>\n",
       "      <td>1</td>\n",
       "      <td>69</td>\n",
       "      <td>1</td>\n",
       "      <td>49</td>\n",
       "      <td>35</td>\n",
       "      <td>118</td>\n",
       "    </tr>\n",
       "    <tr>\n",
       "      <th>HH Pandya</th>\n",
       "      <td>890</td>\n",
       "      <td>301</td>\n",
       "      <td>376</td>\n",
       "      <td>50</td>\n",
       "      <td>3</td>\n",
       "      <td>106</td>\n",
       "      <td>1</td>\n",
       "      <td>52</td>\n",
       "      <td>49</td>\n",
       "      <td>158</td>\n",
       "    </tr>\n",
       "    <tr>\n",
       "      <th>Avesh Khan</th>\n",
       "      <td>868</td>\n",
       "      <td>336</td>\n",
       "      <td>315</td>\n",
       "      <td>43</td>\n",
       "      <td>3</td>\n",
       "      <td>123</td>\n",
       "      <td>1</td>\n",
       "      <td>46</td>\n",
       "      <td>51</td>\n",
       "      <td>169</td>\n",
       "    </tr>\n",
       "    <tr>\n",
       "      <th>JC Archer</th>\n",
       "      <td>858</td>\n",
       "      <td>377</td>\n",
       "      <td>302</td>\n",
       "      <td>48</td>\n",
       "      <td>3</td>\n",
       "      <td>83</td>\n",
       "      <td>1</td>\n",
       "      <td>44</td>\n",
       "      <td>47</td>\n",
       "      <td>127</td>\n",
       "    </tr>\n",
       "    <tr>\n",
       "      <th>S Gopal</th>\n",
       "      <td>842</td>\n",
       "      <td>271</td>\n",
       "      <td>391</td>\n",
       "      <td>48</td>\n",
       "      <td>2</td>\n",
       "      <td>68</td>\n",
       "      <td>1</td>\n",
       "      <td>61</td>\n",
       "      <td>43</td>\n",
       "      <td>129</td>\n",
       "    </tr>\n",
       "    <tr>\n",
       "      <th>LH Ferguson</th>\n",
       "      <td>805</td>\n",
       "      <td>299</td>\n",
       "      <td>305</td>\n",
       "      <td>48</td>\n",
       "      <td>1</td>\n",
       "      <td>111</td>\n",
       "      <td>1</td>\n",
       "      <td>40</td>\n",
       "      <td>46</td>\n",
       "      <td>151</td>\n",
       "    </tr>\n",
       "    <tr>\n",
       "      <th>Arshdeep Singh</th>\n",
       "      <td>803</td>\n",
       "      <td>254</td>\n",
       "      <td>339</td>\n",
       "      <td>75</td>\n",
       "      <td>2</td>\n",
       "      <td>102</td>\n",
       "      <td>3</td>\n",
       "      <td>28</td>\n",
       "      <td>46</td>\n",
       "      <td>130</td>\n",
       "    </tr>\n",
       "    <tr>\n",
       "      <th>T Natarajan</th>\n",
       "      <td>793</td>\n",
       "      <td>238</td>\n",
       "      <td>364</td>\n",
       "      <td>50</td>\n",
       "      <td>1</td>\n",
       "      <td>95</td>\n",
       "      <td>1</td>\n",
       "      <td>44</td>\n",
       "      <td>43</td>\n",
       "      <td>139</td>\n",
       "    </tr>\n",
       "    <tr>\n",
       "      <th>AJ Tye</th>\n",
       "      <td>714</td>\n",
       "      <td>208</td>\n",
       "      <td>330</td>\n",
       "      <td>48</td>\n",
       "      <td>1</td>\n",
       "      <td>92</td>\n",
       "      <td>2</td>\n",
       "      <td>33</td>\n",
       "      <td>48</td>\n",
       "      <td>125</td>\n",
       "    </tr>\n",
       "    <tr>\n",
       "      <th>Mustafizur Rahman</th>\n",
       "      <td>710</td>\n",
       "      <td>238</td>\n",
       "      <td>296</td>\n",
       "      <td>50</td>\n",
       "      <td>5</td>\n",
       "      <td>87</td>\n",
       "      <td>1</td>\n",
       "      <td>33</td>\n",
       "      <td>36</td>\n",
       "      <td>120</td>\n",
       "    </tr>\n",
       "    <tr>\n",
       "      <th>A Nortje</th>\n",
       "      <td>706</td>\n",
       "      <td>275</td>\n",
       "      <td>259</td>\n",
       "      <td>33</td>\n",
       "      <td>6</td>\n",
       "      <td>97</td>\n",
       "      <td>2</td>\n",
       "      <td>33</td>\n",
       "      <td>44</td>\n",
       "      <td>130</td>\n",
       "    </tr>\n",
       "    <tr>\n",
       "      <th>Shivam Mavi</th>\n",
       "      <td>687</td>\n",
       "      <td>254</td>\n",
       "      <td>249</td>\n",
       "      <td>52</td>\n",
       "      <td>1</td>\n",
       "      <td>92</td>\n",
       "      <td>1</td>\n",
       "      <td>37</td>\n",
       "      <td>33</td>\n",
       "      <td>129</td>\n",
       "    </tr>\n",
       "    <tr>\n",
       "      <th>Navdeep Saini</th>\n",
       "      <td>657</td>\n",
       "      <td>263</td>\n",
       "      <td>219</td>\n",
       "      <td>33</td>\n",
       "      <td>3</td>\n",
       "      <td>99</td>\n",
       "      <td>3</td>\n",
       "      <td>36</td>\n",
       "      <td>23</td>\n",
       "      <td>135</td>\n",
       "    </tr>\n",
       "    <tr>\n",
       "      <th>JO Holder</th>\n",
       "      <td>645</td>\n",
       "      <td>201</td>\n",
       "      <td>282</td>\n",
       "      <td>50</td>\n",
       "      <td>3</td>\n",
       "      <td>79</td>\n",
       "      <td>1</td>\n",
       "      <td>29</td>\n",
       "      <td>47</td>\n",
       "      <td>108</td>\n",
       "    </tr>\n",
       "    <tr>\n",
       "      <th>TG Southee</th>\n",
       "      <td>601</td>\n",
       "      <td>202</td>\n",
       "      <td>241</td>\n",
       "      <td>37</td>\n",
       "      <td>2</td>\n",
       "      <td>86</td>\n",
       "      <td>1</td>\n",
       "      <td>32</td>\n",
       "      <td>33</td>\n",
       "      <td>118</td>\n",
       "    </tr>\n",
       "    <tr>\n",
       "      <th>I Sharma</th>\n",
       "      <td>491</td>\n",
       "      <td>174</td>\n",
       "      <td>188</td>\n",
       "      <td>30</td>\n",
       "      <td>5</td>\n",
       "      <td>74</td>\n",
       "      <td>1</td>\n",
       "      <td>19</td>\n",
       "      <td>15</td>\n",
       "      <td>93</td>\n",
       "    </tr>\n",
       "    <tr>\n",
       "      <th>Mujeeb Ur Rahman</th>\n",
       "      <td>452</td>\n",
       "      <td>147</td>\n",
       "      <td>198</td>\n",
       "      <td>37</td>\n",
       "      <td>5</td>\n",
       "      <td>39</td>\n",
       "      <td>1</td>\n",
       "      <td>25</td>\n",
       "      <td>20</td>\n",
       "      <td>64</td>\n",
       "    </tr>\n",
       "    <tr>\n",
       "      <th>S Nadeem</th>\n",
       "      <td>417</td>\n",
       "      <td>115</td>\n",
       "      <td>211</td>\n",
       "      <td>21</td>\n",
       "      <td>1</td>\n",
       "      <td>41</td>\n",
       "      <td>1</td>\n",
       "      <td>27</td>\n",
       "      <td>21</td>\n",
       "      <td>68</td>\n",
       "    </tr>\n",
       "    <tr>\n",
       "      <th>C Sakariya</th>\n",
       "      <td>405</td>\n",
       "      <td>126</td>\n",
       "      <td>189</td>\n",
       "      <td>28</td>\n",
       "      <td>3</td>\n",
       "      <td>43</td>\n",
       "      <td>1</td>\n",
       "      <td>15</td>\n",
       "      <td>17</td>\n",
       "      <td>58</td>\n",
       "    </tr>\n",
       "    <tr>\n",
       "      <th>CJ Jordan</th>\n",
       "      <td>396</td>\n",
       "      <td>116</td>\n",
       "      <td>164</td>\n",
       "      <td>35</td>\n",
       "      <td>3</td>\n",
       "      <td>53</td>\n",
       "      <td>1</td>\n",
       "      <td>24</td>\n",
       "      <td>20</td>\n",
       "      <td>77</td>\n",
       "    </tr>\n",
       "    <tr>\n",
       "      <th>DR Sams</th>\n",
       "      <td>389</td>\n",
       "      <td>142</td>\n",
       "      <td>154</td>\n",
       "      <td>24</td>\n",
       "      <td>1</td>\n",
       "      <td>42</td>\n",
       "      <td>1</td>\n",
       "      <td>25</td>\n",
       "      <td>15</td>\n",
       "      <td>67</td>\n",
       "    </tr>\n",
       "    <tr>\n",
       "      <th>Kartik Tyagi</th>\n",
       "      <td>388</td>\n",
       "      <td>134</td>\n",
       "      <td>148</td>\n",
       "      <td>24</td>\n",
       "      <td>3</td>\n",
       "      <td>51</td>\n",
       "      <td>1</td>\n",
       "      <td>27</td>\n",
       "      <td>15</td>\n",
       "      <td>78</td>\n",
       "    </tr>\n",
       "    <tr>\n",
       "      <th>Umran Malik</th>\n",
       "      <td>388</td>\n",
       "      <td>162</td>\n",
       "      <td>117</td>\n",
       "      <td>19</td>\n",
       "      <td>4</td>\n",
       "      <td>64</td>\n",
       "      <td>4</td>\n",
       "      <td>18</td>\n",
       "      <td>25</td>\n",
       "      <td>82</td>\n",
       "    </tr>\n",
       "    <tr>\n",
       "      <th>VR Aaron</th>\n",
       "      <td>290</td>\n",
       "      <td>101</td>\n",
       "      <td>98</td>\n",
       "      <td>23</td>\n",
       "      <td>1</td>\n",
       "      <td>50</td>\n",
       "      <td>2</td>\n",
       "      <td>15</td>\n",
       "      <td>13</td>\n",
       "      <td>65</td>\n",
       "    </tr>\n",
       "    <tr>\n",
       "      <th>RP Meredith</th>\n",
       "      <td>289</td>\n",
       "      <td>107</td>\n",
       "      <td>109</td>\n",
       "      <td>13</td>\n",
       "      <td>1</td>\n",
       "      <td>38</td>\n",
       "      <td>4</td>\n",
       "      <td>17</td>\n",
       "      <td>14</td>\n",
       "      <td>55</td>\n",
       "    </tr>\n",
       "    <tr>\n",
       "      <th>MJ Santner</th>\n",
       "      <td>244</td>\n",
       "      <td>90</td>\n",
       "      <td>107</td>\n",
       "      <td>14</td>\n",
       "      <td>1</td>\n",
       "      <td>23</td>\n",
       "      <td>2</td>\n",
       "      <td>7</td>\n",
       "      <td>10</td>\n",
       "      <td>30</td>\n",
       "    </tr>\n",
       "    <tr>\n",
       "      <th>M Jansen</th>\n",
       "      <td>241</td>\n",
       "      <td>91</td>\n",
       "      <td>92</td>\n",
       "      <td>13</td>\n",
       "      <td>2</td>\n",
       "      <td>28</td>\n",
       "      <td>1</td>\n",
       "      <td>14</td>\n",
       "      <td>10</td>\n",
       "      <td>42</td>\n",
       "    </tr>\n",
       "    <tr>\n",
       "      <th>TS Mills</th>\n",
       "      <td>218</td>\n",
       "      <td>69</td>\n",
       "      <td>83</td>\n",
       "      <td>13</td>\n",
       "      <td>1</td>\n",
       "      <td>37</td>\n",
       "      <td>1</td>\n",
       "      <td>14</td>\n",
       "      <td>11</td>\n",
       "      <td>51</td>\n",
       "    </tr>\n",
       "    <tr>\n",
       "      <th>Mohsin Khan</th>\n",
       "      <td>206</td>\n",
       "      <td>105</td>\n",
       "      <td>63</td>\n",
       "      <td>11</td>\n",
       "      <td>2</td>\n",
       "      <td>19</td>\n",
       "      <td>1</td>\n",
       "      <td>5</td>\n",
       "      <td>14</td>\n",
       "      <td>24</td>\n",
       "    </tr>\n",
       "    <tr>\n",
       "      <th>BB Sran</th>\n",
       "      <td>184</td>\n",
       "      <td>56</td>\n",
       "      <td>67</td>\n",
       "      <td>13</td>\n",
       "      <td>3</td>\n",
       "      <td>30</td>\n",
       "      <td>1</td>\n",
       "      <td>14</td>\n",
       "      <td>6</td>\n",
       "      <td>44</td>\n",
       "    </tr>\n",
       "    <tr>\n",
       "      <th>KMA Paul</th>\n",
       "      <td>180</td>\n",
       "      <td>52</td>\n",
       "      <td>91</td>\n",
       "      <td>9</td>\n",
       "      <td>1</td>\n",
       "      <td>18</td>\n",
       "      <td>1</td>\n",
       "      <td>6</td>\n",
       "      <td>10</td>\n",
       "      <td>24</td>\n",
       "    </tr>\n",
       "    <tr>\n",
       "      <th>KA Jamieson</th>\n",
       "      <td>179</td>\n",
       "      <td>69</td>\n",
       "      <td>61</td>\n",
       "      <td>7</td>\n",
       "      <td>1</td>\n",
       "      <td>26</td>\n",
       "      <td>1</td>\n",
       "      <td>14</td>\n",
       "      <td>9</td>\n",
       "      <td>40</td>\n",
       "    </tr>\n",
       "    <tr>\n",
       "      <th>OC McCoy</th>\n",
       "      <td>173</td>\n",
       "      <td>47</td>\n",
       "      <td>85</td>\n",
       "      <td>11</td>\n",
       "      <td>2</td>\n",
       "      <td>19</td>\n",
       "      <td>1</td>\n",
       "      <td>8</td>\n",
       "      <td>11</td>\n",
       "      <td>27</td>\n",
       "    </tr>\n",
       "  </tbody>\n",
       "</table>\n",
       "</div>"
      ],
      "text/plain": [
       "                   total_balls_bowled  dot_count  1_count  2_count  3_count  \\\n",
       "Rashid Khan                      2232        852     1014      114        6   \n",
       "JJ Bumrah                        2146        844      827      165       15   \n",
       "YS Chahal                        1992        688      922      114        7   \n",
       "SP Narine                        1922        679      887      118        6   \n",
       "R Ashwin                         1665        486      875      102        4   \n",
       "B Kumar                          1654        670      592      125        7   \n",
       "TA Boult                         1653        669      554       91        4   \n",
       "SN Thakur                        1630        557      624      130        8   \n",
       "Mohammed Shami                   1624        638      559       96        6   \n",
       "KH Pandya                        1531        476      769      101        1   \n",
       "RA Jadeja                        1529        482      733      109        5   \n",
       "K Rabada                         1498        566      541      114        7   \n",
       "Mohammed Siraj                   1402        534      505       75        4   \n",
       "DL Chahar                        1352        555      479       68        5   \n",
       "M Prasidh Krishna                1231        475      416       73        6   \n",
       "JD Unadkat                       1226        392      511       83        6   \n",
       "UT Yadav                         1216        494      413       56        7   \n",
       "RD Chahar                        1207        426      528       87        4   \n",
       "DJ Bravo                         1186        329      567      108        2   \n",
       "Kuldeep Yadav                    1145        330      568       75        2   \n",
       "CV Varun                          992        346      450       69        3   \n",
       "HV Patel                          983        322      440       63        1   \n",
       "Washington Sundar                 928        318      442       48        1   \n",
       "HH Pandya                         890        301      376       50        3   \n",
       "Avesh Khan                        868        336      315       43        3   \n",
       "JC Archer                         858        377      302       48        3   \n",
       "S Gopal                           842        271      391       48        2   \n",
       "LH Ferguson                       805        299      305       48        1   \n",
       "Arshdeep Singh                    803        254      339       75        2   \n",
       "T Natarajan                       793        238      364       50        1   \n",
       "AJ Tye                            714        208      330       48        1   \n",
       "Mustafizur Rahman                 710        238      296       50        5   \n",
       "A Nortje                          706        275      259       33        6   \n",
       "Shivam Mavi                       687        254      249       52        1   \n",
       "Navdeep Saini                     657        263      219       33        3   \n",
       "JO Holder                         645        201      282       50        3   \n",
       "TG Southee                        601        202      241       37        2   \n",
       "I Sharma                          491        174      188       30        5   \n",
       "Mujeeb Ur Rahman                  452        147      198       37        5   \n",
       "S Nadeem                          417        115      211       21        1   \n",
       "C Sakariya                        405        126      189       28        3   \n",
       "CJ Jordan                         396        116      164       35        3   \n",
       "DR Sams                           389        142      154       24        1   \n",
       "Kartik Tyagi                      388        134      148       24        3   \n",
       "Umran Malik                       388        162      117       19        4   \n",
       "VR Aaron                          290        101       98       23        1   \n",
       "RP Meredith                       289        107      109       13        1   \n",
       "MJ Santner                        244         90      107       14        1   \n",
       "M Jansen                          241         91       92       13        2   \n",
       "TS Mills                          218         69       83       13        1   \n",
       "Mohsin Khan                       206        105       63       11        2   \n",
       "BB Sran                           184         56       67       13        3   \n",
       "KMA Paul                          180         52       91        9        1   \n",
       "KA Jamieson                       179         69       61        7        1   \n",
       "OC McCoy                          173         47       85       11        2   \n",
       "\n",
       "                   4_count  5_count  6_count  wicket_count  boundary_count  \n",
       "Rashid Khan            161        3       82           119             243  \n",
       "JJ Bumrah              223        6       65           131             288  \n",
       "YS Chahal              142        3      116           114             258  \n",
       "SP Narine              148        3       81            74             229  \n",
       "R Ashwin               117        1       80            64             197  \n",
       "B Kumar                191        3       66            76             257  \n",
       "TA Boult               255        4       76            88             331  \n",
       "SN Thakur              219        4       88            87             307  \n",
       "Mohammed Shami         234        9       82            97             316  \n",
       "KH Pandya              125        1       57            58             182  \n",
       "RA Jadeja              120        1       78            57             198  \n",
       "K Rabada               192        3       75           108             267  \n",
       "Mohammed Siraj         189        4       88            61             277  \n",
       "DL Chahar              200        3       42            61             242  \n",
       "M Prasidh Krishna      200        5       56            54             256  \n",
       "JD Unadkat             145        1       88            66             233  \n",
       "UT Yadav               175        1       70            64             245  \n",
       "RD Chahar               94        1       67            58             161  \n",
       "DJ Bravo               124        1       54            70             178  \n",
       "Kuldeep Yadav           87        1       82            57             169  \n",
       "CV Varun                77        1       46            44             123  \n",
       "HV Patel               101        4       51            72             152  \n",
       "Washington Sundar       69        1       49            35             118  \n",
       "HH Pandya              106        1       52            49             158  \n",
       "Avesh Khan             123        1       46            51             169  \n",
       "JC Archer               83        1       44            47             127  \n",
       "S Gopal                 68        1       61            43             129  \n",
       "LH Ferguson            111        1       40            46             151  \n",
       "Arshdeep Singh         102        3       28            46             130  \n",
       "T Natarajan             95        1       44            43             139  \n",
       "AJ Tye                  92        2       33            48             125  \n",
       "Mustafizur Rahman       87        1       33            36             120  \n",
       "A Nortje                97        2       33            44             130  \n",
       "Shivam Mavi             92        1       37            33             129  \n",
       "Navdeep Saini           99        3       36            23             135  \n",
       "JO Holder               79        1       29            47             108  \n",
       "TG Southee              86        1       32            33             118  \n",
       "I Sharma                74        1       19            15              93  \n",
       "Mujeeb Ur Rahman        39        1       25            20              64  \n",
       "S Nadeem                41        1       27            21              68  \n",
       "C Sakariya              43        1       15            17              58  \n",
       "CJ Jordan               53        1       24            20              77  \n",
       "DR Sams                 42        1       25            15              67  \n",
       "Kartik Tyagi            51        1       27            15              78  \n",
       "Umran Malik             64        4       18            25              82  \n",
       "VR Aaron                50        2       15            13              65  \n",
       "RP Meredith             38        4       17            14              55  \n",
       "MJ Santner              23        2        7            10              30  \n",
       "M Jansen                28        1       14            10              42  \n",
       "TS Mills                37        1       14            11              51  \n",
       "Mohsin Khan             19        1        5            14              24  \n",
       "BB Sran                 30        1       14             6              44  \n",
       "KMA Paul                18        1        6            10              24  \n",
       "KA Jamieson             26        1       14             9              40  \n",
       "OC McCoy                19        1        8            11              27  "
      ]
     },
     "execution_count": 50,
     "metadata": {},
     "output_type": "execute_result"
    }
   ],
   "source": [
    "Bowling_Targets"
   ]
  },
  {
   "cell_type": "code",
   "execution_count": 51,
   "metadata": {},
   "outputs": [
    {
     "data": {
      "text/html": [
       "<div>\n",
       "<style scoped>\n",
       "    .dataframe tbody tr th:only-of-type {\n",
       "        vertical-align: middle;\n",
       "    }\n",
       "\n",
       "    .dataframe tbody tr th {\n",
       "        vertical-align: top;\n",
       "    }\n",
       "\n",
       "    .dataframe thead th {\n",
       "        text-align: right;\n",
       "    }\n",
       "</style>\n",
       "<table border=\"1\" class=\"dataframe\">\n",
       "  <thead>\n",
       "    <tr style=\"text-align: right;\">\n",
       "      <th></th>\n",
       "      <th>total_balls_faced</th>\n",
       "      <th>dot_count</th>\n",
       "      <th>1_count</th>\n",
       "      <th>2_count</th>\n",
       "      <th>3_count</th>\n",
       "      <th>4_count</th>\n",
       "      <th>5_count</th>\n",
       "      <th>6_count</th>\n",
       "      <th>wicket_count</th>\n",
       "      <th>boundary_count</th>\n",
       "    </tr>\n",
       "  </thead>\n",
       "  <tbody>\n",
       "    <tr>\n",
       "      <th>S Dhawan</th>\n",
       "      <td>2461</td>\n",
       "      <td>774</td>\n",
       "      <td>1103</td>\n",
       "      <td>141</td>\n",
       "      <td>9</td>\n",
       "      <td>355</td>\n",
       "      <td>4</td>\n",
       "      <td>75</td>\n",
       "      <td>84</td>\n",
       "      <td>430</td>\n",
       "    </tr>\n",
       "    <tr>\n",
       "      <th>KL Rahul</th>\n",
       "      <td>2341</td>\n",
       "      <td>741</td>\n",
       "      <td>1026</td>\n",
       "      <td>158</td>\n",
       "      <td>3</td>\n",
       "      <td>272</td>\n",
       "      <td>1</td>\n",
       "      <td>140</td>\n",
       "      <td>58</td>\n",
       "      <td>412</td>\n",
       "    </tr>\n",
       "    <tr>\n",
       "      <th>V Kohli</th>\n",
       "      <td>2029</td>\n",
       "      <td>625</td>\n",
       "      <td>942</td>\n",
       "      <td>160</td>\n",
       "      <td>10</td>\n",
       "      <td>220</td>\n",
       "      <td>2</td>\n",
       "      <td>70</td>\n",
       "      <td>78</td>\n",
       "      <td>290</td>\n",
       "    </tr>\n",
       "    <tr>\n",
       "      <th>SS Iyer</th>\n",
       "      <td>1889</td>\n",
       "      <td>598</td>\n",
       "      <td>888</td>\n",
       "      <td>123</td>\n",
       "      <td>7</td>\n",
       "      <td>194</td>\n",
       "      <td>2</td>\n",
       "      <td>77</td>\n",
       "      <td>74</td>\n",
       "      <td>271</td>\n",
       "    </tr>\n",
       "    <tr>\n",
       "      <th>DA Warner</th>\n",
       "      <td>1873</td>\n",
       "      <td>584</td>\n",
       "      <td>772</td>\n",
       "      <td>175</td>\n",
       "      <td>13</td>\n",
       "      <td>241</td>\n",
       "      <td>6</td>\n",
       "      <td>81</td>\n",
       "      <td>52</td>\n",
       "      <td>322</td>\n",
       "    </tr>\n",
       "    <tr>\n",
       "      <th>RR Pant</th>\n",
       "      <td>1845</td>\n",
       "      <td>555</td>\n",
       "      <td>799</td>\n",
       "      <td>119</td>\n",
       "      <td>1</td>\n",
       "      <td>246</td>\n",
       "      <td>2</td>\n",
       "      <td>122</td>\n",
       "      <td>78</td>\n",
       "      <td>368</td>\n",
       "    </tr>\n",
       "    <tr>\n",
       "      <th>JC Buttler</th>\n",
       "      <td>1766</td>\n",
       "      <td>614</td>\n",
       "      <td>637</td>\n",
       "      <td>125</td>\n",
       "      <td>5</td>\n",
       "      <td>257</td>\n",
       "      <td>4</td>\n",
       "      <td>122</td>\n",
       "      <td>60</td>\n",
       "      <td>379</td>\n",
       "    </tr>\n",
       "    <tr>\n",
       "      <th>F du Plessis</th>\n",
       "      <td>1640</td>\n",
       "      <td>558</td>\n",
       "      <td>685</td>\n",
       "      <td>104</td>\n",
       "      <td>9</td>\n",
       "      <td>209</td>\n",
       "      <td>4</td>\n",
       "      <td>71</td>\n",
       "      <td>59</td>\n",
       "      <td>280</td>\n",
       "    </tr>\n",
       "    <tr>\n",
       "      <th>RG Sharma</th>\n",
       "      <td>1636</td>\n",
       "      <td>632</td>\n",
       "      <td>631</td>\n",
       "      <td>88</td>\n",
       "      <td>6</td>\n",
       "      <td>200</td>\n",
       "      <td>2</td>\n",
       "      <td>76</td>\n",
       "      <td>82</td>\n",
       "      <td>276</td>\n",
       "    </tr>\n",
       "    <tr>\n",
       "      <th>N Rana</th>\n",
       "      <td>1599</td>\n",
       "      <td>588</td>\n",
       "      <td>648</td>\n",
       "      <td>67</td>\n",
       "      <td>6</td>\n",
       "      <td>186</td>\n",
       "      <td>1</td>\n",
       "      <td>102</td>\n",
       "      <td>76</td>\n",
       "      <td>288</td>\n",
       "    </tr>\n",
       "    <tr>\n",
       "      <th>Shubman Gill</th>\n",
       "      <td>1555</td>\n",
       "      <td>516</td>\n",
       "      <td>690</td>\n",
       "      <td>106</td>\n",
       "      <td>4</td>\n",
       "      <td>190</td>\n",
       "      <td>2</td>\n",
       "      <td>47</td>\n",
       "      <td>59</td>\n",
       "      <td>237</td>\n",
       "    </tr>\n",
       "    <tr>\n",
       "      <th>KS Williamson</th>\n",
       "      <td>1552</td>\n",
       "      <td>499</td>\n",
       "      <td>696</td>\n",
       "      <td>113</td>\n",
       "      <td>8</td>\n",
       "      <td>171</td>\n",
       "      <td>2</td>\n",
       "      <td>63</td>\n",
       "      <td>50</td>\n",
       "      <td>234</td>\n",
       "    </tr>\n",
       "    <tr>\n",
       "      <th>Q de Kock</th>\n",
       "      <td>1547</td>\n",
       "      <td>542</td>\n",
       "      <td>618</td>\n",
       "      <td>105</td>\n",
       "      <td>4</td>\n",
       "      <td>191</td>\n",
       "      <td>2</td>\n",
       "      <td>84</td>\n",
       "      <td>61</td>\n",
       "      <td>275</td>\n",
       "    </tr>\n",
       "    <tr>\n",
       "      <th>MK Pandey</th>\n",
       "      <td>1520</td>\n",
       "      <td>471</td>\n",
       "      <td>720</td>\n",
       "      <td>120</td>\n",
       "      <td>5</td>\n",
       "      <td>148</td>\n",
       "      <td>3</td>\n",
       "      <td>52</td>\n",
       "      <td>53</td>\n",
       "      <td>200</td>\n",
       "    </tr>\n",
       "    <tr>\n",
       "      <th>Ishan Kishan</th>\n",
       "      <td>1403</td>\n",
       "      <td>509</td>\n",
       "      <td>570</td>\n",
       "      <td>69</td>\n",
       "      <td>4</td>\n",
       "      <td>164</td>\n",
       "      <td>2</td>\n",
       "      <td>85</td>\n",
       "      <td>58</td>\n",
       "      <td>249</td>\n",
       "    </tr>\n",
       "    <tr>\n",
       "      <th>MS Dhoni</th>\n",
       "      <td>1383</td>\n",
       "      <td>480</td>\n",
       "      <td>593</td>\n",
       "      <td>105</td>\n",
       "      <td>5</td>\n",
       "      <td>110</td>\n",
       "      <td>1</td>\n",
       "      <td>86</td>\n",
       "      <td>50</td>\n",
       "      <td>196</td>\n",
       "    </tr>\n",
       "    <tr>\n",
       "      <th>RA Tripathi</th>\n",
       "      <td>1312</td>\n",
       "      <td>430</td>\n",
       "      <td>535</td>\n",
       "      <td>95</td>\n",
       "      <td>4</td>\n",
       "      <td>178</td>\n",
       "      <td>2</td>\n",
       "      <td>68</td>\n",
       "      <td>64</td>\n",
       "      <td>246</td>\n",
       "    </tr>\n",
       "    <tr>\n",
       "      <th>KD Karthik</th>\n",
       "      <td>1294</td>\n",
       "      <td>374</td>\n",
       "      <td>574</td>\n",
       "      <td>97</td>\n",
       "      <td>1</td>\n",
       "      <td>169</td>\n",
       "      <td>5</td>\n",
       "      <td>74</td>\n",
       "      <td>56</td>\n",
       "      <td>243</td>\n",
       "    </tr>\n",
       "    <tr>\n",
       "      <th>HH Pandya</th>\n",
       "      <td>1272</td>\n",
       "      <td>378</td>\n",
       "      <td>568</td>\n",
       "      <td>77</td>\n",
       "      <td>7</td>\n",
       "      <td>134</td>\n",
       "      <td>5</td>\n",
       "      <td>103</td>\n",
       "      <td>54</td>\n",
       "      <td>237</td>\n",
       "    </tr>\n",
       "    <tr>\n",
       "      <th>AB de Villiers</th>\n",
       "      <td>1256</td>\n",
       "      <td>366</td>\n",
       "      <td>545</td>\n",
       "      <td>88</td>\n",
       "      <td>6</td>\n",
       "      <td>139</td>\n",
       "      <td>1</td>\n",
       "      <td>111</td>\n",
       "      <td>47</td>\n",
       "      <td>250</td>\n",
       "    </tr>\n",
       "    <tr>\n",
       "      <th>RV Uthappa</th>\n",
       "      <td>1206</td>\n",
       "      <td>445</td>\n",
       "      <td>481</td>\n",
       "      <td>50</td>\n",
       "      <td>4</td>\n",
       "      <td>145</td>\n",
       "      <td>3</td>\n",
       "      <td>78</td>\n",
       "      <td>65</td>\n",
       "      <td>223</td>\n",
       "    </tr>\n",
       "    <tr>\n",
       "      <th>AM Rahane</th>\n",
       "      <td>1191</td>\n",
       "      <td>415</td>\n",
       "      <td>517</td>\n",
       "      <td>79</td>\n",
       "      <td>3</td>\n",
       "      <td>147</td>\n",
       "      <td>1</td>\n",
       "      <td>29</td>\n",
       "      <td>57</td>\n",
       "      <td>176</td>\n",
       "    </tr>\n",
       "    <tr>\n",
       "      <th>MA Agarwal</th>\n",
       "      <td>1140</td>\n",
       "      <td>360</td>\n",
       "      <td>482</td>\n",
       "      <td>81</td>\n",
       "      <td>4</td>\n",
       "      <td>150</td>\n",
       "      <td>5</td>\n",
       "      <td>58</td>\n",
       "      <td>58</td>\n",
       "      <td>208</td>\n",
       "    </tr>\n",
       "    <tr>\n",
       "      <th>SK Raina</th>\n",
       "      <td>1118</td>\n",
       "      <td>345</td>\n",
       "      <td>527</td>\n",
       "      <td>54</td>\n",
       "      <td>1</td>\n",
       "      <td>147</td>\n",
       "      <td>1</td>\n",
       "      <td>43</td>\n",
       "      <td>46</td>\n",
       "      <td>190</td>\n",
       "    </tr>\n",
       "    <tr>\n",
       "      <th>PP Shaw</th>\n",
       "      <td>1106</td>\n",
       "      <td>393</td>\n",
       "      <td>398</td>\n",
       "      <td>61</td>\n",
       "      <td>3</td>\n",
       "      <td>195</td>\n",
       "      <td>1</td>\n",
       "      <td>55</td>\n",
       "      <td>61</td>\n",
       "      <td>250</td>\n",
       "    </tr>\n",
       "    <tr>\n",
       "      <th>KA Pollard</th>\n",
       "      <td>1067</td>\n",
       "      <td>341</td>\n",
       "      <td>467</td>\n",
       "      <td>62</td>\n",
       "      <td>4</td>\n",
       "      <td>92</td>\n",
       "      <td>2</td>\n",
       "      <td>97</td>\n",
       "      <td>58</td>\n",
       "      <td>189</td>\n",
       "    </tr>\n",
       "    <tr>\n",
       "      <th>SPD Smith</th>\n",
       "      <td>1066</td>\n",
       "      <td>324</td>\n",
       "      <td>517</td>\n",
       "      <td>80</td>\n",
       "      <td>4</td>\n",
       "      <td>112</td>\n",
       "      <td>2</td>\n",
       "      <td>27</td>\n",
       "      <td>40</td>\n",
       "      <td>139</td>\n",
       "    </tr>\n",
       "    <tr>\n",
       "      <th>D Padikkal</th>\n",
       "      <td>1057</td>\n",
       "      <td>386</td>\n",
       "      <td>429</td>\n",
       "      <td>62</td>\n",
       "      <td>5</td>\n",
       "      <td>138</td>\n",
       "      <td>1</td>\n",
       "      <td>36</td>\n",
       "      <td>45</td>\n",
       "      <td>174</td>\n",
       "    </tr>\n",
       "    <tr>\n",
       "      <th>SR Watson</th>\n",
       "      <td>1023</td>\n",
       "      <td>422</td>\n",
       "      <td>365</td>\n",
       "      <td>38</td>\n",
       "      <td>1</td>\n",
       "      <td>125</td>\n",
       "      <td>3</td>\n",
       "      <td>69</td>\n",
       "      <td>47</td>\n",
       "      <td>194</td>\n",
       "    </tr>\n",
       "    <tr>\n",
       "      <th>GJ Maxwell</th>\n",
       "      <td>977</td>\n",
       "      <td>304</td>\n",
       "      <td>406</td>\n",
       "      <td>67</td>\n",
       "      <td>4</td>\n",
       "      <td>123</td>\n",
       "      <td>2</td>\n",
       "      <td>71</td>\n",
       "      <td>50</td>\n",
       "      <td>194</td>\n",
       "    </tr>\n",
       "    <tr>\n",
       "      <th>RD Gaikwad</th>\n",
       "      <td>945</td>\n",
       "      <td>324</td>\n",
       "      <td>397</td>\n",
       "      <td>59</td>\n",
       "      <td>4</td>\n",
       "      <td>115</td>\n",
       "      <td>3</td>\n",
       "      <td>43</td>\n",
       "      <td>32</td>\n",
       "      <td>158</td>\n",
       "    </tr>\n",
       "    <tr>\n",
       "      <th>WP Saha</th>\n",
       "      <td>926</td>\n",
       "      <td>321</td>\n",
       "      <td>399</td>\n",
       "      <td>51</td>\n",
       "      <td>2</td>\n",
       "      <td>125</td>\n",
       "      <td>1</td>\n",
       "      <td>27</td>\n",
       "      <td>43</td>\n",
       "      <td>152</td>\n",
       "    </tr>\n",
       "    <tr>\n",
       "      <th>KH Pandya</th>\n",
       "      <td>876</td>\n",
       "      <td>294</td>\n",
       "      <td>368</td>\n",
       "      <td>71</td>\n",
       "      <td>5</td>\n",
       "      <td>100</td>\n",
       "      <td>1</td>\n",
       "      <td>37</td>\n",
       "      <td>53</td>\n",
       "      <td>137</td>\n",
       "    </tr>\n",
       "    <tr>\n",
       "      <th>DA Miller</th>\n",
       "      <td>785</td>\n",
       "      <td>229</td>\n",
       "      <td>386</td>\n",
       "      <td>59</td>\n",
       "      <td>1</td>\n",
       "      <td>70</td>\n",
       "      <td>1</td>\n",
       "      <td>38</td>\n",
       "      <td>27</td>\n",
       "      <td>108</td>\n",
       "    </tr>\n",
       "    <tr>\n",
       "      <th>DJ Hooda</th>\n",
       "      <td>746</td>\n",
       "      <td>218</td>\n",
       "      <td>362</td>\n",
       "      <td>61</td>\n",
       "      <td>2</td>\n",
       "      <td>62</td>\n",
       "      <td>1</td>\n",
       "      <td>40</td>\n",
       "      <td>38</td>\n",
       "      <td>102</td>\n",
       "    </tr>\n",
       "    <tr>\n",
       "      <th>BA Stokes</th>\n",
       "      <td>703</td>\n",
       "      <td>217</td>\n",
       "      <td>312</td>\n",
       "      <td>60</td>\n",
       "      <td>2</td>\n",
       "      <td>79</td>\n",
       "      <td>1</td>\n",
       "      <td>32</td>\n",
       "      <td>39</td>\n",
       "      <td>111</td>\n",
       "    </tr>\n",
       "    <tr>\n",
       "      <th>MP Stoinis</th>\n",
       "      <td>702</td>\n",
       "      <td>214</td>\n",
       "      <td>322</td>\n",
       "      <td>48</td>\n",
       "      <td>1</td>\n",
       "      <td>72</td>\n",
       "      <td>1</td>\n",
       "      <td>44</td>\n",
       "      <td>37</td>\n",
       "      <td>116</td>\n",
       "    </tr>\n",
       "    <tr>\n",
       "      <th>N Pooran</th>\n",
       "      <td>630</td>\n",
       "      <td>207</td>\n",
       "      <td>259</td>\n",
       "      <td>42</td>\n",
       "      <td>2</td>\n",
       "      <td>54</td>\n",
       "      <td>1</td>\n",
       "      <td>65</td>\n",
       "      <td>37</td>\n",
       "      <td>119</td>\n",
       "    </tr>\n",
       "    <tr>\n",
       "      <th>SP Narine</th>\n",
       "      <td>606</td>\n",
       "      <td>240</td>\n",
       "      <td>164</td>\n",
       "      <td>23</td>\n",
       "      <td>4</td>\n",
       "      <td>112</td>\n",
       "      <td>2</td>\n",
       "      <td>61</td>\n",
       "      <td>59</td>\n",
       "      <td>173</td>\n",
       "    </tr>\n",
       "    <tr>\n",
       "      <th>AR Patel</th>\n",
       "      <td>596</td>\n",
       "      <td>168</td>\n",
       "      <td>298</td>\n",
       "      <td>47</td>\n",
       "      <td>1</td>\n",
       "      <td>44</td>\n",
       "      <td>1</td>\n",
       "      <td>37</td>\n",
       "      <td>38</td>\n",
       "      <td>81</td>\n",
       "    </tr>\n",
       "    <tr>\n",
       "      <th>SO Hetmyer</th>\n",
       "      <td>577</td>\n",
       "      <td>173</td>\n",
       "      <td>250</td>\n",
       "      <td>43</td>\n",
       "      <td>2</td>\n",
       "      <td>56</td>\n",
       "      <td>1</td>\n",
       "      <td>52</td>\n",
       "      <td>26</td>\n",
       "      <td>108</td>\n",
       "    </tr>\n",
       "    <tr>\n",
       "      <th>Abhishek Sharma</th>\n",
       "      <td>511</td>\n",
       "      <td>177</td>\n",
       "      <td>199</td>\n",
       "      <td>40</td>\n",
       "      <td>2</td>\n",
       "      <td>65</td>\n",
       "      <td>3</td>\n",
       "      <td>25</td>\n",
       "      <td>29</td>\n",
       "      <td>90</td>\n",
       "    </tr>\n",
       "    <tr>\n",
       "      <th>E Lewis</th>\n",
       "      <td>499</td>\n",
       "      <td>204</td>\n",
       "      <td>171</td>\n",
       "      <td>20</td>\n",
       "      <td>2</td>\n",
       "      <td>64</td>\n",
       "      <td>2</td>\n",
       "      <td>36</td>\n",
       "      <td>24</td>\n",
       "      <td>100</td>\n",
       "    </tr>\n",
       "    <tr>\n",
       "      <th>KK Nair</th>\n",
       "      <td>492</td>\n",
       "      <td>176</td>\n",
       "      <td>203</td>\n",
       "      <td>25</td>\n",
       "      <td>2</td>\n",
       "      <td>66</td>\n",
       "      <td>1</td>\n",
       "      <td>19</td>\n",
       "      <td>31</td>\n",
       "      <td>85</td>\n",
       "    </tr>\n",
       "    <tr>\n",
       "      <th>YBK Jaiswal</th>\n",
       "      <td>410</td>\n",
       "      <td>166</td>\n",
       "      <td>141</td>\n",
       "      <td>15</td>\n",
       "      <td>2</td>\n",
       "      <td>62</td>\n",
       "      <td>2</td>\n",
       "      <td>22</td>\n",
       "      <td>23</td>\n",
       "      <td>84</td>\n",
       "    </tr>\n",
       "    <tr>\n",
       "      <th>Tilak Varma</th>\n",
       "      <td>313</td>\n",
       "      <td>87</td>\n",
       "      <td>160</td>\n",
       "      <td>19</td>\n",
       "      <td>1</td>\n",
       "      <td>29</td>\n",
       "      <td>1</td>\n",
       "      <td>16</td>\n",
       "      <td>10</td>\n",
       "      <td>45</td>\n",
       "    </tr>\n",
       "    <tr>\n",
       "      <th>SN Khan</th>\n",
       "      <td>291</td>\n",
       "      <td>96</td>\n",
       "      <td>132</td>\n",
       "      <td>15</td>\n",
       "      <td>1</td>\n",
       "      <td>39</td>\n",
       "      <td>1</td>\n",
       "      <td>7</td>\n",
       "      <td>17</td>\n",
       "      <td>46</td>\n",
       "    </tr>\n",
       "    <tr>\n",
       "      <th>MK Tiwary</th>\n",
       "      <td>287</td>\n",
       "      <td>84</td>\n",
       "      <td>141</td>\n",
       "      <td>13</td>\n",
       "      <td>1</td>\n",
       "      <td>35</td>\n",
       "      <td>1</td>\n",
       "      <td>12</td>\n",
       "      <td>12</td>\n",
       "      <td>47</td>\n",
       "    </tr>\n",
       "    <tr>\n",
       "      <th>Washington Sundar</th>\n",
       "      <td>278</td>\n",
       "      <td>91</td>\n",
       "      <td>122</td>\n",
       "      <td>25</td>\n",
       "      <td>3</td>\n",
       "      <td>26</td>\n",
       "      <td>2</td>\n",
       "      <td>9</td>\n",
       "      <td>23</td>\n",
       "      <td>35</td>\n",
       "    </tr>\n",
       "    <tr>\n",
       "      <th>M Vohra</th>\n",
       "      <td>272</td>\n",
       "      <td>104</td>\n",
       "      <td>96</td>\n",
       "      <td>19</td>\n",
       "      <td>3</td>\n",
       "      <td>32</td>\n",
       "      <td>1</td>\n",
       "      <td>17</td>\n",
       "      <td>18</td>\n",
       "      <td>49</td>\n",
       "    </tr>\n",
       "    <tr>\n",
       "      <th>Shakib Al Hasan</th>\n",
       "      <td>265</td>\n",
       "      <td>88</td>\n",
       "      <td>127</td>\n",
       "      <td>13</td>\n",
       "      <td>1</td>\n",
       "      <td>29</td>\n",
       "      <td>1</td>\n",
       "      <td>6</td>\n",
       "      <td>15</td>\n",
       "      <td>35</td>\n",
       "    </tr>\n",
       "    <tr>\n",
       "      <th>JJ Roy</th>\n",
       "      <td>264</td>\n",
       "      <td>97</td>\n",
       "      <td>101</td>\n",
       "      <td>12</td>\n",
       "      <td>2</td>\n",
       "      <td>42</td>\n",
       "      <td>1</td>\n",
       "      <td>9</td>\n",
       "      <td>11</td>\n",
       "      <td>51</td>\n",
       "    </tr>\n",
       "    <tr>\n",
       "      <th>Shahbaz Ahmed</th>\n",
       "      <td>253</td>\n",
       "      <td>82</td>\n",
       "      <td>117</td>\n",
       "      <td>22</td>\n",
       "      <td>2</td>\n",
       "      <td>18</td>\n",
       "      <td>1</td>\n",
       "      <td>11</td>\n",
       "      <td>15</td>\n",
       "      <td>29</td>\n",
       "    </tr>\n",
       "    <tr>\n",
       "      <th>Lalit Yadav</th>\n",
       "      <td>227</td>\n",
       "      <td>82</td>\n",
       "      <td>108</td>\n",
       "      <td>10</td>\n",
       "      <td>1</td>\n",
       "      <td>18</td>\n",
       "      <td>1</td>\n",
       "      <td>6</td>\n",
       "      <td>8</td>\n",
       "      <td>24</td>\n",
       "    </tr>\n",
       "    <tr>\n",
       "      <th>PK Garg</th>\n",
       "      <td>224</td>\n",
       "      <td>75</td>\n",
       "      <td>102</td>\n",
       "      <td>21</td>\n",
       "      <td>1</td>\n",
       "      <td>15</td>\n",
       "      <td>1</td>\n",
       "      <td>9</td>\n",
       "      <td>16</td>\n",
       "      <td>24</td>\n",
       "    </tr>\n",
       "    <tr>\n",
       "      <th>Rashid Khan</th>\n",
       "      <td>214</td>\n",
       "      <td>75</td>\n",
       "      <td>77</td>\n",
       "      <td>18</td>\n",
       "      <td>1</td>\n",
       "      <td>19</td>\n",
       "      <td>2</td>\n",
       "      <td>22</td>\n",
       "      <td>28</td>\n",
       "      <td>41</td>\n",
       "    </tr>\n",
       "    <tr>\n",
       "      <th>SN Thakur</th>\n",
       "      <td>132</td>\n",
       "      <td>46</td>\n",
       "      <td>54</td>\n",
       "      <td>11</td>\n",
       "      <td>1</td>\n",
       "      <td>11</td>\n",
       "      <td>1</td>\n",
       "      <td>8</td>\n",
       "      <td>14</td>\n",
       "      <td>19</td>\n",
       "    </tr>\n",
       "  </tbody>\n",
       "</table>\n",
       "</div>"
      ],
      "text/plain": [
       "                   total_balls_faced  dot_count  1_count  2_count  3_count  \\\n",
       "S Dhawan                        2461        774     1103      141        9   \n",
       "KL Rahul                        2341        741     1026      158        3   \n",
       "V Kohli                         2029        625      942      160       10   \n",
       "SS Iyer                         1889        598      888      123        7   \n",
       "DA Warner                       1873        584      772      175       13   \n",
       "RR Pant                         1845        555      799      119        1   \n",
       "JC Buttler                      1766        614      637      125        5   \n",
       "F du Plessis                    1640        558      685      104        9   \n",
       "RG Sharma                       1636        632      631       88        6   \n",
       "N Rana                          1599        588      648       67        6   \n",
       "Shubman Gill                    1555        516      690      106        4   \n",
       "KS Williamson                   1552        499      696      113        8   \n",
       "Q de Kock                       1547        542      618      105        4   \n",
       "MK Pandey                       1520        471      720      120        5   \n",
       "Ishan Kishan                    1403        509      570       69        4   \n",
       "MS Dhoni                        1383        480      593      105        5   \n",
       "RA Tripathi                     1312        430      535       95        4   \n",
       "KD Karthik                      1294        374      574       97        1   \n",
       "HH Pandya                       1272        378      568       77        7   \n",
       "AB de Villiers                  1256        366      545       88        6   \n",
       "RV Uthappa                      1206        445      481       50        4   \n",
       "AM Rahane                       1191        415      517       79        3   \n",
       "MA Agarwal                      1140        360      482       81        4   \n",
       "SK Raina                        1118        345      527       54        1   \n",
       "PP Shaw                         1106        393      398       61        3   \n",
       "KA Pollard                      1067        341      467       62        4   \n",
       "SPD Smith                       1066        324      517       80        4   \n",
       "D Padikkal                      1057        386      429       62        5   \n",
       "SR Watson                       1023        422      365       38        1   \n",
       "GJ Maxwell                       977        304      406       67        4   \n",
       "RD Gaikwad                       945        324      397       59        4   \n",
       "WP Saha                          926        321      399       51        2   \n",
       "KH Pandya                        876        294      368       71        5   \n",
       "DA Miller                        785        229      386       59        1   \n",
       "DJ Hooda                         746        218      362       61        2   \n",
       "BA Stokes                        703        217      312       60        2   \n",
       "MP Stoinis                       702        214      322       48        1   \n",
       "N Pooran                         630        207      259       42        2   \n",
       "SP Narine                        606        240      164       23        4   \n",
       "AR Patel                         596        168      298       47        1   \n",
       "SO Hetmyer                       577        173      250       43        2   \n",
       "Abhishek Sharma                  511        177      199       40        2   \n",
       "E Lewis                          499        204      171       20        2   \n",
       "KK Nair                          492        176      203       25        2   \n",
       "YBK Jaiswal                      410        166      141       15        2   \n",
       "Tilak Varma                      313         87      160       19        1   \n",
       "SN Khan                          291         96      132       15        1   \n",
       "MK Tiwary                        287         84      141       13        1   \n",
       "Washington Sundar                278         91      122       25        3   \n",
       "M Vohra                          272        104       96       19        3   \n",
       "Shakib Al Hasan                  265         88      127       13        1   \n",
       "JJ Roy                           264         97      101       12        2   \n",
       "Shahbaz Ahmed                    253         82      117       22        2   \n",
       "Lalit Yadav                      227         82      108       10        1   \n",
       "PK Garg                          224         75      102       21        1   \n",
       "Rashid Khan                      214         75       77       18        1   \n",
       "SN Thakur                        132         46       54       11        1   \n",
       "\n",
       "                   4_count  5_count  6_count  wicket_count  boundary_count  \n",
       "S Dhawan               355        4       75            84             430  \n",
       "KL Rahul               272        1      140            58             412  \n",
       "V Kohli                220        2       70            78             290  \n",
       "SS Iyer                194        2       77            74             271  \n",
       "DA Warner              241        6       81            52             322  \n",
       "RR Pant                246        2      122            78             368  \n",
       "JC Buttler             257        4      122            60             379  \n",
       "F du Plessis           209        4       71            59             280  \n",
       "RG Sharma              200        2       76            82             276  \n",
       "N Rana                 186        1      102            76             288  \n",
       "Shubman Gill           190        2       47            59             237  \n",
       "KS Williamson          171        2       63            50             234  \n",
       "Q de Kock              191        2       84            61             275  \n",
       "MK Pandey              148        3       52            53             200  \n",
       "Ishan Kishan           164        2       85            58             249  \n",
       "MS Dhoni               110        1       86            50             196  \n",
       "RA Tripathi            178        2       68            64             246  \n",
       "KD Karthik             169        5       74            56             243  \n",
       "HH Pandya              134        5      103            54             237  \n",
       "AB de Villiers         139        1      111            47             250  \n",
       "RV Uthappa             145        3       78            65             223  \n",
       "AM Rahane              147        1       29            57             176  \n",
       "MA Agarwal             150        5       58            58             208  \n",
       "SK Raina               147        1       43            46             190  \n",
       "PP Shaw                195        1       55            61             250  \n",
       "KA Pollard              92        2       97            58             189  \n",
       "SPD Smith              112        2       27            40             139  \n",
       "D Padikkal             138        1       36            45             174  \n",
       "SR Watson              125        3       69            47             194  \n",
       "GJ Maxwell             123        2       71            50             194  \n",
       "RD Gaikwad             115        3       43            32             158  \n",
       "WP Saha                125        1       27            43             152  \n",
       "KH Pandya              100        1       37            53             137  \n",
       "DA Miller               70        1       38            27             108  \n",
       "DJ Hooda                62        1       40            38             102  \n",
       "BA Stokes               79        1       32            39             111  \n",
       "MP Stoinis              72        1       44            37             116  \n",
       "N Pooran                54        1       65            37             119  \n",
       "SP Narine              112        2       61            59             173  \n",
       "AR Patel                44        1       37            38              81  \n",
       "SO Hetmyer              56        1       52            26             108  \n",
       "Abhishek Sharma         65        3       25            29              90  \n",
       "E Lewis                 64        2       36            24             100  \n",
       "KK Nair                 66        1       19            31              85  \n",
       "YBK Jaiswal             62        2       22            23              84  \n",
       "Tilak Varma             29        1       16            10              45  \n",
       "SN Khan                 39        1        7            17              46  \n",
       "MK Tiwary               35        1       12            12              47  \n",
       "Washington Sundar       26        2        9            23              35  \n",
       "M Vohra                 32        1       17            18              49  \n",
       "Shakib Al Hasan         29        1        6            15              35  \n",
       "JJ Roy                  42        1        9            11              51  \n",
       "Shahbaz Ahmed           18        1       11            15              29  \n",
       "Lalit Yadav             18        1        6             8              24  \n",
       "PK Garg                 15        1        9            16              24  \n",
       "Rashid Khan             19        2       22            28              41  \n",
       "SN Thakur               11        1        8            14              19  "
      ]
     },
     "execution_count": 51,
     "metadata": {},
     "output_type": "execute_result"
    }
   ],
   "source": [
    "Batting_Targets"
   ]
  },
  {
   "cell_type": "code",
   "execution_count": 52,
   "metadata": {},
   "outputs": [
    {
     "data": {
      "image/png": "[encoded data removed]",
      "text/plain": [
       "<Figure size 2000x1000 with 1 Axes>"
      ]
     },
     "metadata": {},
     "output_type": "display_data"
    }
   ],
   "source": [
    "# build a plot which plots the ratio of dot_count to 1_count on the x axis and the ratio of boundary_count to wicket_count on the y axis\n",
    "# add the name of the bowler as the label for each point\n",
    "\n",
    "plt.figure(figsize=(20,10))\n",
    "plt.scatter(Bowling_Targets['dot_count']/Bowling_Targets['1_count'], Bowling_Targets['boundary_count']/Bowling_Targets['wicket_count'])\n",
    "plt.xlabel('Dot to Single Ratio')\n",
    "plt.ylabel('Boundary to Wicket Ratio')\n",
    "plt.title('Bowling Targets')\n",
    "plt.show()\n",
    "\n",
    "\n"
   ]
  },
  {
   "cell_type": "code",
   "execution_count": 53,
   "metadata": {},
   "outputs": [
    {
     "data": {
      "image/png": "[encoded data removed]",
      "text/plain": [
       "<Figure size 2000x1000 with 1 Axes>"
      ]
     },
     "metadata": {},
     "output_type": "display_data"
    }
   ],
   "source": [
    "# build a plot which plots the ratio of dot_count to 1_count on the x axis and the ratio of boundary_count to wicket_count on the y axis for the Batting_Targets\n",
    "\n",
    "plt.figure(figsize=(20,10))\n",
    "plt.scatter(Batting_Targets['dot_count']/Batting_Targets['1_count'], Batting_Targets['boundary_count']/Batting_Targets['wicket_count'])\n",
    "plt.xlabel('Dot to Single Ratio')\n",
    "plt.ylabel('Boundary to Wicket Ratio')\n",
    "plt.title('Batting Targets')\n",
    "plt.show()\n"
   ]
  },
  {
   "cell_type": "code",
   "execution_count": 54,
   "metadata": {},
   "outputs": [],
   "source": [
    "def run_by_overs(df):\n",
    "  \n",
    "  df1 = df[df['batsman_runs']==1]\n",
    "  df2 = df[df['batsman_runs']==2]\n",
    "  df3 = df[df['batsman_runs']==3]\n",
    "  df4 = df[df['batsman_runs']==4]\n",
    "  df5 = df[df['batsman_runs']==5]\n",
    "  df6 = df[df['batsman_runs']==6]\n",
    "\n",
    "  answer = []\n",
    "\n",
    "  r1 = over_count(df1,1)\n",
    "  answer.append([1,r1])\n",
    "  r2 = over_count(df2,2)\n",
    "  answer.append([2,r2])\n",
    "  r3 = over_count(df3,3)\n",
    "  answer.append([3,r3])\n",
    "  r4 = over_count(df4,4)\n",
    "  answer.append([4,r4])\n",
    "  r5 = over_count(df5,5)\n",
    "  answer.append([5,r5])\n",
    "  r6 = over_count(df6,6)\n",
    "  answer.append([6,r6])\n",
    "\n",
    "  return answer\n",
    "\n",
    "def over_count(df,run):\n",
    "\n",
    "  counters = []\n",
    "  pp    = len(df[df['over']<=6])*run\n",
    "  mid = len(df[(df['over']>6) & (df['over']<=11)])*run\n",
    "  drink = len(df[(df['over']>11) & (df['over']<=16)])*run\n",
    "  end   = len(df[df['over']>=16])*run\n",
    "\n",
    "  counters.append(pp)\n",
    "  counters.append(mid)\n",
    "  counters.append(drink)\n",
    "  counters.append(end)\n",
    "\n",
    "  return counters\n",
    "\n",
    "\n",
    "def runs_by_segment(df):\n",
    "    # initialize a dictionary to store the counts\n",
    "    counts = {1: [0, 0, 0, 0], 2: [0, 0, 0, 0], 3: [0, 0, 0, 0], 4: [0, 0, 0, 0], 5: [0, 0, 0, 0], 6: [0, 0, 0, 0]}\n",
    "\n",
    "    # loop through all the runs from 1 to 6\n",
    "    for run in range(1, 7):\n",
    "        # filter the DataFrame for the current run\n",
    "        df_run = df[df['batsman_runs'] == run]\n",
    "        \n",
    "        # count the instances of the current run in the pp segment\n",
    "        counts[run][0] = len(df_run[df_run['over'] <= 6])\n",
    "        \n",
    "        # count the instances of the current run in the mid segment\n",
    "        counts[run][1] = len(df_run[(df_run['over'] > 6) & (df_run['over'] <= 11)])\n",
    "        \n",
    "        # count the instances of the current run in the drink segment\n",
    "        counts[run][2] = len(df_run[(df_run['over'] > 11) & (df_run['over'] <= 16)])\n",
    "        \n",
    "        # count the instances of the current run in the end segment\n",
    "        counts[run][3] = len(df_run[df_run['over'] >= 16])\n",
    "    \n",
    "    return counts\n",
    "\n",
    "def runs_by_segment2(df):\n",
    "    # initialize a dictionary to store the counts\n",
    "    counts = {'pp': [0, 0, 0, 0, 0, 0], 'mid': [0, 0, 0, 0, 0, 0], 'drink': [0, 0, 0, 0, 0,0], 'end': [0, 0, 0, 0,0,0]}\n",
    "\n",
    "    # loop through all the runs from 1 to 6\n",
    "    for run in range(1, 7):\n",
    "        # filter the DataFrame for the current run\n",
    "        df_run = df[df['batsman_runs'] == run]\n",
    "        \n",
    "        # count the instances of the current run in the pp segment\n",
    "        counts['pp'][run-1] = len(df_run[df_run['over'] <= 6])\n",
    "        \n",
    "        # count the instances of the current run in the mid segment\n",
    "        counts['mid'][run-1] = len(df_run[(df_run['over'] > 6) & (df_run['over'] <= 11)])\n",
    "        \n",
    "        # count the instances of the current run in the drink segment\n",
    "        counts['drink'][run-1] = len(df_run[(df_run['over'] > 11) & (df_run['over'] <= 16)])\n",
    "        \n",
    "        # count the instances of the current run in the end segment\n",
    "        counts['end'][run-1] = len(df_run[df_run['over'] >= 16])\n",
    "    \n",
    "    return counts\n",
    "\n",
    "def striker_segment_count(df):\n",
    "    # create an empty dictionary to store the counts\n",
    "    counts = {}\n",
    "\n",
    "    # get a list of unique players\n",
    "    players = df['batsman'].unique()\n",
    "    \n",
    "    # loop through the list of players\n",
    "    for player in players:\n",
    "        # filter the DataFrame for the current player\n",
    "        df_player = df[df['batsman'] == player]\n",
    "        \n",
    "        # initialize an empty dictionary to store the counts for each segment\n",
    "        segment_counts = {'pp': 0, 'mid': 0, 'drink': 0, 'end': 0}\n",
    "        \n",
    "        # count the instances of the player playing as striker in the Powerplay segment\n",
    "        segment_counts['pp'] = len(df_player[(df_player['over'] <= 6)])\n",
    "        \n",
    "        # count the instances of the player playing as striker in the Mid segment\n",
    "        segment_counts['mid'] = len(df_player[(df_player['over'] > 6) & (df_player['over'] <= 11)])\n",
    "        \n",
    "        # count the instances of the player playing as striker in the Drink segment\n",
    "        segment_counts['drink'] = len(df_player[(df_player['over'] > 11) & (df_player['over'] <= 16)])\n",
    "        \n",
    "        # count the instances of the player playing as striker in the End segment\n",
    "        segment_counts['end'] = len(df_player[df_player['over'] > 16])\n",
    "        \n",
    "        # add the player and their counts to the dictionary\n",
    "        counts[player] = segment_counts\n",
    "    \n",
    "    return counts\n",
    "\n",
    "def bowler_segment_count(df):\n",
    "    # create an empty dictionary to store the counts\n",
    "    counts = {}\n",
    "\n",
    "    # get a list of unique players\n",
    "    players = df['bowler'].unique()\n",
    "    \n",
    "    # loop through the list of players\n",
    "    for player in players:\n",
    "        # filter the DataFrame for the current player\n",
    "        df_player = df[df['bowler'] == player]\n",
    "        \n",
    "        # initialize an empty dictionary to store the counts for each segment\n",
    "        segment_counts = {'pp': 0, 'mid': 0, 'drink': 0, 'end': 0}\n",
    "        \n",
    "        \n",
    "        # count the instances of the player playing as striker in the Powerplay segment\n",
    "        segment_counts['pp'] = len(df_player[(df_player['over'] <= 6)])\n",
    "        \n",
    "        # count the instances of the player playing as striker in the Mid segment\n",
    "        segment_counts['mid'] = len(df_player[(df_player['over'] > 6) & (df_player['over'] <= 11)])\n",
    "        \n",
    "        # count the instances of the player playing as striker in the Drink segment\n",
    "        segment_counts['drink'] = len(df_player[(df_player['over'] > 11) & (df_player['over'] <= 16)])\n",
    "        \n",
    "        # count the instances of the player playing as striker in the End segment\n",
    "        segment_counts['end'] = len(df_player[df_player['over'] > 16])\n",
    "        \n",
    "        # add the player and their counts to the dictionary\n",
    "        counts[player] = segment_counts\n",
    "    \n",
    "    return counts\n",
    "\n",
    "\n",
    "\n",
    "def NONstriker_segment_count(df):\n",
    "    # create an empty dictionary to store the counts\n",
    "    counts = {}\n",
    "\n",
    "    # get a list of unique players\n",
    "    players = df['non_striker'].unique()\n",
    "    \n",
    "    # loop through the list of players\n",
    "    for player in players:\n",
    "        # filter the DataFrame for the current player\n",
    "        df_player = df[df['non_striker'] == player]\n",
    "        \n",
    "        # initialize an empty dictionary to store the counts for each segment\n",
    "        segment_counts = {'pp': 0, 'mid': 0, 'drink': 0, 'end': 0}\n",
    "        \n",
    "        # count the instances of the player playing as striker in the Powerplay segment\n",
    "        segment_counts['pp'] = len(df_player[(df_player['over'] <= 6)])\n",
    "        \n",
    "        # count the instances of the player playing as striker in the Mid segment\n",
    "        segment_counts['mid'] = len(df_player[(df_player['over'] > 6) & (df_player['over'] <= 11)])\n",
    "        \n",
    "        # count the instances of the player playing as striker in the Drink segment\n",
    "        segment_counts['drink'] = len(df_player[(df_player['over'] > 11) & (df_player['over'] <= 16)])\n",
    "        \n",
    "        # count the instances of the player playing as striker in the End segment\n",
    "        segment_counts['end'] = len(df_player[df_player['over'] > 16])\n",
    "        \n",
    "        # add the player and their counts to the dictionary\n",
    "        counts[player] = segment_counts\n",
    "    \n",
    "    return counts\n"
   ]
  },
  {
   "cell_type": "code",
   "execution_count": 55,
   "metadata": {},
   "outputs": [],
   "source": [
    "def plot_runs_by_segment(df):\n",
    "    counts = runs_by_segment2(df)\n",
    "    labels = list(counts.keys())\n",
    "    run1 = []\n",
    "    run2 = []\n",
    "    run3 = []\n",
    "    run4 = []\n",
    "    run5 = []\n",
    "    run6 = []\n",
    "\n",
    "    for segments in counts:\n",
    "        run1.append(counts[segments][0])\n",
    "        run2.append(counts[segments][1])\n",
    "        run3.append(counts[segments][2])\n",
    "        run4.append(counts[segments][3])\n",
    "        run5.append(counts[segments][4])\n",
    "        run6.append(counts[segments][5])\n",
    "    \n",
    "    run1Values = []\n",
    "    run2Values = []\n",
    "    run3Values = []\n",
    "    run4Values = []\n",
    "    run5Values = []\n",
    "    run6Values = []\n",
    "\n",
    "\n",
    "    for segments in counts:\n",
    "        run1Values.append((counts[segments][0])*1)\n",
    "        run2Values.append((counts[segments][1])*2)\n",
    "        run3Values.append((counts[segments][2])*3)\n",
    "        run4Values.append((counts[segments][3])*4)\n",
    "        run5Values.append((counts[segments][4])*5)\n",
    "        run6Values.append((counts[segments][5])*6)\n",
    "  \n",
    "\n",
    "    width = 0.35\n",
    "    fig, ax = plt.subplots(1,2,figsize=(10,5))\n",
    "    ax[0].bar(labels, run1, width,bottom= 1,  label='1')\n",
    "    ax[0].bar(labels, run2, width,bottom = 2, label='2')\n",
    "    ax[0].bar(labels, run3, width,bottom = 3,  label='3')\n",
    "    ax[0].bar(labels, run4, width, bottom = 4,label='4')\n",
    "    ax[0].bar(labels, run5, width, bottom = 5,label='5')\n",
    "    ax[0].bar(labels, run6, width, bottom = 6,label='6')\n",
    "\n",
    "\n",
    "\n",
    "    ax[0].set_ylabel('Runs')\n",
    "    ax[0].set_xlabel('Runs')\n",
    "    ax[0].set_title('Runs(Instance/Count) by Over')\n",
    "    ax[0].legend()\n",
    "\n",
    "    ax[1].bar(labels, run1Values, width,bottom = run1Values,   label='1')\n",
    "    ax[1].bar(labels, run2Values, width,bottom = run2Values, label='2')\n",
    "    ax[1].bar(labels, run3Values, width,bottom = run3Values,  label='3')\n",
    "    ax[1].bar(labels, run4Values, width, bottom = run4Values,label='4')\n",
    "    ax[1].bar(labels, run5Values, width, bottom = run5Values,label='5')\n",
    "    ax[1].bar(labels, run6Values, width, bottom = run6Values,label='6')\n",
    "\n",
    "\n",
    "\n",
    "    ax[1].set_ylabel('Runs')\n",
    "    ax[1].set_xlabel('Runs')\n",
    "    ax[1].set_title('Runs Value by Over')\n",
    "    ax[1].legend()\n",
    "\n",
    "    \n",
    "\n",
    "    plt.show()\n",
    "\n",
    "\n"
   ]
  },
  {
   "cell_type": "code",
   "execution_count": 56,
   "metadata": {},
   "outputs": [],
   "source": [
    "colors = ['turquoise', 'crimson']\n",
    "def count_bowl(df,runs):\n",
    "    return len(df[df['batsman_runs']==runs])*runs\n",
    "\n",
    "# make a function which calcultes the runs based on the over number \n",
    "\n",
    "def runs_over(over):\n",
    "    filt=(df_18['over']==over)\n",
    "    df_over=df_18[filt]\n",
    "    return df_over['total_runs'].sum()\n",
    "\n",
    "\n",
    "\n",
    "def Bowler_Analysis(Bowler):\n",
    "  filt=(df_18['bowler']==Bowler)\n",
    "  df_bowl=df_18[filt]\n",
    "\n",
    "  print(\"Dot Balls :\",len(df_bowl[df_bowl['total_runs']==0]))\n",
    "  print(\"Runs given from 1's :\",count_bowl(df_bowl,1))\n",
    "  print(\"Runs given from 2's :\",count_bowl(df_bowl,2))\n",
    "  print(\"Runs given from 3's :\",count_bowl(df_bowl,3))\n",
    "  print(\"Runs given from 4's :\",count_bowl(df_bowl,4))\n",
    "  print(\"Runs given from 6's :\",count_bowl(df_bowl,6))\n",
    "  print(\"Extras :\",len(df_bowl[df_bowl['extra_runs']==1]))\n",
    "  print(\"Wickets :\",len(df_bowl[df_bowl['is_wicket']==1]))\n",
    "\n",
    "  runs_total = df_bowl['total_runs'].sum()\n",
    "  balls_total = len(df_bowl['batsman_runs'])\n",
    "  \n",
    "  print(\" Runs Given per Ball :\", round((runs_total/balls_total),2))\n",
    "\n",
    "  # make plot neater and beautiful\n",
    "\n",
    "\n",
    "  values = df_bowl['dismissal_kind'].value_counts()\n",
    "  labels=df_bowl['dismissal_kind'].value_counts().index\n",
    "  fig = go.Figure(data=[go.Pie(labels=labels,values=values,hole=.3)])\n",
    "  fig.update_traces(hoverinfo='label+percent', textinfo='label', textfont_size=20,\n",
    "                  marker=dict(colors=colors, line=dict(color='#000000', width=3)))\n",
    "  fig.update_layout(title=\"Wicket Type\",\n",
    "                  titlefont={'size': 30},\n",
    "                  )\n",
    "  fig.show()\n",
    "\n",
    "  plot_runs_by_segment(df_bowl)\n",
    "\n",
    "  play_count = bowler_segment_count(df_bowl)\n",
    "  label2 = list(play_count.keys())\n",
    "  pp = []\n",
    "  mid = []\n",
    "  drink = []\n",
    "  end = []\n",
    "  for player in play_count:\n",
    "       pp.append(play_count[player]['pp'])\n",
    "       mid.append(play_count[player]['mid'])\n",
    "       drink.append(play_count[player]['drink'])\n",
    "       end.append(play_count[player]['end'])\n",
    "  \n",
    "  width = 0.35\n",
    "  fig, ax = plt.subplots(figsize=(10,5))\n",
    "  ax.bar(label2, pp, width, label='Powerplay')\n",
    "  ax.bar(label2, mid, width, label='Middle')\n",
    "  ax.bar(label2, drink, width, label='Drinks')\n",
    "  ax.bar(label2, end, width, label='End')\n",
    "  \n",
    "  ax.set_ylabel('Bowling Segment')\n",
    "  ax.set_xlabel('Bowler')\n",
    "  ax.set_title('Over Bowled in Segment by Bowler')\n",
    "  ax.legend()\n",
    "\n",
    "  #calculate the extra runs given by the bowler in each segment\n",
    "\n",
    "  \n",
    "  "
   ]
  },
  {
   "attachments": {},
   "cell_type": "markdown",
   "metadata": {},
   "source": [
    "# 4.1 Bowler Analysis"
   ]
  },
  {
   "cell_type": "code",
   "execution_count": 57,
   "metadata": {},
   "outputs": [
    {
     "data": {
      "application/vnd.plotly.v1+json": {
       "config": {
        "plotlyServerURL": "https://plot.ly"
       },
       "data": [
        {
         "hole": 0.3,
         "hoverinfo": "label+percent",
         "labels": [
          "caught",
          "lbw",
          "bowled",
          "run out",
          "stumped",
          "caught and bowled"
         ],
         "marker": {
          "colors": [
           "turquoise",
           "crimson"
          ],
          "line": {
           "color": "#000000",
           "width": 3
          }
         },
         "textfont": {
          "size": 20
         },
         "textinfo": "label",
         "type": "pie",
         "values": [
          50,
          28,
          28,
          7,
          5,
          1
         ]
        }
       ],
       "layout": {
        "template": {
         "data": {
          "bar": [
           {
            "error_x": {
             "color": "#2a3f5f"
            },
            "error_y": {
             "color": "#2a3f5f"
            },
            "marker": {
             "line": {
              "color": "#E5ECF6",
              "width": 0.5
             },
             "pattern": {
              "fillmode": "overlay",
              "size": 10,
              "solidity": 0.2
             }
            },
            "type": "bar"
           }
          ],
          "barpolar": [
           {
            "marker": {
             "line": {
              "color": "#E5ECF6",
              "width": 0.5
             },
             "pattern": {
              "fillmode": "overlay",
              "size": 10,
              "solidity": 0.2
             }
            },
            "type": "barpolar"
           }
          ],
          "carpet": [
           {
            "aaxis": {
             "endlinecolor": "#2a3f5f",
             "gridcolor": "white",
             "linecolor": "white",
             "minorgridcolor": "white",
             "startlinecolor": "#2a3f5f"
            },
            "baxis": {
             "endlinecolor": "#2a3f5f",
             "gridcolor": "white",
             "linecolor": "white",
             "minorgridcolor": "white",
             "startlinecolor": "#2a3f5f"
            },
            "type": "carpet"
           }
          ],
          "choropleth": [
           {
            "colorbar": {
             "outlinewidth": 0,
             "ticks": ""
            },
            "type": "choropleth"
           }
          ],
          "contour": [
           {
            "colorbar": {
             "outlinewidth": 0,
             "ticks": ""
            },
            "colorscale": [
             [
              0,
              "#0d0887"
             ],
             [
              0.1111111111111111,
              "#46039f"
             ],
             [
              0.2222222222222222,
              "#7201a8"
             ],
             [
              0.3333333333333333,
              "#9c179e"
             ],
             [
              0.4444444444444444,
              "#bd3786"
             ],
             [
              0.5555555555555556,
              "#d8576b"
             ],
             [
              0.6666666666666666,
              "#ed7953"
             ],
             [
              0.7777777777777778,
              "#fb9f3a"
             ],
             [
              0.8888888888888888,
              "#fdca26"
             ],
             [
              1,
              "#f0f921"
             ]
            ],
            "type": "contour"
           }
          ],
          "contourcarpet": [
           {
            "colorbar": {
             "outlinewidth": 0,
             "ticks": ""
            },
            "type": "contourcarpet"
           }
          ],
          "heatmap": [
           {
            "colorbar": {
             "outlinewidth": 0,
             "ticks": ""
            },
            "colorscale": [
             [
              0,
              "#0d0887"
             ],
             [
              0.1111111111111111,
              "#46039f"
             ],
             [
              0.2222222222222222,
              "#7201a8"
             ],
             [
              0.3333333333333333,
              "#9c179e"
             ],
             [
              0.4444444444444444,
              "#bd3786"
             ],
             [
              0.5555555555555556,
              "#d8576b"
             ],
             [
              0.6666666666666666,
              "#ed7953"
             ],
             [
              0.7777777777777778,
              "#fb9f3a"
             ],
             [
              0.8888888888888888,
              "#fdca26"
             ],
             [
              1,
              "#f0f921"
             ]
            ],
            "type": "heatmap"
           }
          ],
          "heatmapgl": [
           {
            "colorbar": {
             "outlinewidth": 0,
             "ticks": ""
            },
            "colorscale": [
             [
              0,
              "#0d0887"
             ],
             [
              0.1111111111111111,
              "#46039f"
             ],
             [
              0.2222222222222222,
              "#7201a8"
             ],
             [
              0.3333333333333333,
              "#9c179e"
             ],
             [
              0.4444444444444444,
              "#bd3786"
             ],
             [
              0.5555555555555556,
              "#d8576b"
             ],
             [
              0.6666666666666666,
              "#ed7953"
             ],
             [
              0.7777777777777778,
              "#fb9f3a"
             ],
             [
              0.8888888888888888,
              "#fdca26"
             ],
             [
              1,
              "#f0f921"
             ]
            ],
            "type": "heatmapgl"
           }
          ],
          "histogram": [
           {
            "marker": {
             "pattern": {
              "fillmode": "overlay",
              "size": 10,
              "solidity": 0.2
             }
            },
            "type": "histogram"
           }
          ],
          "histogram2d": [
           {
            "colorbar": {
             "outlinewidth": 0,
             "ticks": ""
            },
            "colorscale": [
             [
              0,
              "#0d0887"
             ],
             [
              0.1111111111111111,
              "#46039f"
             ],
             [
              0.2222222222222222,
              "#7201a8"
             ],
             [
              0.3333333333333333,
              "#9c179e"
             ],
             [
              0.4444444444444444,
              "#bd3786"
             ],
             [
              0.5555555555555556,
              "#d8576b"
             ],
             [
              0.6666666666666666,
              "#ed7953"
             ],
             [
              0.7777777777777778,
              "#fb9f3a"
             ],
             [
              0.8888888888888888,
              "#fdca26"
             ],
             [
              1,
              "#f0f921"
             ]
            ],
            "type": "histogram2d"
           }
          ],
          "histogram2dcontour": [
           {
            "colorbar": {
             "outlinewidth": 0,
             "ticks": ""
            },
            "colorscale": [
             [
              0,
              "#0d0887"
             ],
             [
              0.1111111111111111,
              "#46039f"
             ],
             [
              0.2222222222222222,
              "#7201a8"
             ],
             [
              0.3333333333333333,
              "#9c179e"
             ],
             [
              0.4444444444444444,
              "#bd3786"
             ],
             [
              0.5555555555555556,
              "#d8576b"
             ],
             [
              0.6666666666666666,
              "#ed7953"
             ],
             [
              0.7777777777777778,
              "#fb9f3a"
             ],
             [
              0.8888888888888888,
              "#fdca26"
             ],
             [
              1,
              "#f0f921"
             ]
            ],
            "type": "histogram2dcontour"
           }
          ],
          "mesh3d": [
           {
            "colorbar": {
             "outlinewidth": 0,
             "ticks": ""
            },
            "type": "mesh3d"
           }
          ],
          "parcoords": [
           {
            "line": {
             "colorbar": {
              "outlinewidth": 0,
              "ticks": ""
             }
            },
            "type": "parcoords"
           }
          ],
          "pie": [
           {
            "automargin": true,
            "type": "pie"
           }
          ],
          "scatter": [
           {
            "fillpattern": {
             "fillmode": "overlay",
             "size": 10,
             "solidity": 0.2
            },
            "type": "scatter"
           }
          ],
          "scatter3d": [
           {
            "line": {
             "colorbar": {
              "outlinewidth": 0,
              "ticks": ""
             }
            },
            "marker": {
             "colorbar": {
              "outlinewidth": 0,
              "ticks": ""
             }
            },
            "type": "scatter3d"
           }
          ],
          "scattercarpet": [
           {
            "marker": {
             "colorbar": {
              "outlinewidth": 0,
              "ticks": ""
             }
            },
            "type": "scattercarpet"
           }
          ],
          "scattergeo": [
           {
            "marker": {
             "colorbar": {
              "outlinewidth": 0,
              "ticks": ""
             }
            },
            "type": "scattergeo"
           }
          ],
          "scattergl": [
           {
            "marker": {
             "colorbar": {
              "outlinewidth": 0,
              "ticks": ""
             }
            },
            "type": "scattergl"
           }
          ],
          "scattermapbox": [
           {
            "marker": {
             "colorbar": {
              "outlinewidth": 0,
              "ticks": ""
             }
            },
            "type": "scattermapbox"
           }
          ],
          "scatterpolar": [
           {
            "marker": {
             "colorbar": {
              "outlinewidth": 0,
              "ticks": ""
             }
            },
            "type": "scatterpolar"
           }
          ],
          "scatterpolargl": [
           {
            "marker": {
             "colorbar": {
              "outlinewidth": 0,
              "ticks": ""
             }
            },
            "type": "scatterpolargl"
           }
          ],
          "scatterternary": [
           {
            "marker": {
             "colorbar": {
              "outlinewidth": 0,
              "ticks": ""
             }
            },
            "type": "scatterternary"
           }
          ],
          "surface": [
           {
            "colorbar": {
             "outlinewidth": 0,
             "ticks": ""
            },
            "colorscale": [
             [
              0,
              "#0d0887"
             ],
             [
              0.1111111111111111,
              "#46039f"
             ],
             [
              0.2222222222222222,
              "#7201a8"
             ],
             [
              0.3333333333333333,
              "#9c179e"
             ],
             [
              0.4444444444444444,
              "#bd3786"
             ],
             [
              0.5555555555555556,
              "#d8576b"
             ],
             [
              0.6666666666666666,
              "#ed7953"
             ],
             [
              0.7777777777777778,
              "#fb9f3a"
             ],
             [
              0.8888888888888888,
              "#fdca26"
             ],
             [
              1,
              "#f0f921"
             ]
            ],
            "type": "surface"
           }
          ],
          "table": [
           {
            "cells": {
             "fill": {
              "color": "#EBF0F8"
             },
             "line": {
              "color": "white"
             }
            },
            "header": {
             "fill": {
              "color": "#C8D4E3"
             },
             "line": {
              "color": "white"
             }
            },
            "type": "table"
           }
          ]
         },
         "layout": {
          "annotationdefaults": {
           "arrowcolor": "#2a3f5f",
           "arrowhead": 0,
           "arrowwidth": 1
          },
          "autotypenumbers": "strict",
          "coloraxis": {
           "colorbar": {
            "outlinewidth": 0,
            "ticks": ""
           }
          },
          "colorscale": {
           "diverging": [
            [
             0,
             "#8e0152"
            ],
            [
             0.1,
             "#c51b7d"
            ],
            [
             0.2,
             "#de77ae"
            ],
            [
             0.3,
             "#f1b6da"
            ],
            [
             0.4,
             "#fde0ef"
            ],
            [
             0.5,
             "#f7f7f7"
            ],
            [
             0.6,
             "#e6f5d0"
            ],
            [
             0.7,
             "#b8e186"
            ],
            [
             0.8,
             "#7fbc41"
            ],
            [
             0.9,
             "#4d9221"
            ],
            [
             1,
             "#276419"
            ]
           ],
           "sequential": [
            [
             0,
             "#0d0887"
            ],
            [
             0.1111111111111111,
             "#46039f"
            ],
            [
             0.2222222222222222,
             "#7201a8"
            ],
            [
             0.3333333333333333,
             "#9c179e"
            ],
            [
             0.4444444444444444,
             "#bd3786"
            ],
            [
             0.5555555555555556,
             "#d8576b"
            ],
            [
             0.6666666666666666,
             "#ed7953"
            ],
            [
             0.7777777777777778,
             "#fb9f3a"
            ],
            [
             0.8888888888888888,
             "#fdca26"
            ],
            [
             1,
             "#f0f921"
            ]
           ],
           "sequentialminus": [
            [
             0,
             "#0d0887"
            ],
            [
             0.1111111111111111,
             "#46039f"
            ],
            [
             0.2222222222222222,
             "#7201a8"
            ],
            [
             0.3333333333333333,
             "#9c179e"
            ],
            [
             0.4444444444444444,
             "#bd3786"
            ],
            [
             0.5555555555555556,
             "#d8576b"
            ],
            [
             0.6666666666666666,
             "#ed7953"
            ],
            [
             0.7777777777777778,
             "#fb9f3a"
            ],
            [
             0.8888888888888888,
             "#fdca26"
            ],
            [
             1,
             "#f0f921"
            ]
           ]
          },
          "colorway": [
           "#636efa",
           "#EF553B",
           "#00cc96",
           "#ab63fa",
           "#FFA15A",
           "#19d3f3",
           "#FF6692",
           "#B6E880",
           "#FF97FF",
           "#FECB52"
          ],
          "font": {
           "color": "#2a3f5f"
          },
          "geo": {
           "bgcolor": "white",
           "lakecolor": "white",
           "landcolor": "#E5ECF6",
           "showlakes": true,
           "showland": true,
           "subunitcolor": "white"
          },
          "hoverlabel": {
           "align": "left"
          },
          "hovermode": "closest",
          "mapbox": {
           "style": "light"
          },
          "paper_bgcolor": "white",
          "plot_bgcolor": "#E5ECF6",
          "polar": {
           "angularaxis": {
            "gridcolor": "white",
            "linecolor": "white",
            "ticks": ""
           },
           "bgcolor": "#E5ECF6",
           "radialaxis": {
            "gridcolor": "white",
            "linecolor": "white",
            "ticks": ""
           }
          },
          "scene": {
           "xaxis": {
            "backgroundcolor": "#E5ECF6",
            "gridcolor": "white",
            "gridwidth": 2,
            "linecolor": "white",
            "showbackground": true,
            "ticks": "",
            "zerolinecolor": "white"
           },
           "yaxis": {
            "backgroundcolor": "#E5ECF6",
            "gridcolor": "white",
            "gridwidth": 2,
            "linecolor": "white",
            "showbackground": true,
            "ticks": "",
            "zerolinecolor": "white"
           },
           "zaxis": {
            "backgroundcolor": "#E5ECF6",
            "gridcolor": "white",
            "gridwidth": 2,
            "linecolor": "white",
            "showbackground": true,
            "ticks": "",
            "zerolinecolor": "white"
           }
          },
          "shapedefaults": {
           "line": {
            "color": "#2a3f5f"
           }
          },
          "ternary": {
           "aaxis": {
            "gridcolor": "white",
            "linecolor": "white",
            "ticks": ""
           },
           "baxis": {
            "gridcolor": "white",
            "linecolor": "white",
            "ticks": ""
           },
           "bgcolor": "#E5ECF6",
           "caxis": {
            "gridcolor": "white",
            "linecolor": "white",
            "ticks": ""
           }
          },
          "title": {
           "x": 0.05
          },
          "xaxis": {
           "automargin": true,
           "gridcolor": "white",
           "linecolor": "white",
           "ticks": "",
           "title": {
            "standoff": 15
           },
           "zerolinecolor": "white",
           "zerolinewidth": 2
          },
          "yaxis": {
           "automargin": true,
           "gridcolor": "white",
           "linecolor": "white",
           "ticks": "",
           "title": {
            "standoff": 15
           },
           "zerolinecolor": "white",
           "zerolinewidth": 2
          }
         }
        },
        "title": {
         "font": {
          "size": 30
         },
         "text": "Wicket Type"
        }
       }
      }
     },
     "metadata": {},
     "output_type": "display_data"
    },
    {
     "data": {
      "application/vnd.jupyter.widget-view+json": {
       "model_id": "5ccb322b73aa4356aadb02c94b61140d",
       "version_major": 2,
       "version_minor": 0
      },
      "text/plain": [
       "interactive(children=(Dropdown(description='Bowler', options=('Rashid Khan', 'JJ Bumrah', 'YS Chahal', 'SP Nar…"
      ]
     },
     "metadata": {},
     "output_type": "display_data"
    },
    {
     "data": {
      "text/plain": [
       "<function __main__.Bowler_Analysis(Bowler)>"
      ]
     },
     "execution_count": 57,
     "metadata": {},
     "output_type": "execute_result"
    }
   ],
   "source": [
    "# copy index to a new column called name in Bowling_Targets\n",
    "Bowling_Targets['name'] = Bowling_Targets.index\n",
    "widgets.interact(Bowler_Analysis, Bowler = Bowling_Targets['name'])\n",
    "\n"
   ]
  },
  {
   "cell_type": "code",
   "execution_count": 58,
   "metadata": {},
   "outputs": [],
   "source": [
    "def count_run(df,runs):\n",
    "    return len(df[df['batsman_runs']==runs])*runs\n",
    "\n",
    "def Batsman_Analysis(Batter):\n",
    "  filt=(df_18['batsman']==Batter)\n",
    "  df_bat=df_18[filt]\n",
    "\n",
    "  print(\"Dot Ball's :\",len(df_bat[df_bat['batsman_runs']==0]))\n",
    "  print(\"Runs scored from 1's :\",count_run(df_bat,1))\n",
    "  print(\"Runs scored from 2's :\",count_run(df_bat,2))\n",
    "  print(\"Runs scored from 3's :\",count_run(df_bat,3))\n",
    "  print(\"Runs scored from 4's :\",count_run(df_bat,4))\n",
    "  print(\"Runs scored from 6's :\",count_run(df_bat,6))\n",
    "\n",
    "  runs_total = df_bat['total_runs'].sum()\n",
    "  balls_total = len(df_bat['batsman_runs'])\n",
    "  \n",
    "  print(\" Runs per Ball :\", round((runs_total/balls_total),2))\n",
    "\n",
    "\n",
    "\n",
    "  values = df_bat['dismissal_kind'].value_counts()\n",
    "  labels=df_bat['dismissal_kind'].value_counts().index\n",
    "  fig = go.Figure(data=[go.Pie(labels=labels,values=values,hole=.3)])\n",
    "  fig.update_traces(hoverinfo='label+percent', textinfo='label', textfont_size=20,\n",
    "                  marker=dict(colors=colors, line=dict(color='#000000', width=3)))\n",
    "  fig.update_layout(title=\"Dismissal Type\",\n",
    "                  titlefont={'size': 30},\n",
    "                  )\n",
    "  fig.show()\n",
    "\n",
    "  plot_runs_by_segment(df_bat)\n",
    "\n",
    "  play_count = striker_segment_count(df_bat)\n",
    "  print(\"Here-------------\")\n",
    "  print(play_count)\n",
    "  label2 = list(play_count.keys())\n",
    "  pp = []\n",
    "  mid = []\n",
    "  drink = []\n",
    "  end = []\n",
    "  for player in play_count:\n",
    "       pp.append(play_count[player]['pp'])\n",
    "       mid.append(play_count[player]['mid'])\n",
    "       drink.append(play_count[player]['drink'])\n",
    "       end.append(play_count[player]['end'])\n",
    "  \n",
    "  width = 0.35\n",
    "  fig, ax = plt.subplots(figsize=(10,5))\n",
    "  ax.bar(label2, pp, width, label='Powerplay')\n",
    "  ax.bar(label2, mid, width, label='Middle')\n",
    "  ax.bar(label2, drink, width, label='Drinks')\n",
    "  ax.bar(label2, end, width, label='End')\n",
    "\n",
    "  ax.set_ylabel('Batting Segment')\n",
    "  ax.set_xlabel('Batsman')\n",
    "  ax.set_title('Batting Segment by Batsman')\n",
    "  ax.legend()\n",
    "  "
   ]
  },
  {
   "attachments": {},
   "cell_type": "markdown",
   "metadata": {},
   "source": [
    "# 4.2 Batsman Analysis"
   ]
  },
  {
   "cell_type": "code",
   "execution_count": 59,
   "metadata": {},
   "outputs": [
    {
     "data": {
      "application/vnd.plotly.v1+json": {
       "config": {
        "plotlyServerURL": "https://plot.ly"
       },
       "data": [
        {
         "hole": 0.3,
         "hoverinfo": "label+percent",
         "labels": [
          "caught",
          "bowled",
          "lbw",
          "run out",
          "stumped",
          "caught and bowled",
          "retired hurt"
         ],
         "marker": {
          "colors": [
           "turquoise",
           "crimson"
          ],
          "line": {
           "color": "#000000",
           "width": 3
          }
         },
         "textfont": {
          "size": 20
         },
         "textinfo": "label",
         "type": "pie",
         "values": [
          50,
          19,
          7,
          4,
          2,
          1,
          1
         ]
        }
       ],
       "layout": {
        "template": {
         "data": {
          "bar": [
           {
            "error_x": {
             "color": "#2a3f5f"
            },
            "error_y": {
             "color": "#2a3f5f"
            },
            "marker": {
             "line": {
              "color": "#E5ECF6",
              "width": 0.5
             },
             "pattern": {
              "fillmode": "overlay",
              "size": 10,
              "solidity": 0.2
             }
            },
            "type": "bar"
           }
          ],
          "barpolar": [
           {
            "marker": {
             "line": {
              "color": "#E5ECF6",
              "width": 0.5
             },
             "pattern": {
              "fillmode": "overlay",
              "size": 10,
              "solidity": 0.2
             }
            },
            "type": "barpolar"
           }
          ],
          "carpet": [
           {
            "aaxis": {
             "endlinecolor": "#2a3f5f",
             "gridcolor": "white",
             "linecolor": "white",
             "minorgridcolor": "white",
             "startlinecolor": "#2a3f5f"
            },
            "baxis": {
             "endlinecolor": "#2a3f5f",
             "gridcolor": "white",
             "linecolor": "white",
             "minorgridcolor": "white",
             "startlinecolor": "#2a3f5f"
            },
            "type": "carpet"
           }
          ],
          "choropleth": [
           {
            "colorbar": {
             "outlinewidth": 0,
             "ticks": ""
            },
            "type": "choropleth"
           }
          ],
          "contour": [
           {
            "colorbar": {
             "outlinewidth": 0,
             "ticks": ""
            },
            "colorscale": [
             [
              0,
              "#0d0887"
             ],
             [
              0.1111111111111111,
              "#46039f"
             ],
             [
              0.2222222222222222,
              "#7201a8"
             ],
             [
              0.3333333333333333,
              "#9c179e"
             ],
             [
              0.4444444444444444,
              "#bd3786"
             ],
             [
              0.5555555555555556,
              "#d8576b"
             ],
             [
              0.6666666666666666,
              "#ed7953"
             ],
             [
              0.7777777777777778,
              "#fb9f3a"
             ],
             [
              0.8888888888888888,
              "#fdca26"
             ],
             [
              1,
              "#f0f921"
             ]
            ],
            "type": "contour"
           }
          ],
          "contourcarpet": [
           {
            "colorbar": {
             "outlinewidth": 0,
             "ticks": ""
            },
            "type": "contourcarpet"
           }
          ],
          "heatmap": [
           {
            "colorbar": {
             "outlinewidth": 0,
             "ticks": ""
            },
            "colorscale": [
             [
              0,
              "#0d0887"
             ],
             [
              0.1111111111111111,
              "#46039f"
             ],
             [
              0.2222222222222222,
              "#7201a8"
             ],
             [
              0.3333333333333333,
              "#9c179e"
             ],
             [
              0.4444444444444444,
              "#bd3786"
             ],
             [
              0.5555555555555556,
              "#d8576b"
             ],
             [
              0.6666666666666666,
              "#ed7953"
             ],
             [
              0.7777777777777778,
              "#fb9f3a"
             ],
             [
              0.8888888888888888,
              "#fdca26"
             ],
             [
              1,
              "#f0f921"
             ]
            ],
            "type": "heatmap"
           }
          ],
          "heatmapgl": [
           {
            "colorbar": {
             "outlinewidth": 0,
             "ticks": ""
            },
            "colorscale": [
             [
              0,
              "#0d0887"
             ],
             [
              0.1111111111111111,
              "#46039f"
             ],
             [
              0.2222222222222222,
              "#7201a8"
             ],
             [
              0.3333333333333333,
              "#9c179e"
             ],
             [
              0.4444444444444444,
              "#bd3786"
             ],
             [
              0.5555555555555556,
              "#d8576b"
             ],
             [
              0.6666666666666666,
              "#ed7953"
             ],
             [
              0.7777777777777778,
              "#fb9f3a"
             ],
             [
              0.8888888888888888,
              "#fdca26"
             ],
             [
              1,
              "#f0f921"
             ]
            ],
            "type": "heatmapgl"
           }
          ],
          "histogram": [
           {
            "marker": {
             "pattern": {
              "fillmode": "overlay",
              "size": 10,
              "solidity": 0.2
             }
            },
            "type": "histogram"
           }
          ],
          "histogram2d": [
           {
            "colorbar": {
             "outlinewidth": 0,
             "ticks": ""
            },
            "colorscale": [
             [
              0,
              "#0d0887"
             ],
             [
              0.1111111111111111,
              "#46039f"
             ],
             [
              0.2222222222222222,
              "#7201a8"
             ],
             [
              0.3333333333333333,
              "#9c179e"
             ],
             [
              0.4444444444444444,
              "#bd3786"
             ],
             [
              0.5555555555555556,
              "#d8576b"
             ],
             [
              0.6666666666666666,
              "#ed7953"
             ],
             [
              0.7777777777777778,
              "#fb9f3a"
             ],
             [
              0.8888888888888888,
              "#fdca26"
             ],
             [
              1,
              "#f0f921"
             ]
            ],
            "type": "histogram2d"
           }
          ],
          "histogram2dcontour": [
           {
            "colorbar": {
             "outlinewidth": 0,
             "ticks": ""
            },
            "colorscale": [
             [
              0,
              "#0d0887"
             ],
             [
              0.1111111111111111,
              "#46039f"
             ],
             [
              0.2222222222222222,
              "#7201a8"
             ],
             [
              0.3333333333333333,
              "#9c179e"
             ],
             [
              0.4444444444444444,
              "#bd3786"
             ],
             [
              0.5555555555555556,
              "#d8576b"
             ],
             [
              0.6666666666666666,
              "#ed7953"
             ],
             [
              0.7777777777777778,
              "#fb9f3a"
             ],
             [
              0.8888888888888888,
              "#fdca26"
             ],
             [
              1,
              "#f0f921"
             ]
            ],
            "type": "histogram2dcontour"
           }
          ],
          "mesh3d": [
           {
            "colorbar": {
             "outlinewidth": 0,
             "ticks": ""
            },
            "type": "mesh3d"
           }
          ],
          "parcoords": [
           {
            "line": {
             "colorbar": {
              "outlinewidth": 0,
              "ticks": ""
             }
            },
            "type": "parcoords"
           }
          ],
          "pie": [
           {
            "automargin": true,
            "type": "pie"
           }
          ],
          "scatter": [
           {
            "fillpattern": {
             "fillmode": "overlay",
             "size": 10,
             "solidity": 0.2
            },
            "type": "scatter"
           }
          ],
          "scatter3d": [
           {
            "line": {
             "colorbar": {
              "outlinewidth": 0,
              "ticks": ""
             }
            },
            "marker": {
             "colorbar": {
              "outlinewidth": 0,
              "ticks": ""
             }
            },
            "type": "scatter3d"
           }
          ],
          "scattercarpet": [
           {
            "marker": {
             "colorbar": {
              "outlinewidth": 0,
              "ticks": ""
             }
            },
            "type": "scattercarpet"
           }
          ],
          "scattergeo": [
           {
            "marker": {
             "colorbar": {
              "outlinewidth": 0,
              "ticks": ""
             }
            },
            "type": "scattergeo"
           }
          ],
          "scattergl": [
           {
            "marker": {
             "colorbar": {
              "outlinewidth": 0,
              "ticks": ""
             }
            },
            "type": "scattergl"
           }
          ],
          "scattermapbox": [
           {
            "marker": {
             "colorbar": {
              "outlinewidth": 0,
              "ticks": ""
             }
            },
            "type": "scattermapbox"
           }
          ],
          "scatterpolar": [
           {
            "marker": {
             "colorbar": {
              "outlinewidth": 0,
              "ticks": ""
             }
            },
            "type": "scatterpolar"
           }
          ],
          "scatterpolargl": [
           {
            "marker": {
             "colorbar": {
              "outlinewidth": 0,
              "ticks": ""
             }
            },
            "type": "scatterpolargl"
           }
          ],
          "scatterternary": [
           {
            "marker": {
             "colorbar": {
              "outlinewidth": 0,
              "ticks": ""
             }
            },
            "type": "scatterternary"
           }
          ],
          "surface": [
           {
            "colorbar": {
             "outlinewidth": 0,
             "ticks": ""
            },
            "colorscale": [
             [
              0,
              "#0d0887"
             ],
             [
              0.1111111111111111,
              "#46039f"
             ],
             [
              0.2222222222222222,
              "#7201a8"
             ],
             [
              0.3333333333333333,
              "#9c179e"
             ],
             [
              0.4444444444444444,
              "#bd3786"
             ],
             [
              0.5555555555555556,
              "#d8576b"
             ],
             [
              0.6666666666666666,
              "#ed7953"
             ],
             [
              0.7777777777777778,
              "#fb9f3a"
             ],
             [
              0.8888888888888888,
              "#fdca26"
             ],
             [
              1,
              "#f0f921"
             ]
            ],
            "type": "surface"
           }
          ],
          "table": [
           {
            "cells": {
             "fill": {
              "color": "#EBF0F8"
             },
             "line": {
              "color": "white"
             }
            },
            "header": {
             "fill": {
              "color": "#C8D4E3"
             },
             "line": {
              "color": "white"
             }
            },
            "type": "table"
           }
          ]
         },
         "layout": {
          "annotationdefaults": {
           "arrowcolor": "#2a3f5f",
           "arrowhead": 0,
           "arrowwidth": 1
          },
          "autotypenumbers": "strict",
          "coloraxis": {
           "colorbar": {
            "outlinewidth": 0,
            "ticks": ""
           }
          },
          "colorscale": {
           "diverging": [
            [
             0,
             "#8e0152"
            ],
            [
             0.1,
             "#c51b7d"
            ],
            [
             0.2,
             "#de77ae"
            ],
            [
             0.3,
             "#f1b6da"
            ],
            [
             0.4,
             "#fde0ef"
            ],
            [
             0.5,
             "#f7f7f7"
            ],
            [
             0.6,
             "#e6f5d0"
            ],
            [
             0.7,
             "#b8e186"
            ],
            [
             0.8,
             "#7fbc41"
            ],
            [
             0.9,
             "#4d9221"
            ],
            [
             1,
             "#276419"
            ]
           ],
           "sequential": [
            [
             0,
             "#0d0887"
            ],
            [
             0.1111111111111111,
             "#46039f"
            ],
            [
             0.2222222222222222,
             "#7201a8"
            ],
            [
             0.3333333333333333,
             "#9c179e"
            ],
            [
             0.4444444444444444,
             "#bd3786"
            ],
            [
             0.5555555555555556,
             "#d8576b"
            ],
            [
             0.6666666666666666,
             "#ed7953"
            ],
            [
             0.7777777777777778,
             "#fb9f3a"
            ],
            [
             0.8888888888888888,
             "#fdca26"
            ],
            [
             1,
             "#f0f921"
            ]
           ],
           "sequentialminus": [
            [
             0,
             "#0d0887"
            ],
            [
             0.1111111111111111,
             "#46039f"
            ],
            [
             0.2222222222222222,
             "#7201a8"
            ],
            [
             0.3333333333333333,
             "#9c179e"
            ],
            [
             0.4444444444444444,
             "#bd3786"
            ],
            [
             0.5555555555555556,
             "#d8576b"
            ],
            [
             0.6666666666666666,
             "#ed7953"
            ],
            [
             0.7777777777777778,
             "#fb9f3a"
            ],
            [
             0.8888888888888888,
             "#fdca26"
            ],
            [
             1,
             "#f0f921"
            ]
           ]
          },
          "colorway": [
           "#636efa",
           "#EF553B",
           "#00cc96",
           "#ab63fa",
           "#FFA15A",
           "#19d3f3",
           "#FF6692",
           "#B6E880",
           "#FF97FF",
           "#FECB52"
          ],
          "font": {
           "color": "#2a3f5f"
          },
          "geo": {
           "bgcolor": "white",
           "lakecolor": "white",
           "landcolor": "#E5ECF6",
           "showlakes": true,
           "showland": true,
           "subunitcolor": "white"
          },
          "hoverlabel": {
           "align": "left"
          },
          "hovermode": "closest",
          "mapbox": {
           "style": "light"
          },
          "paper_bgcolor": "white",
          "plot_bgcolor": "#E5ECF6",
          "polar": {
           "angularaxis": {
            "gridcolor": "white",
            "linecolor": "white",
            "ticks": ""
           },
           "bgcolor": "#E5ECF6",
           "radialaxis": {
            "gridcolor": "white",
            "linecolor": "white",
            "ticks": ""
           }
          },
          "scene": {
           "xaxis": {
            "backgroundcolor": "#E5ECF6",
            "gridcolor": "white",
            "gridwidth": 2,
            "linecolor": "white",
            "showbackground": true,
            "ticks": "",
            "zerolinecolor": "white"
           },
           "yaxis": {
            "backgroundcolor": "#E5ECF6",
            "gridcolor": "white",
            "gridwidth": 2,
            "linecolor": "white",
            "showbackground": true,
            "ticks": "",
            "zerolinecolor": "white"
           },
           "zaxis": {
            "backgroundcolor": "#E5ECF6",
            "gridcolor": "white",
            "gridwidth": 2,
            "linecolor": "white",
            "showbackground": true,
            "ticks": "",
            "zerolinecolor": "white"
           }
          },
          "shapedefaults": {
           "line": {
            "color": "#2a3f5f"
           }
          },
          "ternary": {
           "aaxis": {
            "gridcolor": "white",
            "linecolor": "white",
            "ticks": ""
           },
           "baxis": {
            "gridcolor": "white",
            "linecolor": "white",
            "ticks": ""
           },
           "bgcolor": "#E5ECF6",
           "caxis": {
            "gridcolor": "white",
            "linecolor": "white",
            "ticks": ""
           }
          },
          "title": {
           "x": 0.05
          },
          "xaxis": {
           "automargin": true,
           "gridcolor": "white",
           "linecolor": "white",
           "ticks": "",
           "title": {
            "standoff": 15
           },
           "zerolinecolor": "white",
           "zerolinewidth": 2
          },
          "yaxis": {
           "automargin": true,
           "gridcolor": "white",
           "linecolor": "white",
           "ticks": "",
           "title": {
            "standoff": 15
           },
           "zerolinecolor": "white",
           "zerolinewidth": 2
          }
         }
        },
        "title": {
         "font": {
          "size": 30
         },
         "text": "Dismissal Type"
        }
       }
      }
     },
     "metadata": {},
     "output_type": "display_data"
    },
    {
     "data": {
      "application/vnd.jupyter.widget-view+json": {
       "model_id": "403145bd70f04fcfa3bebe9b18c51ca9",
       "version_major": 2,
       "version_minor": 0
      },
      "text/plain": [
       "interactive(children=(Dropdown(description='Batter', options=('S Dhawan', 'KL Rahul', 'V Kohli', 'SS Iyer', 'D…"
      ]
     },
     "metadata": {},
     "output_type": "display_data"
    },
    {
     "data": {
      "text/plain": [
       "<function __main__.Batsman_Analysis(Batter)>"
      ]
     },
     "execution_count": 59,
     "metadata": {},
     "output_type": "execute_result"
    }
   ],
   "source": [
    "Batting_Targets['name'] = Batting_Targets.index\n",
    "widgets.interact(Batsman_Analysis, Batter = Batting_Targets['name'])"
   ]
  },
  {
   "cell_type": "code",
   "execution_count": 60,
   "metadata": {},
   "outputs": [],
   "source": [
    "def count_run(df,runs):\n",
    "    return len(df[df['batsman_runs']==runs])*runs\n",
    "\n",
    "def Non_Striker_Analysis(Batter):\n",
    "  filt=(df_18['non_striker']==Batter)\n",
    "  df_bat=df_18[filt]\n",
    "\n",
    "  print(\"Dot Ball's :\",len(df_bat[df_bat['batsman_runs']==0]))\n",
    "  print(\"Runs scored from 1's :\",count_run(df_bat,1))\n",
    "  print(\"Runs scored from 2's :\",count_run(df_bat,2))\n",
    "  print(\"Runs scored from 3's :\",count_run(df_bat,3))\n",
    "  print(\"Runs scored from 4's :\",count_run(df_bat,4))\n",
    "  print(\"Runs scored from 6's :\",count_run(df_bat,6))\n",
    "\n",
    "  runs_total = df_bat['total_runs'].sum()\n",
    "  balls_total = len(df_bat['batsman_runs'])\n",
    "  \n",
    "  print(\" Runs per Ball :\", round((runs_total/balls_total),2))\n",
    "\n",
    "\n",
    "  values = df_bat['dismissal_kind'].value_counts()\n",
    "  labels=df_bat['dismissal_kind'].value_counts().index\n",
    "  fig = go.Figure(data=[go.Pie(labels=labels,values=values,hole=.3)])\n",
    "  fig.update_traces(hoverinfo='label+percent', textinfo='label', textfont_size=20,\n",
    "                  marker=dict(colors=colors, line=dict(color='#000000', width=3)))\n",
    "  fig.update_layout(title=\"Dismissal Type\",\n",
    "                  titlefont={'size': 30},\n",
    "                  )\n",
    "  fig.show()\n",
    "\n",
    "  # use the plot_runs_by_segment function to plot the runs scored by the batsman in each over\n",
    "  plot_runs_by_segment(df_bat)\n",
    "\n",
    "  # use the striker_segment_count function to plot the runs scored by the batsman in each segment\n",
    "  play_count = NONstriker_segment_count(df_bat)\n",
    "  label2 = list(play_count.keys())\n",
    "  pp = []\n",
    "  mid = []\n",
    "  drink = []\n",
    "  end = []\n",
    "  for player in play_count:\n",
    "    pp.append(play_count[player]['pp'])\n",
    "    mid.append(play_count[player]['mid'])\n",
    "    drink.append(play_count[player]['drink'])\n",
    "    end.append(play_count[player]['end'])\n",
    "\n",
    "  width = 0.35\n",
    "  fig, ax = plt.subplots(figsize=(10,5))\n",
    "  ax.bar(label2, pp, width, label='Powerplay')\n",
    "  ax.bar(label2, mid, width, label='Middle')\n",
    "  ax.bar(label2, drink, width, label='Drinks')\n",
    "  ax.bar(label2, end, width, label='End')\n",
    "\n",
    "  ax.set_ylabel('Batting Segment')\n",
    "  ax.set_xlabel('Non Striker')\n",
    "  ax.set_title('Batting Segment by Non Striker')\n",
    "  ax.legend()\n",
    "\n",
    "\n",
    "\n",
    "  \n",
    "  "
   ]
  },
  {
   "attachments": {},
   "cell_type": "markdown",
   "metadata": {},
   "source": [
    "# 4.3 Non-Striker Analysis"
   ]
  },
  {
   "cell_type": "code",
   "execution_count": 61,
   "metadata": {},
   "outputs": [
    {
     "data": {
      "application/vnd.plotly.v1+json": {
       "config": {
        "plotlyServerURL": "https://plot.ly"
       },
       "data": [
        {
         "hole": 0.3,
         "hoverinfo": "label+percent",
         "labels": [
          "caught",
          "bowled",
          "lbw",
          "run out",
          "caught and bowled"
         ],
         "marker": {
          "colors": [
           "turquoise",
           "crimson"
          ],
          "line": {
           "color": "#000000",
           "width": 3
          }
         },
         "textfont": {
          "size": 20
         },
         "textinfo": "label",
         "type": "pie",
         "values": [
          71,
          17,
          12,
          4,
          2
         ]
        }
       ],
       "layout": {
        "template": {
         "data": {
          "bar": [
           {
            "error_x": {
             "color": "#2a3f5f"
            },
            "error_y": {
             "color": "#2a3f5f"
            },
            "marker": {
             "line": {
              "color": "#E5ECF6",
              "width": 0.5
             },
             "pattern": {
              "fillmode": "overlay",
              "size": 10,
              "solidity": 0.2
             }
            },
            "type": "bar"
           }
          ],
          "barpolar": [
           {
            "marker": {
             "line": {
              "color": "#E5ECF6",
              "width": 0.5
             },
             "pattern": {
              "fillmode": "overlay",
              "size": 10,
              "solidity": 0.2
             }
            },
            "type": "barpolar"
           }
          ],
          "carpet": [
           {
            "aaxis": {
             "endlinecolor": "#2a3f5f",
             "gridcolor": "white",
             "linecolor": "white",
             "minorgridcolor": "white",
             "startlinecolor": "#2a3f5f"
            },
            "baxis": {
             "endlinecolor": "#2a3f5f",
             "gridcolor": "white",
             "linecolor": "white",
             "minorgridcolor": "white",
             "startlinecolor": "#2a3f5f"
            },
            "type": "carpet"
           }
          ],
          "choropleth": [
           {
            "colorbar": {
             "outlinewidth": 0,
             "ticks": ""
            },
            "type": "choropleth"
           }
          ],
          "contour": [
           {
            "colorbar": {
             "outlinewidth": 0,
             "ticks": ""
            },
            "colorscale": [
             [
              0,
              "#0d0887"
             ],
             [
              0.1111111111111111,
              "#46039f"
             ],
             [
              0.2222222222222222,
              "#7201a8"
             ],
             [
              0.3333333333333333,
              "#9c179e"
             ],
             [
              0.4444444444444444,
              "#bd3786"
             ],
             [
              0.5555555555555556,
              "#d8576b"
             ],
             [
              0.6666666666666666,
              "#ed7953"
             ],
             [
              0.7777777777777778,
              "#fb9f3a"
             ],
             [
              0.8888888888888888,
              "#fdca26"
             ],
             [
              1,
              "#f0f921"
             ]
            ],
            "type": "contour"
           }
          ],
          "contourcarpet": [
           {
            "colorbar": {
             "outlinewidth": 0,
             "ticks": ""
            },
            "type": "contourcarpet"
           }
          ],
          "heatmap": [
           {
            "colorbar": {
             "outlinewidth": 0,
             "ticks": ""
            },
            "colorscale": [
             [
              0,
              "#0d0887"
             ],
             [
              0.1111111111111111,
              "#46039f"
             ],
             [
              0.2222222222222222,
              "#7201a8"
             ],
             [
              0.3333333333333333,
              "#9c179e"
             ],
             [
              0.4444444444444444,
              "#bd3786"
             ],
             [
              0.5555555555555556,
              "#d8576b"
             ],
             [
              0.6666666666666666,
              "#ed7953"
             ],
             [
              0.7777777777777778,
              "#fb9f3a"
             ],
             [
              0.8888888888888888,
              "#fdca26"
             ],
             [
              1,
              "#f0f921"
             ]
            ],
            "type": "heatmap"
           }
          ],
          "heatmapgl": [
           {
            "colorbar": {
             "outlinewidth": 0,
             "ticks": ""
            },
            "colorscale": [
             [
              0,
              "#0d0887"
             ],
             [
              0.1111111111111111,
              "#46039f"
             ],
             [
              0.2222222222222222,
              "#7201a8"
             ],
             [
              0.3333333333333333,
              "#9c179e"
             ],
             [
              0.4444444444444444,
              "#bd3786"
             ],
             [
              0.5555555555555556,
              "#d8576b"
             ],
             [
              0.6666666666666666,
              "#ed7953"
             ],
             [
              0.7777777777777778,
              "#fb9f3a"
             ],
             [
              0.8888888888888888,
              "#fdca26"
             ],
             [
              1,
              "#f0f921"
             ]
            ],
            "type": "heatmapgl"
           }
          ],
          "histogram": [
           {
            "marker": {
             "pattern": {
              "fillmode": "overlay",
              "size": 10,
              "solidity": 0.2
             }
            },
            "type": "histogram"
           }
          ],
          "histogram2d": [
           {
            "colorbar": {
             "outlinewidth": 0,
             "ticks": ""
            },
            "colorscale": [
             [
              0,
              "#0d0887"
             ],
             [
              0.1111111111111111,
              "#46039f"
             ],
             [
              0.2222222222222222,
              "#7201a8"
             ],
             [
              0.3333333333333333,
              "#9c179e"
             ],
             [
              0.4444444444444444,
              "#bd3786"
             ],
             [
              0.5555555555555556,
              "#d8576b"
             ],
             [
              0.6666666666666666,
              "#ed7953"
             ],
             [
              0.7777777777777778,
              "#fb9f3a"
             ],
             [
              0.8888888888888888,
              "#fdca26"
             ],
             [
              1,
              "#f0f921"
             ]
            ],
            "type": "histogram2d"
           }
          ],
          "histogram2dcontour": [
           {
            "colorbar": {
             "outlinewidth": 0,
             "ticks": ""
            },
            "colorscale": [
             [
              0,
              "#0d0887"
             ],
             [
              0.1111111111111111,
              "#46039f"
             ],
             [
              0.2222222222222222,
              "#7201a8"
             ],
             [
              0.3333333333333333,
              "#9c179e"
             ],
             [
              0.4444444444444444,
              "#bd3786"
             ],
             [
              0.5555555555555556,
              "#d8576b"
             ],
             [
              0.6666666666666666,
              "#ed7953"
             ],
             [
              0.7777777777777778,
              "#fb9f3a"
             ],
             [
              0.8888888888888888,
              "#fdca26"
             ],
             [
              1,
              "#f0f921"
             ]
            ],
            "type": "histogram2dcontour"
           }
          ],
          "mesh3d": [
           {
            "colorbar": {
             "outlinewidth": 0,
             "ticks": ""
            },
            "type": "mesh3d"
           }
          ],
          "parcoords": [
           {
            "line": {
             "colorbar": {
              "outlinewidth": 0,
              "ticks": ""
             }
            },
            "type": "parcoords"
           }
          ],
          "pie": [
           {
            "automargin": true,
            "type": "pie"
           }
          ],
          "scatter": [
           {
            "fillpattern": {
             "fillmode": "overlay",
             "size": 10,
             "solidity": 0.2
            },
            "type": "scatter"
           }
          ],
          "scatter3d": [
           {
            "line": {
             "colorbar": {
              "outlinewidth": 0,
              "ticks": ""
             }
            },
            "marker": {
             "colorbar": {
              "outlinewidth": 0,
              "ticks": ""
             }
            },
            "type": "scatter3d"
           }
          ],
          "scattercarpet": [
           {
            "marker": {
             "colorbar": {
              "outlinewidth": 0,
              "ticks": ""
             }
            },
            "type": "scattercarpet"
           }
          ],
          "scattergeo": [
           {
            "marker": {
             "colorbar": {
              "outlinewidth": 0,
              "ticks": ""
             }
            },
            "type": "scattergeo"
           }
          ],
          "scattergl": [
           {
            "marker": {
             "colorbar": {
              "outlinewidth": 0,
              "ticks": ""
             }
            },
            "type": "scattergl"
           }
          ],
          "scattermapbox": [
           {
            "marker": {
             "colorbar": {
              "outlinewidth": 0,
              "ticks": ""
             }
            },
            "type": "scattermapbox"
           }
          ],
          "scatterpolar": [
           {
            "marker": {
             "colorbar": {
              "outlinewidth": 0,
              "ticks": ""
             }
            },
            "type": "scatterpolar"
           }
          ],
          "scatterpolargl": [
           {
            "marker": {
             "colorbar": {
              "outlinewidth": 0,
              "ticks": ""
             }
            },
            "type": "scatterpolargl"
           }
          ],
          "scatterternary": [
           {
            "marker": {
             "colorbar": {
              "outlinewidth": 0,
              "ticks": ""
             }
            },
            "type": "scatterternary"
           }
          ],
          "surface": [
           {
            "colorbar": {
             "outlinewidth": 0,
             "ticks": ""
            },
            "colorscale": [
             [
              0,
              "#0d0887"
             ],
             [
              0.1111111111111111,
              "#46039f"
             ],
             [
              0.2222222222222222,
              "#7201a8"
             ],
             [
              0.3333333333333333,
              "#9c179e"
             ],
             [
              0.4444444444444444,
              "#bd3786"
             ],
             [
              0.5555555555555556,
              "#d8576b"
             ],
             [
              0.6666666666666666,
              "#ed7953"
             ],
             [
              0.7777777777777778,
              "#fb9f3a"
             ],
             [
              0.8888888888888888,
              "#fdca26"
             ],
             [
              1,
              "#f0f921"
             ]
            ],
            "type": "surface"
           }
          ],
          "table": [
           {
            "cells": {
             "fill": {
              "color": "#EBF0F8"
             },
             "line": {
              "color": "white"
             }
            },
            "header": {
             "fill": {
              "color": "#C8D4E3"
             },
             "line": {
              "color": "white"
             }
            },
            "type": "table"
           }
          ]
         },
         "layout": {
          "annotationdefaults": {
           "arrowcolor": "#2a3f5f",
           "arrowhead": 0,
           "arrowwidth": 1
          },
          "autotypenumbers": "strict",
          "coloraxis": {
           "colorbar": {
            "outlinewidth": 0,
            "ticks": ""
           }
          },
          "colorscale": {
           "diverging": [
            [
             0,
             "#8e0152"
            ],
            [
             0.1,
             "#c51b7d"
            ],
            [
             0.2,
             "#de77ae"
            ],
            [
             0.3,
             "#f1b6da"
            ],
            [
             0.4,
             "#fde0ef"
            ],
            [
             0.5,
             "#f7f7f7"
            ],
            [
             0.6,
             "#e6f5d0"
            ],
            [
             0.7,
             "#b8e186"
            ],
            [
             0.8,
             "#7fbc41"
            ],
            [
             0.9,
             "#4d9221"
            ],
            [
             1,
             "#276419"
            ]
           ],
           "sequential": [
            [
             0,
             "#0d0887"
            ],
            [
             0.1111111111111111,
             "#46039f"
            ],
            [
             0.2222222222222222,
             "#7201a8"
            ],
            [
             0.3333333333333333,
             "#9c179e"
            ],
            [
             0.4444444444444444,
             "#bd3786"
            ],
            [
             0.5555555555555556,
             "#d8576b"
            ],
            [
             0.6666666666666666,
             "#ed7953"
            ],
            [
             0.7777777777777778,
             "#fb9f3a"
            ],
            [
             0.8888888888888888,
             "#fdca26"
            ],
            [
             1,
             "#f0f921"
            ]
           ],
           "sequentialminus": [
            [
             0,
             "#0d0887"
            ],
            [
             0.1111111111111111,
             "#46039f"
            ],
            [
             0.2222222222222222,
             "#7201a8"
            ],
            [
             0.3333333333333333,
             "#9c179e"
            ],
            [
             0.4444444444444444,
             "#bd3786"
            ],
            [
             0.5555555555555556,
             "#d8576b"
            ],
            [
             0.6666666666666666,
             "#ed7953"
            ],
            [
             0.7777777777777778,
             "#fb9f3a"
            ],
            [
             0.8888888888888888,
             "#fdca26"
            ],
            [
             1,
             "#f0f921"
            ]
           ]
          },
          "colorway": [
           "#636efa",
           "#EF553B",
           "#00cc96",
           "#ab63fa",
           "#FFA15A",
           "#19d3f3",
           "#FF6692",
           "#B6E880",
           "#FF97FF",
           "#FECB52"
          ],
          "font": {
           "color": "#2a3f5f"
          },
          "geo": {
           "bgcolor": "white",
           "lakecolor": "white",
           "landcolor": "#E5ECF6",
           "showlakes": true,
           "showland": true,
           "subunitcolor": "white"
          },
          "hoverlabel": {
           "align": "left"
          },
          "hovermode": "closest",
          "mapbox": {
           "style": "light"
          },
          "paper_bgcolor": "white",
          "plot_bgcolor": "#E5ECF6",
          "polar": {
           "angularaxis": {
            "gridcolor": "white",
            "linecolor": "white",
            "ticks": ""
           },
           "bgcolor": "#E5ECF6",
           "radialaxis": {
            "gridcolor": "white",
            "linecolor": "white",
            "ticks": ""
           }
          },
          "scene": {
           "xaxis": {
            "backgroundcolor": "#E5ECF6",
            "gridcolor": "white",
            "gridwidth": 2,
            "linecolor": "white",
            "showbackground": true,
            "ticks": "",
            "zerolinecolor": "white"
           },
           "yaxis": {
            "backgroundcolor": "#E5ECF6",
            "gridcolor": "white",
            "gridwidth": 2,
            "linecolor": "white",
            "showbackground": true,
            "ticks": "",
            "zerolinecolor": "white"
           },
           "zaxis": {
            "backgroundcolor": "#E5ECF6",
            "gridcolor": "white",
            "gridwidth": 2,
            "linecolor": "white",
            "showbackground": true,
            "ticks": "",
            "zerolinecolor": "white"
           }
          },
          "shapedefaults": {
           "line": {
            "color": "#2a3f5f"
           }
          },
          "ternary": {
           "aaxis": {
            "gridcolor": "white",
            "linecolor": "white",
            "ticks": ""
           },
           "baxis": {
            "gridcolor": "white",
            "linecolor": "white",
            "ticks": ""
           },
           "bgcolor": "#E5ECF6",
           "caxis": {
            "gridcolor": "white",
            "linecolor": "white",
            "ticks": ""
           }
          },
          "title": {
           "x": 0.05
          },
          "xaxis": {
           "automargin": true,
           "gridcolor": "white",
           "linecolor": "white",
           "ticks": "",
           "title": {
            "standoff": 15
           },
           "zerolinecolor": "white",
           "zerolinewidth": 2
          },
          "yaxis": {
           "automargin": true,
           "gridcolor": "white",
           "linecolor": "white",
           "ticks": "",
           "title": {
            "standoff": 15
           },
           "zerolinecolor": "white",
           "zerolinewidth": 2
          }
         }
        },
        "title": {
         "font": {
          "size": 30
         },
         "text": "Dismissal Type"
        }
       }
      }
     },
     "metadata": {},
     "output_type": "display_data"
    },
    {
     "data": {
      "application/vnd.jupyter.widget-view+json": {
       "model_id": "a98a2318ba20444bb479c770ea369aef",
       "version_major": 2,
       "version_minor": 0
      },
      "text/plain": [
       "interactive(children=(Dropdown(description='Batter', options=('S Dhawan', 'KL Rahul', 'V Kohli', 'SS Iyer', 'D…"
      ]
     },
     "metadata": {},
     "output_type": "display_data"
    },
    {
     "data": {
      "text/plain": [
       "<function __main__.Non_Striker_Analysis(Batter)>"
      ]
     },
     "execution_count": 61,
     "metadata": {},
     "output_type": "execute_result"
    }
   ],
   "source": [
    "Batting_Targets['name'] = Batting_Targets.index\n",
    "widgets.interact(Non_Striker_Analysis, Batter = Batting_Targets['name'])"
   ]
  },
  {
   "attachments": {},
   "cell_type": "markdown",
   "metadata": {},
   "source": [
    "# Value Targets\n",
    "\n",
    "    80% of the matches when the target is 170+ have been won by the team batting first. \n",
    "    Hence the aim is to reach a total of 180 runs. This means that each ball is worth 1.5 runs\n",
    "    "
   ]
  },
  {
   "cell_type": "code",
   "execution_count": 62,
   "metadata": {},
   "outputs": [
    {
     "data": {
      "image/png": "[encoded data removed]",
      "text/plain": [
       "<Figure size 1500x1500 with 1 Axes>"
      ]
     },
     "metadata": {},
     "output_type": "display_data"
    }
   ],
   "source": [
    "triall3 = []\n",
    "for name in Batting_Targets['name']:\n",
    "  x = df_18[df_18['batsman']==name]\n",
    "  runs_total = x['total_runs'].sum()\n",
    "  balls_total = len(x['batsman_runs'])\n",
    "  runs_per_ball = round((runs_total/balls_total),2)\n",
    "  wickets = len(x[x['is_wicket']==1])\n",
    "  # get ratio of dot balls to singles\n",
    "  dot_count = len(x[x['batsman_runs']==0])\n",
    "  one_count = len(x[x['batsman_runs']==1])\n",
    "  Dot_Single_Ratio = dot_count/one_count\n",
    "\n",
    "  # get ratio of boundaries to wickets\n",
    "  four_count = len(x[x['batsman_runs']==4])\n",
    "  six_count = len(x[x['batsman_runs']==6])\n",
    "  wicket_count = len(x[x['is_wicket']==1])\n",
    "  Boundaries_Wickets_Ratio = (four_count+six_count)/wicket_count\n",
    "\n",
    "\n",
    "\n",
    "  if runs_per_ball>=1.2:\n",
    "    triall3.append([name,runs_per_ball,wickets, Dot_Single_Ratio, Boundaries_Wickets_Ratio])\n",
    "triall4 = pd.DataFrame(triall3,columns= ['Name','Runs/Ball','Wickets','Dot_Single_Ratio','Boundaries_Wickets_Ratio'])\n",
    "\n",
    "fig, ax = plt.subplots(figsize = (15,15))\n",
    "triall4.plot('Runs/Ball', 'Dot_Single_Ratio', kind='scatter', ax=ax)\n",
    "\n",
    "for i, txt in enumerate(triall4.Name):\n",
    "    ax.annotate(txt, (triall4['Runs/Ball'].iat[i],triall4['Dot_Single_Ratio'].iat[i]))\n",
    "\n",
    "ax.axhline(y=triall4['Dot_Single_Ratio'].median(), color='k', linestyle='--', linewidth=1)           \n",
    "ax.axvline(x=1.5, color='k',linestyle='--', linewidth=1) \n",
    " \n",
    "plt.show()"
   ]
  },
  {
   "attachments": {},
   "cell_type": "markdown",
   "metadata": {},
   "source": [
    "# Analysis\n",
    "The above shows that the top right grid is the most valuable grid. The Batters score more than 1.5 runs on average and also take more singles than dot balls. The bottom left grid is the least valuable grid. The Batters score less than 1.5 runs on average and also take more dot balls than singles. \n",
    "\n",
    "The 1.5 runs reason was explained above. The reason for a dot_single ratio is to ensure players who continue to move the strike even if the team is struggling to score runs."
   ]
  },
  {
   "cell_type": "code",
   "execution_count": 63,
   "metadata": {},
   "outputs": [
    {
     "data": {
      "image/png": "[encoded data removed]",
      "text/plain": [
       "<Figure size 1500x1500 with 1 Axes>"
      ]
     },
     "metadata": {},
     "output_type": "display_data"
    }
   ],
   "source": [
    "triall1 = []\n",
    "for name in Bowling_Targets['name']:\n",
    "  x = df_18[df_18['bowler']==name]\n",
    "  runs_total = x['total_runs'].sum()\n",
    "  balls_total = len(x['total_runs'])\n",
    "  runs_per_ball = round((runs_total/balls_total),2)\n",
    "  wickets = len(x[x['is_wicket']==1])\n",
    "  triall1.append([name,runs_per_ball,wickets])\n",
    "  # get ratio of dot balls to singles\n",
    "  dot_count = len(x[x['total_runs']==0])\n",
    "  one_count = len(x[x['total_runs']==1])\n",
    "  Dot_Single_Ratio = dot_count/one_count\n",
    "\n",
    "  # get ratio of boundaries to wickets\n",
    "  four_count = len(x[x['total_runs']==4])\n",
    "  six_count = len(x[x['total_runs']==6])\n",
    "  wicket_count = len(x[x['is_wicket']==1])\n",
    "  Boundaries_Wickets_Ratio = (four_count+six_count)/wicket_count\n",
    "\n",
    "\n",
    "\n",
    "\n",
    "\n",
    "  if runs_per_ball>=0.5:\n",
    "    triall1.append([name,runs_per_ball,wickets, Dot_Single_Ratio, Boundaries_Wickets_Ratio])\n",
    "triall2 = pd.DataFrame(triall1,columns= ['Name','Runs/Ball','Wickets','Dot_Single_Ratio','Boundaries_Wickets_Ratio'])\n",
    "\n",
    "fig, ax = plt.subplots(figsize = (15,15))\n",
    "triall2.plot('Runs/Ball', 'Dot_Single_Ratio', kind='scatter', ax=ax)\n",
    "\n",
    "for i, txt in enumerate(triall2.Name):\n",
    "    ax.annotate(txt, (triall2['Runs/Ball'].iat[i],triall2['Dot_Single_Ratio'].iat[i]))\n",
    "\n",
    "ax.axhline(y=triall2['Dot_Single_Ratio'].median(), color='k', linestyle='--', linewidth=1)           \n",
    "ax.axvline(x=1.38, color='k',linestyle='--', linewidth=1) \n",
    " \n",
    "plt.show()"
   ]
  },
  {
   "attachments": {},
   "cell_type": "markdown",
   "metadata": {},
   "source": [
    "# Bowling Analysis\n",
    "    The opposite becomes true for the bowlers, our x-axis line -- 1.375 runs/ball is the median of the bowling targets. The 80% rule applied would shift the line to 1.25 which is equal to 150 runs.\n",
    "    \n",
    "    The bottom left grid is the best grid for the bowlers. The bowlers concede less than 1.375 runs on average and also allows a lot more singles. The top right grid is the worst grid for the bowlers. The bowlers concede more than 1.375 runs on average "
   ]
  },
  {
   "cell_type": "code",
   "execution_count": 64,
   "metadata": {},
   "outputs": [],
   "source": [
    "\n",
    "\n",
    "def radar_matchup(df, batsman, bowler):\n",
    "    # get the counts for the batsman and bowler in different segments\n",
    "    batsman_counts = striker_segment_count(df)[batsman]\n",
    "    bowler_counts = bowler_segment_count(df)[bowler]\n",
    "    \n",
    "    # create a radar chart\n",
    "    fig = plt.figure(figsize=(6, 6))\n",
    "    ax = fig.add_subplot(111, polar=True)\n",
    "    ax.set_theta_zero_location(\"N\")\n",
    "    ax.set_theta_direction(-1)\n",
    "    ax.set_xticks(np.pi/180.0*np.linspace(0, 360, 4, endpoint=False))\n",
    "    ax.set_xticklabels(['pp', 'mid', 'drink', 'end'])\n",
    "    ax.plot(np.linspace(0, 2*np.pi, 4, endpoint=False), [batsman_counts[segment] for segment in ['pp', 'mid', 'drink', 'end']], 'o-', label=batsman)\n",
    "    ax.plot(np.linspace(0, 2*np.pi, 4, endpoint=False), [bowler_counts[segment] for segment in ['pp', 'mid', 'drink', 'end']], 'o-', label=bowler)\n",
    "    ax.legend()\n",
    "    plt.show()\n"
   ]
  },
  {
   "cell_type": "code",
   "execution_count": 65,
   "metadata": {},
   "outputs": [],
   "source": [
    "def select_players_radar(df):\n",
    "    batsman_dropdown = widgets.Dropdown(options=list(Batting_Targets['name']), description='Batsman:')\n",
    "    bowler_dropdown = widgets.Dropdown(options=list(Bowling_Targets['name']), description='Bowler:')\n",
    "    output = widgets.Output()\n",
    "    \n",
    "    def on_batsman_change(change):\n",
    "        if change['type'] == 'change' and change['name'] == 'value':\n",
    "            with output:\n",
    "                clear_output()\n",
    "                radar_matchup(df, change['new'], bowler_dropdown.value)\n",
    "                \n",
    "    def on_bowler_change(change):\n",
    "        if change['type'] == 'change' and change['name'] == 'value':\n",
    "            with output:\n",
    "                clear_output()\n",
    "                radar_matchup(df, batsman_dropdown.value, change['new'])\n",
    "                \n",
    "    batsman_dropdown.observe(on_batsman_change)\n",
    "    bowler_dropdown.observe(on_bowler_change)\n",
    "    display(batsman_dropdown)\n",
    "    display(bowler_dropdown)\n",
    "    display(output)\n",
    "\n",
    "\n"
   ]
  },
  {
   "cell_type": "code",
   "execution_count": 66,
   "metadata": {},
   "outputs": [],
   "source": [
    "\n",
    "# create a copy of Batting_Targets where the numeric columns are to be divided by 30 \n",
    "# the new column names will be the old column names with '_per_30' appended\n",
    "\n",
    "Batting_Targets2 = Batting_Targets.copy()\n",
    "Batting_Targets2['total_balls_per_30'] = Batting_Targets2['total_balls_faced']/30\n",
    "Batting_Targets2['dot_count_per_30'] = Batting_Targets2['dot_count']/30\n",
    "Batting_Targets2['1_count_per_30'] = Batting_Targets2['1_count']/30\n",
    "Batting_Targets2['2_count_per_30'] = Batting_Targets2['2_count']/30\n",
    "Batting_Targets2['3_count_per_30'] = Batting_Targets2['3_count']/30\n",
    "Batting_Targets2['4_count_per_30'] = Batting_Targets2['4_count']/30\n",
    "Batting_Targets2['5_count_per_30'] = Batting_Targets2['5_count']/30\n",
    "Batting_Targets2['6_count_per_30'] = Batting_Targets2['6_count']/30\n",
    "Batting_Targets2['wicket_count_per_30'] = Batting_Targets2['wicket_count']/30\n",
    "Batting_Targets2['boundary_count_per_30'] = Batting_Targets2['boundary_count']/30\n",
    "\n",
    "#delete the old columns\n",
    "Batting_Targets2.drop(['total_balls_faced', 'dot_count', '1_count', '2_count', '3_count', '4_count', '5_count', '6_count', 'wicket_count', 'boundary_count'], axis=1, inplace=True)\n",
    "\n",
    "\n",
    "\n",
    "\n",
    "\n"
   ]
  },
  {
   "cell_type": "code",
   "execution_count": 67,
   "metadata": {},
   "outputs": [],
   "source": [
    "# create a ranker function that will rank the players based on the selected column and give percentile scores\n",
    "\n",
    "def ranker(df, column):\n",
    "    df['rank'+column] = df[column].rank(ascending=False)\n",
    "    df['percentile'+column] = round(df['rank'+column]/len(df),2)*100\n",
    "    return df\n",
    "\n",
    "# run the ranker function on the Batter_Targets2 dataframe for each numeric column\n",
    "# the new column names will be the old column names with '_rank' appended\n",
    "\n",
    "Batting_Targets3 = Batting_Targets2.copy()\n",
    "Batting_Targets3 = ranker(Batting_Targets3, 'total_balls_per_30')\n",
    "Batting_Targets3 = ranker(Batting_Targets3, 'dot_count_per_30')\n",
    "Batting_Targets3 = ranker(Batting_Targets3, '1_count_per_30')\n",
    "Batting_Targets3 = ranker(Batting_Targets3, '2_count_per_30')\n",
    "Batting_Targets3 = ranker(Batting_Targets3, '3_count_per_30')\n",
    "Batting_Targets3 = ranker(Batting_Targets3, '4_count_per_30')\n",
    "Batting_Targets3 = ranker(Batting_Targets3, '5_count_per_30')\n",
    "Batting_Targets3 = ranker(Batting_Targets3, '6_count_per_30')\n",
    "Batting_Targets3 = ranker(Batting_Targets3, 'wicket_count_per_30')\n",
    "Batting_Targets3 = ranker(Batting_Targets3, 'boundary_count_per_30')\n",
    "\n"
   ]
  },
  {
   "cell_type": "code",
   "execution_count": 68,
   "metadata": {},
   "outputs": [],
   "source": [
    "\n",
    "data = pd.read_csv('C:/Users/tally/Desktop/Sports Analytics/IPL_Matches_2008_2022.csv')\n",
    "df = pd.read_csv('C:/Users/tally/Desktop/Sports Analytics/IPL_Matches_2008_2022.csv')\n"
   ]
  },
  {
   "cell_type": "code",
   "execution_count": 70,
   "metadata": {},
   "outputs": [
    {
     "data": {
      "application/vnd.jupyter.widget-view+json": {
       "model_id": "541bcdddfa084f28be3c9745f3659181",
       "version_major": 2,
       "version_minor": 0
      },
      "text/plain": [
       "Dropdown(description='City', options=('Ahmedabad', 'Kolkata', 'Mumbai', 'Navi Mumbai', 'Pune', 'Dubai', 'Sharj…"
      ]
     },
     "metadata": {},
     "output_type": "display_data"
    },
    {
     "ename": "KeyError",
     "evalue": "'result'",
     "output_type": "error",
     "traceback": [
      "\u001b[1;31m---------------------------------------------------------------------------\u001b[0m",
      "\u001b[1;31mKeyError\u001b[0m                                  Traceback (most recent call last)",
      "File \u001b[1;32m~\\AppData\\Local\\Packages\\PythonSoftwareFoundation.Python.3.10_qbz5n2kfra8p0\\LocalCache\\local-packages\\Python310\\site-packages\\pandas\\core\\indexes\\base.py:3802\u001b[0m, in \u001b[0;36mIndex.get_loc\u001b[1;34m(self, key, method, tolerance)\u001b[0m\n\u001b[0;32m   3801\u001b[0m \u001b[39mtry\u001b[39;00m:\n\u001b[1;32m-> 3802\u001b[0m     \u001b[39mreturn\u001b[39;00m \u001b[39mself\u001b[39;49m\u001b[39m.\u001b[39;49m_engine\u001b[39m.\u001b[39;49mget_loc(casted_key)\n\u001b[0;32m   3803\u001b[0m \u001b[39mexcept\u001b[39;00m \u001b[39mKeyError\u001b[39;00m \u001b[39mas\u001b[39;00m err:\n",
      "File \u001b[1;32m~\\AppData\\Local\\Packages\\PythonSoftwareFoundation.Python.3.10_qbz5n2kfra8p0\\LocalCache\\local-packages\\Python310\\site-packages\\pandas\\_libs\\index.pyx:138\u001b[0m, in \u001b[0;36mpandas._libs.index.IndexEngine.get_loc\u001b[1;34m()\u001b[0m\n",
      "File \u001b[1;32m~\\AppData\\Local\\Packages\\PythonSoftwareFoundation.Python.3.10_qbz5n2kfra8p0\\LocalCache\\local-packages\\Python310\\site-packages\\pandas\\_libs\\index.pyx:165\u001b[0m, in \u001b[0;36mpandas._libs.index.IndexEngine.get_loc\u001b[1;34m()\u001b[0m\n",
      "File \u001b[1;32mpandas\\_libs\\hashtable_class_helper.pxi:5745\u001b[0m, in \u001b[0;36mpandas._libs.hashtable.PyObjectHashTable.get_item\u001b[1;34m()\u001b[0m\n",
      "File \u001b[1;32mpandas\\_libs\\hashtable_class_helper.pxi:5753\u001b[0m, in \u001b[0;36mpandas._libs.hashtable.PyObjectHashTable.get_item\u001b[1;34m()\u001b[0m\n",
      "\u001b[1;31mKeyError\u001b[0m: 'result'",
      "\nThe above exception was the direct cause of the following exception:\n",
      "\u001b[1;31mKeyError\u001b[0m                                  Traceback (most recent call last)",
      "File \u001b[1;32m~\\AppData\\Local\\Packages\\PythonSoftwareFoundation.Python.3.10_qbz5n2kfra8p0\\LocalCache\\local-packages\\Python310\\site-packages\\ipywidgets\\widgets\\widget.py:773\u001b[0m, in \u001b[0;36mWidget._handle_msg\u001b[1;34m(self, msg)\u001b[0m\n\u001b[0;32m    771\u001b[0m         \u001b[39mif\u001b[39;00m \u001b[39m'\u001b[39m\u001b[39mbuffer_paths\u001b[39m\u001b[39m'\u001b[39m \u001b[39min\u001b[39;00m data:\n\u001b[0;32m    772\u001b[0m             _put_buffers(state, data[\u001b[39m'\u001b[39m\u001b[39mbuffer_paths\u001b[39m\u001b[39m'\u001b[39m], msg[\u001b[39m'\u001b[39m\u001b[39mbuffers\u001b[39m\u001b[39m'\u001b[39m])\n\u001b[1;32m--> 773\u001b[0m         \u001b[39mself\u001b[39;49m\u001b[39m.\u001b[39;49mset_state(state)\n\u001b[0;32m    775\u001b[0m \u001b[39m# Handle a state request.\u001b[39;00m\n\u001b[0;32m    776\u001b[0m \u001b[39melif\u001b[39;00m method \u001b[39m==\u001b[39m \u001b[39m'\u001b[39m\u001b[39mrequest_state\u001b[39m\u001b[39m'\u001b[39m:\n",
      "File \u001b[1;32m~\\AppData\\Local\\Packages\\PythonSoftwareFoundation.Python.3.10_qbz5n2kfra8p0\\LocalCache\\local-packages\\Python310\\site-packages\\ipywidgets\\widgets\\widget.py:650\u001b[0m, in \u001b[0;36mWidget.set_state\u001b[1;34m(self, sync_data)\u001b[0m\n\u001b[0;32m    645\u001b[0m         \u001b[39mself\u001b[39m\u001b[39m.\u001b[39m_send(msg, buffers\u001b[39m=\u001b[39mecho_buffers)\n\u001b[0;32m    647\u001b[0m \u001b[39m# The order of these context managers is important. Properties must\u001b[39;00m\n\u001b[0;32m    648\u001b[0m \u001b[39m# be locked when the hold_trait_notification context manager is\u001b[39;00m\n\u001b[0;32m    649\u001b[0m \u001b[39m# released and notifications are fired.\u001b[39;00m\n\u001b[1;32m--> 650\u001b[0m \u001b[39mwith\u001b[39;00m \u001b[39mself\u001b[39m\u001b[39m.\u001b[39m_lock_property(\u001b[39m*\u001b[39m\u001b[39m*\u001b[39msync_data), \u001b[39mself\u001b[39m\u001b[39m.\u001b[39mhold_trait_notifications():\n\u001b[0;32m    651\u001b[0m     \u001b[39mfor\u001b[39;00m name \u001b[39min\u001b[39;00m sync_data:\n\u001b[0;32m    652\u001b[0m         \u001b[39mif\u001b[39;00m name \u001b[39min\u001b[39;00m \u001b[39mself\u001b[39m\u001b[39m.\u001b[39mkeys:\n",
      "File \u001b[1;32mC:\\Program Files\\WindowsApps\\PythonSoftwareFoundation.Python.3.10_3.10.3056.0_x64__qbz5n2kfra8p0\\lib\\contextlib.py:142\u001b[0m, in \u001b[0;36m_GeneratorContextManager.__exit__\u001b[1;34m(self, typ, value, traceback)\u001b[0m\n\u001b[0;32m    140\u001b[0m \u001b[39mif\u001b[39;00m typ \u001b[39mis\u001b[39;00m \u001b[39mNone\u001b[39;00m:\n\u001b[0;32m    141\u001b[0m     \u001b[39mtry\u001b[39;00m:\n\u001b[1;32m--> 142\u001b[0m         \u001b[39mnext\u001b[39;49m(\u001b[39mself\u001b[39;49m\u001b[39m.\u001b[39;49mgen)\n\u001b[0;32m    143\u001b[0m     \u001b[39mexcept\u001b[39;00m \u001b[39mStopIteration\u001b[39;00m:\n\u001b[0;32m    144\u001b[0m         \u001b[39mreturn\u001b[39;00m \u001b[39mFalse\u001b[39;00m\n",
      "File \u001b[1;32m~\\AppData\\Local\\Packages\\PythonSoftwareFoundation.Python.3.10_qbz5n2kfra8p0\\LocalCache\\local-packages\\Python310\\site-packages\\traitlets\\traitlets.py:1502\u001b[0m, in \u001b[0;36mHasTraits.hold_trait_notifications\u001b[1;34m(self)\u001b[0m\n\u001b[0;32m   1500\u001b[0m \u001b[39mfor\u001b[39;00m changes \u001b[39min\u001b[39;00m cache\u001b[39m.\u001b[39mvalues():\n\u001b[0;32m   1501\u001b[0m     \u001b[39mfor\u001b[39;00m change \u001b[39min\u001b[39;00m changes:\n\u001b[1;32m-> 1502\u001b[0m         \u001b[39mself\u001b[39;49m\u001b[39m.\u001b[39;49mnotify_change(change)\n",
      "File \u001b[1;32m~\\AppData\\Local\\Packages\\PythonSoftwareFoundation.Python.3.10_qbz5n2kfra8p0\\LocalCache\\local-packages\\Python310\\site-packages\\ipywidgets\\widgets\\widget.py:701\u001b[0m, in \u001b[0;36mWidget.notify_change\u001b[1;34m(self, change)\u001b[0m\n\u001b[0;32m    698\u001b[0m     \u001b[39mif\u001b[39;00m name \u001b[39min\u001b[39;00m \u001b[39mself\u001b[39m\u001b[39m.\u001b[39mkeys \u001b[39mand\u001b[39;00m \u001b[39mself\u001b[39m\u001b[39m.\u001b[39m_should_send_property(name, \u001b[39mgetattr\u001b[39m(\u001b[39mself\u001b[39m, name)):\n\u001b[0;32m    699\u001b[0m         \u001b[39m# Send new state to front-end\u001b[39;00m\n\u001b[0;32m    700\u001b[0m         \u001b[39mself\u001b[39m\u001b[39m.\u001b[39msend_state(key\u001b[39m=\u001b[39mname)\n\u001b[1;32m--> 701\u001b[0m \u001b[39msuper\u001b[39;49m()\u001b[39m.\u001b[39;49mnotify_change(change)\n",
      "File \u001b[1;32m~\\AppData\\Local\\Packages\\PythonSoftwareFoundation.Python.3.10_qbz5n2kfra8p0\\LocalCache\\local-packages\\Python310\\site-packages\\traitlets\\traitlets.py:1517\u001b[0m, in \u001b[0;36mHasTraits.notify_change\u001b[1;34m(self, change)\u001b[0m\n\u001b[0;32m   1515\u001b[0m \u001b[39mdef\u001b[39;00m \u001b[39mnotify_change\u001b[39m(\u001b[39mself\u001b[39m, change):\n\u001b[0;32m   1516\u001b[0m \u001b[39m    \u001b[39m\u001b[39m\"\"\"Notify observers of a change event\"\"\"\u001b[39;00m\n\u001b[1;32m-> 1517\u001b[0m     \u001b[39mreturn\u001b[39;00m \u001b[39mself\u001b[39;49m\u001b[39m.\u001b[39;49m_notify_observers(change)\n",
      "File \u001b[1;32m~\\AppData\\Local\\Packages\\PythonSoftwareFoundation.Python.3.10_qbz5n2kfra8p0\\LocalCache\\local-packages\\Python310\\site-packages\\traitlets\\traitlets.py:1564\u001b[0m, in \u001b[0;36mHasTraits._notify_observers\u001b[1;34m(self, event)\u001b[0m\n\u001b[0;32m   1561\u001b[0m \u001b[39melif\u001b[39;00m \u001b[39misinstance\u001b[39m(c, EventHandler) \u001b[39mand\u001b[39;00m c\u001b[39m.\u001b[39mname \u001b[39mis\u001b[39;00m \u001b[39mnot\u001b[39;00m \u001b[39mNone\u001b[39;00m:\n\u001b[0;32m   1562\u001b[0m     c \u001b[39m=\u001b[39m \u001b[39mgetattr\u001b[39m(\u001b[39mself\u001b[39m, c\u001b[39m.\u001b[39mname)\n\u001b[1;32m-> 1564\u001b[0m c(event)\n",
      "File \u001b[1;32m~\\AppData\\Local\\Packages\\PythonSoftwareFoundation.Python.3.10_qbz5n2kfra8p0\\LocalCache\\local-packages\\Python310\\site-packages\\ipywidgets\\widgets\\widget_selection.py:236\u001b[0m, in \u001b[0;36m_Selection._propagate_index\u001b[1;34m(self, change)\u001b[0m\n\u001b[0;32m    234\u001b[0m     \u001b[39mself\u001b[39m\u001b[39m.\u001b[39mlabel \u001b[39m=\u001b[39m label\n\u001b[0;32m    235\u001b[0m \u001b[39mif\u001b[39;00m \u001b[39mself\u001b[39m\u001b[39m.\u001b[39mvalue \u001b[39mis\u001b[39;00m \u001b[39mnot\u001b[39;00m value:\n\u001b[1;32m--> 236\u001b[0m     \u001b[39mself\u001b[39;49m\u001b[39m.\u001b[39;49mvalue \u001b[39m=\u001b[39m value\n",
      "File \u001b[1;32m~\\AppData\\Local\\Packages\\PythonSoftwareFoundation.Python.3.10_qbz5n2kfra8p0\\LocalCache\\local-packages\\Python310\\site-packages\\traitlets\\traitlets.py:732\u001b[0m, in \u001b[0;36mTraitType.__set__\u001b[1;34m(self, obj, value)\u001b[0m\n\u001b[0;32m    730\u001b[0m     \u001b[39mraise\u001b[39;00m TraitError(\u001b[39m'\u001b[39m\u001b[39mThe \u001b[39m\u001b[39m\"\u001b[39m\u001b[39m%s\u001b[39;00m\u001b[39m\"\u001b[39m\u001b[39m trait is read-only.\u001b[39m\u001b[39m'\u001b[39m \u001b[39m%\u001b[39m \u001b[39mself\u001b[39m\u001b[39m.\u001b[39mname)\n\u001b[0;32m    731\u001b[0m \u001b[39melse\u001b[39;00m:\n\u001b[1;32m--> 732\u001b[0m     \u001b[39mself\u001b[39;49m\u001b[39m.\u001b[39;49mset(obj, value)\n",
      "File \u001b[1;32m~\\AppData\\Local\\Packages\\PythonSoftwareFoundation.Python.3.10_qbz5n2kfra8p0\\LocalCache\\local-packages\\Python310\\site-packages\\traitlets\\traitlets.py:721\u001b[0m, in \u001b[0;36mTraitType.set\u001b[1;34m(self, obj, value)\u001b[0m\n\u001b[0;32m    717\u001b[0m     silent \u001b[39m=\u001b[39m \u001b[39mFalse\u001b[39;00m\n\u001b[0;32m    718\u001b[0m \u001b[39mif\u001b[39;00m silent \u001b[39mis\u001b[39;00m \u001b[39mnot\u001b[39;00m \u001b[39mTrue\u001b[39;00m:\n\u001b[0;32m    719\u001b[0m     \u001b[39m# we explicitly compare silent to True just in case the equality\u001b[39;00m\n\u001b[0;32m    720\u001b[0m     \u001b[39m# comparison above returns something other than True/False\u001b[39;00m\n\u001b[1;32m--> 721\u001b[0m     obj\u001b[39m.\u001b[39;49m_notify_trait(\u001b[39mself\u001b[39;49m\u001b[39m.\u001b[39;49mname, old_value, new_value)\n",
      "File \u001b[1;32m~\\AppData\\Local\\Packages\\PythonSoftwareFoundation.Python.3.10_qbz5n2kfra8p0\\LocalCache\\local-packages\\Python310\\site-packages\\traitlets\\traitlets.py:1505\u001b[0m, in \u001b[0;36mHasTraits._notify_trait\u001b[1;34m(self, name, old_value, new_value)\u001b[0m\n\u001b[0;32m   1504\u001b[0m \u001b[39mdef\u001b[39;00m \u001b[39m_notify_trait\u001b[39m(\u001b[39mself\u001b[39m, name, old_value, new_value):\n\u001b[1;32m-> 1505\u001b[0m     \u001b[39mself\u001b[39;49m\u001b[39m.\u001b[39;49mnotify_change(\n\u001b[0;32m   1506\u001b[0m         Bunch(\n\u001b[0;32m   1507\u001b[0m             name\u001b[39m=\u001b[39;49mname,\n\u001b[0;32m   1508\u001b[0m             old\u001b[39m=\u001b[39;49mold_value,\n\u001b[0;32m   1509\u001b[0m             new\u001b[39m=\u001b[39;49mnew_value,\n\u001b[0;32m   1510\u001b[0m             owner\u001b[39m=\u001b[39;49m\u001b[39mself\u001b[39;49m,\n\u001b[0;32m   1511\u001b[0m             \u001b[39mtype\u001b[39;49m\u001b[39m=\u001b[39;49m\u001b[39m\"\u001b[39;49m\u001b[39mchange\u001b[39;49m\u001b[39m\"\u001b[39;49m,\n\u001b[0;32m   1512\u001b[0m         )\n\u001b[0;32m   1513\u001b[0m     )\n",
      "File \u001b[1;32m~\\AppData\\Local\\Packages\\PythonSoftwareFoundation.Python.3.10_qbz5n2kfra8p0\\LocalCache\\local-packages\\Python310\\site-packages\\ipywidgets\\widgets\\widget.py:701\u001b[0m, in \u001b[0;36mWidget.notify_change\u001b[1;34m(self, change)\u001b[0m\n\u001b[0;32m    698\u001b[0m     \u001b[39mif\u001b[39;00m name \u001b[39min\u001b[39;00m \u001b[39mself\u001b[39m\u001b[39m.\u001b[39mkeys \u001b[39mand\u001b[39;00m \u001b[39mself\u001b[39m\u001b[39m.\u001b[39m_should_send_property(name, \u001b[39mgetattr\u001b[39m(\u001b[39mself\u001b[39m, name)):\n\u001b[0;32m    699\u001b[0m         \u001b[39m# Send new state to front-end\u001b[39;00m\n\u001b[0;32m    700\u001b[0m         \u001b[39mself\u001b[39m\u001b[39m.\u001b[39msend_state(key\u001b[39m=\u001b[39mname)\n\u001b[1;32m--> 701\u001b[0m \u001b[39msuper\u001b[39;49m()\u001b[39m.\u001b[39;49mnotify_change(change)\n",
      "File \u001b[1;32m~\\AppData\\Local\\Packages\\PythonSoftwareFoundation.Python.3.10_qbz5n2kfra8p0\\LocalCache\\local-packages\\Python310\\site-packages\\traitlets\\traitlets.py:1517\u001b[0m, in \u001b[0;36mHasTraits.notify_change\u001b[1;34m(self, change)\u001b[0m\n\u001b[0;32m   1515\u001b[0m \u001b[39mdef\u001b[39;00m \u001b[39mnotify_change\u001b[39m(\u001b[39mself\u001b[39m, change):\n\u001b[0;32m   1516\u001b[0m \u001b[39m    \u001b[39m\u001b[39m\"\"\"Notify observers of a change event\"\"\"\u001b[39;00m\n\u001b[1;32m-> 1517\u001b[0m     \u001b[39mreturn\u001b[39;00m \u001b[39mself\u001b[39;49m\u001b[39m.\u001b[39;49m_notify_observers(change)\n",
      "File \u001b[1;32m~\\AppData\\Local\\Packages\\PythonSoftwareFoundation.Python.3.10_qbz5n2kfra8p0\\LocalCache\\local-packages\\Python310\\site-packages\\traitlets\\traitlets.py:1564\u001b[0m, in \u001b[0;36mHasTraits._notify_observers\u001b[1;34m(self, event)\u001b[0m\n\u001b[0;32m   1561\u001b[0m \u001b[39melif\u001b[39;00m \u001b[39misinstance\u001b[39m(c, EventHandler) \u001b[39mand\u001b[39;00m c\u001b[39m.\u001b[39mname \u001b[39mis\u001b[39;00m \u001b[39mnot\u001b[39;00m \u001b[39mNone\u001b[39;00m:\n\u001b[0;32m   1562\u001b[0m     c \u001b[39m=\u001b[39m \u001b[39mgetattr\u001b[39m(\u001b[39mself\u001b[39m, c\u001b[39m.\u001b[39mname)\n\u001b[1;32m-> 1564\u001b[0m c(event)\n",
      "Cell \u001b[1;32mIn[70], line 38\u001b[0m, in \u001b[0;36mdropdown_callback\u001b[1;34m(change)\u001b[0m\n\u001b[0;32m     36\u001b[0m \u001b[39mdef\u001b[39;00m \u001b[39mdropdown_callback\u001b[39m(change):\n\u001b[0;32m     37\u001b[0m     City \u001b[39m=\u001b[39m change\u001b[39m.\u001b[39mnew\n\u001b[1;32m---> 38\u001b[0m     generate_bar_chart(City)\n",
      "Cell \u001b[1;32mIn[70], line 7\u001b[0m, in \u001b[0;36mgenerate_bar_chart\u001b[1;34m(City)\u001b[0m\n\u001b[0;32m      5\u001b[0m \u001b[39mdef\u001b[39;00m \u001b[39mgenerate_bar_chart\u001b[39m(City):\n\u001b[0;32m      6\u001b[0m     \u001b[39m# Subset the data for the current venue and filter for results of type \"runs\"\u001b[39;00m\n\u001b[1;32m----> 7\u001b[0m     subset \u001b[39m=\u001b[39m data[(data[\u001b[39m'\u001b[39m\u001b[39mCity\u001b[39m\u001b[39m'\u001b[39m] \u001b[39m==\u001b[39m City) \u001b[39m&\u001b[39m (data[\u001b[39m'\u001b[39;49m\u001b[39mresult\u001b[39;49m\u001b[39m'\u001b[39;49m] \u001b[39m==\u001b[39m \u001b[39m'\u001b[39m\u001b[39mruns\u001b[39m\u001b[39m'\u001b[39m)]\n\u001b[0;32m      9\u001b[0m     \u001b[39m# Get the range of result margins\u001b[39;00m\n\u001b[0;32m     10\u001b[0m     result_margins \u001b[39m=\u001b[39m \u001b[39mrange\u001b[39m(\u001b[39m0\u001b[39m, \u001b[39mint\u001b[39m(subset[\u001b[39m'\u001b[39m\u001b[39mresult_margin\u001b[39m\u001b[39m'\u001b[39m]\u001b[39m.\u001b[39mmax()) \u001b[39m+\u001b[39m \u001b[39m1\u001b[39m)\n",
      "File \u001b[1;32m~\\AppData\\Local\\Packages\\PythonSoftwareFoundation.Python.3.10_qbz5n2kfra8p0\\LocalCache\\local-packages\\Python310\\site-packages\\pandas\\core\\frame.py:3807\u001b[0m, in \u001b[0;36mDataFrame.__getitem__\u001b[1;34m(self, key)\u001b[0m\n\u001b[0;32m   3805\u001b[0m \u001b[39mif\u001b[39;00m \u001b[39mself\u001b[39m\u001b[39m.\u001b[39mcolumns\u001b[39m.\u001b[39mnlevels \u001b[39m>\u001b[39m \u001b[39m1\u001b[39m:\n\u001b[0;32m   3806\u001b[0m     \u001b[39mreturn\u001b[39;00m \u001b[39mself\u001b[39m\u001b[39m.\u001b[39m_getitem_multilevel(key)\n\u001b[1;32m-> 3807\u001b[0m indexer \u001b[39m=\u001b[39m \u001b[39mself\u001b[39;49m\u001b[39m.\u001b[39;49mcolumns\u001b[39m.\u001b[39;49mget_loc(key)\n\u001b[0;32m   3808\u001b[0m \u001b[39mif\u001b[39;00m is_integer(indexer):\n\u001b[0;32m   3809\u001b[0m     indexer \u001b[39m=\u001b[39m [indexer]\n",
      "File \u001b[1;32m~\\AppData\\Local\\Packages\\PythonSoftwareFoundation.Python.3.10_qbz5n2kfra8p0\\LocalCache\\local-packages\\Python310\\site-packages\\pandas\\core\\indexes\\base.py:3804\u001b[0m, in \u001b[0;36mIndex.get_loc\u001b[1;34m(self, key, method, tolerance)\u001b[0m\n\u001b[0;32m   3802\u001b[0m     \u001b[39mreturn\u001b[39;00m \u001b[39mself\u001b[39m\u001b[39m.\u001b[39m_engine\u001b[39m.\u001b[39mget_loc(casted_key)\n\u001b[0;32m   3803\u001b[0m \u001b[39mexcept\u001b[39;00m \u001b[39mKeyError\u001b[39;00m \u001b[39mas\u001b[39;00m err:\n\u001b[1;32m-> 3804\u001b[0m     \u001b[39mraise\u001b[39;00m \u001b[39mKeyError\u001b[39;00m(key) \u001b[39mfrom\u001b[39;00m \u001b[39merr\u001b[39;00m\n\u001b[0;32m   3805\u001b[0m \u001b[39mexcept\u001b[39;00m \u001b[39mTypeError\u001b[39;00m:\n\u001b[0;32m   3806\u001b[0m     \u001b[39m# If we have a listlike key, _check_indexing_error will raise\u001b[39;00m\n\u001b[0;32m   3807\u001b[0m     \u001b[39m#  InvalidIndexError. Otherwise we fall through and re-raise\u001b[39;00m\n\u001b[0;32m   3808\u001b[0m     \u001b[39m#  the TypeError.\u001b[39;00m\n\u001b[0;32m   3809\u001b[0m     \u001b[39mself\u001b[39m\u001b[39m.\u001b[39m_check_indexing_error(key)\n",
      "\u001b[1;31mKeyError\u001b[0m: 'result'"
     ]
    }
   ],
   "source": [
    "# Get the unique venues\n",
    "unique_venues = data['City'].unique()\n",
    "\n",
    "# Create a function to generate the bar chart for each unique venue\n",
    "def generate_bar_chart(City):\n",
    "    # Subset the data for the current venue and filter for results of type \"runs\"\n",
    "    subset = data[(data['City'] == City) & (data['result'] == 'runs')]\n",
    "    \n",
    "    # Get the range of result margins\n",
    "    result_margins = range(0, int(subset['result_margin'].max()) + 1)\n",
    "    \n",
    "    # Create a dictionary to store the count for each result margin\n",
    "    counts = {result_margin: 0 for result_margin in result_margins}\n",
    "    \n",
    "    # Count the number of instances for each result margin\n",
    "    for index, row in subset.iterrows():\n",
    "        counts[row['result_margin']] += 1\n",
    "    \n",
    "    # Convert the counts dictionary to two separate lists for plotting\n",
    "    x_values = list(counts.keys())\n",
    "    y_values = list(counts.values())\n",
    "    \n",
    "    # Create the bar chart\n",
    "    plt.bar(x_values, y_values, width=1.0)\n",
    "    plt.xlabel('Result Margin')\n",
    "    plt.ylabel('Count')\n",
    "    plt.title('Result Margins for ' + City)\n",
    "    plt.show()\n",
    "\n",
    "# Create the interactive widget\n",
    "from ipywidgets import interact, Dropdown\n",
    "\n",
    "venue_dropdown = Dropdown(options=unique_venues, description='City')\n",
    "\n",
    "# Define the callback function for the dropdown\n",
    "def dropdown_callback(change):\n",
    "    City = change.new\n",
    "    generate_bar_chart(City)\n",
    "\n",
    "venue_dropdown.observe(dropdown_callback, names='value')\n",
    "\n",
    "# Display the widget\n",
    "display(venue_dropdown)\n"
   ]
  },
  {
   "cell_type": "code",
   "execution_count": 71,
   "metadata": {},
   "outputs": [
    {
     "ename": "ValueError",
     "evalue": "cannot find widget or abbreviation for argument: 'City'",
     "output_type": "error",
     "traceback": [
      "\u001b[1;31m---------------------------------------------------------------------------\u001b[0m",
      "\u001b[1;31mValueError\u001b[0m                                Traceback (most recent call last)",
      "Cell \u001b[1;32mIn[71], line 5\u001b[0m\n\u001b[0;32m      1\u001b[0m \u001b[39m# Get the unique venues\u001b[39;00m\n\u001b[0;32m      2\u001b[0m venues \u001b[39m=\u001b[39m df[\u001b[39m'\u001b[39m\u001b[39mCity\u001b[39m\u001b[39m'\u001b[39m]\u001b[39m.\u001b[39munique()\n\u001b[0;32m      4\u001b[0m \u001b[39m@interact\u001b[39;49m(venue\u001b[39m=\u001b[39;49mDropdown(options\u001b[39m=\u001b[39;49mvenues))\n\u001b[1;32m----> 5\u001b[0m \u001b[39mdef\u001b[39;49;00m \u001b[39mplot_runs_margin\u001b[39;49m(City):\n\u001b[0;32m      6\u001b[0m     \u001b[39m# Filter the data for the selected venue and where result is 'runs'\u001b[39;49;00m\n\u001b[0;32m      7\u001b[0m     data \u001b[39m=\u001b[39;49m df[(df[\u001b[39m'\u001b[39;49m\u001b[39mCity\u001b[39;49m\u001b[39m'\u001b[39;49m] \u001b[39m==\u001b[39;49m City) \u001b[39m&\u001b[39;49m (df[\u001b[39m'\u001b[39;49m\u001b[39mresult\u001b[39;49m\u001b[39m'\u001b[39;49m] \u001b[39m==\u001b[39;49m \u001b[39m'\u001b[39;49m\u001b[39mruns\u001b[39;49m\u001b[39m'\u001b[39;49m)]\n\u001b[0;32m      9\u001b[0m     \u001b[39m# Compute the histogram of result margins with bins of 5\u001b[39;49;00m\n",
      "File \u001b[1;32m~\\AppData\\Local\\Packages\\PythonSoftwareFoundation.Python.3.10_qbz5n2kfra8p0\\LocalCache\\local-packages\\Python310\\site-packages\\ipywidgets\\widgets\\interaction.py:511\u001b[0m, in \u001b[0;36m_InteractFactory.__call__\u001b[1;34m(self, _InteractFactory__interact_f, **kwargs)\u001b[0m\n\u001b[0;32m    503\u001b[0m     \u001b[39mreturn\u001b[39;00m \u001b[39mself\u001b[39m\n\u001b[0;32m    505\u001b[0m \u001b[39m# positional arg support in: https://gist.github.com/8851331\u001b[39;00m\n\u001b[0;32m    506\u001b[0m \u001b[39m# Handle the cases 1 and 2\u001b[39;00m\n\u001b[0;32m    507\u001b[0m \u001b[39m# 1. interact(f, **kwargs)\u001b[39;00m\n\u001b[0;32m    508\u001b[0m \u001b[39m# 2. @interact\u001b[39;00m\n\u001b[0;32m    509\u001b[0m \u001b[39m#    def f(*args, **kwargs):\u001b[39;00m\n\u001b[0;32m    510\u001b[0m \u001b[39m#        ...\u001b[39;00m\n\u001b[1;32m--> 511\u001b[0m w \u001b[39m=\u001b[39m \u001b[39mself\u001b[39;49m\u001b[39m.\u001b[39;49mwidget(f)\n\u001b[0;32m    512\u001b[0m \u001b[39mtry\u001b[39;00m:\n\u001b[0;32m    513\u001b[0m     f\u001b[39m.\u001b[39mwidget \u001b[39m=\u001b[39m w\n",
      "File \u001b[1;32m~\\AppData\\Local\\Packages\\PythonSoftwareFoundation.Python.3.10_qbz5n2kfra8p0\\LocalCache\\local-packages\\Python310\\site-packages\\ipywidgets\\widgets\\interaction.py:427\u001b[0m, in \u001b[0;36m_InteractFactory.widget\u001b[1;34m(self, f)\u001b[0m\n\u001b[0;32m    411\u001b[0m \u001b[39mdef\u001b[39;00m \u001b[39mwidget\u001b[39m(\u001b[39mself\u001b[39m, f):\n\u001b[0;32m    412\u001b[0m \u001b[39m    \u001b[39m\u001b[39m\"\"\"\u001b[39;00m\n\u001b[0;32m    413\u001b[0m \u001b[39m    Return an interactive function widget for the given function.\u001b[39;00m\n\u001b[0;32m    414\u001b[0m \n\u001b[1;32m   (...)\u001b[0m\n\u001b[0;32m    425\u001b[0m \u001b[39m        The function to which the interactive widgets are tied.\u001b[39;00m\n\u001b[0;32m    426\u001b[0m \u001b[39m    \"\"\"\u001b[39;00m\n\u001b[1;32m--> 427\u001b[0m     \u001b[39mreturn\u001b[39;00m \u001b[39mself\u001b[39m\u001b[39m.\u001b[39mcls(f, \u001b[39mself\u001b[39m\u001b[39m.\u001b[39mopts, \u001b[39m*\u001b[39m\u001b[39m*\u001b[39m\u001b[39mself\u001b[39m\u001b[39m.\u001b[39mkwargs)\n",
      "File \u001b[1;32m~\\AppData\\Local\\Packages\\PythonSoftwareFoundation.Python.3.10_qbz5n2kfra8p0\\LocalCache\\local-packages\\Python310\\site-packages\\ipywidgets\\widgets\\interaction.py:172\u001b[0m, in \u001b[0;36minteractive.__init__\u001b[1;34m(self, _interactive__interact_f, _interactive__options, **kwargs)\u001b[0m\n\u001b[0;32m    169\u001b[0m \u001b[39mself\u001b[39m\u001b[39m.\u001b[39mmanual_name \u001b[39m=\u001b[39m __options\u001b[39m.\u001b[39mget(\u001b[39m\"\u001b[39m\u001b[39mmanual_name\u001b[39m\u001b[39m\"\u001b[39m, \u001b[39m\"\u001b[39m\u001b[39mRun Interact\u001b[39m\u001b[39m\"\u001b[39m)\n\u001b[0;32m    170\u001b[0m \u001b[39mself\u001b[39m\u001b[39m.\u001b[39mauto_display \u001b[39m=\u001b[39m __options\u001b[39m.\u001b[39mget(\u001b[39m\"\u001b[39m\u001b[39mauto_display\u001b[39m\u001b[39m\"\u001b[39m, \u001b[39mFalse\u001b[39;00m)\n\u001b[1;32m--> 172\u001b[0m new_kwargs \u001b[39m=\u001b[39m \u001b[39mself\u001b[39;49m\u001b[39m.\u001b[39;49mfind_abbreviations(kwargs)\n\u001b[0;32m    173\u001b[0m \u001b[39m# Before we proceed, let's make sure that the user has passed a set of args+kwargs\u001b[39;00m\n\u001b[0;32m    174\u001b[0m \u001b[39m# that will lead to a valid call of the function. This protects against unspecified\u001b[39;00m\n\u001b[0;32m    175\u001b[0m \u001b[39m# and doubly-specified arguments.\u001b[39;00m\n\u001b[0;32m    176\u001b[0m \u001b[39mtry\u001b[39;00m:\n",
      "File \u001b[1;32m~\\AppData\\Local\\Packages\\PythonSoftwareFoundation.Python.3.10_qbz5n2kfra8p0\\LocalCache\\local-packages\\Python310\\site-packages\\ipywidgets\\widgets\\interaction.py:272\u001b[0m, in \u001b[0;36minteractive.find_abbreviations\u001b[1;34m(self, kwargs)\u001b[0m\n\u001b[0;32m    270\u001b[0m     \u001b[39mfor\u001b[39;00m name, value, default \u001b[39min\u001b[39;00m _yield_abbreviations_for_parameter(param, kwargs):\n\u001b[0;32m    271\u001b[0m         \u001b[39mif\u001b[39;00m value \u001b[39mis\u001b[39;00m empty:\n\u001b[1;32m--> 272\u001b[0m             \u001b[39mraise\u001b[39;00m \u001b[39mValueError\u001b[39;00m(\u001b[39m'\u001b[39m\u001b[39mcannot find widget or abbreviation for argument: \u001b[39m\u001b[39m{!r}\u001b[39;00m\u001b[39m'\u001b[39m\u001b[39m.\u001b[39mformat(name))\n\u001b[0;32m    273\u001b[0m         new_kwargs\u001b[39m.\u001b[39mappend((name, value, default))\n\u001b[0;32m    274\u001b[0m \u001b[39mreturn\u001b[39;00m new_kwargs\n",
      "\u001b[1;31mValueError\u001b[0m: cannot find widget or abbreviation for argument: 'City'"
     ]
    }
   ],
   "source": [
    "# Get the unique venues\n",
    "venues = df['City'].unique()\n",
    "\n",
    "@interact(venue=Dropdown(options=venues))\n",
    "def plot_runs_margin(City):\n",
    "    # Filter the data for the selected venue and where result is 'runs'\n",
    "    data = df[(df['City'] == City) & (df['result'] == 'runs')]\n",
    "\n",
    "    # Compute the histogram of result margins with bins of 5\n",
    "    margins = data['result_margin']\n",
    "    bins = np.arange(margins.min(), margins.max() + 6, 5)\n",
    "    hist, edges = np.histogram(margins, bins=bins)\n",
    "\n",
    "    # Plot the histogram\n",
    "    fig, ax = plt.subplots(figsize=(10, 6))\n",
    "    ax.bar(edges[:-1], hist, width=5)\n",
    "    ax.set_xticks(edges[:-1] + 2.5)\n",
    "    ax.set_xticklabels(['{}-{}'.format(i, i+4) for i in edges[:-1]])\n",
    "    ax.set_xlabel('Runs Margin')\n",
    "    ax.set_ylabel('Count')\n",
    "    ax.set_title('Histogram of Runs Margin for {}'.format(City))\n",
    "    plt.show()\n"
   ]
  },
  {
   "cell_type": "code",
   "execution_count": null,
   "metadata": {},
   "outputs": [
    {
     "data": {
      "application/vnd.jupyter.widget-view+json": {
       "model_id": "ef1bce2fc769493ca0a8ea10a9f7713f",
       "version_major": 2,
       "version_minor": 0
      },
      "text/plain": [
       "interactive(children=(Dropdown(description='Venue:', options=('Barabati Stadium', 'Brabourne Stadium', 'Buffal…"
      ]
     },
     "metadata": {},
     "output_type": "display_data"
    }
   ],
   "source": [
    "# Define a function to create the bar plot for a given venue\n",
    "def plot_wickets_result_margin(City):\n",
    "    # Filter the data for the given venue and result type\n",
    "    df = data[(data['City'] == City) & (data['result'] == 'wickets')]\n",
    "    # Get the unique result margins\n",
    "    margins = sorted(df['result_margin'].unique())\n",
    "    max_marg = int(max(margins))\n",
    "    # Count the number of instances for each result margin\n",
    "    counts = [df[df['result_margin'] == margin]['result_margin'].count() for margin in margins]\n",
    "    # Plot the bar chart\n",
    "    fig, ax = plt.subplots(figsize=(10,6))\n",
    "    ax.bar(margins, counts, width=4, align='center')\n",
    "    ax.set_xticks(range(0, max_marg+1, 1))\n",
    "    ax.set_xlabel('Result Margin (wickets)')\n",
    "    ax.set_ylabel('Count')\n",
    "    ax.set_title(f'Result Margin Distribution for {City} (wickets)')\n",
    "    plt.show()\n",
    "\n",
    "# Get the unique venues\n",
    "venues = sorted(data['City'].unique())\n",
    "\n",
    "# Define the interactive widget\n",
    "@interact(City=Dropdown(options=venues, value=venues[0], description='Venue:'))\n",
    "def plot_wickets_result_margin_interact(City):\n",
    "    plot_wickets_result_margin(City)\n"
   ]
  },
  {
   "cell_type": "code",
   "execution_count": null,
   "metadata": {},
   "outputs": [],
   "source": []
  }
 ],
 "metadata": {
  "kernelspec": {
   "display_name": "Python 3.9.6 64-bit",
   "language": "python",
   "name": "python3"
  },
  "language_info": {
   "codemirror_mode": {
    "name": "ipython",
    "version": 3
   },
   "file_extension": ".py",
   "mimetype": "text/x-python",
   "name": "python",
   "nbconvert_exporter": "python",
   "pygments_lexer": "ipython3",
   "version": "3.10.11"
  },
  "orig_nbformat": 4,
  "vscode": {
   "interpreter": {
    "hash": "16702e87c1b51f03692cd103c380ee43cfff3b0c652b5fae2e9ae1dbb889bebc"
   }
  }
 },
 "nbformat": 4,
 "nbformat_minor": 2
}
