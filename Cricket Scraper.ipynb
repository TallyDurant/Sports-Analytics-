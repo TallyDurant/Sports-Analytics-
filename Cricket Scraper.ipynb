{
 "cells": [
  {
   "cell_type": "code",
   "execution_count": 81,
   "metadata": {},
   "outputs": [],
   "source": [
    "Max_Player = 900\n",
    "import requests\n",
    "import pandas as pd\n",
    "import json\n",
    "import numpy as np\n",
    "import matplotlib.pyplot as plt\n",
    "import seaborn as sns"
   ]
  },
  {
   "cell_type": "code",
   "execution_count": 82,
   "metadata": {},
   "outputs": [],
   "source": [
    "from bs4 import BeautifulSoup\n",
    "\n",
    "\n",
    "def extract_salary_table(data):\n",
    "    soup = BeautifulSoup(data, 'html.parser')\n",
    "    table = soup.find('table', class_='table-striped table-responsive table-hover career sngl_pl_tble')\n",
    "    #rows = table.find_all('tr')\n",
    "\n",
    "    \n",
    "    players_info = []\n",
    "\n",
    "    for row in table.find_all('tr'):\n",
    "        tds = row.find_all('td')\n",
    "        if len(tds) != 3:\n",
    "            continue\n",
    "        \n",
    "        year_retained_td, team_name_td, salary_td = tds\n",
    "        \n",
    "        year_retained_text = year_retained_td.get_text().strip()\n",
    "        year = year_retained_text.split()[0]\n",
    "        retained = ('(Retain)' or '(Retained)') in year_retained_text\n",
    "        \n",
    "        team_name = team_name_td.get_text().strip()\n",
    "        \n",
    "        salary_text = salary_td.get_text().strip()\n",
    "        currency, salary = salary_text.split()\n",
    "        \n",
    "        players_info.append([year, retained, team_name, salary])\n",
    "\n",
    "    \n",
    "    '''\n",
    "\n",
    "    results = []\n",
    "    for row in table.find_all('tr'):\n",
    "        cols = row.find_all('td')\n",
    "        print(cols)\n",
    "    \n",
    "        for col in cols:\n",
    "            \n",
    "            \n",
    "            year = col.text.split()[0]\n",
    "            retained = '(Retained)' in col.text.split()[1]\n",
    "            \n",
    "            team = col[1].text.strip()\n",
    "            salary = col[2].text.strip()\n",
    "            if year and team and salary:\n",
    "                results.append([year, retained, team, salary])\n",
    "\n",
    "    '''\n",
    "    \n",
    "\n",
    "    \n",
    "\n",
    "    return players_info\n",
    "\n",
    "\n",
    "def extract_information(text):\n",
    "    start = text.find('Batting ')\n",
    "    end = text.find('<li><p>Nationality ', start) + len('<li><p>Nationality ')\n",
    "    if start != -1 and end != -1:\n",
    "        txt = text[start:end]\n",
    "# Extract batting type\n",
    "        batting_type = txt.split('Batting <span>')[1].split('</span>')[0]\n",
    "\n",
    "# Extract bowling type\n",
    "        bowling_type = txt.split('Bowling <span>')[1].split('</span>')[0]\n",
    "\n",
    "        return batting_type, bowling_type\n",
    "    else:\n",
    "        return \"Information not found\""
   ]
  },
  {
   "cell_type": "code",
   "execution_count": 83,
   "metadata": {},
   "outputs": [],
   "source": [
    "test_link = 'https://moneyball.insidesport.in/single-player.php?id=25'\n",
    "\n",
    "# build webscraper to get data from the link using requests\n",
    "def final_scraper(link):\n",
    "    r = requests.get(link)\n",
    "\n",
    "    name = r.text.split('<h4>')[1].split('</h4>')[0]\n",
    "# remove all white spaces from name and print\n",
    "    name = name.replace(' ','')\n",
    "    # also remove all special characters\n",
    "    name = ''.join(e for e in name if e.isalnum())\n",
    "\n",
    "    batting_type, bowling_type = extract_information(r.text)\n",
    "\n",
    "    table = extract_salary_table(r.text)\n",
    "\n",
    "\n",
    "\n",
    "    return name, batting_type, bowling_type, table\n",
    "\n",
    "\n"
   ]
  },
  {
   "cell_type": "code",
   "execution_count": 84,
   "metadata": {},
   "outputs": [],
   "source": [
    "name,batting,bowling,table = final_scraper(test_link)"
   ]
  },
  {
   "cell_type": "code",
   "execution_count": 86,
   "metadata": {},
   "outputs": [],
   "source": [
    "# the number at the end of temp link should be a variable\n",
    "# that increments by 1 each time\n",
    "\n",
    "# create a list of links to scrape\n",
    "skip_list = [26,236,250,259,294,334,346,353,430,466,497,517,554,556,555,557,553,552,551,560]\n",
    "player_df = []\n",
    "for i in range(1,3):\n",
    "\n",
    "    if i in skip_list:\n",
    "        continue\n",
    "    temp_link = 'https://moneyball.insidesport.in/single-player.php?id=' + str(i)\n",
    "    name, batting_type, bowling_type, salary = final_scraper(temp_link)\n",
    "    player_df.append([name, batting_type, bowling_type, salary])\n",
    "    # print every 10 iterations\n",
    "    if i % 5 == 0:\n",
    "        print(i)\n",
    "\n",
    "\n",
    "player_df = pd.DataFrame(player_df, columns=['Name', 'Batting Type', 'Bowling Type', 'Salary'])\n",
    "# save the player_df to a csv file\n",
    "player_df.to_csv('player_df.csv', index=False)\n",
    "    "
   ]
  },
  {
   "cell_type": "code",
   "execution_count": 88,
   "metadata": {},
   "outputs": [
    {
     "data": {
      "text/plain": [
       "[['2008', False, 'Chennai Super Kings', '14,056,000']]"
      ]
     },
     "execution_count": 88,
     "metadata": {},
     "output_type": "execute_result"
    }
   ],
   "source": [
    "\n",
    "player_df.Salary[1]"
   ]
  }
 ],
 "metadata": {
  "kernelspec": {
   "display_name": "Python 3",
   "language": "python",
   "name": "python3"
  },
  "language_info": {
   "codemirror_mode": {
    "name": "ipython",
    "version": 3
   },
   "file_extension": ".py",
   "mimetype": "text/x-python",
   "name": "python",
   "nbconvert_exporter": "python",
   "pygments_lexer": "ipython3",
   "version": "3.10.11"
  },
  "orig_nbformat": 4
 },
 "nbformat": 4,
 "nbformat_minor": 2
}
